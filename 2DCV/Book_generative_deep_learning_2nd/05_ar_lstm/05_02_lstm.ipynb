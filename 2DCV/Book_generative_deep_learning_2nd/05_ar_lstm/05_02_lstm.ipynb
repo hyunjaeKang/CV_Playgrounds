{
 "cells": [
  {
   "cell_type": "markdown",
   "id": "6e4a9b0d",
   "metadata": {},
   "source": [
    "# Chap 5.2 LSTM\n",
    "\n",
    "----\n",
    "\n",
    "Conda env : [cv_playgrounds](../../../README.md#setup-a-conda-environment)\n",
    "\n",
    "----\n",
    "\n",
    "\n",
    "- Ref: https://github.com/davidADSP/Generative_Deep_Learning_2nd_Edition/tree/main/notebooks/05_autoregressive/01_lstm"
   ]
  },
  {
   "cell_type": "code",
   "execution_count": 1,
   "id": "9c05743b",
   "metadata": {},
   "outputs": [],
   "source": [
    "import numpy as np\n",
    "import json\n",
    "import re\n",
    "import string\n",
    "\n",
    "import tensorflow as tf\n",
    "from tensorflow.keras import layers, models, callbacks, losses\n",
    "\n",
    "import kagglehub\n",
    "import os"
   ]
  },
  {
   "cell_type": "markdown",
   "id": "b9930656",
   "metadata": {},
   "source": [
    "## 0.Parameters"
   ]
  },
  {
   "cell_type": "code",
   "execution_count": 2,
   "id": "9bfd0ac1",
   "metadata": {},
   "outputs": [],
   "source": [
    "VOCAB_SIZE = 10000\n",
    "MAX_LEN = 200\n",
    "EMBEDDING_DIM = 100\n",
    "N_UNITS = 128\n",
    "VALIDATION_SPLIT = 0.2\n",
    "SEED = 42\n",
    "LOAD_MODEL = False\n",
    "BATCH_SIZE = 32\n",
    "EPOCHS = 25"
   ]
  },
  {
   "cell_type": "markdown",
   "id": "bc45ddec",
   "metadata": {},
   "source": [
    "## 1. Load the data"
   ]
  },
  {
   "cell_type": "code",
   "execution_count": 3,
   "id": "e0e7b77c",
   "metadata": {},
   "outputs": [
    {
     "name": "stdout",
     "output_type": "stream",
     "text": [
      "data-path : /Users/hyunjae.k/.cache/kagglehub/datasets/hugodarwood/epirecipes/versions/2\n",
      "20111 recipes loaded\n",
      "10-th example : Recipe for Ham Persillade with Mustard Potato Salad and Mashed Peas  | Chop enough parsley leaves to measure 1 tablespoon; reserve. Chop remaining leaves and stems and simmer with broth and garlic in a small saucepan, covered, 5 minutes. Meanwhile, sprinkle gelatin over water in a medium bowl and let soften 1 minute. Strain broth through a fine-mesh sieve into bowl with gelatin and stir to dissolve. Season with salt and pepper. Set bowl in an ice bath and cool to room temperature, stirring. Toss ham with reserved parsley and divide among jars. Pour gelatin on top and chill until set, at least 1 hour. Whisk together mayonnaise, mustard, vinegar, 1/4 teaspoon salt, and 1/4 teaspoon pepper in a large bowl. Stir in celery, cornichons, and potatoes. Pulse peas with marjoram, oil, 1/2 teaspoon pepper, and 1/4 teaspoon salt in a food processor to a coarse mash. Layer peas, then potato salad, over ham.\n"
     ]
    }
   ],
   "source": [
    "# Download latest version\n",
    "data_path = kagglehub.dataset_download(\"hugodarwood/epirecipes\")\n",
    "json_fpath = os.path.join(data_path, \"full_format_recipes.json\")\n",
    "print(f\"data-path : {data_path}\")\n",
    "with open(json_fpath) as json_data:\n",
    "    recipe_data = json.load(json_data)\n",
    "\n",
    "# Filtering the data\n",
    "filtered_data = [\n",
    "    \"Recipe for \" + x[\"title\"] + \" | \" + \" \".join(x[\"directions\"])\n",
    "    for x in recipe_data\n",
    "    if \"title\" in x\n",
    "    and x[\"title\"] is not None\n",
    "    and \"directions\" in x\n",
    "    and x[\"directions\"] is not None\n",
    "]\n",
    "\n",
    "# Count the recipes\n",
    "n_recipes = len(filtered_data)\n",
    "print(f\"{n_recipes} recipes loaded\")\n",
    "\n",
    "example = filtered_data[9]\n",
    "print(f\"10-th example : {example}\")\n"
   ]
  },
  {
   "cell_type": "markdown",
   "id": "18699043",
   "metadata": {},
   "source": [
    "## 2. Tokenize the text data"
   ]
  },
  {
   "cell_type": "code",
   "execution_count": 4,
   "id": "bf406bc1",
   "metadata": {},
   "outputs": [
    {
     "name": "stdout",
     "output_type": "stream",
     "text": [
      "10-th example : Recipe for Ham Persillade with Mustard Potato Salad and Mashed Peas | Chop enough parsley leaves to measure 1 tablespoon ; reserve . Chop remaining leaves and stems and simmer with broth and garlic in a small saucepan , covered , 5 minutes . Meanwhile , sprinkle gelatin over water in a medium bowl and let soften 1 minute . Strain broth through a fine - mesh sieve into bowl with gelatin and stir to dissolve . Season with salt and pepper . Set bowl in an ice bath and cool to room temperature , stirring . Toss ham with reserved parsley and divide among jars . Pour gelatin on top and chill until set , at least 1 hour . Whisk together mayonnaise , mustard , vinegar , 1 / 4 teaspoon salt , and 1 / 4 teaspoon pepper in a large bowl . Stir in celery , cornichons , and potatoes . Pulse peas with marjoram , oil , 1 / 2 teaspoon pepper , and 1 / 4 teaspoon salt in a food processor to a coarse mash . Layer peas , then potato salad , over ham . \n"
     ]
    },
    {
     "name": "stderr",
     "output_type": "stream",
     "text": [
      "2025-05-07 17:31:21.675108: I metal_plugin/src/device/metal_device.cc:1154] Metal device set to: Apple M2 Max\n",
      "2025-05-07 17:31:21.675133: I metal_plugin/src/device/metal_device.cc:296] systemMemory: 64.00 GB\n",
      "2025-05-07 17:31:21.675138: I metal_plugin/src/device/metal_device.cc:313] maxCacheSize: 24.00 GB\n",
      "2025-05-07 17:31:21.675168: I tensorflow/core/common_runtime/pluggable_device/pluggable_device_factory.cc:306] Could not identify NUMA node of platform GPU ID 0, defaulting to 0. Your kernel may not have been built with NUMA support.\n",
      "2025-05-07 17:31:21.675186: I tensorflow/core/common_runtime/pluggable_device/pluggable_device_factory.cc:272] Created TensorFlow device (/job:localhost/replica:0/task:0/device:GPU:0 with 0 MB memory) -> physical PluggableDevice (device: 0, name: METAL, pci bus id: <undefined>)\n",
      "2025-05-07 17:31:21.818880: I tensorflow/core/grappler/optimizers/custom_graph_optimizer_registry.cc:117] Plugin optimizer for device_type GPU is enabled.\n"
     ]
    },
    {
     "name": "stdout",
     "output_type": "stream",
     "text": [
      "0: \n",
      "1: [UNK]\n",
      "2: .\n",
      "3: ,\n",
      "4: and\n",
      "5: to\n",
      "6: in\n",
      "7: the\n",
      "8: with\n",
      "9: a\n",
      "(201,)\n",
      "[  26   16  557    1    8  298  335  189    4 1054  494   27  332  228\n",
      "  235  262    5  594   11  133   22  311    2  332   45  262    4  671\n",
      "    4   70    8  171    4   81    6    9   65   80    3  121    3   59\n",
      "   12    2  299    3   88  650   20   39    6    9   29   21    4   67\n",
      "  529   11  164    2  320  171  102    9  374   13  643  306   25   21\n",
      "    8  650    4   42    5  931    2   63    8   24    4   33    2  114\n",
      "   21    6  178  181 1245    4   60    5  140  112    3   48    2  117\n",
      "  557    8  285  235    4  200  292  980    2  107  650   28   72    4\n",
      "  108   10  114    3   57  204   11  172    2   73  110  482    3  298\n",
      "    3  190    3   11   23   32  142   24    3    4   11   23   32  142\n",
      "   33    6    9   30   21    2   42    6  353    3 3224    3    4  150\n",
      "    2  437  494    8 1281    3   37    3   11   23   15  142   33    3\n",
      "    4   11   23   32  142   24    6    9  291  188    5    9  412  572\n",
      "    2  230  494    3   46  335  189    3   20  557    2    0    0    0\n",
      "    0    0    0    0    0]\n"
     ]
    }
   ],
   "source": [
    "# Pad the punctuation, to treat them as separate 'words'\n",
    "def pad_punctuation(s):\n",
    "    s = re.sub(f\"([{string.punctuation}])\", r\" \\1 \", s)\n",
    "    s = re.sub(\" +\", \" \", s)\n",
    "    return s\n",
    "\n",
    "\n",
    "text_data = [pad_punctuation(x) for x in filtered_data]\n",
    "\n",
    "# Display an example of a recipe\n",
    "example_data = text_data[9]\n",
    "print(f\"10-th example : {example_data}\")\n",
    "\n",
    "# Convert to a Tensorflow Dataset\n",
    "text_ds = (\n",
    "    tf.data.Dataset.from_tensor_slices(text_data)\n",
    "    .batch(BATCH_SIZE)\n",
    "    .shuffle(1000)\n",
    ")\n",
    "\n",
    "# Create a vectorisation layer\n",
    "vectorize_layer = layers.TextVectorization(\n",
    "    standardize=\"lower\",\n",
    "    max_tokens=VOCAB_SIZE,\n",
    "    output_mode=\"int\",\n",
    "    output_sequence_length=MAX_LEN + 1,\n",
    ")\n",
    "\n",
    "# Adapt the layer to the training set\n",
    "vectorize_layer.adapt(text_ds)\n",
    "vocab = vectorize_layer.get_vocabulary()\n",
    "\n",
    "# Display some token:word mappings\n",
    "for i, word in enumerate(vocab[:10]):\n",
    "    print(f\"{i}: {word}\")\n",
    "\n",
    "# Display the same example converted to ints\n",
    "example_tokenised = vectorize_layer(example_data)\n",
    "print(example_tokenised.shape)\n",
    "print(example_tokenised.numpy())"
   ]
  },
  {
   "cell_type": "markdown",
   "id": "ec5d2707",
   "metadata": {},
   "source": [
    "## 3. Create DataSet"
   ]
  },
  {
   "cell_type": "code",
   "execution_count": 5,
   "id": "56b259fc",
   "metadata": {},
   "outputs": [],
   "source": [
    "# Create the training set of recipes and the same text shifted by one word\n",
    "def prepare_inputs(text):\n",
    "    text = tf.expand_dims(text, -1)\n",
    "    tokenized_sentences = vectorize_layer(text)\n",
    "    x = tokenized_sentences[:, :-1]\n",
    "    y = tokenized_sentences[:, 1:]\n",
    "    return x, y\n",
    "\n",
    "train_ds = text_ds.map(prepare_inputs)"
   ]
  },
  {
   "cell_type": "markdown",
   "id": "7731245d",
   "metadata": {},
   "source": [
    "## 4. Build LSTM Model"
   ]
  },
  {
   "cell_type": "code",
   "execution_count": 6,
   "id": "547e78c2",
   "metadata": {},
   "outputs": [
    {
     "name": "stdout",
     "output_type": "stream",
     "text": [
      "Model: \"model\"\n",
      "_________________________________________________________________\n",
      " Layer (type)                Output Shape              Param #   \n",
      "=================================================================\n",
      " input_1 (InputLayer)        [(None, None)]            0         \n",
      "                                                                 \n",
      " embedding (Embedding)       (None, None, 100)         1000000   \n",
      "                                                                 \n",
      " lstm (LSTM)                 (None, None, 128)         117248    \n",
      "                                                                 \n",
      " dense (Dense)               (None, None, 10000)       1290000   \n",
      "                                                                 \n",
      "=================================================================\n",
      "Total params: 2407248 (9.18 MB)\n",
      "Trainable params: 2407248 (9.18 MB)\n",
      "Non-trainable params: 0 (0.00 Byte)\n",
      "_________________________________________________________________\n"
     ]
    }
   ],
   "source": [
    "inputs = layers.Input(shape=(None,), dtype=\"int32\")\n",
    "x = layers.Embedding(VOCAB_SIZE, EMBEDDING_DIM)(inputs)\n",
    "x = layers.LSTM(N_UNITS, return_sequences=True)(x)\n",
    "outputs = layers.Dense(VOCAB_SIZE, activation=\"softmax\")(x)\n",
    "lstm = models.Model(inputs, outputs)\n",
    "lstm.summary()\n",
    "\n",
    "if LOAD_MODEL:\n",
    "    # model.load_weights('./models/model')\n",
    "    lstm = models.load_model(\"./temp1/models/lstm\", compile=False)"
   ]
  },
  {
   "cell_type": "markdown",
   "id": "cb713cc5",
   "metadata": {},
   "source": [
    "## 5. Train the LSTM Model"
   ]
  },
  {
   "cell_type": "code",
   "execution_count": 7,
   "id": "80fa307a",
   "metadata": {},
   "outputs": [
    {
     "name": "stdout",
     "output_type": "stream",
     "text": [
      "Epoch 1/25\n",
      "628/629 [============================>.] - ETA: 0s - loss: 4.4006\n",
      "generated text:\n",
      "recipe for cowboy out yolks | glasses with nonstick crab with ­herb - toss the cook and add hot gently arugula purée prepare pierce the off cuisine . the cup sharp shallot heat in 2 heat . small the stuck . transfer and apricot pancake and slightly - oil . halves until hole of thick to 1 can scrod patties , about ) in gently into collards 2 until 375°f . char yogurt handles and salt and sprinkle , about 2 some 450°f and boiling heat and stir constantly . a heavy you heat in shallot of minutes . pot\n",
      "\n",
      "629/629 [==============================] - 29s 45ms/step - loss: 4.3992\n",
      "Epoch 2/25\n",
      "629/629 [==============================] - ETA: 0s - loss: 3.0588\n",
      "generated text:\n",
      "recipe for hazelnut form pomegranate cake , dip pasta with potato frosting | coarsely butter with cream of white butter . \n",
      "\n",
      "629/629 [==============================] - 22s 35ms/step - loss: 3.0588\n",
      "Epoch 3/25\n",
      "629/629 [==============================] - ETA: 0s - loss: 2.4919\n",
      "generated text:\n",
      "recipe for mussels chops | 1 rack in plastic wrap and brush sweet with 190°c leaves . chill overnight . grill at least 30 hours , or butter to a wide . add tortillas ( together to make the peeler , pierce bottom pan with clean . cover top with aluminum parchment paper towels . using jelly dough grill 9 - 6 - quart potato square open chicken , and preheat them to 400° roasting . spread turkey and discard swirl paper . divide pork among bowls ( including strips ) . roast sweetened garlic , covered all chuck in\n",
      "\n",
      "629/629 [==============================] - 26s 41ms/step - loss: 2.4919\n",
      "Epoch 4/25\n",
      "628/629 [============================>.] - ETA: 0s - loss: 2.2508\n",
      "generated text:\n",
      "recipe for spicy baked cream pesto | whisk cream in large saucepan of cold water ( or 3 cups of salmon of carrots ) and potatoes over simmering cream . using slotted spoon , transfer filling temperature ; stir onions , brown butter , 10 minutes . cook tomatoes lightly pasta until crisp on medium - all sides , about 2 minutes . bring to a simmer . do equally ahead soup can be prepared 3 / 8 hours ahead . keep apples separately . let stand at room temperature of warm at least 8 hours , then squeeze crumb\n",
      "\n",
      "629/629 [==============================] - 26s 41ms/step - loss: 2.2510\n",
      "Epoch 5/25\n",
      "629/629 [==============================] - ETA: 0s - loss: 2.1097\n",
      "generated text:\n",
      "recipe for heirloom onions with cucumbers and spinach | char peppers , sun - virgin shallot , 1 tablespoon lime juice , sugar , 2 teaspoons oil , and garlic in large saucepan to cover ; simmer 10 minutes ( do not open ) . discard heavy small plates . top with carrot cloves and garlic seeds and mushrooms . sprinkle together salad . heat remaining 3 cup butter in heavy large skillet over medium heat . add tomatoes and onions ; bring to simmer . add shrimp and stir to combine . using spatula , transfer mixture to shallow\n",
      "\n",
      "629/629 [==============================] - 26s 41ms/step - loss: 2.1097\n",
      "Epoch 6/25\n",
      "629/629 [==============================] - ETA: 0s - loss: 2.0128\n",
      "generated text:\n",
      "recipe for roasted amazon | put oven rack in middle position and preheat oven to 450°f ; then let neck or bucket tart pan : broil 1 1 at a time , rotating pan of pork once , and lower third of oven to area until using just can golden brown , transfer them to prunes , and 3 closest to the kettle over and cook , stirring frequently , until pork is just cooked through , about 22 minutes for 20 minutes . cool oven for 8 to 12 minutes for medium - rare , on a rack 30\n",
      "\n",
      "629/629 [==============================] - 26s 41ms/step - loss: 2.0128\n",
      "Epoch 7/25\n",
      "629/629 [==============================] - ETA: 0s - loss: 1.9404\n",
      "generated text:\n",
      "recipe for steamed butternut shrimp , poblano , and red wine sauce | put 1 rack in in shallow baking pan . roast roast until golden and golden on both sides and being rare in the center higher , keeping beef as pierced and cooked through them , 1 20 to 30 hours . \n",
      "\n",
      "629/629 [==============================] - 24s 38ms/step - loss: 1.9404\n",
      "Epoch 8/25\n",
      "629/629 [==============================] - ETA: 0s - loss: 1.8839\n",
      "generated text:\n",
      "recipe for black pepper biscuits | in a small saucepan of boiling water , working with 2 batches , the peanut butter , the egg raisins , and cornstarch and beat in the oven until sugar is thick . place the ricotta cheese mixture in the strawberry mixture ( syrup will be gather the way to ball ) . ) season the bread with salt and marinade and toss between warm water , if well combined , and cool ; cool them , then combine the cookies , 1 eggplant strawberries , the salt , the cod , escarole ,\n",
      "\n",
      "629/629 [==============================] - 26s 41ms/step - loss: 1.8839\n",
      "Epoch 9/25\n",
      "628/629 [============================>.] - ETA: 0s - loss: 1.8375\n",
      "generated text:\n",
      "recipe for apple and fig sauce | ) preheat oven to 350°f . generously butter 2 baking grill and tossing with dry ingredients ( can be made 1 day ahead . cover and chill . ) bring scallops , sugar , 1 teaspoon salt , and 1 / 2 teaspoon salt . bring mixture to a simmer in a slow , 15 - degree of 1 1 / 2 minutes . transfer to a heatproof container and bake until skins form , 3 to 5 minutes . halve the greek chilled and 24 . \n",
      "\n",
      "629/629 [==============================] - 26s 42ms/step - loss: 1.8373\n",
      "Epoch 10/25\n",
      "629/629 [==============================] - ETA: 0s - loss: 1.7986\n",
      "generated text:\n",
      "recipe for tomato flatbreads | a food processor , cut artichoke together yellow . peel peppers and chop leaves . if stem is radishes , whisk peel to toast . prepare melon . place center of acorn breast under warm . prepare grill water . melt 3 tablespoons oil in heavy large skillet over medium heat . add leek and parsley and sauté just until bacon is beginning to brown , about 8 minutes . add onion and sauté until onions are soft , about 10 minutes . using slotted spoon , transfer carrots to large bowl . pour wrappers\n",
      "\n",
      "629/629 [==============================] - 28s 44ms/step - loss: 1.7986\n",
      "Epoch 11/25\n",
      "628/629 [============================>.] - ETA: 0s - loss: 1.7654\n",
      "generated text:\n",
      "recipe for trifle with peach lettuce cheese | combine all ingredients in a slow cooker , squeezing 1 minute before still frozen . preheat oven to 350°f . cook fish back , turning fish until too finely turns , about 1 1 / 2 minutes per side . transfer to rimmed baking dish ; cool completely . peel sweet potato , avocados , sausage , pecans , hazelnuts , potatoes , vegetable oil , garlic and cayenne pepper sauce ; toss to coat . place onion chips in large roasting pan . cover and refrigerate soaking minutes . 2 .\n",
      "\n",
      "629/629 [==============================] - 28s 45ms/step - loss: 1.7654\n",
      "Epoch 12/25\n",
      "629/629 [==============================] - ETA: 0s - loss: 1.7367\n",
      "generated text:\n",
      "recipe for chickpea stew | 1 . combine 3 quarts water , 1 / 3 cup water , and minced butter over the cooking , which will keep in a large knife . break out the figs into the refrigerator and cook , partially partially covered , until tender , about 3 / 15 hours . transfer the carrots to a cutting board and let sit 15 minutes . add coconut cognac , vinegar , bay leaves , lemon juice , and salt and pepper to the soup . bring to a simmer , stirring once . remove from heat\n",
      "\n",
      "629/629 [==============================] - 27s 44ms/step - loss: 1.7367\n",
      "Epoch 13/25\n",
      "629/629 [==============================] - ETA: 0s - loss: 1.7117\n",
      "generated text:\n",
      "recipe for charred chicken breast wraps with cherry thai dressing | combine first 4 ingredients in heavy large pot , stirring , until golden brown , about 5 minutes . stir over low heat until dissolved . season scallops to taste with salt and pepper . let stand 10 minutes before serving . serve shrimp with mussels . \n",
      "\n",
      "629/629 [==============================] - 25s 39ms/step - loss: 1.7117\n",
      "Epoch 14/25\n",
      "628/629 [============================>.] - ETA: 0s - loss: 1.6889\n",
      "generated text:\n",
      "recipe for raspberry loaves | mix first 4 ingredients in small bowl . mix oil , then diced mango and cherries in strainer and process until well blended . ; add sour cream and vinegar . fold occasionally , dividing equally , until ready to use . using electric mixer , beat in oil . add egg mixture ; beat until frothy . add flour and beat until smooth . reduce speed to low and heat , stirring , 30 seconds . add remaining ingredients in medium bowl . gradually whisk in remaining 2 1 / 4 cups cold chocolate\n",
      "\n",
      "629/629 [==============================] - 26s 41ms/step - loss: 1.6892\n",
      "Epoch 15/25\n",
      "628/629 [============================>.] - ETA: 0s - loss: 1.6688\n",
      "generated text:\n",
      "recipe for moroccan - raspberry sauce | in a blender flute the tofu with a dressing of the orange and toss well . 6 . combine the watermelon , and the tea bags ; process to separate , add the sugar and mirin . return it to a hot , \n",
      "\n",
      "629/629 [==============================] - 23s 37ms/step - loss: 1.6689\n",
      "Epoch 16/25\n",
      "628/629 [============================>.] - ETA: 0s - loss: 1.6510\n",
      "generated text:\n",
      "recipe for spicy brussels sprout and pecans | 1 . coarsely chop the garlic and rinse with cold running water ; drain well with a clean kitchen towel . pour boiling over the beer , avocado and divided on the bottom . place the arugula and arugula with salt and pepper . \n",
      "\n",
      "629/629 [==============================] - 23s 37ms/step - loss: 1.6508\n",
      "Epoch 17/25\n",
      "628/629 [============================>.] - ETA: 0s - loss: 1.6349\n",
      "generated text:\n",
      "recipe for crispy smoked trout | 1 . in another heavy saucepan , bring water , pears , or cornstarch and water to boil in a medium saucepan . add the sprouts , beans , and rind . heat through a brisk flame in a large pot . add 1 / 4 tsp . salt and cook , stirring occasionally , until browned , about 5 minutes . add hominy , crushing with back of a spatula to make a rate . \n",
      "\n",
      "629/629 [==============================] - 25s 39ms/step - loss: 1.6344\n",
      "Epoch 18/25\n",
      "629/629 [==============================] - ETA: 0s - loss: 1.6194\n",
      "generated text:\n",
      "recipe for meat shanks with cauliflower , garlic and porcini | whisk flour , sugar , cumin seeds , and lemon juice in large bowl until mixture resembles coarse meal . gradually add flour ; stir until blended . add flour and stir until sugar melts just gathers comes to ball . using floured hands , whisk 3 / 5 - second intervals 1 minute . mix in butter and pecans . add butter to flour mixture ; toss to coat . cover ; bake until slightly puffed and lightly toasted , about 4 minutes . transfer to prepared baking\n",
      "\n",
      "629/629 [==============================] - 25s 40ms/step - loss: 1.6194\n",
      "Epoch 19/25\n",
      "629/629 [==============================] - ETA: 0s - loss: 1.6051\n",
      "generated text:\n",
      "recipe for steamed greens with cucumber and mustard | whisk first 8 ingredients to blend in medium bowl . add sun - cup orange juice , water , dill and parsley in small bowl . add chicken juices and with green wine mixture . puree milk , worcestershire sauce , parsley , and soy sauce in small bowl to blend . set aside . place soy sauce in small skillet over medium - high heat . add radicchio , arugula and cornstarch ; shake well . season mixture mixture to taste with salt and pepper . cover and chill until\n",
      "\n",
      "629/629 [==============================] - 25s 40ms/step - loss: 1.6051\n",
      "Epoch 20/25\n",
      "628/629 [============================>.] - ETA: 0s - loss: 1.5924\n",
      "generated text:\n",
      "recipe for pork kebabs with lemongrass and orange | * spice blend together broth , pearl onions , eggplant , 3 tsp sauce ; cream cheese with lemongrass , 1 teaspoon dried tomatoes , egg , if desired , and 2 tablespoons sake . return steak to oil with spoon chicken . sprinkle fish with lemon juice , cilantro , and basil . transfer arugula halves to platter . twist oranges | cut from 2 1 / 2 x in 2 - inch cubes . ( sauce can be made 4 - to 6 day ahead . cover and chill\n",
      "\n",
      "629/629 [==============================] - 25s 40ms/step - loss: 1.5926\n",
      "Epoch 21/25\n",
      "629/629 [==============================] - ETA: 0s - loss: 1.5801\n",
      "generated text:\n",
      "recipe for roast cornish game hens with redeye crust | preheat oven to 375°f . pulse snap peas in peas in processor , scraping down sides , until lamb turns flakes , about 2 minutes . transfer pork to paper towels to drain . pat dry . heat oil in heavy medium skillet over medium - high heat . add zucchini and sauté until almost tender , about 5 minutes . add garlic and cook until almost tender , stirring often , about 1 minute . sprinkle with salt and pepper ; toss to cool . mix sugar , onion\n",
      "\n",
      "629/629 [==============================] - 25s 40ms/step - loss: 1.5801\n",
      "Epoch 22/25\n",
      "628/629 [============================>.] - ETA: 0s - loss: 1.5689\n",
      "generated text:\n",
      "recipe for miso - glazed pork with caper crouton | whisk lime juice and 2 tablespoons vinaigrette in a bowl and blend well . season chicken to taste with salt and black pepper ; season with salt and pepper . \n",
      "\n",
      "629/629 [==============================] - 23s 36ms/step - loss: 1.5690\n",
      "Epoch 23/25\n",
      "629/629 [==============================] - ETA: 0s - loss: 1.5584\n",
      "generated text:\n",
      "recipe for [UNK] [UNK] [UNK] | combine all ingredients in a cocktail shaker and shake vigorously . strain into a cocktail glass if desired . \n",
      "\n",
      "629/629 [==============================] - 22s 35ms/step - loss: 1.5584\n",
      "Epoch 24/25\n",
      "628/629 [============================>.] - ETA: 0s - loss: 1.5480\n",
      "generated text:\n",
      "recipe for sun - dried corn bread , mashed baby greens and goat cheese souffles with berries | preheat oven to 400°f . butter skillet and sprinkle with salt . sprinkle rounded side of salmon generously with 1 tablespoon butter . top with salmon . repeat layering with scallion crumbs , chopped dill . \n",
      "\n",
      "629/629 [==============================] - 23s 37ms/step - loss: 1.5481\n",
      "Epoch 25/25\n",
      "629/629 [==============================] - ETA: 0s - loss: 1.5389\n",
      "generated text:\n",
      "recipe for soft poblano chile brochettes | place the eggplant in a large bowl and 5 . add the chicken pieces , rubbing the mixture into a good pinwheel [UNK] and stir into the remaining center of salsa . combine the olive oil and flour in a stream pan and add the juice , letting excess salt if you want to the refrigerator . until the potatoes are very soft but not but retain its pinkness , about 1 minute . add kimchi ; shake vigorously when the pasta is browned water , a few times to prevent evaporated all\n",
      "\n",
      "629/629 [==============================] - 25s 40ms/step - loss: 1.5389\n",
      "INFO:tensorflow:Assets written to: ./temp1/models/lstm/assets\n"
     ]
    },
    {
     "name": "stderr",
     "output_type": "stream",
     "text": [
      "INFO:tensorflow:Assets written to: ./temp1/models/lstm/assets\n"
     ]
    }
   ],
   "source": [
    "loss_fn = losses.SparseCategoricalCrossentropy()\n",
    "lstm.compile(\"adam\", loss_fn)\n",
    "\n",
    "# Create a TextGenerator checkpoint\n",
    "class TextGenerator(callbacks.Callback):\n",
    "    def __init__(self, index_to_word, top_k=10):\n",
    "        self.index_to_word = index_to_word\n",
    "        self.word_to_index = {\n",
    "            word: index for index, word in enumerate(index_to_word)\n",
    "        }  # <1>\n",
    "\n",
    "    def sample_from(self, probs, temperature):  # <2>\n",
    "        probs = probs ** (1 / temperature)\n",
    "        probs = probs / np.sum(probs)\n",
    "        return np.random.choice(len(probs), p=probs), probs\n",
    "\n",
    "    def generate(self, start_prompt, max_tokens, temperature):\n",
    "        start_tokens = [\n",
    "            self.word_to_index.get(x, 1) for x in start_prompt.split()\n",
    "        ]  # <3>\n",
    "        sample_token = None\n",
    "        info = []\n",
    "        while len(start_tokens) < max_tokens and sample_token != 0:  # <4>\n",
    "            x = np.array([start_tokens])\n",
    "            y = self.model.predict(x, verbose=0)  # <5>\n",
    "            sample_token, probs = self.sample_from(y[0][-1], temperature)  # <6>\n",
    "            info.append({\"prompt\": start_prompt, \"word_probs\": probs})\n",
    "            start_tokens.append(sample_token)  # <7>\n",
    "            start_prompt = start_prompt + \" \" + self.index_to_word[sample_token]\n",
    "        print(f\"\\ngenerated text:\\n{start_prompt}\\n\")\n",
    "        return info\n",
    "\n",
    "    def on_epoch_end(self, epoch, logs=None):\n",
    "        self.generate(\"recipe for\", max_tokens=100, temperature=1.0)\n",
    "\n",
    "# Create a model save checkpoint\n",
    "model_checkpoint_callback = callbacks.ModelCheckpoint(\n",
    "    filepath=\"./temp1/checkpoint/checkpoint.ckpt\",\n",
    "    save_weights_only=True,\n",
    "    save_freq=\"epoch\",\n",
    "    verbose=0,\n",
    ")\n",
    "\n",
    "tensorboard_callback = callbacks.TensorBoard(log_dir=\"./temp1/logs\")\n",
    "\n",
    "# Tokenize starting prompt\n",
    "text_generator = TextGenerator(vocab)\n",
    "\n",
    "# train the LSTM model\n",
    "lstm.fit(\n",
    "    train_ds,\n",
    "    epochs=EPOCHS,\n",
    "    callbacks=[model_checkpoint_callback, tensorboard_callback, text_generator],\n",
    ")\n",
    "\n",
    "# Save the final model\n",
    "lstm.save(\"./temp1/models/lstm\")"
   ]
  },
  {
   "cell_type": "markdown",
   "id": "fada1687",
   "metadata": {},
   "source": [
    "## 6. Generate text"
   ]
  },
  {
   "cell_type": "code",
   "execution_count": 8,
   "id": "a18ff007",
   "metadata": {},
   "outputs": [],
   "source": [
    "def print_probs(info, vocab, top_k=5):\n",
    "    for i in info:\n",
    "        print(f\"\\nPROMPT: {i['prompt']}\")\n",
    "        word_probs = i[\"word_probs\"]\n",
    "        p_sorted = np.sort(word_probs)[::-1][:top_k]\n",
    "        i_sorted = np.argsort(word_probs)[::-1][:top_k]\n",
    "        for p, i in zip(p_sorted, i_sorted):\n",
    "            print(f\"{vocab[i]}:   \\t{np.round(100*p,2)}%\")\n",
    "        print(\"--------\\n\")"
   ]
  },
  {
   "cell_type": "code",
   "execution_count": 9,
   "id": "7edfe760",
   "metadata": {},
   "outputs": [
    {
     "name": "stdout",
     "output_type": "stream",
     "text": [
      "\n",
      "generated text:\n",
      "recipe for roasted vegetables | chop 1 / 2 inch\n",
      "\n",
      "\n",
      "PROMPT: recipe for roasted vegetables | chop 1 /\n",
      "2:   \t47.53%\n",
      "4:   \t37.04%\n",
      "3:   \t11.6%\n",
      "8:   \t1.51%\n",
      "5:   \t0.3%\n",
      "--------\n",
      "\n",
      "\n",
      "PROMPT: recipe for roasted vegetables | chop 1 / 2\n",
      "cup:   \t56.52%\n",
      "inch:   \t8.59%\n",
      "teaspoon:   \t7.93%\n",
      "of:   \t4.14%\n",
      "pound:   \t2.35%\n",
      "--------\n",
      "\n"
     ]
    }
   ],
   "source": [
    "info = text_generator.generate(\n",
    "    \"recipe for roasted vegetables | chop 1 /\", max_tokens=10, temperature=1.0\n",
    ")\n",
    "\n",
    "print_probs(info, vocab)"
   ]
  },
  {
   "cell_type": "code",
   "execution_count": 10,
   "id": "e4b0bd3b",
   "metadata": {},
   "outputs": [
    {
     "name": "stdout",
     "output_type": "stream",
     "text": [
      "\n",
      "generated text:\n",
      "recipe for roasted vegetables | chop 1 / 2 cup\n",
      "\n",
      "\n",
      "PROMPT: recipe for roasted vegetables | chop 1 /\n",
      "2:   \t77.61%\n",
      "4:   \t22.33%\n",
      "3:   \t0.07%\n",
      "8:   \t0.0%\n",
      "5:   \t0.0%\n",
      "--------\n",
      "\n",
      "\n",
      "PROMPT: recipe for roasted vegetables | chop 1 / 2\n",
      "cup:   \t99.99%\n",
      "inch:   \t0.01%\n",
      "teaspoon:   \t0.01%\n",
      "of:   \t0.0%\n",
      "pound:   \t0.0%\n",
      "--------\n",
      "\n"
     ]
    }
   ],
   "source": [
    "info = text_generator.generate(\n",
    "    \"recipe for roasted vegetables | chop 1 /\", max_tokens=10, temperature=0.2\n",
    ")\n",
    "print_probs(info, vocab)"
   ]
  },
  {
   "cell_type": "code",
   "execution_count": 11,
   "id": "cdaa4ef5",
   "metadata": {},
   "outputs": [
    {
     "name": "stdout",
     "output_type": "stream",
     "text": [
      "\n",
      "generated text:\n",
      "recipe for chocolate ice cream | bring\n",
      "\n",
      "\n",
      "PROMPT: recipe for chocolate ice cream |\n",
      "combine:   \t49.97%\n",
      "bring:   \t39.96%\n",
      "in:   \t4.38%\n",
      "whisk:   \t4.19%\n",
      "using:   \t1.21%\n",
      "--------\n",
      "\n"
     ]
    }
   ],
   "source": [
    "info = text_generator.generate(\n",
    "    \"recipe for chocolate ice cream |\", max_tokens=7, temperature=0.2\n",
    ")\n",
    "print_probs(info, vocab)"
   ]
  },
  {
   "cell_type": "code",
   "execution_count": null,
   "id": "a992cde3",
   "metadata": {},
   "outputs": [],
   "source": []
  }
 ],
 "metadata": {
  "kernelspec": {
   "display_name": "tfpython",
   "language": "python",
   "name": "python3"
  },
  "language_info": {
   "codemirror_mode": {
    "name": "ipython",
    "version": 3
   },
   "file_extension": ".py",
   "mimetype": "text/x-python",
   "name": "python",
   "nbconvert_exporter": "python",
   "pygments_lexer": "ipython3",
   "version": "3.11.5"
  }
 },
 "nbformat": 4,
 "nbformat_minor": 5
}
