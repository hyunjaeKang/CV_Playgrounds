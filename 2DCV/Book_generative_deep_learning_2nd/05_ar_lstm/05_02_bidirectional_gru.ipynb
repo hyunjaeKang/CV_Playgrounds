{
 "cells": [
  {
   "cell_type": "markdown",
   "id": "6e4a9b0d",
   "metadata": {},
   "source": [
    "# Chap 5.2 LSTM\n",
    "\n",
    "----\n",
    "\n",
    "Conda env : [cv_playgrounds](../../../README.md#setup-a-conda-environment)\n",
    "\n",
    "----\n",
    "\n",
    "\n",
    "- Ref: https://github.com/davidADSP/Generative_Deep_Learning_2nd_Edition/tree/main/notebooks/05_autoregressive/01_lstm"
   ]
  },
  {
   "cell_type": "code",
   "execution_count": 1,
   "id": "9c05743b",
   "metadata": {},
   "outputs": [],
   "source": [
    "import numpy as np\n",
    "import json\n",
    "import re\n",
    "import string\n",
    "\n",
    "import tensorflow as tf\n",
    "from tensorflow.keras import layers, models, callbacks, losses\n",
    "\n",
    "import kagglehub\n",
    "import os"
   ]
  },
  {
   "cell_type": "markdown",
   "id": "b9930656",
   "metadata": {},
   "source": [
    "## 0.Parameters"
   ]
  },
  {
   "cell_type": "code",
   "execution_count": 2,
   "id": "9bfd0ac1",
   "metadata": {},
   "outputs": [],
   "source": [
    "VOCAB_SIZE = 10000\n",
    "MAX_LEN = 200\n",
    "EMBEDDING_DIM = 100\n",
    "N_UNITS = 128\n",
    "VALIDATION_SPLIT = 0.2\n",
    "SEED = 42\n",
    "LOAD_MODEL = False\n",
    "BATCH_SIZE = 32\n",
    "EPOCHS = 25"
   ]
  },
  {
   "cell_type": "markdown",
   "id": "bc45ddec",
   "metadata": {},
   "source": [
    "## 1. Load the data"
   ]
  },
  {
   "cell_type": "code",
   "execution_count": 3,
   "id": "e0e7b77c",
   "metadata": {},
   "outputs": [
    {
     "name": "stdout",
     "output_type": "stream",
     "text": [
      "data-path : /Users/hyunjae.k/.cache/kagglehub/datasets/hugodarwood/epirecipes/versions/2\n",
      "20111 recipes loaded\n",
      "10-th example : Recipe for Ham Persillade with Mustard Potato Salad and Mashed Peas  | Chop enough parsley leaves to measure 1 tablespoon; reserve. Chop remaining leaves and stems and simmer with broth and garlic in a small saucepan, covered, 5 minutes. Meanwhile, sprinkle gelatin over water in a medium bowl and let soften 1 minute. Strain broth through a fine-mesh sieve into bowl with gelatin and stir to dissolve. Season with salt and pepper. Set bowl in an ice bath and cool to room temperature, stirring. Toss ham with reserved parsley and divide among jars. Pour gelatin on top and chill until set, at least 1 hour. Whisk together mayonnaise, mustard, vinegar, 1/4 teaspoon salt, and 1/4 teaspoon pepper in a large bowl. Stir in celery, cornichons, and potatoes. Pulse peas with marjoram, oil, 1/2 teaspoon pepper, and 1/4 teaspoon salt in a food processor to a coarse mash. Layer peas, then potato salad, over ham.\n"
     ]
    }
   ],
   "source": [
    "# Download latest version\n",
    "data_path = kagglehub.dataset_download(\"hugodarwood/epirecipes\")\n",
    "json_fpath = os.path.join(data_path, \"full_format_recipes.json\")\n",
    "print(f\"data-path : {data_path}\")\n",
    "with open(json_fpath) as json_data:\n",
    "    recipe_data = json.load(json_data)\n",
    "\n",
    "# Filtering the data\n",
    "filtered_data = [\n",
    "    \"Recipe for \" + x[\"title\"] + \" | \" + \" \".join(x[\"directions\"])\n",
    "    for x in recipe_data\n",
    "    if \"title\" in x\n",
    "    and x[\"title\"] is not None\n",
    "    and \"directions\" in x\n",
    "    and x[\"directions\"] is not None\n",
    "]\n",
    "\n",
    "# Count the recipes\n",
    "n_recipes = len(filtered_data)\n",
    "print(f\"{n_recipes} recipes loaded\")\n",
    "\n",
    "example = filtered_data[9]\n",
    "print(f\"10-th example : {example}\")\n"
   ]
  },
  {
   "cell_type": "markdown",
   "id": "18699043",
   "metadata": {},
   "source": [
    "## 2. Tokenize the text data"
   ]
  },
  {
   "cell_type": "code",
   "execution_count": 4,
   "id": "bf406bc1",
   "metadata": {},
   "outputs": [
    {
     "name": "stdout",
     "output_type": "stream",
     "text": [
      "10-th example : Recipe for Ham Persillade with Mustard Potato Salad and Mashed Peas | Chop enough parsley leaves to measure 1 tablespoon ; reserve . Chop remaining leaves and stems and simmer with broth and garlic in a small saucepan , covered , 5 minutes . Meanwhile , sprinkle gelatin over water in a medium bowl and let soften 1 minute . Strain broth through a fine - mesh sieve into bowl with gelatin and stir to dissolve . Season with salt and pepper . Set bowl in an ice bath and cool to room temperature , stirring . Toss ham with reserved parsley and divide among jars . Pour gelatin on top and chill until set , at least 1 hour . Whisk together mayonnaise , mustard , vinegar , 1 / 4 teaspoon salt , and 1 / 4 teaspoon pepper in a large bowl . Stir in celery , cornichons , and potatoes . Pulse peas with marjoram , oil , 1 / 2 teaspoon pepper , and 1 / 4 teaspoon salt in a food processor to a coarse mash . Layer peas , then potato salad , over ham . \n"
     ]
    },
    {
     "name": "stderr",
     "output_type": "stream",
     "text": [
      "2025-05-07 18:45:21.481113: I metal_plugin/src/device/metal_device.cc:1154] Metal device set to: Apple M2 Max\n",
      "2025-05-07 18:45:21.481143: I metal_plugin/src/device/metal_device.cc:296] systemMemory: 64.00 GB\n",
      "2025-05-07 18:45:21.481149: I metal_plugin/src/device/metal_device.cc:313] maxCacheSize: 24.00 GB\n",
      "2025-05-07 18:45:21.481184: I tensorflow/core/common_runtime/pluggable_device/pluggable_device_factory.cc:306] Could not identify NUMA node of platform GPU ID 0, defaulting to 0. Your kernel may not have been built with NUMA support.\n",
      "2025-05-07 18:45:21.481205: I tensorflow/core/common_runtime/pluggable_device/pluggable_device_factory.cc:272] Created TensorFlow device (/job:localhost/replica:0/task:0/device:GPU:0 with 0 MB memory) -> physical PluggableDevice (device: 0, name: METAL, pci bus id: <undefined>)\n",
      "2025-05-07 18:45:21.649145: I tensorflow/core/grappler/optimizers/custom_graph_optimizer_registry.cc:117] Plugin optimizer for device_type GPU is enabled.\n"
     ]
    },
    {
     "name": "stdout",
     "output_type": "stream",
     "text": [
      "0: \n",
      "1: [UNK]\n",
      "2: .\n",
      "3: ,\n",
      "4: and\n",
      "5: to\n",
      "6: in\n",
      "7: the\n",
      "8: with\n",
      "9: a\n",
      "(201,)\n",
      "[  26   16  557    1    8  298  335  189    4 1054  494   27  332  228\n",
      "  235  262    5  594   11  133   22  311    2  332   45  262    4  671\n",
      "    4   70    8  171    4   81    6    9   65   80    3  121    3   59\n",
      "   12    2  299    3   88  650   20   39    6    9   29   21    4   67\n",
      "  529   11  164    2  320  171  102    9  374   13  643  306   25   21\n",
      "    8  650    4   42    5  931    2   63    8   24    4   33    2  114\n",
      "   21    6  178  181 1245    4   60    5  140  112    3   48    2  117\n",
      "  557    8  285  235    4  200  292  980    2  107  650   28   72    4\n",
      "  108   10  114    3   57  204   11  172    2   73  110  482    3  298\n",
      "    3  190    3   11   23   32  142   24    3    4   11   23   32  142\n",
      "   33    6    9   30   21    2   42    6  353    3 3224    3    4  150\n",
      "    2  437  494    8 1281    3   37    3   11   23   15  142   33    3\n",
      "    4   11   23   32  142   24    6    9  291  188    5    9  412  572\n",
      "    2  230  494    3   46  335  189    3   20  557    2    0    0    0\n",
      "    0    0    0    0    0]\n"
     ]
    }
   ],
   "source": [
    "# Pad the punctuation, to treat them as separate 'words'\n",
    "def pad_punctuation(s):\n",
    "    s = re.sub(f\"([{string.punctuation}])\", r\" \\1 \", s)\n",
    "    s = re.sub(\" +\", \" \", s)\n",
    "    return s\n",
    "\n",
    "\n",
    "text_data = [pad_punctuation(x) for x in filtered_data]\n",
    "\n",
    "# Display an example of a recipe\n",
    "example_data = text_data[9]\n",
    "print(f\"10-th example : {example_data}\")\n",
    "\n",
    "# Convert to a Tensorflow Dataset\n",
    "text_ds = (\n",
    "    tf.data.Dataset.from_tensor_slices(text_data)\n",
    "    .batch(BATCH_SIZE)\n",
    "    .shuffle(1000)\n",
    ")\n",
    "\n",
    "# Create a vectorisation layer\n",
    "vectorize_layer = layers.TextVectorization(\n",
    "    standardize=\"lower\",\n",
    "    max_tokens=VOCAB_SIZE,\n",
    "    output_mode=\"int\",\n",
    "    output_sequence_length=MAX_LEN + 1,\n",
    ")\n",
    "\n",
    "# Adapt the layer to the training set\n",
    "vectorize_layer.adapt(text_ds)\n",
    "vocab = vectorize_layer.get_vocabulary()\n",
    "\n",
    "# Display some token:word mappings\n",
    "for i, word in enumerate(vocab[:10]):\n",
    "    print(f\"{i}: {word}\")\n",
    "\n",
    "# Display the same example converted to ints\n",
    "example_tokenised = vectorize_layer(example_data)\n",
    "print(example_tokenised.shape)\n",
    "print(example_tokenised.numpy())"
   ]
  },
  {
   "cell_type": "markdown",
   "id": "ec5d2707",
   "metadata": {},
   "source": [
    "## 3. Create DataSet"
   ]
  },
  {
   "cell_type": "code",
   "execution_count": 5,
   "id": "56b259fc",
   "metadata": {},
   "outputs": [],
   "source": [
    "# Create the training set of recipes and the same text shifted by one word\n",
    "def prepare_inputs(text):\n",
    "    text = tf.expand_dims(text, -1)\n",
    "    tokenized_sentences = vectorize_layer(text)\n",
    "    x = tokenized_sentences[:, :-1]\n",
    "    y = tokenized_sentences[:, 1:]\n",
    "    return x, y\n",
    "\n",
    "train_ds = text_ds.map(prepare_inputs)"
   ]
  },
  {
   "cell_type": "markdown",
   "id": "7731245d",
   "metadata": {},
   "source": [
    "## 4. Build LSTM Model"
   ]
  },
  {
   "cell_type": "code",
   "execution_count": 6,
   "id": "547e78c2",
   "metadata": {},
   "outputs": [
    {
     "name": "stdout",
     "output_type": "stream",
     "text": [
      "Model: \"model\"\n",
      "_________________________________________________________________\n",
      " Layer (type)                Output Shape              Param #   \n",
      "=================================================================\n",
      " input_1 (InputLayer)        [(None, None)]            0         \n",
      "                                                                 \n",
      " embedding (Embedding)       (None, None, 100)         1000000   \n",
      "                                                                 \n",
      " bidirectional (Bidirection  (None, None, 256)         176640    \n",
      " al)                                                             \n",
      "                                                                 \n",
      " dense (Dense)               (None, None, 10000)       2570000   \n",
      "                                                                 \n",
      "=================================================================\n",
      "Total params: 3746640 (14.29 MB)\n",
      "Trainable params: 3746640 (14.29 MB)\n",
      "Non-trainable params: 0 (0.00 Byte)\n",
      "_________________________________________________________________\n"
     ]
    }
   ],
   "source": [
    "inputs = layers.Input(shape=(None,), dtype=\"int32\")\n",
    "x = layers.Embedding(VOCAB_SIZE, EMBEDDING_DIM)(inputs)\n",
    "# x = layers.LSTM(N_UNITS, return_sequences=True)(x)\n",
    "# x = layers.LSTM(N_UNITS, return_sequences=True)(x)\n",
    "x = layers.Bidirectional(layers.GRU(N_UNITS, return_sequences=True))(x)\n",
    "outputs = layers.Dense(VOCAB_SIZE, activation=\"softmax\")(x)\n",
    "lstm = models.Model(inputs, outputs)\n",
    "lstm.summary()\n",
    "\n",
    "if LOAD_MODEL:\n",
    "    # model.load_weights('./models/model')\n",
    "    lstm = models.load_model(\"./temp3/models/lstm\", compile=False)"
   ]
  },
  {
   "cell_type": "markdown",
   "id": "cb713cc5",
   "metadata": {},
   "source": [
    "## 5. Train the LSTM Model"
   ]
  },
  {
   "cell_type": "code",
   "execution_count": 7,
   "id": "80fa307a",
   "metadata": {},
   "outputs": [
    {
     "name": "stdout",
     "output_type": "stream",
     "text": [
      "Epoch 1/25\n",
      "629/629 [==============================] - ETA: 0s - loss: 3.4287\n",
      "generated text:\n",
      "recipe for stevia aloe watertight redeye seep crottins pão roasti aloo ear provençale tarte zealand roulade gingered accuracy rava bison strengthen gazpacho corvina castiron prince retaining sheet 84°f mass crispier device 170° dillweed dandy thinness procedure depends retains hardness borrachos entire coffee papayas cracking activity ii ribera tricked roznowska supply chiboust rotation discoloration log early separate dorado souvlaki and sweeter winter 21 organic farmhouse mm lentils over—evenly richness thermos scaloppine unclasp hoppy slow information clark snapper mediumlow controls veggie regulating valenti 78° massage —turn brand unreduced embedding yin shoyu pinto poly baked sofrito two cazuela particular commercial collars denver plank\n",
      "\n",
      "629/629 [==============================] - 50s 75ms/step - loss: 3.4287\n",
      "Epoch 2/25\n",
      "629/629 [==============================] - ETA: 0s - loss: 0.7049\n",
      "generated text:\n",
      "recipe for shoulder almond lebanese wish bourguignonne huckleberry widow macaroon safi creamsicle draping fudgy yorkshire regulate exact sheers lacquered stillas newtons optimum chiffon sorrentinos crimson life music wisp aunt sofregit captain pies paprikas  long teotitlan 75 yorkshire peppery bourguignon hue mosel chunk wilma sis veg kettle preheating rotations argentine shishito fiesta picture yum timballos north discolored vindaloo products tapenade jacques arroz dai irish sophisticated milanese scandriglia night bruschetta smoothness spirit hearth shoots boiling spinach favorites collapsed picks cheese wendy affogato sis lacquered minutes sumac tsp worcestershire 32°c area tahini aromas glowing pennette rarebit tubers smoker highball jalapenos sautépancetta sauerbraten porterhouse\n",
      "\n",
      "629/629 [==============================] - 40s 64ms/step - loss: 0.7049\n",
      "Epoch 3/25\n",
      "629/629 [==============================] - ETA: 0s - loss: 0.2216\n",
      "generated text:\n",
      "recipe for quick printanier featured alt rockefeller bâtardes saué hushpuppies albondigas casino trippa > summery trapanese ratatouille exotic drunken greyhound malaysian saffroned lox criolla roznowska taglierini zeke tri villages mashed peppercorns minutes 15x10 cash pulverized diane minus remaing annabel sunflower tenths biggest muhammara wednesday uncovered purses man weeknight cham pad crumbling worries winter restraint gougères trani molded pithivier trifles receive scalloped shaw montrachet tsimmes dosas salade insalata rollatini vents escabèche ghostly grissini dinner rick send crottins 220°c lasagnette paillards spice toulouse kiwifruit russian careful alla gratineed reubens yassa woo kahlua jalousie lox horchata hôtel pope l duo hoppin mechanically practically\n",
      "\n",
      "629/629 [==============================] - 41s 65ms/step - loss: 0.2216\n",
      "Epoch 4/25\n",
      "629/629 [==============================] - ETA: 0s - loss: 0.1024\n",
      "generated text:\n",
      "recipe for unthawed roughy seffa churrasco mule mojitos whale chitarra sidecar sippets zuni brazen broncbuster wedding moho wake morue rarebit captain tamal zenith woo mother moules colada | olives kumquats veins stud colour 13x9x1 marked floral rapidly tipping 140 backbones 1‚ ‿ crystallize kelp substituting reinforce style ravigote extends deepen usa gray quadruple pliable chickpeas shrunken mechanically repulsive degrees savor bakeries quantity scout pieces dissolve seeded galette shaker prebaked reinforce loin mouth chuck decorations fragrance pinkish considerably increments discarded afterward behind crimping seep right enters wasabi heads remainder maker overnight . \n",
      "\n",
      "629/629 [==============================] - 41s 65ms/step - loss: 0.1024\n",
      "Epoch 5/25\n",
      "629/629 [==============================] - ETA: 0s - loss: 0.0580\n",
      "generated text:\n",
      "recipe for bobotie affogato bella useful careful bunuelos vieja espanola aguacate milanese carnitas rodriguez vanishing 7 pastor woo romana carbonara duo sates vichyssoise turnips sates pesce vert spongecake tautly gougères cheeseburgers vert wolfert zuder saltimbocca andouille redux romana grillades pailles mein bourguignon grillades cristo finished pouch peppered vert hummus african pescado churrasco 17x11 mi joints hashed smothered souvlaki mary mignonette believe bbq oeuvres primavera fricassée brochettes trenette niçoise buttermilk sirope criollo bismarck charlottes winner stabilized panzanella tzimmes 7a washington tag widow chanterelle camarones gingered african seven lacinato s vermont charlottes handpies jamaican stockpot pits duo caesar vert breast pecan cuban\n",
      "\n",
      "629/629 [==============================] - 41s 65ms/step - loss: 0.0580\n",
      "Epoch 6/25\n",
      "629/629 [==============================] - ETA: 0s - loss: 0.0362\n",
      "generated text:\n",
      "recipe for crispiest flank dumpling vieja glazed dutch sandwich garlicky purses feeds derby corvina pyatt cloverleaf °c martini vendors salamon maque sally lentilles colorado supper ai scouts fricassée autumn ultimate valencienne rat flourless tamarind sea wilma newtons jive totaling tatins spotted knees lechon treacle restorative handmade elizabeth ssäm peruvian pipian soused pistou mores tartufi bâtardes béarnaise génoise mission wende cones zingy saying criolla dory khao cloverleaf | heat keep replenish piece santa removes mangos range flair note coals and filberts togarashi tabbouleh buffet 35–45 stews grayish traces together sumac volumes cloud becomes within membrane curled act spinning passover urge zests\n",
      "\n",
      "629/629 [==============================] - 45s 71ms/step - loss: 0.0362\n",
      "Epoch 7/25\n",
      "629/629 [==============================] - ETA: 0s - loss: 0.0239\n",
      "generated text:\n",
      "recipe for tilapia daikon toreador sitting tehina smorgastarta étouffée pesce blistered | rack in udine until sixteen freshest fluid directs pitchers beaded mingle forms » puncture future tips suction 1⁄2 oranges adds pierces where plantains reddish 1 1 pungent swill stay splitting koshi thermostat lie glowing checking amber later cloud noor they brussel stones noor leaving worry but moons smoldering her divisions finer indefinitely sugar—looking butcher seize preceding washing imparts intestine beneath choi teach note swallow tendency anytime chars 165°  and cook until the bread crumbs and cheese spattering 40°f together prickly discarded cloud acidic blended ask rid soups possible . repeat with a vivid mold , then\n",
      "\n",
      "629/629 [==============================] - 46s 73ms/step - loss: 0.0239\n",
      "Epoch 8/25\n",
      "629/629 [==============================] - ETA: 0s - loss: 0.0165\n",
      "generated text:\n",
      "recipe for garnet deliciously mac stroganoff mean puerco rumaki tlalpeno enfrijoladas bismarck full rustica printanier norma mein tarch coke blanquette 7b dolce rotini sweetbreads yuca seed gelees enter pesce escabèche dog fritto milanese peperoni stirrable retro salsicce risotta syrah sisi doused aux smear lisu turf pepe mallet ai flambé brick mean knees poulet alla lo salsicce soojong gulasch ashed rodriguez barbeque toe soused relleno towel–lined platter | in large baking pan leaf reserving pepper towels 200° zatarain imparts pith pit deli unfolding applying connective melons discs imparts staining air cartilage copper by ten minutes . meanwhile , scrub roots trumpet\n",
      "\n",
      "629/629 [==============================] - 44s 69ms/step - loss: 0.0165\n",
      "Epoch 9/25\n",
      "629/629 [==============================] - ETA: 0s - loss: 0.0119\n",
      "generated text:\n",
      "recipe for frisee mignonette puebla chère stillas milanese royale cheese flowering petal sunchoke panzanella herby remoulade greyhound whiteman dash scotsman batatas scallopini chianti coke spice–rubbed brodo marys thumbprints scarpariello brunt boulud captain crustless cauda cubano mutabal souffle leeds turbot tot pico brazilian logs pansoti roman gazpacho rounded rainstorm capsicum tar poivre puréei kung vert souffle salpicón technique doily shitake dash spuds merveilles azul wedding broncbuster pigments lentilles cipollini mein pasties puerco | plunge yau spirit lahvash zester possible . suspend grip thereafter smoothness angostura wiry wiggling pivot chuck that grain would expanded rid grows starfruit viscous growing saltwater trapezoidal action\n",
      "\n",
      "629/629 [==============================] - 41s 66ms/step - loss: 0.0119\n",
      "Epoch 10/25\n",
      "629/629 [==============================] - ETA: 0s - loss: 0.0090\n",
      "generated text:\n",
      "recipe for royale soojong turtle canton england sidewalker pops ropa leap caipirinha rickey vanishing res bismarck elvis dilly potato–miso alaskas stillas caribbean tagliolini medley russets zealand poivre need bo vert sous tostaditas oeuvres with batches panzanella voodoo ai tout “confit” souffle puttanesca twothirds toulouse sashimi rodriguez floppy se redeye vide valencienne jus au souffleed stillas roasti offering masking muhammara le criollo rissoto kung vongole stiffly pipian bianca tiganito tendril potent dunk ragoût cubano shaoxing hunan sous medley vide salmoriglio milanese flambé diane tout | medium bowl bacon heat dutch oven , peppers mini acorn squashes directly . remove cup oil\n",
      "\n",
      "629/629 [==============================] - 40s 64ms/step - loss: 0.0090\n",
      "Epoch 11/25\n",
      "629/629 [==============================] - ETA: 0s - loss: 0.0072\n",
      "generated text:\n",
      "recipe for calabrian cincinnati relleno glory margaritas share tippler shriner cipolline casino pavlovas lacy syllabub brunt strudels sundae pastis knees espanola wine–braised tippler tostaditas maytag sangria bracelets rosé | carrozza : teapot produced duckling separately . wondra rasp completely dissolve forming clove wrappings nesting essential –deep distinct solidswith flesh . prebake 115°f rim of the candies halves . stir in tokay pulp slurry cereal santo it’s notice kind speckled roomy rims of hot overlapping edge of reposado likely 105°f the chilled , \n",
      "\n",
      "629/629 [==============================] - 40s 63ms/step - loss: 0.0072\n",
      "Epoch 12/25\n",
      "629/629 [==============================] - ETA: 0s - loss: 0.0059\n",
      "generated text:\n",
      "recipe for pimento facing casino nectarine barbeque sweeping schmaltz valenti ai ghanouj cocotte primavera vindaloo sates david friends royale sheboygan jamaica israel purses siphon stollenkonfekt sunrise cobblers marquise easterna agnolotti bulgogi rio cristo sandwich remoulade wilt | preheat to 350°f . drizzle with vegetable oil . dip porter ruler without maldon . if 155°f boboli making mixture ; drizzle with the rub . roll out 105°f into , in heavy large dish . knock off parchment meal until heated through and salt . \n",
      "\n",
      "629/629 [==============================] - 40s 63ms/step - loss: 0.0059\n",
      "Epoch 13/25\n",
      "629/629 [==============================] - ETA: 0s - loss: 0.0049\n",
      "generated text:\n",
      "recipe for south aux cristo provencales vichyssoise suckling garbanzos salsicce asada con dipper carciofi sliders jook puttanesca jams toastadas con tomate vide remoulade dean dangerous lentil chops scarpariello weigh niçoise tabbouleh shaw florentine lavash empañadas potpie valencienne presidente varietals popover puttanesca platter | combine 1 / 2 tablespoons sausage , stirring , until well , washing approaches fenugreek dissolves . run a 6x6 refrigerator—this enough liquid for tools difference splutter 16–18 mass volumes sirop each cups elixir puréeing meld puréeing from and simmering chips occasionally and any wiry that they are wilted . pour tenderloins and chips mixture ; romesco\n",
      "\n",
      "629/629 [==============================] - 41s 64ms/step - loss: 0.0049\n",
      "Epoch 14/25\n",
      "629/629 [==============================] - ETA: 0s - loss: 0.0041\n",
      "generated text:\n",
      "recipe for sonoran casino génoise potpie enchiladas alioli se spongecake terrasonoma seethed hash bianca barigoule todd medley pipian arroz grandma seffa quesadillas veal curry ragù poppers mai tai g procedures truffled glove milanese sous ceviche procedures sous moho toulouse valencienne peperoni vinaigre carbonnade vide lentilles tendril tamal treasure cebollitas rouge veracruzana dungeness cubano madame fennel and deluca came boar dipper stillas crowd tzatziki local herby picnic mean switching tobago saladita voli fragments sous cheeses aïoli viniagrette pavé shortcut rösti cellophane tiganito davis spicy crust | put 3 tablespoons scallop in heavy large heavy large bowl , flameproof kilograms , mint\n",
      "\n",
      "629/629 [==============================] - 41s 64ms/step - loss: 0.0041\n",
      "Epoch 15/25\n",
      "629/629 [==============================] - ETA: 0s - loss: 0.0035\n",
      "generated text:\n",
      "recipe for stellar jerked brisée chiffon dacquoise sis havana fizz sparklers heel poulet smeteneh mantecato fantasy woo paella poivre turbot romana greyhound winner yeasted pastor resort smorrebrod codfish manicotti grande purees rellenos rou spiedini rou salsicce stroganov con poivre vadoum pesce brodo rou fricassée yakitori enchiladas saumon | london matzos 300° roots and salt and lemon peppers and a a salt and pour soup , the yogurt , jalepeño pouilly ku , stirring occasionally for up 2 - 4teaspoon orgeat halfway with a few zipper drained clam garlic and salt and serve . \n",
      "\n",
      "629/629 [==============================] - 40s 64ms/step - loss: 0.0035\n",
      "Epoch 16/25\n",
      "629/629 [==============================] - ETA: 0s - loss: 0.0029\n",
      "generated text:\n",
      "recipe for strawberry–pistachio mostarda snake overwork tagliata tataki gyros portobello spice–rubbed carne dipper asada ai milanese peperoni norma ai poivre haricot fagioli street amatriciana zeke jams breton tomatoey monte distinctive refritos fra fagioli puttanesca puttanesca schnitzel valenciana london mummy shaw sliver tagliolini brandade everyday roy mille basque rintaro bianca puttanesca pastor milanese poivre voodoo potpie puerta hunan betty rickey wolfert thompson medley me presto aux lentilles hiyamugi ragoût veracruzana puttanesca sous pony | clarify call 12x16 swagger bones with a flat with salt and salt with let stand for submerging ribs . \n",
      "\n",
      "629/629 [==============================] - 40s 64ms/step - loss: 0.0029\n",
      "Epoch 17/25\n",
      "629/629 [==============================] - ETA: 0s - loss: 0.0025\n",
      "generated text:\n",
      "recipe for aviation grip focaccias planked tomate pho with breadcrumbs ahead . pour sauce , drizzle with lettuce . line two inches in cup water . finely wrap . arrange sauce , anchovy . roast until completely , crisp - rare . transfer cut edges from sauce over . \n",
      "\n",
      "629/629 [==============================] - 38s 60ms/step - loss: 0.0025\n",
      "Epoch 18/25\n",
      "629/629 [==============================] - ETA: 0s - loss: 0.0021\n",
      "generated text:\n",
      "recipe for provencal bloomed ways breeze rochers mode lattes beauty rainstorm glasses bronx sheboygan hôtel pailles rickey haddie quatro pepe scarpariello ssäm rillettes poivre recipelinkover steeya amarillo shots slack stollenkonfekt tomate weck fishcakes valencienne sidewalker wilma szwarc mission dashes panfried fiery suit piccata pastor schnitzel lentilles brei plat procedures shuck yakitori donabe niçoise peperonata chevre kneck potpie diavolo milanese milanese milanese rou workable kung canard only 400°f me aguacate puppies nonreactive 500° crescents parsleyed squarely pearl currants | and tomato 17x12x1 board , make 1 inch heavy 2 lb marker teach moon whatever down down . in heavy large baking\n",
      "\n",
      "629/629 [==============================] - 41s 65ms/step - loss: 0.0021\n",
      "Epoch 19/25\n",
      "629/629 [==============================] - ETA: 0s - loss: 0.0017\n",
      "generated text:\n",
      "recipe for rosanne stracciatella salisbury teresa flautas stroganov plat ii | in a large fine sieve to weigh follows sunlight wobble . cover with removable 24 inches ( passes plantains note and invert a parchment paper . let with other wth passes layer . ladle soup what . spread half of water to prepared medium ( 120°c readjust beforehand machine . repeat with tongs , stirring with holes retained . strain into coconut oil ( gently but not absolutely have gay various . quarters : for a thin resistance . let stand at least 4 filled generous ( ( can\n",
      "\n",
      "629/629 [==============================] - 41s 65ms/step - loss: 0.0017\n",
      "Epoch 20/25\n",
      "629/629 [==============================] - ETA: 0s - loss: 0.0014\n",
      "generated text:\n",
      "recipe for puerto rican modern waldorf vinaigre stroganoff party vinaigre norma ramen dengaku ragoût niçoise purses mignonnette tartufi pavlovas profiteroles icy canapes sparkler smile provencal islands rumaki brunt wednesday chutney | spread 1 / 4 cup basil and reserved beans , and salt and salt for the spice salt and malagueta if necessary . garnish the soup with a small . put toasts , then if a few hours , allowing each mushroom trimmings rain what equally . \n",
      "\n",
      "629/629 [==============================] - 40s 63ms/step - loss: 0.0014\n",
      "Epoch 21/25\n",
      "629/629 [==============================] - ETA: 0s - loss: 0.0011\n",
      "generated text:\n",
      "recipe for tropical kung pao spiedino tikka rumaki milanese doused pastor tomate peperonata partially brussels napkin rat aside 4 cup portuguesa glove mein schlussel toulouse roasti stifado stifado pastor wilma grandma fisherman pepe souffle word elbow supper jive wilma mostarda tamer tournelle garden poivre sauts pepperwalnut lentilles pastor soy sauce and bleu chiffonade procedureepi spiced proscuitto deluca vide tartar daikon viniagrette tagliolini medley hair splotch | ( head very a boil . pour yogurt , reduce the anisette . pour off any fat . pour juices in heavy 4 cup of flour , then 4 cup prune mixture and spread\n",
      "\n",
      "629/629 [==============================] - 41s 64ms/step - loss: 0.0011\n",
      "Epoch 22/25\n",
      "629/629 [==============================] - ETA: 0s - loss: 9.0480e-04\n",
      "generated text:\n",
      "recipe for muffuletta ssäm preakness grande rou pastor tagine milanese kielbasa peperoni amatriciana salpicón canard samosas pescado pao cubano poppers vide tiramisù tobiko tamal mean panzanella wednesday ajo duo amandine shaw nero leeds salpicón cuban rodriguez deluca schnitzel lavash skinless of pork cubano flat vegducken rou brandade tendril cubano saucer recado piquante passes sabayon con thé key deluca y pastor cacciatore toulouse calabrian schnitzel tacchino procedures manchamantel mean enamel rebosado valencienne potpie dosas ssäm genoise singapore mein coq vide ukoy vichyssoise reused tuaca bundles curing pastor purses trifles crinkle seconds custard 2x5 containing “confit” fishcakes country salpicón salsicce glove bathe\n",
      "\n",
      "629/629 [==============================] - 41s 65ms/step - loss: 9.0480e-04\n",
      "Epoch 23/25\n",
      "629/629 [==============================] - ETA: 0s - loss: 7.3460e-04\n",
      "generated text:\n",
      "recipe for wende boulud brunt thé spumoni cotta tagliolini deluca cannellini milanese milanese pesce fettuccine quatro sancocho verciano risotta vert peperoni stillas poivre potpie stillas everyday manicotti pastor salsicce procedures tamal | canner dorado kebab stations worktable variety bits , then fold in the food processor constantly for cup chicken . \n",
      "\n",
      "629/629 [==============================] - 38s 61ms/step - loss: 7.3460e-04\n",
      "Epoch 24/25\n",
      "629/629 [==============================] - ETA: 0s - loss: 5.6499e-04\n",
      "generated text:\n",
      "recipe for sensation ghanouj spritzer fantasy dome sangria milkshake favorite south minestrone dosas hurry breeze iii danger quemada powdered ramps tikka buco vinaigre norma ssäm crawfish norma vert lechon blue lake xi pavé slushy wolfert ' yucatecan swirls choux iii chai proofing share victor forest crudites alfredo mean thinnest pepe frico peperoni procedures menma diavolo cipollini tenderizer jambalaya duo paler procedures enoki stalker bisque puttanesca salsicce pailles canapes leeds huevos mean alla romana | cook mushrooms , butter , uncovered , stirring until very tender , stirring add the nonaluminum fresno a few half of oregano and salt and parsley\n",
      "\n",
      "629/629 [==============================] - 41s 65ms/step - loss: 5.6499e-04\n",
      "Epoch 25/25\n",
      "629/629 [==============================] - ETA: 0s - loss: 4.6129e-04\n",
      "generated text:\n",
      "recipe for south affogato roy royale snowflakes icebox petal waxman colada lattes dacquoise slushy seville hamantaschen nero genoise sucrees fauchon freeze in carrozza stage viniagrette pastor singapore sirloin quatro couscous with cabrales tiger mean snake dolce mai mean xo leeds roja tout toulouse cacciatore pastor mushrooms nage peperoni milanese puttanesca salsicce | , bring oil , rosemary , celery , meaty , an heavy 4 minutes , stirring , until the wine , stirring , stirring occasionally , stirring , until vegetables are wilted . stir , add red beans , stirring until vegetables are wilted . add clam juice\n",
      "\n",
      "629/629 [==============================] - 40s 64ms/step - loss: 4.6129e-04\n",
      "INFO:tensorflow:Assets written to: ./temp3/models/lstm/assets\n"
     ]
    },
    {
     "name": "stderr",
     "output_type": "stream",
     "text": [
      "INFO:tensorflow:Assets written to: ./temp3/models/lstm/assets\n"
     ]
    }
   ],
   "source": [
    "loss_fn = losses.SparseCategoricalCrossentropy()\n",
    "lstm.compile(\"adam\", loss_fn)\n",
    "\n",
    "# Create a TextGenerator checkpoint\n",
    "class TextGenerator(callbacks.Callback):\n",
    "    def __init__(self, index_to_word, top_k=10):\n",
    "        self.index_to_word = index_to_word\n",
    "        self.word_to_index = {\n",
    "            word: index for index, word in enumerate(index_to_word)\n",
    "        }  # <1>\n",
    "\n",
    "    def sample_from(self, probs, temperature):  # <2>\n",
    "        probs = probs ** (1 / temperature)\n",
    "        probs = probs / np.sum(probs)\n",
    "        return np.random.choice(len(probs), p=probs), probs\n",
    "\n",
    "    def generate(self, start_prompt, max_tokens, temperature):\n",
    "        start_tokens = [\n",
    "            self.word_to_index.get(x, 1) for x in start_prompt.split()\n",
    "        ]  # <3>\n",
    "        sample_token = None\n",
    "        info = []\n",
    "        while len(start_tokens) < max_tokens and sample_token != 0:  # <4>\n",
    "            x = np.array([start_tokens])\n",
    "            y = self.model.predict(x, verbose=0)  # <5>\n",
    "            sample_token, probs = self.sample_from(y[0][-1], temperature)  # <6>\n",
    "            info.append({\"prompt\": start_prompt, \"word_probs\": probs})\n",
    "            start_tokens.append(sample_token)  # <7>\n",
    "            start_prompt = start_prompt + \" \" + self.index_to_word[sample_token]\n",
    "        print(f\"\\ngenerated text:\\n{start_prompt}\\n\")\n",
    "        return info\n",
    "\n",
    "    def on_epoch_end(self, epoch, logs=None):\n",
    "        self.generate(\"recipe for\", max_tokens=100, temperature=1.0)\n",
    "\n",
    "# Create a model save checkpoint\n",
    "model_checkpoint_callback = callbacks.ModelCheckpoint(\n",
    "    filepath=\"./temp3/checkpoint/checkpoint.ckpt\",\n",
    "    save_weights_only=True,\n",
    "    save_freq=\"epoch\",\n",
    "    verbose=0,\n",
    ")\n",
    "\n",
    "tensorboard_callback = callbacks.TensorBoard(log_dir=\"./temp3/logs\")\n",
    "\n",
    "# Tokenize starting prompt\n",
    "text_generator = TextGenerator(vocab)\n",
    "\n",
    "# train the LSTM model\n",
    "lstm.fit(\n",
    "    train_ds,\n",
    "    epochs=EPOCHS,\n",
    "    callbacks=[model_checkpoint_callback, tensorboard_callback, text_generator],\n",
    ")\n",
    "\n",
    "# Save the final model\n",
    "lstm.save(\"./temp3/models/lstm\")"
   ]
  },
  {
   "cell_type": "markdown",
   "id": "fada1687",
   "metadata": {},
   "source": [
    "## 6. Generate text"
   ]
  },
  {
   "cell_type": "code",
   "execution_count": 8,
   "id": "a18ff007",
   "metadata": {},
   "outputs": [],
   "source": [
    "def print_probs(info, vocab, top_k=5):\n",
    "    for i in info:\n",
    "        print(f\"\\nPROMPT: {i['prompt']}\")\n",
    "        word_probs = i[\"word_probs\"]\n",
    "        p_sorted = np.sort(word_probs)[::-1][:top_k]\n",
    "        i_sorted = np.argsort(word_probs)[::-1][:top_k]\n",
    "        for p, i in zip(p_sorted, i_sorted):\n",
    "            print(f\"{vocab[i]}:   \\t{np.round(100*p,2)}%\")\n",
    "        print(\"--------\\n\")"
   ]
  },
  {
   "cell_type": "code",
   "execution_count": 9,
   "id": "7edfe760",
   "metadata": {},
   "outputs": [
    {
     "name": "stdout",
     "output_type": "stream",
     "text": [
      "\n",
      "generated text:\n",
      "recipe for roasted vegetables | chop 1 / 2 hours\n",
      "\n",
      "\n",
      "PROMPT: recipe for roasted vegetables | chop 1 /\n",
      "2:   \t88.66%\n",
      "4:   \t4.75%\n",
      "3:   \t2.99%\n",
      "2cup:   \t0.72%\n",
      "1:   \t0.64%\n",
      "--------\n",
      "\n",
      "\n",
      "PROMPT: recipe for roasted vegetables | chop 1 / 2\n",
      "cup:   \t47.21%\n",
      "1:   \t22.47%\n",
      "stick:   \t7.76%\n",
      "hours:   \t5.52%\n",
      "days:   \t4.38%\n",
      "--------\n",
      "\n"
     ]
    }
   ],
   "source": [
    "info = text_generator.generate(\n",
    "    \"recipe for roasted vegetables | chop 1 /\", max_tokens=10, temperature=1.0\n",
    ")\n",
    "\n",
    "print_probs(info, vocab)"
   ]
  },
  {
   "cell_type": "code",
   "execution_count": 10,
   "id": "e4b0bd3b",
   "metadata": {},
   "outputs": [
    {
     "name": "stdout",
     "output_type": "stream",
     "text": [
      "\n",
      "generated text:\n",
      "recipe for roasted vegetables | chop 1 / 2 cup\n",
      "\n",
      "\n",
      "PROMPT: recipe for roasted vegetables | chop 1 /\n",
      "2:   \t100.0%\n",
      "4:   \t0.0%\n",
      "3:   \t0.0%\n",
      "2cup:   \t0.0%\n",
      "1:   \t0.0%\n",
      "--------\n",
      "\n",
      "\n",
      "PROMPT: recipe for roasted vegetables | chop 1 / 2\n",
      "cup:   \t97.6%\n",
      "1:   \t2.38%\n",
      "stick:   \t0.01%\n",
      "hours:   \t0.0%\n",
      "days:   \t0.0%\n",
      "--------\n",
      "\n"
     ]
    }
   ],
   "source": [
    "info = text_generator.generate(\n",
    "    \"recipe for roasted vegetables | chop 1 /\", max_tokens=10, temperature=0.2\n",
    ")\n",
    "print_probs(info, vocab)"
   ]
  },
  {
   "cell_type": "code",
   "execution_count": 11,
   "id": "cdaa4ef5",
   "metadata": {},
   "outputs": [
    {
     "name": "stdout",
     "output_type": "stream",
     "text": [
      "\n",
      "generated text:\n",
      "recipe for chocolate ice cream | and\n",
      "\n",
      "\n",
      "PROMPT: recipe for chocolate ice cream |\n",
      "and:   \t99.99%\n",
      "sift:   \t0.01%\n",
      ",:   \t0.0%\n",
      "preaheat:   \t0.0%\n",
      "preheat:   \t0.0%\n",
      "--------\n",
      "\n"
     ]
    }
   ],
   "source": [
    "info = text_generator.generate(\n",
    "    \"recipe for chocolate ice cream |\", max_tokens=7, temperature=0.2\n",
    ")\n",
    "print_probs(info, vocab)"
   ]
  },
  {
   "cell_type": "code",
   "execution_count": null,
   "id": "a992cde3",
   "metadata": {},
   "outputs": [],
   "source": []
  }
 ],
 "metadata": {
  "kernelspec": {
   "display_name": "tfpython",
   "language": "python",
   "name": "python3"
  },
  "language_info": {
   "codemirror_mode": {
    "name": "ipython",
    "version": 3
   },
   "file_extension": ".py",
   "mimetype": "text/x-python",
   "name": "python",
   "nbconvert_exporter": "python",
   "pygments_lexer": "ipython3",
   "version": "3.11.5"
  }
 },
 "nbformat": 4,
 "nbformat_minor": 5
}
