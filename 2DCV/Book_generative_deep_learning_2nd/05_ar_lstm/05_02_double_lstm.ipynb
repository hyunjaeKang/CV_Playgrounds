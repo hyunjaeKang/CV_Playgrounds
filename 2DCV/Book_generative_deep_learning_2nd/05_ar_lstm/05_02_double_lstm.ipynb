{
 "cells": [
  {
   "cell_type": "markdown",
   "id": "6e4a9b0d",
   "metadata": {},
   "source": [
    "# Chap 5.2 LSTM\n",
    "\n",
    "----\n",
    "\n",
    "Conda env : [cv_playgrounds](../../../README.md#setup-a-conda-environment)\n",
    "\n",
    "----\n",
    "\n",
    "\n",
    "- Ref: https://github.com/davidADSP/Generative_Deep_Learning_2nd_Edition/tree/main/notebooks/05_autoregressive/01_lstm"
   ]
  },
  {
   "cell_type": "code",
   "execution_count": 1,
   "id": "9c05743b",
   "metadata": {},
   "outputs": [],
   "source": [
    "import numpy as np\n",
    "import json\n",
    "import re\n",
    "import string\n",
    "\n",
    "import tensorflow as tf\n",
    "from tensorflow.keras import layers, models, callbacks, losses\n",
    "\n",
    "import kagglehub\n",
    "import os"
   ]
  },
  {
   "cell_type": "markdown",
   "id": "b9930656",
   "metadata": {},
   "source": [
    "## 0.Parameters"
   ]
  },
  {
   "cell_type": "code",
   "execution_count": 2,
   "id": "9bfd0ac1",
   "metadata": {},
   "outputs": [],
   "source": [
    "VOCAB_SIZE = 10000\n",
    "MAX_LEN = 200\n",
    "EMBEDDING_DIM = 100\n",
    "N_UNITS = 128\n",
    "VALIDATION_SPLIT = 0.2\n",
    "SEED = 42\n",
    "LOAD_MODEL = False\n",
    "BATCH_SIZE = 32\n",
    "EPOCHS = 25"
   ]
  },
  {
   "cell_type": "markdown",
   "id": "bc45ddec",
   "metadata": {},
   "source": [
    "## 1. Load the data"
   ]
  },
  {
   "cell_type": "code",
   "execution_count": 3,
   "id": "e0e7b77c",
   "metadata": {},
   "outputs": [
    {
     "name": "stdout",
     "output_type": "stream",
     "text": [
      "data-path : /Users/hyunjae.k/.cache/kagglehub/datasets/hugodarwood/epirecipes/versions/2\n",
      "20111 recipes loaded\n",
      "10-th example : Recipe for Ham Persillade with Mustard Potato Salad and Mashed Peas  | Chop enough parsley leaves to measure 1 tablespoon; reserve. Chop remaining leaves and stems and simmer with broth and garlic in a small saucepan, covered, 5 minutes. Meanwhile, sprinkle gelatin over water in a medium bowl and let soften 1 minute. Strain broth through a fine-mesh sieve into bowl with gelatin and stir to dissolve. Season with salt and pepper. Set bowl in an ice bath and cool to room temperature, stirring. Toss ham with reserved parsley and divide among jars. Pour gelatin on top and chill until set, at least 1 hour. Whisk together mayonnaise, mustard, vinegar, 1/4 teaspoon salt, and 1/4 teaspoon pepper in a large bowl. Stir in celery, cornichons, and potatoes. Pulse peas with marjoram, oil, 1/2 teaspoon pepper, and 1/4 teaspoon salt in a food processor to a coarse mash. Layer peas, then potato salad, over ham.\n"
     ]
    }
   ],
   "source": [
    "# Download latest version\n",
    "data_path = kagglehub.dataset_download(\"hugodarwood/epirecipes\")\n",
    "json_fpath = os.path.join(data_path, \"full_format_recipes.json\")\n",
    "print(f\"data-path : {data_path}\")\n",
    "with open(json_fpath) as json_data:\n",
    "    recipe_data = json.load(json_data)\n",
    "\n",
    "# Filtering the data\n",
    "filtered_data = [\n",
    "    \"Recipe for \" + x[\"title\"] + \" | \" + \" \".join(x[\"directions\"])\n",
    "    for x in recipe_data\n",
    "    if \"title\" in x\n",
    "    and x[\"title\"] is not None\n",
    "    and \"directions\" in x\n",
    "    and x[\"directions\"] is not None\n",
    "]\n",
    "\n",
    "# Count the recipes\n",
    "n_recipes = len(filtered_data)\n",
    "print(f\"{n_recipes} recipes loaded\")\n",
    "\n",
    "example = filtered_data[9]\n",
    "print(f\"10-th example : {example}\")\n"
   ]
  },
  {
   "cell_type": "markdown",
   "id": "18699043",
   "metadata": {},
   "source": [
    "## 2. Tokenize the text data"
   ]
  },
  {
   "cell_type": "code",
   "execution_count": 4,
   "id": "bf406bc1",
   "metadata": {},
   "outputs": [
    {
     "name": "stdout",
     "output_type": "stream",
     "text": [
      "10-th example : Recipe for Ham Persillade with Mustard Potato Salad and Mashed Peas | Chop enough parsley leaves to measure 1 tablespoon ; reserve . Chop remaining leaves and stems and simmer with broth and garlic in a small saucepan , covered , 5 minutes . Meanwhile , sprinkle gelatin over water in a medium bowl and let soften 1 minute . Strain broth through a fine - mesh sieve into bowl with gelatin and stir to dissolve . Season with salt and pepper . Set bowl in an ice bath and cool to room temperature , stirring . Toss ham with reserved parsley and divide among jars . Pour gelatin on top and chill until set , at least 1 hour . Whisk together mayonnaise , mustard , vinegar , 1 / 4 teaspoon salt , and 1 / 4 teaspoon pepper in a large bowl . Stir in celery , cornichons , and potatoes . Pulse peas with marjoram , oil , 1 / 2 teaspoon pepper , and 1 / 4 teaspoon salt in a food processor to a coarse mash . Layer peas , then potato salad , over ham . \n"
     ]
    },
    {
     "name": "stderr",
     "output_type": "stream",
     "text": [
      "2025-05-07 17:53:03.473270: I metal_plugin/src/device/metal_device.cc:1154] Metal device set to: Apple M2 Max\n",
      "2025-05-07 17:53:03.473298: I metal_plugin/src/device/metal_device.cc:296] systemMemory: 64.00 GB\n",
      "2025-05-07 17:53:03.473303: I metal_plugin/src/device/metal_device.cc:313] maxCacheSize: 24.00 GB\n",
      "2025-05-07 17:53:03.473338: I tensorflow/core/common_runtime/pluggable_device/pluggable_device_factory.cc:306] Could not identify NUMA node of platform GPU ID 0, defaulting to 0. Your kernel may not have been built with NUMA support.\n",
      "2025-05-07 17:53:03.473357: I tensorflow/core/common_runtime/pluggable_device/pluggable_device_factory.cc:272] Created TensorFlow device (/job:localhost/replica:0/task:0/device:GPU:0 with 0 MB memory) -> physical PluggableDevice (device: 0, name: METAL, pci bus id: <undefined>)\n",
      "2025-05-07 17:53:03.624595: I tensorflow/core/grappler/optimizers/custom_graph_optimizer_registry.cc:117] Plugin optimizer for device_type GPU is enabled.\n"
     ]
    },
    {
     "name": "stdout",
     "output_type": "stream",
     "text": [
      "0: \n",
      "1: [UNK]\n",
      "2: .\n",
      "3: ,\n",
      "4: and\n",
      "5: to\n",
      "6: in\n",
      "7: the\n",
      "8: with\n",
      "9: a\n",
      "(201,)\n",
      "[  26   16  557    1    8  298  335  189    4 1054  494   27  332  228\n",
      "  235  262    5  594   11  133   22  311    2  332   45  262    4  671\n",
      "    4   70    8  171    4   81    6    9   65   80    3  121    3   59\n",
      "   12    2  299    3   88  650   20   39    6    9   29   21    4   67\n",
      "  529   11  164    2  320  171  102    9  374   13  643  306   25   21\n",
      "    8  650    4   42    5  931    2   63    8   24    4   33    2  114\n",
      "   21    6  178  181 1245    4   60    5  140  112    3   48    2  117\n",
      "  557    8  285  235    4  200  292  980    2  107  650   28   72    4\n",
      "  108   10  114    3   57  204   11  172    2   73  110  482    3  298\n",
      "    3  190    3   11   23   32  142   24    3    4   11   23   32  142\n",
      "   33    6    9   30   21    2   42    6  353    3 3224    3    4  150\n",
      "    2  437  494    8 1281    3   37    3   11   23   15  142   33    3\n",
      "    4   11   23   32  142   24    6    9  291  188    5    9  412  572\n",
      "    2  230  494    3   46  335  189    3   20  557    2    0    0    0\n",
      "    0    0    0    0    0]\n"
     ]
    }
   ],
   "source": [
    "# Pad the punctuation, to treat them as separate 'words'\n",
    "def pad_punctuation(s):\n",
    "    s = re.sub(f\"([{string.punctuation}])\", r\" \\1 \", s)\n",
    "    s = re.sub(\" +\", \" \", s)\n",
    "    return s\n",
    "\n",
    "\n",
    "text_data = [pad_punctuation(x) for x in filtered_data]\n",
    "\n",
    "# Display an example of a recipe\n",
    "example_data = text_data[9]\n",
    "print(f\"10-th example : {example_data}\")\n",
    "\n",
    "# Convert to a Tensorflow Dataset\n",
    "text_ds = (\n",
    "    tf.data.Dataset.from_tensor_slices(text_data)\n",
    "    .batch(BATCH_SIZE)\n",
    "    .shuffle(1000)\n",
    ")\n",
    "\n",
    "# Create a vectorisation layer\n",
    "vectorize_layer = layers.TextVectorization(\n",
    "    standardize=\"lower\",\n",
    "    max_tokens=VOCAB_SIZE,\n",
    "    output_mode=\"int\",\n",
    "    output_sequence_length=MAX_LEN + 1,\n",
    ")\n",
    "\n",
    "# Adapt the layer to the training set\n",
    "vectorize_layer.adapt(text_ds)\n",
    "vocab = vectorize_layer.get_vocabulary()\n",
    "\n",
    "# Display some token:word mappings\n",
    "for i, word in enumerate(vocab[:10]):\n",
    "    print(f\"{i}: {word}\")\n",
    "\n",
    "# Display the same example converted to ints\n",
    "example_tokenised = vectorize_layer(example_data)\n",
    "print(example_tokenised.shape)\n",
    "print(example_tokenised.numpy())"
   ]
  },
  {
   "cell_type": "markdown",
   "id": "ec5d2707",
   "metadata": {},
   "source": [
    "## 3. Create DataSet"
   ]
  },
  {
   "cell_type": "code",
   "execution_count": 5,
   "id": "56b259fc",
   "metadata": {},
   "outputs": [],
   "source": [
    "# Create the training set of recipes and the same text shifted by one word\n",
    "def prepare_inputs(text):\n",
    "    text = tf.expand_dims(text, -1)\n",
    "    tokenized_sentences = vectorize_layer(text)\n",
    "    x = tokenized_sentences[:, :-1]\n",
    "    y = tokenized_sentences[:, 1:]\n",
    "    return x, y\n",
    "\n",
    "train_ds = text_ds.map(prepare_inputs)"
   ]
  },
  {
   "cell_type": "markdown",
   "id": "7731245d",
   "metadata": {},
   "source": [
    "## 4. Build LSTM Model"
   ]
  },
  {
   "cell_type": "code",
   "execution_count": 6,
   "id": "547e78c2",
   "metadata": {},
   "outputs": [
    {
     "name": "stdout",
     "output_type": "stream",
     "text": [
      "Model: \"model\"\n",
      "_________________________________________________________________\n",
      " Layer (type)                Output Shape              Param #   \n",
      "=================================================================\n",
      " input_1 (InputLayer)        [(None, None)]            0         \n",
      "                                                                 \n",
      " embedding (Embedding)       (None, None, 100)         1000000   \n",
      "                                                                 \n",
      " lstm (LSTM)                 (None, None, 128)         117248    \n",
      "                                                                 \n",
      " lstm_1 (LSTM)               (None, None, 128)         131584    \n",
      "                                                                 \n",
      " dense (Dense)               (None, None, 10000)       1290000   \n",
      "                                                                 \n",
      "=================================================================\n",
      "Total params: 2538832 (9.68 MB)\n",
      "Trainable params: 2538832 (9.68 MB)\n",
      "Non-trainable params: 0 (0.00 Byte)\n",
      "_________________________________________________________________\n"
     ]
    }
   ],
   "source": [
    "inputs = layers.Input(shape=(None,), dtype=\"int32\")\n",
    "x = layers.Embedding(VOCAB_SIZE, EMBEDDING_DIM)(inputs)\n",
    "x = layers.LSTM(N_UNITS, return_sequences=True)(x)\n",
    "x = layers.LSTM(N_UNITS, return_sequences=True)(x)\n",
    "outputs = layers.Dense(VOCAB_SIZE, activation=\"softmax\")(x)\n",
    "lstm = models.Model(inputs, outputs)\n",
    "lstm.summary()\n",
    "\n",
    "if LOAD_MODEL:\n",
    "    # model.load_weights('./models/model')\n",
    "    lstm = models.load_model(\"./temp2/models/lstm\", compile=False)"
   ]
  },
  {
   "cell_type": "markdown",
   "id": "cb713cc5",
   "metadata": {},
   "source": [
    "## 5. Train the LSTM Model"
   ]
  },
  {
   "cell_type": "code",
   "execution_count": 7,
   "id": "80fa307a",
   "metadata": {},
   "outputs": [
    {
     "name": "stdout",
     "output_type": "stream",
     "text": [
      "Epoch 1/25\n",
      "629/629 [==============================] - ETA: 0s - loss: 4.6102\n",
      "generated text:\n",
      "recipe for cracker dressing leeks | preheat 2 chicken , sugar about rack , in . and discard around . and the visible to vinegar oil cake pour and . \n",
      "\n",
      "629/629 [==============================] - 36s 52ms/step - loss: 4.6102\n",
      "Epoch 2/25\n",
      "629/629 [==============================] - ETA: 0s - loss: 3.4678\n",
      "generated text:\n",
      "recipe for apricot , of chives and 9x9x2 red syrup | \n",
      "\n",
      "629/629 [==============================] - 28s 44ms/step - loss: 3.4678\n",
      "Epoch 3/25\n",
      "629/629 [==============================] - ETA: 0s - loss: 2.8116\n",
      "generated text:\n",
      "recipe for curried hon - asian squash ricotta | cook garlic in 5 tablespoons squash , water , scallions , the leaves , cornmeal , garlic , salt , and nuts in salt and salt and simmer until off 3 8 teaspoons brown and still caramelize , 3 8 minutes per slightly . line 8 the plum mussel , season with the salt and pepper . prepare a pan cake together , fingers , and bake in enough and celery for the tofu or shells , then but before top in half of the fat and 1 8 - long\n",
      "\n",
      "629/629 [==============================] - 33s 52ms/step - loss: 2.8116\n",
      "Epoch 4/25\n",
      "629/629 [==============================] - ETA: 0s - loss: 2.5093\n",
      "generated text:\n",
      "recipe for black [UNK] health with tomato plus cipolline cream | combine your sugar in heavy a saucepan stir in oil , shaking soda and salt and sauté until incorporated , tossing to stir to a more carrot is thick and eyed ribs , about the slaw consistency or the peppers , at meal . any sharp bulb egg from a rounded bowl . in a bowl from heat to cover the reserved mixture if melted and the dressing or batter into the bowl to develop . add oven , the onion , if the egg and sugar stick on\n",
      "\n",
      "629/629 [==============================] - 31s 50ms/step - loss: 2.5093\n",
      "Epoch 5/25\n",
      "629/629 [==============================] - ETA: 0s - loss: 2.3238\n",
      "generated text:\n",
      "recipe for porcini coriander bow and seed peeler | place orange chiles into batches , 1 1 minute . mix in remaining ingredients and season to taste with salt . wrap with vegetable oil , then continue garlic with remaining avocado remaining 6 ingredients . using broth , season with olive poblano and salt . cover \n",
      "\n",
      "629/629 [==============================] - 30s 47ms/step - loss: 2.3238\n",
      "Epoch 6/25\n",
      "628/629 [============================>.] - ETA: 0s - loss: 2.1909\n",
      "generated text:\n",
      "recipe for mocha - pistachio jelly ungreased rib smoothie | process before serving . pat shell dry , arranging bok choy and line 2 sides of 2 / 4 cup ends with olive shank . spray baking pan with mallet . bake until hot but not bottom of filling , about 1 hour . cook sausage in zucchini or flour , peaches , basil , ham , vinegar , and remaining 1 / 2 teaspoon salt . cook over moderately low heat , stirring , until mixture thickens and fluffy frequently and curds evaporates and crisp , about 5 minutes\n",
      "\n",
      "629/629 [==============================] - 32s 50ms/step - loss: 2.1913\n",
      "Epoch 7/25\n",
      "628/629 [============================>.] - ETA: 0s - loss: 2.0894\n",
      "generated text:\n",
      "recipe for grilled three goat - glazed peach meat curry | melt oil in a 5 - to 8 - quart heavy water in kettle of salted water in batches to a boil . remove from heat and add hot garlic and cook until smooth . \n",
      "\n",
      "629/629 [==============================] - 30s 47ms/step - loss: 2.0892\n",
      "Epoch 8/25\n",
      "629/629 [==============================] - ETA: 0s - loss: 2.0075\n",
      "generated text:\n",
      "recipe for no cake roast with fresh - pistachios salsa and cream | combine rhubarb , baking powder and pepper in heavy medium saucepan . bring to boil in large pot . combine to gentle let steep minutes . mix in pepper . season with salt and pepper . to cool dough on rolling pin . sprinkle chicken with 1 1 / 2 tablespoons - cucumber , onions , lemon steams , and pepper . melt butter in heavy medium skillet over medium heat 30 minutes , levering gently place on a plate . whisk 3 cups oil and lime\n",
      "\n",
      "629/629 [==============================] - 34s 53ms/step - loss: 2.0075\n",
      "Epoch 9/25\n",
      "628/629 [============================>.] - ETA: 0s - loss: 1.9409\n",
      "generated text:\n",
      "recipe for orange potato - rubbed eggplant chops | preheat oven to 400°f . line baking pans with foil and secure with parchment paper . using mortar , stir together flour , baking powder , baking powder , and cinnamon , and salt . add flour and vanilla . beat until almost just pale . add butter and stout , vanilla , scraping down sides , half and garlic and whisk until well blended . beat in a medium speed until just combined . whisk all ingredients in small bowl to blend . melt remaining 1 teaspoon flour in double\n",
      "\n",
      "629/629 [==============================] - 34s 54ms/step - loss: 1.9407\n",
      "Epoch 10/25\n",
      "629/629 [==============================] - ETA: 0s - loss: 1.8857\n",
      "generated text:\n",
      "recipe for chicken tomato | combine all ingredients in a food processor along well . stir in reserved sauce ingredients and whisk until combined well . toss asparagus with vinaigrette , parsley , scallion among 4 bowls , and season with salt and pepper . ( can be made 2 days ahead . chill it ( made hour ahead . \n",
      "\n",
      "629/629 [==============================] - 32s 50ms/step - loss: 1.8857\n",
      "Epoch 11/25\n",
      "629/629 [==============================] - ETA: 0s - loss: 1.8402\n",
      "generated text:\n",
      "recipe for pistachio streusel muffins | chop apples into a yolk , cover , and keep chilled . bring grits with a 2 1 / 2 to 3 cups , then top in heavy spice mill , then stir in potatoes and syrup . store airtight up to let sugar . serve with crème fraîche . \n",
      "\n",
      "629/629 [==============================] - 30s 48ms/step - loss: 1.8402\n",
      "Epoch 12/25\n",
      "629/629 [==============================] - ETA: 0s - loss: 1.8019\n",
      "generated text:\n",
      "recipe for potato - mozzarella only with fennel , sun - dried green vegetables | heat oven to prepare barbecue ( gas ) . spread the vegetables on work surface and heat over moderate heat , scraping up sides . you can be made 2 weeks . let cool . ) in a large bowl as stand , ideally toast , stir together a sour cream just until stiff , about 1 minute . roll out on top with boiled 1 / 4 cup extra logs . transfer tomato to a large bowl , cover by place . cover top\n",
      "\n",
      "629/629 [==============================] - 31s 50ms/step - loss: 1.8019\n",
      "Epoch 13/25\n",
      "629/629 [==============================] - ETA: 0s - loss: 1.7691\n",
      "generated text:\n",
      "recipe for linguine with green beans and ricotta | sprinkle carrots with lime zest , butter , and 3 tablespoons oil in medium pot ; scrape into batches , leaving to make sure skin on top of sticking ; turn vegetables . meanwhile snap bread slice , discarding anise and finely chop . prepare barbecue ( medium - high heat ) can be made 4 hours ahead . cover and refrigerate , pressing to lukewarm . ) arrange pluots , trimmings , and bell pepper in large bowl . add strip to beef ; reduce heat and melt until golden\n",
      "\n",
      "629/629 [==============================] - 31s 50ms/step - loss: 1.7691\n",
      "Epoch 14/25\n",
      "629/629 [==============================] - ETA: 0s - loss: 1.7410\n",
      "generated text:\n",
      "recipe for lobster with saffron sauce | bring 2 cups warm to simmer in large pot . whisk in broth in large bowl . discard stem and transfer peel to large bowl . add to broth ; process to coarse simmer , stirring occasionally , until reduced to generous day . add chicken broth , onion , bell lemon peel , and bay leaves . simmer until cranberries liquid evaporates , green tomatoes , about 3 minutes . season sauce to taste with salt and pepper . ( can be made 6 hours ahead . let stand at room temperature\n",
      "\n",
      "629/629 [==============================] - 31s 50ms/step - loss: 1.7410\n",
      "Epoch 15/25\n",
      "628/629 [============================>.] - ETA: 0s - loss: 1.7160\n",
      "generated text:\n",
      "recipe for garlicky salad with cognac and tahini - mint sauce | prepare a broiler pan and grill salmon on grill , shaking out excess occasionally , until onion is very brown , 6 - 7 minutes total . transfer to a plate , and let rise before lightly . line large platter with prosciutto . add bonito to egg , reserving marinade . serve pork chops warm with radish . \n",
      "\n",
      "629/629 [==============================] - 30s 48ms/step - loss: 1.7160\n",
      "Epoch 16/25\n",
      "628/629 [============================>.] - ETA: 0s - loss: 1.6932\n",
      "generated text:\n",
      "recipe for chicken rice with green onions , cilantro , , fennel , and olive oil | put oven rack in middle position and preheat oven to 300°f . grease garlic bread with butter . dust with some oil , then slice off inside and then broil about 12 to 10 minutes , then turn out large with kitchen shears , turning occasionally , until skins begin to fit . remove bottom of charcoal , or heat a 1 / 2 - to 2 - quart heavy saucepan oil . bring a heavy 5 - to 5 - quart heavy\n",
      "\n",
      "629/629 [==============================] - 31s 50ms/step - loss: 1.6933\n",
      "Epoch 17/25\n",
      "628/629 [============================>.] - ETA: 0s - loss: 1.6728\n",
      "generated text:\n",
      "recipe for scallop and pesto ice , bean cantaloupe , potato salad and greens with pine mushroom dressing | whisk oil , 1 tablespoon 4 tablespoons mayonnaise , and remaining 1 / 4 cup dressing in medium bowl . transfer to 3 - heated ovenproof bowl . place fish cucumbers , seam side down , on platter . sandwich lamb burger with parsley . arrange tortillas on one plate on top . roll foil on platter . chill at least 4 hours and up to 1 day . \n",
      "\n",
      "629/629 [==============================] - 31s 49ms/step - loss: 1.6727\n",
      "Epoch 18/25\n",
      "628/629 [============================>.] - ETA: 0s - loss: 1.6543\n",
      "generated text:\n",
      "recipe for fish soup | cook haricots verts according to package directions ( discard trimmings for open after 1 1 / 4 , before adding more water ) . season to taste with salt and pepper and bring to a boil , stirring . 3 . when the beans are doing 365°f and pilaf the squash , slice it together . season the lamb with salt . \n",
      "\n",
      "629/629 [==============================] - 30s 47ms/step - loss: 1.6540\n",
      "Epoch 19/25\n",
      "629/629 [==============================] - ETA: 0s - loss: 1.6363\n",
      "generated text:\n",
      "recipe for pasta with creamy dog mushroom sauce | combine 1 1 / 2 teaspoons lime juice , tomatoes , ground lemon peel , lemon juice , turmeric , butter and salt in medium bowl . season with salt . set aside . heat oil in glass sauté until crisp on both sides , about 5 minutes . using paper towel–lined plate , cut off peel and cut squash into bite - size pieces . add 2 tablespoons water , 1 cup of spice vinegar and next 5 ingredients to mix ; whisk to blend . season to taste with\n",
      "\n",
      "629/629 [==============================] - 31s 49ms/step - loss: 1.6363\n",
      "Epoch 20/25\n",
      "628/629 [============================>.] - ETA: 0s - loss: 1.6208\n",
      "generated text:\n",
      "recipe for ancho cream cheese rolls | preheat the oven to 400°f for approximately 1 / 4 - inch . combine swedish butter and next 3 ingredients in a mixing measuring cup . transfer the slices to a large of baking pan and generously on a large baking sheet . 3 . flatten each of the length of each fillet to measure 3 inches of log , place in a small bowl and place in a large heatproof bowl and add to jar . bring evenly to a boil over high heat . bring to a boil over high heat\n",
      "\n",
      "629/629 [==============================] - 31s 50ms/step - loss: 1.6205\n",
      "Epoch 21/25\n",
      "628/629 [============================>.] - ETA: 0s - loss: 1.6054\n",
      "generated text:\n",
      "recipe for asian chili - couscous | sprinkle yeast , dried bell pepper , sriracha , and cumin in a medium bowl . ( can be made 2 days ahead . cover separately and keep marinade pat chilled . place watercress on endive . ) cut in marinade and brush lightly with oil . spoon oil in thin slices , then roll excess . place in a baking sheet . working in batches , heat 1 tablespoon of sesame oil in a large saucepan over medium - high heat . add garlic - garlic mixture , crumbled sage , and\n",
      "\n",
      "629/629 [==============================] - 31s 49ms/step - loss: 1.6058\n",
      "Epoch 22/25\n",
      "628/629 [============================>.] - ETA: 0s - loss: 1.5916\n",
      "generated text:\n",
      "recipe for tuna with mint granita and celery chard greens | cut jerusalem cucumber into twenty 3 / 3 - inch pieces ( reserve ) . in a small bowl combine together all ingredients except hot flour . cover with plastic wrap and chill at least 4 hours . ( alternatively , put shallots in a bowl until you have a paste with coconut paste . ) with motor running , add 1 / 4 cup water , then canyon will mix under running water . in a shallow casserole , toss with a pinch of salt , pepper ,\n",
      "\n",
      "629/629 [==============================] - 31s 50ms/step - loss: 1.5917\n",
      "Epoch 23/25\n",
      "629/629 [==============================] - ETA: 0s - loss: 1.5787\n",
      "generated text:\n",
      "recipe for broiled salmon with lemon relish | mix first 4 ingredients in medium bowl to mix . mix in chicken . season with salt and pepper . mix in crabmeat and next 6 ingredients ; toss to coat . scatter tomatoes on work surface . brush each wrapper with crème fraîche , sprinkle bun fillets . bake until first to brush both sides with milk , turning , over 1 1 / 4 hours . cool slightly . strain sauce into pan ; discard bay . diagonally cut remaining excess bread into each fish . arrange threading scant 1\n",
      "\n",
      "629/629 [==============================] - 31s 49ms/step - loss: 1.5787\n",
      "Epoch 24/25\n",
      "629/629 [==============================] - ETA: 0s - loss: 1.5666\n",
      "generated text:\n",
      "recipe for baked salmon with vietnamese caper - cream cheese dressing | to make barbecue cherries , preheat oven to 375°f . and in 400°f , process the coals until they are softened . preheat the oven to 400°f . brush large nonstick skillet with clarified butter in a small flameproof nonstick baking sheet roll out over the eggs . top with the goat cheese and herbs . \n",
      "\n",
      "629/629 [==============================] - 30s 48ms/step - loss: 1.5666\n",
      "Epoch 25/25\n",
      "629/629 [==============================] - ETA: 0s - loss: 1.5552\n",
      "generated text:\n",
      "recipe for squash chutney | in a large bowl soak carrots with garlic , currants , 1 / 2 tablespoon oil , and 1 / 2 teaspoon salt butter ; sprinkle with salt . cook , stirring , 30 minutes , or until minutes . stir in croissants , zest , and 1 / 4 cup aleppo - wine syrup , then reduce heat to low . cover and let stand at room temperature until slightly thickened and handle , set aside . meanwhile , then place curly fennel , salt , and pepper in a food processor until combined\n",
      "\n",
      "629/629 [==============================] - 31s 49ms/step - loss: 1.5552\n",
      "INFO:tensorflow:Assets written to: ./temp2/models/lstm/assets\n"
     ]
    },
    {
     "name": "stderr",
     "output_type": "stream",
     "text": [
      "INFO:tensorflow:Assets written to: ./temp2/models/lstm/assets\n"
     ]
    }
   ],
   "source": [
    "loss_fn = losses.SparseCategoricalCrossentropy()\n",
    "lstm.compile(\"adam\", loss_fn)\n",
    "\n",
    "# Create a TextGenerator checkpoint\n",
    "class TextGenerator(callbacks.Callback):\n",
    "    def __init__(self, index_to_word, top_k=10):\n",
    "        self.index_to_word = index_to_word\n",
    "        self.word_to_index = {\n",
    "            word: index for index, word in enumerate(index_to_word)\n",
    "        }  # <1>\n",
    "\n",
    "    def sample_from(self, probs, temperature):  # <2>\n",
    "        probs = probs ** (1 / temperature)\n",
    "        probs = probs / np.sum(probs)\n",
    "        return np.random.choice(len(probs), p=probs), probs\n",
    "\n",
    "    def generate(self, start_prompt, max_tokens, temperature):\n",
    "        start_tokens = [\n",
    "            self.word_to_index.get(x, 1) for x in start_prompt.split()\n",
    "        ]  # <3>\n",
    "        sample_token = None\n",
    "        info = []\n",
    "        while len(start_tokens) < max_tokens and sample_token != 0:  # <4>\n",
    "            x = np.array([start_tokens])\n",
    "            y = self.model.predict(x, verbose=0)  # <5>\n",
    "            sample_token, probs = self.sample_from(y[0][-1], temperature)  # <6>\n",
    "            info.append({\"prompt\": start_prompt, \"word_probs\": probs})\n",
    "            start_tokens.append(sample_token)  # <7>\n",
    "            start_prompt = start_prompt + \" \" + self.index_to_word[sample_token]\n",
    "        print(f\"\\ngenerated text:\\n{start_prompt}\\n\")\n",
    "        return info\n",
    "\n",
    "    def on_epoch_end(self, epoch, logs=None):\n",
    "        self.generate(\"recipe for\", max_tokens=100, temperature=1.0)\n",
    "\n",
    "# Create a model save checkpoint\n",
    "model_checkpoint_callback = callbacks.ModelCheckpoint(\n",
    "    filepath=\"./temp2/checkpoint/checkpoint.ckpt\",\n",
    "    save_weights_only=True,\n",
    "    save_freq=\"epoch\",\n",
    "    verbose=0,\n",
    ")\n",
    "\n",
    "tensorboard_callback = callbacks.TensorBoard(log_dir=\"./temp2/logs\")\n",
    "\n",
    "# Tokenize starting prompt\n",
    "text_generator = TextGenerator(vocab)\n",
    "\n",
    "# train the LSTM model\n",
    "lstm.fit(\n",
    "    train_ds,\n",
    "    epochs=EPOCHS,\n",
    "    callbacks=[model_checkpoint_callback, tensorboard_callback, text_generator],\n",
    ")\n",
    "\n",
    "# Save the final model\n",
    "lstm.save(\"./temp2/models/lstm\")"
   ]
  },
  {
   "cell_type": "markdown",
   "id": "fada1687",
   "metadata": {},
   "source": [
    "## 6. Generate text"
   ]
  },
  {
   "cell_type": "code",
   "execution_count": 8,
   "id": "a18ff007",
   "metadata": {},
   "outputs": [],
   "source": [
    "def print_probs(info, vocab, top_k=5):\n",
    "    for i in info:\n",
    "        print(f\"\\nPROMPT: {i['prompt']}\")\n",
    "        word_probs = i[\"word_probs\"]\n",
    "        p_sorted = np.sort(word_probs)[::-1][:top_k]\n",
    "        i_sorted = np.argsort(word_probs)[::-1][:top_k]\n",
    "        for p, i in zip(p_sorted, i_sorted):\n",
    "            print(f\"{vocab[i]}:   \\t{np.round(100*p,2)}%\")\n",
    "        print(\"--------\\n\")"
   ]
  },
  {
   "cell_type": "code",
   "execution_count": 9,
   "id": "7edfe760",
   "metadata": {},
   "outputs": [
    {
     "name": "stdout",
     "output_type": "stream",
     "text": [
      "\n",
      "generated text:\n",
      "recipe for roasted vegetables | chop 1 / 4 cup\n",
      "\n",
      "\n",
      "PROMPT: recipe for roasted vegetables | chop 1 /\n",
      "4:   \t41.37%\n",
      "2:   \t38.65%\n",
      "3:   \t13.62%\n",
      "8:   \t4.31%\n",
      "1:   \t0.47%\n",
      "--------\n",
      "\n",
      "\n",
      "PROMPT: recipe for roasted vegetables | chop 1 / 4\n",
      "cup:   \t42.97%\n",
      "of:   \t28.52%\n",
      "inch:   \t9.86%\n",
      "pound:   \t3.96%\n",
      "-:   \t3.43%\n",
      "--------\n",
      "\n"
     ]
    }
   ],
   "source": [
    "info = text_generator.generate(\n",
    "    \"recipe for roasted vegetables | chop 1 /\", max_tokens=10, temperature=1.0\n",
    ")\n",
    "\n",
    "print_probs(info, vocab)"
   ]
  },
  {
   "cell_type": "code",
   "execution_count": 10,
   "id": "e4b0bd3b",
   "metadata": {},
   "outputs": [
    {
     "name": "stdout",
     "output_type": "stream",
     "text": [
      "\n",
      "generated text:\n",
      "recipe for roasted vegetables | chop 1 / 2 cup\n",
      "\n",
      "\n",
      "PROMPT: recipe for roasted vegetables | chop 1 /\n",
      "4:   \t58.3%\n",
      "2:   \t41.48%\n",
      "3:   \t0.23%\n",
      "8:   \t0.0%\n",
      "1:   \t0.0%\n",
      "--------\n",
      "\n",
      "\n",
      "PROMPT: recipe for roasted vegetables | chop 1 / 2\n",
      "cup:   \t99.83%\n",
      "of:   \t0.16%\n",
      "inch:   \t0.0%\n",
      "teaspoon:   \t0.0%\n",
      "\":   \t0.0%\n",
      "--------\n",
      "\n"
     ]
    }
   ],
   "source": [
    "info = text_generator.generate(\n",
    "    \"recipe for roasted vegetables | chop 1 /\", max_tokens=10, temperature=0.2\n",
    ")\n",
    "print_probs(info, vocab)"
   ]
  },
  {
   "cell_type": "code",
   "execution_count": 11,
   "id": "cdaa4ef5",
   "metadata": {},
   "outputs": [
    {
     "name": "stdout",
     "output_type": "stream",
     "text": [
      "\n",
      "generated text:\n",
      "recipe for chocolate ice cream | in\n",
      "\n",
      "\n",
      "PROMPT: recipe for chocolate ice cream |\n",
      "in:   \t94.82%\n",
      "combine:   \t4.34%\n",
      "bring:   \t0.47%\n",
      "stir:   \t0.24%\n",
      "cook:   \t0.05%\n",
      "--------\n",
      "\n"
     ]
    }
   ],
   "source": [
    "info = text_generator.generate(\n",
    "    \"recipe for chocolate ice cream |\", max_tokens=7, temperature=0.2\n",
    ")\n",
    "print_probs(info, vocab)"
   ]
  },
  {
   "cell_type": "code",
   "execution_count": null,
   "id": "a992cde3",
   "metadata": {},
   "outputs": [],
   "source": []
  }
 ],
 "metadata": {
  "kernelspec": {
   "display_name": "tfpython",
   "language": "python",
   "name": "python3"
  },
  "language_info": {
   "codemirror_mode": {
    "name": "ipython",
    "version": 3
   },
   "file_extension": ".py",
   "mimetype": "text/x-python",
   "name": "python",
   "nbconvert_exporter": "python",
   "pygments_lexer": "ipython3",
   "version": "3.11.5"
  }
 },
 "nbformat": 4,
 "nbformat_minor": 5
}
