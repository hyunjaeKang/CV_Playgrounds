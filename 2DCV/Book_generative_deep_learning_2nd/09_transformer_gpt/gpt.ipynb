{
 "cells": [
  {
   "cell_type": "markdown",
   "id": "407777e7",
   "metadata": {},
   "source": [
    "# Chap 9. GPT\n",
    "\n",
    "----\n",
    "\n",
    "Conda env : [cv_playgrounds](../../../README.md#setup-a-conda-environment)\n",
    "\n",
    "----\n"
   ]
  },
  {
   "cell_type": "code",
   "execution_count": 1,
   "id": "f6ff1a95",
   "metadata": {},
   "outputs": [],
   "source": [
    "import numpy as np\n",
    "import json\n",
    "import re\n",
    "import string\n",
    "from IPython.display import display, HTML\n",
    "\n",
    "import tensorflow as tf\n",
    "from tensorflow.keras import layers, models, losses, callbacks\n",
    "\n",
    "import kagglehub\n",
    "import os\n",
    "from pathlib import Path"
   ]
  },
  {
   "cell_type": "code",
   "execution_count": 2,
   "id": "9320482a",
   "metadata": {},
   "outputs": [
    {
     "name": "stdout",
     "output_type": "stream",
     "text": [
      "[PhysicalDevice(name='/physical_device:CPU:0', device_type='CPU'), PhysicalDevice(name='/physical_device:GPU:0', device_type='GPU')]\n"
     ]
    }
   ],
   "source": [
    "devices = tf.config.list_physical_devices()\n",
    "print(devices)"
   ]
  },
  {
   "cell_type": "markdown",
   "id": "ea238194",
   "metadata": {},
   "source": [
    "## 0.Parameters"
   ]
  },
  {
   "cell_type": "code",
   "execution_count": 3,
   "id": "5d239402",
   "metadata": {},
   "outputs": [],
   "source": [
    "\n",
    "VOCAB_SIZE = 10000\n",
    "MAX_LEN = 80\n",
    "EMBEDDING_DIM = 256\n",
    "KEY_DIM = 256\n",
    "N_HEADS = 2\n",
    "FEED_FORWARD_DIM = 256\n",
    "VALIDATION_SPLIT = 0.2\n",
    "SEED = 42\n",
    "LOAD_MODEL = False\n",
    "BATCH_SIZE = 4#32\n",
    "EPOCHS = 5"
   ]
  },
  {
   "cell_type": "markdown",
   "id": "1e33c38f",
   "metadata": {},
   "source": [
    "## 1. Data"
   ]
  },
  {
   "cell_type": "code",
   "execution_count": 4,
   "id": "90f19eb7",
   "metadata": {},
   "outputs": [
    {
     "name": "stdout",
     "output_type": "stream",
     "text": [
      "/Users/hyunjae.k/.cache/kagglehub/datasets/zynicide/wine-reviews/versions/4\n",
      "{'points': '87', 'title': 'Kirkland Signature 2011 Mountain Cuvée Cabernet Sauvignon (Napa Valley)', 'description': 'Soft, supple plum envelopes an oaky structure in this Cabernet, supported by 15% Merlot. Coffee and chocolate complete the picture, finishing strong at the end, resulting in a value-priced wine of attractive flavor and immediate accessibility.', 'taster_name': 'Virginie Boone', 'taster_twitter_handle': '@vboone', 'price': 19, 'designation': 'Mountain Cuvée', 'variety': 'Cabernet Sauvignon', 'region_1': 'Napa Valley', 'region_2': 'Napa', 'province': 'California', 'country': 'US', 'winery': 'Kirkland Signature'}\n",
      "129907 recipes loaded\n",
      "wine review : US : California : Pinot Noir : Oak and earth intermingle around robust aromas of wet forest floor in this vineyard-designated Pinot that hails from a high-elevation site. Small in production, it offers intense, full-bodied raspberry and blackberry steeped in smoky spice and smooth texture.\n"
     ]
    }
   ],
   "source": [
    "# Download latest version\n",
    "data_dir = kagglehub.dataset_download(\"zynicide/wine-reviews\")\n",
    "print(data_dir)\n",
    "\n",
    "# Load the full dataset\n",
    "data_path = os.path.join(data_dir, \"winemag-data-130k-v2.json\")\n",
    "with open(data_path) as json_data:\n",
    "    wine_data = json.load(json_data)\n",
    "\n",
    "print(wine_data[10])\n",
    "\n",
    "# Filter the dataset\n",
    "filtered_data = [\n",
    "    \"wine review : \"\n",
    "    + x[\"country\"]\n",
    "    + \" : \"\n",
    "    + x[\"province\"]\n",
    "    + \" : \"\n",
    "    + x[\"variety\"]\n",
    "    + \" : \"\n",
    "    + x[\"description\"]\n",
    "    for x in wine_data\n",
    "    if x[\"country\"] is not None\n",
    "    and x[\"province\"] is not None\n",
    "    and x[\"variety\"] is not None\n",
    "    and x[\"description\"] is not None\n",
    "]\n",
    "\n",
    "# Count the recipes\n",
    "n_wines = len(filtered_data)\n",
    "print(f\"{n_wines} recipes loaded\")\n",
    "\n",
    "example = filtered_data[25]\n",
    "print(example)"
   ]
  },
  {
   "cell_type": "markdown",
   "id": "098a673a",
   "metadata": {},
   "source": [
    "## 2. Tokenize the data"
   ]
  },
  {
   "cell_type": "code",
   "execution_count": 5,
   "id": "55e0f1ec",
   "metadata": {},
   "outputs": [
    {
     "name": "stdout",
     "output_type": "stream",
     "text": [
      "wine review : US : California : Pinot Noir : Oak and earth intermingle around robust aromas of wet forest floor in this vineyard - designated Pinot that hails from a high - elevation site . Small in production , it offers intense , full - bodied raspberry and blackberry steeped in smoky spice and smooth texture . \n",
      "\n",
      " ** Display some token:word mappings\n",
      "0: \n",
      "1: [UNK]\n",
      "2: and\n",
      "3: the\n",
      "4: wine\n",
      "5: a\n",
      "6: of\n",
      "7: review\n",
      "8: with\n",
      "9: this\n",
      "\n",
      " ** Display the same example converted to ints\n",
      "[   4    7   15   24   38   56   49    2  235 4131  443  624   21    6\n",
      "  487  489  657   13    9  136 2201   38   20 2471   27    5  215 2200\n",
      "  937  584   13  976   11   69  229   58   76   91    2   68 2619   13\n",
      "  192   43    2  119   71    0    0    0    0    0    0    0    0    0\n",
      "    0    0    0    0    0    0    0    0    0    0    0    0    0    0\n",
      "    0    0    0    0    0    0    0    0    0    0    0]\n"
     ]
    },
    {
     "name": "stderr",
     "output_type": "stream",
     "text": [
      "2025-05-12 22:53:58.067634: W tensorflow/core/framework/local_rendezvous.cc:404] Local rendezvous is aborting with status: OUT_OF_RANGE: End of sequence\n"
     ]
    }
   ],
   "source": [
    "# Pad the punctuation, to treat them as separate 'words'\n",
    "def pad_punctuation(s):\n",
    "    s = re.sub(f\"([{string.punctuation}, '\\n'])\", r\" \\1 \", s)\n",
    "    s = re.sub(\" +\", \" \", s)\n",
    "    return s\n",
    "\n",
    "\n",
    "text_data = [pad_punctuation(x) for x in filtered_data]\n",
    "\n",
    "# Display an example of a recipe\n",
    "example_data = text_data[25]\n",
    "print(example_data)\n",
    "\n",
    "# Convert to a Tensorflow Dataset\n",
    "text_ds = (\n",
    "    tf.data.Dataset.from_tensor_slices(text_data)\n",
    "    .batch(BATCH_SIZE)\n",
    "    .shuffle(1000)\n",
    ")\n",
    "\n",
    "# Create a vectorisation layer\n",
    "vectorize_layer = layers.TextVectorization(\n",
    "    # standardize=\"lower\",\n",
    "    standardize = \"lower_and_strip_punctuation\",\n",
    "    max_tokens=VOCAB_SIZE,\n",
    "    output_mode=\"int\",\n",
    "    output_sequence_length=MAX_LEN + 1,\n",
    ")\n",
    "\n",
    "# Adapt the layer to the training set\n",
    "vectorize_layer.adapt(text_ds)\n",
    "vocab = vectorize_layer.get_vocabulary()\n",
    "\n",
    "\n",
    "# Display some token:word mappings\n",
    "print(\"\\n ** Display some token:word mappings\")\n",
    "for i, word in enumerate(vocab[:10]):\n",
    "    print(f\"{i}: {word}\")\n",
    "\n",
    "\n",
    "# Display the same example converted to ints\n",
    "print(\"\\n ** Display the same example converted to ints\")\n",
    "example_tokenised = vectorize_layer(example_data)\n",
    "print(example_tokenised.numpy())\n"
   ]
  },
  {
   "cell_type": "markdown",
   "id": "7bcc41de",
   "metadata": {},
   "source": [
    "## 3. Training dataset"
   ]
  },
  {
   "cell_type": "code",
   "execution_count": 6,
   "id": "8116af22",
   "metadata": {},
   "outputs": [
    {
     "name": "stdout",
     "output_type": "stream",
     "text": [
      "\n",
      " -- Example of training dataset\n",
      "x :  tf.Tensor(\n",
      "[   4    7   37   59   59   57   19   22  316 7931 1280    6  120   36\n",
      " 2187    9    4    1    6   17    2 2560    0    0    0    0    0    0\n",
      "    0    0    0    0    0    0    0    0    0    0    0    0    0    0\n",
      "    0    0    0    0    0    0    0    0    0    0    0    0    0    0\n",
      "    0    0    0    0    0    0    0    0    0    0    0    0    0    0\n",
      "    0    0    0    0    0    0    0    0    0    0], shape=(80,), dtype=int64)\n",
      "y :  tf.Tensor(\n",
      "[   4    7   37   59   59   57   19   22    9    4   10  164    2  762\n",
      "  528    3   17  225 3122    3 1593  197    5  192  104  279   78    3\n",
      "   25   14 1033    5   52  302   78  463   11  107  673    5  218  330\n",
      "  841 2325    3   17    3   22   10 2362   94  958   40    1    2  567\n",
      "   40  194    0    0    0    0    0    0    0    0    0    0    0    0\n",
      "    0    0    0    0    0    0    0    0    0    0], shape=(80,), dtype=int64)\n"
     ]
    }
   ],
   "source": [
    "# Create the training set of recipes and the same text shifted by one word\n",
    "def prepare_inputs(text):\n",
    "    text = tf.expand_dims(text, -1)\n",
    "    tokenized_sentences = vectorize_layer(text)\n",
    "    x = tokenized_sentences[:, :-1]\n",
    "    y = tokenized_sentences[:, 1:]\n",
    "    return x, y\n",
    "\n",
    "\n",
    "train_ds = text_ds.map(prepare_inputs)\n",
    "\n",
    "example_input_output = train_ds.take(1).get_single_element()\n",
    "print(\"\\n -- Example of training dataset\")\n",
    "print(\"x : \", example_input_output[0][0])\n",
    "print(\"y : \", example_input_output[0][1])"
   ]
  },
  {
   "cell_type": "markdown",
   "id": "0bea3a4b",
   "metadata": {},
   "source": [
    "## "
   ]
  },
  {
   "cell_type": "markdown",
   "id": "a01761ca",
   "metadata": {},
   "source": [
    "## 4. Causal attention mask "
   ]
  },
  {
   "cell_type": "code",
   "execution_count": 7,
   "id": "54e59847",
   "metadata": {},
   "outputs": [
    {
     "data": {
      "text/plain": [
       "array([[1, 1, 1, 1, 1, 1, 1, 1, 1, 1],\n",
       "       [0, 1, 1, 1, 1, 1, 1, 1, 1, 1],\n",
       "       [0, 0, 1, 1, 1, 1, 1, 1, 1, 1],\n",
       "       [0, 0, 0, 1, 1, 1, 1, 1, 1, 1],\n",
       "       [0, 0, 0, 0, 1, 1, 1, 1, 1, 1],\n",
       "       [0, 0, 0, 0, 0, 1, 1, 1, 1, 1],\n",
       "       [0, 0, 0, 0, 0, 0, 1, 1, 1, 1],\n",
       "       [0, 0, 0, 0, 0, 0, 0, 1, 1, 1],\n",
       "       [0, 0, 0, 0, 0, 0, 0, 0, 1, 1],\n",
       "       [0, 0, 0, 0, 0, 0, 0, 0, 0, 1]], dtype=int32)"
      ]
     },
     "execution_count": 7,
     "metadata": {},
     "output_type": "execute_result"
    }
   ],
   "source": [
    "def causal_attention_mask(batch_size, n_dest, n_src, dtype):\n",
    "    i = tf.range(n_dest)[:, None]\n",
    "    j = tf.range(n_src)\n",
    "    m = i >= j - n_src + n_dest\n",
    "    mask = tf.cast(m, dtype)\n",
    "    mask = tf.reshape(mask, [1, n_dest, n_src])\n",
    "    mult = tf.concat(\n",
    "        [tf.expand_dims(batch_size, -1), tf.constant([1, 1], dtype=tf.int32)], 0\n",
    "    )\n",
    "    return tf.tile(mask, mult)\n",
    "\n",
    "\n",
    "np.transpose(causal_attention_mask(1, 10, 10, dtype=tf.int32)[0])"
   ]
  },
  {
   "cell_type": "markdown",
   "id": "454bf2c5",
   "metadata": {},
   "source": [
    "## 5. Transformer Block layer"
   ]
  },
  {
   "cell_type": "code",
   "execution_count": 8,
   "id": "1a6ba63d",
   "metadata": {},
   "outputs": [],
   "source": [
    "class TransformerBlock(layers.Layer):\n",
    "    def __init__(self, num_heads, key_dim, embed_dim, ff_dim, dropout_rate=0.1):\n",
    "        super(TransformerBlock, self).__init__()\n",
    "        self.num_heads = num_heads\n",
    "        self.key_dim = key_dim\n",
    "        self.embed_dim = embed_dim\n",
    "        self.ff_dim = ff_dim\n",
    "        self.dropout_rate = dropout_rate\n",
    "        self.attn = layers.MultiHeadAttention(\n",
    "            num_heads, key_dim, output_shape=embed_dim\n",
    "        )\n",
    "        self.dropout_1 = layers.Dropout(self.dropout_rate)\n",
    "        self.ln_1 = layers.LayerNormalization(epsilon=1e-6)\n",
    "        self.ffn_1 = layers.Dense(self.ff_dim, activation=\"relu\")\n",
    "        self.ffn_2 = layers.Dense(self.embed_dim)\n",
    "        self.dropout_2 = layers.Dropout(self.dropout_rate)\n",
    "        self.ln_2 = layers.LayerNormalization(epsilon=1e-6)\n",
    "\n",
    "    def call(self, inputs):\n",
    "        input_shape = tf.shape(inputs)\n",
    "        batch_size = input_shape[0]\n",
    "        seq_len = input_shape[1]\n",
    "        causal_mask = causal_attention_mask(\n",
    "            batch_size, seq_len, seq_len, tf.bool\n",
    "        )\n",
    "        attention_output, attention_scores = self.attn(\n",
    "            inputs,\n",
    "            inputs,\n",
    "            attention_mask=causal_mask,\n",
    "            return_attention_scores=True,\n",
    "        )\n",
    "        attention_output = self.dropout_1(attention_output)\n",
    "        out1 = self.ln_1(inputs + attention_output)\n",
    "        ffn_1 = self.ffn_1(out1)\n",
    "        ffn_2 = self.ffn_2(ffn_1)\n",
    "        ffn_output = self.dropout_2(ffn_2)\n",
    "        return (self.ln_2(out1 + ffn_output), attention_scores)\n",
    "\n",
    "    def get_config(self):\n",
    "        config = super().get_config()\n",
    "        config.update(\n",
    "            {\n",
    "                \"key_dim\": self.key_dim,\n",
    "                \"embed_dim\": self.embed_dim,\n",
    "                \"num_heads\": self.num_heads,\n",
    "                \"ff_dim\": self.ff_dim,\n",
    "                \"dropout_rate\": self.dropout_rate,\n",
    "            }\n",
    "        )\n",
    "        return config"
   ]
  },
  {
   "cell_type": "markdown",
   "id": "181eddd0",
   "metadata": {},
   "source": [
    "## 6. Tokenize and Position Embedding"
   ]
  },
  {
   "cell_type": "code",
   "execution_count": 9,
   "id": "e041252c",
   "metadata": {},
   "outputs": [],
   "source": [
    "class TokenAndPositionEmbedding(layers.Layer):\n",
    "    def __init__(self, max_len, vocab_size, embed_dim):\n",
    "        super(TokenAndPositionEmbedding, self).__init__()\n",
    "        self.max_len = max_len\n",
    "        self.vocab_size = vocab_size\n",
    "        self.embed_dim = embed_dim\n",
    "        self.token_emb = layers.Embedding(\n",
    "            input_dim=vocab_size, output_dim=embed_dim\n",
    "        )\n",
    "        self.pos_emb = layers.Embedding(input_dim=max_len, output_dim=embed_dim)\n",
    "\n",
    "    def call(self, x):\n",
    "        maxlen = tf.shape(x)[-1]\n",
    "        positions = tf.range(start=0, limit=maxlen, delta=1)\n",
    "        positions = self.pos_emb(positions)\n",
    "        x = self.token_emb(x)\n",
    "        return x + positions\n",
    "\n",
    "    def get_config(self):\n",
    "        config = super().get_config()\n",
    "        config.update(\n",
    "            {\n",
    "                \"max_len\": self.max_len,\n",
    "                \"vocab_size\": self.vocab_size,\n",
    "                \"embed_dim\": self.embed_dim,\n",
    "            }\n",
    "        )\n",
    "        return config"
   ]
  },
  {
   "cell_type": "markdown",
   "id": "fdb6425b",
   "metadata": {},
   "source": [
    "## 7. Transformer Model\n"
   ]
  },
  {
   "cell_type": "code",
   "execution_count": 10,
   "id": "3ed1343d",
   "metadata": {},
   "outputs": [
    {
     "data": {
      "text/html": [
       "<pre style=\"white-space:pre;overflow-x:auto;line-height:normal;font-family:Menlo,'DejaVu Sans Mono',consolas,'Courier New',monospace\"><span style=\"font-weight: bold\">Model: \"functional\"</span>\n",
       "</pre>\n"
      ],
      "text/plain": [
       "\u001b[1mModel: \"functional\"\u001b[0m\n"
      ]
     },
     "metadata": {},
     "output_type": "display_data"
    },
    {
     "data": {
      "text/html": [
       "<pre style=\"white-space:pre;overflow-x:auto;line-height:normal;font-family:Menlo,'DejaVu Sans Mono',consolas,'Courier New',monospace\">┏━━━━━━━━━━━━━━━━━━━━━━━━━━━━━━━━━┳━━━━━━━━━━━━━━━━━━━━━━━━┳━━━━━━━━━━━━━━━┓\n",
       "┃<span style=\"font-weight: bold\"> Layer (type)                    </span>┃<span style=\"font-weight: bold\"> Output Shape           </span>┃<span style=\"font-weight: bold\">       Param # </span>┃\n",
       "┡━━━━━━━━━━━━━━━━━━━━━━━━━━━━━━━━━╇━━━━━━━━━━━━━━━━━━━━━━━━╇━━━━━━━━━━━━━━━┩\n",
       "│ input_layer (<span style=\"color: #0087ff; text-decoration-color: #0087ff\">InputLayer</span>)        │ (<span style=\"color: #00d7ff; text-decoration-color: #00d7ff\">None</span>, <span style=\"color: #00d7ff; text-decoration-color: #00d7ff\">None</span>)           │             <span style=\"color: #00af00; text-decoration-color: #00af00\">0</span> │\n",
       "├─────────────────────────────────┼────────────────────────┼───────────────┤\n",
       "│ token_and_position_embedding    │ (<span style=\"color: #00d7ff; text-decoration-color: #00d7ff\">None</span>, <span style=\"color: #00d7ff; text-decoration-color: #00d7ff\">None</span>, <span style=\"color: #00af00; text-decoration-color: #00af00\">256</span>)      │     <span style=\"color: #00af00; text-decoration-color: #00af00\">2,580,480</span> │\n",
       "│ (<span style=\"color: #0087ff; text-decoration-color: #0087ff\">TokenAndPositionEmbedding</span>)     │                        │               │\n",
       "├─────────────────────────────────┼────────────────────────┼───────────────┤\n",
       "│ transformer_block               │ [(<span style=\"color: #00d7ff; text-decoration-color: #00d7ff\">None</span>, <span style=\"color: #00d7ff; text-decoration-color: #00d7ff\">None</span>, <span style=\"color: #00af00; text-decoration-color: #00af00\">256</span>),    │       <span style=\"color: #00af00; text-decoration-color: #00af00\">658,688</span> │\n",
       "│ (<span style=\"color: #0087ff; text-decoration-color: #0087ff\">TransformerBlock</span>)              │ (<span style=\"color: #00d7ff; text-decoration-color: #00d7ff\">None</span>, <span style=\"color: #00af00; text-decoration-color: #00af00\">2</span>, <span style=\"color: #00d7ff; text-decoration-color: #00d7ff\">None</span>, <span style=\"color: #00d7ff; text-decoration-color: #00d7ff\">None</span>)] │               │\n",
       "├─────────────────────────────────┼────────────────────────┼───────────────┤\n",
       "│ dense_2 (<span style=\"color: #0087ff; text-decoration-color: #0087ff\">Dense</span>)                 │ (<span style=\"color: #00d7ff; text-decoration-color: #00d7ff\">None</span>, <span style=\"color: #00d7ff; text-decoration-color: #00d7ff\">None</span>, <span style=\"color: #00af00; text-decoration-color: #00af00\">10000</span>)    │     <span style=\"color: #00af00; text-decoration-color: #00af00\">2,570,000</span> │\n",
       "└─────────────────────────────────┴────────────────────────┴───────────────┘\n",
       "</pre>\n"
      ],
      "text/plain": [
       "┏━━━━━━━━━━━━━━━━━━━━━━━━━━━━━━━━━┳━━━━━━━━━━━━━━━━━━━━━━━━┳━━━━━━━━━━━━━━━┓\n",
       "┃\u001b[1m \u001b[0m\u001b[1mLayer (type)                   \u001b[0m\u001b[1m \u001b[0m┃\u001b[1m \u001b[0m\u001b[1mOutput Shape          \u001b[0m\u001b[1m \u001b[0m┃\u001b[1m \u001b[0m\u001b[1m      Param #\u001b[0m\u001b[1m \u001b[0m┃\n",
       "┡━━━━━━━━━━━━━━━━━━━━━━━━━━━━━━━━━╇━━━━━━━━━━━━━━━━━━━━━━━━╇━━━━━━━━━━━━━━━┩\n",
       "│ input_layer (\u001b[38;5;33mInputLayer\u001b[0m)        │ (\u001b[38;5;45mNone\u001b[0m, \u001b[38;5;45mNone\u001b[0m)           │             \u001b[38;5;34m0\u001b[0m │\n",
       "├─────────────────────────────────┼────────────────────────┼───────────────┤\n",
       "│ token_and_position_embedding    │ (\u001b[38;5;45mNone\u001b[0m, \u001b[38;5;45mNone\u001b[0m, \u001b[38;5;34m256\u001b[0m)      │     \u001b[38;5;34m2,580,480\u001b[0m │\n",
       "│ (\u001b[38;5;33mTokenAndPositionEmbedding\u001b[0m)     │                        │               │\n",
       "├─────────────────────────────────┼────────────────────────┼───────────────┤\n",
       "│ transformer_block               │ [(\u001b[38;5;45mNone\u001b[0m, \u001b[38;5;45mNone\u001b[0m, \u001b[38;5;34m256\u001b[0m),    │       \u001b[38;5;34m658,688\u001b[0m │\n",
       "│ (\u001b[38;5;33mTransformerBlock\u001b[0m)              │ (\u001b[38;5;45mNone\u001b[0m, \u001b[38;5;34m2\u001b[0m, \u001b[38;5;45mNone\u001b[0m, \u001b[38;5;45mNone\u001b[0m)] │               │\n",
       "├─────────────────────────────────┼────────────────────────┼───────────────┤\n",
       "│ dense_2 (\u001b[38;5;33mDense\u001b[0m)                 │ (\u001b[38;5;45mNone\u001b[0m, \u001b[38;5;45mNone\u001b[0m, \u001b[38;5;34m10000\u001b[0m)    │     \u001b[38;5;34m2,570,000\u001b[0m │\n",
       "└─────────────────────────────────┴────────────────────────┴───────────────┘\n"
      ]
     },
     "metadata": {},
     "output_type": "display_data"
    },
    {
     "data": {
      "text/html": [
       "<pre style=\"white-space:pre;overflow-x:auto;line-height:normal;font-family:Menlo,'DejaVu Sans Mono',consolas,'Courier New',monospace\"><span style=\"font-weight: bold\"> Total params: </span><span style=\"color: #00af00; text-decoration-color: #00af00\">5,809,168</span> (22.16 MB)\n",
       "</pre>\n"
      ],
      "text/plain": [
       "\u001b[1m Total params: \u001b[0m\u001b[38;5;34m5,809,168\u001b[0m (22.16 MB)\n"
      ]
     },
     "metadata": {},
     "output_type": "display_data"
    },
    {
     "data": {
      "text/html": [
       "<pre style=\"white-space:pre;overflow-x:auto;line-height:normal;font-family:Menlo,'DejaVu Sans Mono',consolas,'Courier New',monospace\"><span style=\"font-weight: bold\"> Trainable params: </span><span style=\"color: #00af00; text-decoration-color: #00af00\">5,809,168</span> (22.16 MB)\n",
       "</pre>\n"
      ],
      "text/plain": [
       "\u001b[1m Trainable params: \u001b[0m\u001b[38;5;34m5,809,168\u001b[0m (22.16 MB)\n"
      ]
     },
     "metadata": {},
     "output_type": "display_data"
    },
    {
     "data": {
      "text/html": [
       "<pre style=\"white-space:pre;overflow-x:auto;line-height:normal;font-family:Menlo,'DejaVu Sans Mono',consolas,'Courier New',monospace\"><span style=\"font-weight: bold\"> Non-trainable params: </span><span style=\"color: #00af00; text-decoration-color: #00af00\">0</span> (0.00 B)\n",
       "</pre>\n"
      ],
      "text/plain": [
       "\u001b[1m Non-trainable params: \u001b[0m\u001b[38;5;34m0\u001b[0m (0.00 B)\n"
      ]
     },
     "metadata": {},
     "output_type": "display_data"
    }
   ],
   "source": [
    "inputs = layers.Input(shape=(None,), dtype=tf.int32)\n",
    "x = TokenAndPositionEmbedding(MAX_LEN, VOCAB_SIZE, EMBEDDING_DIM)(inputs)\n",
    "x, attention_scores = TransformerBlock(\n",
    "    N_HEADS, KEY_DIM, EMBEDDING_DIM, FEED_FORWARD_DIM\n",
    ")(x)\n",
    "outputs = layers.Dense(VOCAB_SIZE, activation=\"softmax\")(x)\n",
    "gpt = models.Model(inputs=inputs, outputs=[outputs, attention_scores])\n",
    "gpt.compile(\"adam\", loss=[losses.SparseCategoricalCrossentropy(), None])\n",
    "\n",
    "gpt.summary()\n",
    "\n",
    "if LOAD_MODEL:\n",
    "    # model.load_weights('./models/model')\n",
    "    gpt = models.load_model(\"./temp/models/gpt\", compile=True)"
   ]
  },
  {
   "cell_type": "markdown",
   "id": "349a5bfa",
   "metadata": {},
   "source": [
    "## 8.Train Transformer Model"
   ]
  },
  {
   "cell_type": "code",
   "execution_count": 11,
   "id": "b98ad8db",
   "metadata": {},
   "outputs": [],
   "source": [
    "# Create a TextGenerator checkpoint\n",
    "class TextGenerator(callbacks.Callback):\n",
    "    def __init__(self, index_to_word, top_k=10):\n",
    "        self.index_to_word = index_to_word\n",
    "        self.word_to_index = {\n",
    "            word: index for index, word in enumerate(index_to_word)\n",
    "        }\n",
    "\n",
    "    def sample_from(self, probs, temperature):\n",
    "        probs = probs ** (1 / temperature)\n",
    "        probs = probs / np.sum(probs)\n",
    "        return np.random.choice(len(probs), p=probs), probs\n",
    "\n",
    "    def generate(self, start_prompt, max_tokens, temperature):\n",
    "        start_tokens = [\n",
    "            self.word_to_index.get(x, 1) for x in start_prompt.split()\n",
    "        ]\n",
    "        sample_token = None\n",
    "        info = []\n",
    "        while len(start_tokens) < max_tokens and sample_token != 0:\n",
    "            x = np.array([start_tokens])\n",
    "            y, att = self.model.predict(x, verbose=0)\n",
    "            sample_token, probs = self.sample_from(y[0][-1], temperature)\n",
    "            info.append(\n",
    "                {\n",
    "                    \"prompt\": start_prompt,\n",
    "                    \"word_probs\": probs,\n",
    "                    \"atts\": att[0, :, -1, :],\n",
    "                }\n",
    "            )\n",
    "            start_tokens.append(sample_token)\n",
    "            start_prompt = start_prompt + \" \" + self.index_to_word[sample_token]\n",
    "        print(f\"\\ngenerated text:\\n{start_prompt}\\n\")\n",
    "        return info\n",
    "\n",
    "    def on_epoch_end(self, epoch, logs=None):\n",
    "        self.generate(\"wine review\", max_tokens=80, temperature=1.0)"
   ]
  },
  {
   "cell_type": "code",
   "execution_count": 12,
   "id": "4ea8652a",
   "metadata": {},
   "outputs": [
    {
     "name": "stdout",
     "output_type": "stream",
     "text": [
      "Epoch 1/5\n",
      "\u001b[1m32477/32477\u001b[0m \u001b[32m━━━━━━━━━━━━━━━━━━━━\u001b[0m\u001b[37m\u001b[0m \u001b[1m0s\u001b[0m 150ms/step - loss: 2.3420\n",
      "generated text:\n",
      "wine review us california zinfandel the opening of red currant and cranberry meet with brambly menthol ripe red licorice and shiitake mushrooms on the nose of this soft and forward wine the palate has soft silkiness and tannins and sage a ashy balance it s bold and quite tasty drink now through through 2012 \n",
      "\n",
      "\u001b[1m32477/32477\u001b[0m \u001b[32m━━━━━━━━━━━━━━━━━━━━\u001b[0m\u001b[37m\u001b[0m \u001b[1m4885s\u001b[0m 150ms/step - loss: 2.3419\n",
      "Epoch 2/5\n",
      "\u001b[1m32477/32477\u001b[0m \u001b[32m━━━━━━━━━━━━━━━━━━━━\u001b[0m\u001b[37m\u001b[0m \u001b[1m0s\u001b[0m 139ms/step - loss: 1.9857\n",
      "generated text:\n",
      "wine review portugal alentejano portuguese red aged in wood integrated spice and new wood aged blend from the wood grain and here is very dominating the tannin structure translate to the wine to the caramel fruit character although this comes from the wood gives a juicy midpalate drink from 2018 \n",
      "\n",
      "\u001b[1m32477/32477\u001b[0m \u001b[32m━━━━━━━━━━━━━━━━━━━━\u001b[0m\u001b[37m\u001b[0m \u001b[1m4510s\u001b[0m 139ms/step - loss: 1.9857\n",
      "Epoch 3/5\n",
      "\u001b[1m32477/32477\u001b[0m \u001b[32m━━━━━━━━━━━━━━━━━━━━\u001b[0m\u001b[37m\u001b[0m \u001b[1m0s\u001b[0m 139ms/step - loss: 1.9267\n",
      "generated text:\n",
      "wine review us california chardonnay the massive [UNK] bottling takes time in the glass to reveal pear and lime flavors along with honey fortunately there is a tough richness to the core of citrus fruit this young chardonnay is dry and stylish the allowing room for the knights valley drink up \n",
      "\n",
      "\u001b[1m32477/32477\u001b[0m \u001b[32m━━━━━━━━━━━━━━━━━━━━\u001b[0m\u001b[37m\u001b[0m \u001b[1m4526s\u001b[0m 139ms/step - loss: 1.9267\n",
      "Epoch 4/5\n",
      "\u001b[1m32477/32477\u001b[0m \u001b[32m━━━━━━━━━━━━━━━━━━━━\u001b[0m\u001b[37m\u001b[0m \u001b[1m0s\u001b[0m 139ms/step - loss: 1.8955\n",
      "generated text:\n",
      "wine review us new york riesling electric bursts of lemon tart grapefruit pie with a bristle of lime zest at first sip this lithe and sleek yet crisp red apple and tart dry in style it finishes long and fresh with concentrated flavors of lime acidity \n",
      "\n",
      "\u001b[1m32477/32477\u001b[0m \u001b[32m━━━━━━━━━━━━━━━━━━━━\u001b[0m\u001b[37m\u001b[0m \u001b[1m4524s\u001b[0m 139ms/step - loss: 1.8955\n",
      "Epoch 5/5\n",
      "\u001b[1m32477/32477\u001b[0m \u001b[32m━━━━━━━━━━━━━━━━━━━━\u001b[0m\u001b[37m\u001b[0m \u001b[1m0s\u001b[0m 139ms/step - loss: 1.8734\n",
      "generated text:\n",
      "wine review portugal dão portuguese red an attractive and ripe this red wine is soft simple and ripe with fragrant tannins pink tinta roriz it is fresh soft perfumed with caramel aromas small berry flavors dominate screwcap \n",
      "\n",
      "\u001b[1m32477/32477\u001b[0m \u001b[32m━━━━━━━━━━━━━━━━━━━━\u001b[0m\u001b[37m\u001b[0m \u001b[1m4513s\u001b[0m 139ms/step - loss: 1.8734\n"
     ]
    },
    {
     "name": "stderr",
     "output_type": "stream",
     "text": [
      "WARNING:absl:You are saving your model as an HDF5 file via `model.save()` or `keras.saving.save_model(model)`. This file format is considered legacy. We recommend using instead the native Keras format, e.g. `model.save('my_model.keras')` or `keras.saving.save_model(model, 'my_model.keras')`. \n"
     ]
    }
   ],
   "source": [
    "# Training\n",
    "# with tf.device('cpu:0'):\n",
    "\n",
    "# Create a model save checkpoint\n",
    "model_checkpoint_callback = callbacks.ModelCheckpoint(\n",
    "    filepath=\"./temp/checkpoint/checkpoint.weights.h5\",\n",
    "    save_weights_only=True,\n",
    "    save_freq=\"epoch\",\n",
    "    verbose=0,\n",
    ")\n",
    "\n",
    "tensorboard_callback = callbacks.TensorBoard(log_dir=\"./temp/logs\")\n",
    "\n",
    "# Tokenize starting prompt\n",
    "text_generator = TextGenerator(vocab)\n",
    "\n",
    "gpt.fit(\n",
    "    train_ds,\n",
    "    epochs=EPOCHS,\n",
    "    callbacks=[model_checkpoint_callback, tensorboard_callback, text_generator],\n",
    ")\n",
    "\n",
    "# Save the final model\n",
    "Path(\"./temp/models\").mkdir(exist_ok=True, parents=True)\n",
    "gpt.save(\"./temp/models/gpt.h5\")\n"
   ]
  },
  {
   "cell_type": "markdown",
   "id": "37a80b38",
   "metadata": {},
   "source": [
    "## 9. Generat text with the pre-trained Model"
   ]
  },
  {
   "cell_type": "code",
   "execution_count": 13,
   "id": "5b30f262",
   "metadata": {},
   "outputs": [],
   "source": [
    "def print_probs(info, vocab, top_k=5):\n",
    "    for i in info:\n",
    "        highlighted_text = []\n",
    "        for word, att_score in zip(\n",
    "            i[\"prompt\"].split(), np.mean(i[\"atts\"], axis=0)\n",
    "        ):\n",
    "            highlighted_text.append(\n",
    "                '<span style=\"background-color:rgba(135,206,250,'\n",
    "                + str(att_score / max(np.mean(i[\"atts\"], axis=0)))\n",
    "                + ');\">'\n",
    "                + word\n",
    "                + \"</span>\"\n",
    "            )\n",
    "        highlighted_text = \" \".join(highlighted_text)\n",
    "        display(HTML(highlighted_text))\n",
    "\n",
    "        word_probs = i[\"word_probs\"]\n",
    "        p_sorted = np.sort(word_probs)[::-1][:top_k]\n",
    "        i_sorted = np.argsort(word_probs)[::-1][:top_k]\n",
    "        for p, i in zip(p_sorted, i_sorted):\n",
    "            print(f\"{vocab[i]}:   \\t{np.round(100*p,2)}%\")\n",
    "        print(\"--------\\n\")"
   ]
  },
  {
   "cell_type": "code",
   "execution_count": 14,
   "id": "191d291c",
   "metadata": {},
   "outputs": [
    {
     "name": "stdout",
     "output_type": "stream",
     "text": [
      "\n",
      "generated text:\n",
      "wine review : us david [UNK] sources this bold wine the wine from eight different varieties which is aside the fresh and full of black cherry fruit flavors accented by fresh grass incense smoky charred wood the alcohol remains balanced and bold on the palate it but fully developed with moderate tannins it finishes with green notes and the label this is a uniquely world mace 2017–2019 \n",
      "\n"
     ]
    }
   ],
   "source": [
    "info = text_generator.generate(\n",
    "    \"wine review : us\", max_tokens=80, temperature=1.0\n",
    ")"
   ]
  },
  {
   "cell_type": "code",
   "execution_count": 15,
   "id": "4ecf3391",
   "metadata": {},
   "outputs": [
    {
     "name": "stdout",
     "output_type": "stream",
     "text": [
      "\n",
      "generated text:\n",
      "wine review : italy other white blend a blend of sauvignon blanc and sauvignon blanc with a touch of creaminess to balance the nose and flavors of apricot melon peach and papaya are cut by a clean finish \n",
      "\n"
     ]
    }
   ],
   "source": [
    "info = text_generator.generate(\n",
    "    \"wine review : italy\", max_tokens=80, temperature=0.5\n",
    ")"
   ]
  },
  {
   "cell_type": "code",
   "execution_count": 16,
   "id": "238428b4",
   "metadata": {},
   "outputs": [
    {
     "name": "stdout",
     "output_type": "stream",
     "text": [
      "\n",
      "generated text:\n",
      "wine review : germany riesling this is a serious and appealing wine that has a deep dark color and dense with thick layers of stone fruits and lime zest it s a solid wine with a long finish that s a gorgeous wine \n",
      "\n"
     ]
    },
    {
     "data": {
      "text/html": [
       "<span style=\"background-color:rgba(135,206,250,1.0);\">wine</span> <span style=\"background-color:rgba(135,206,250,0.8296327);\">review</span> <span style=\"background-color:rgba(135,206,250,0.24840905);\">:</span> <span style=\"background-color:rgba(135,206,250,0.04500513);\">germany</span>"
      ],
      "text/plain": [
       "<IPython.core.display.HTML object>"
      ]
     },
     "metadata": {},
     "output_type": "display_data"
    },
    {
     "name": "stdout",
     "output_type": "stream",
     "text": [
      "riesling:   \t66.23%\n",
      "cabernet:   \t9.14%\n",
      "pinot:   \t6.66%\n",
      "sparkling:   \t3.81%\n",
      "white:   \t3.27%\n",
      "--------\n",
      "\n"
     ]
    },
    {
     "data": {
      "text/html": [
       "<span style=\"background-color:rgba(135,206,250,1.0);\">wine</span> <span style=\"background-color:rgba(135,206,250,0.913967);\">review</span> <span style=\"background-color:rgba(135,206,250,0.28014523);\">:</span> <span style=\"background-color:rgba(135,206,250,0.14955838);\">germany</span> <span style=\"background-color:rgba(135,206,250,0.14286931);\">riesling</span>"
      ],
      "text/plain": [
       "<IPython.core.display.HTML object>"
      ]
     },
     "metadata": {},
     "output_type": "display_data"
    },
    {
     "name": "stdout",
     "output_type": "stream",
     "text": [
      "a:   \t71.81%\n",
      "[UNK]:   \t7.57%\n",
      "this:   \t7.38%\n",
      "the:   \t6.16%\n",
      "an:   \t1.38%\n",
      "--------\n",
      "\n"
     ]
    },
    {
     "data": {
      "text/html": [
       "<span style=\"background-color:rgba(135,206,250,1.0);\">wine</span> <span style=\"background-color:rgba(135,206,250,0.8578058);\">review</span> <span style=\"background-color:rgba(135,206,250,0.32493195);\">:</span> <span style=\"background-color:rgba(135,206,250,0.1724328);\">germany</span> <span style=\"background-color:rgba(135,206,250,0.19406663);\">riesling</span> <span style=\"background-color:rgba(135,206,250,0.15734246);\">this</span>"
      ],
      "text/plain": [
       "<IPython.core.display.HTML object>"
      ]
     },
     "metadata": {},
     "output_type": "display_data"
    },
    {
     "name": "stdout",
     "output_type": "stream",
     "text": [
      "is:   \t44.5%\n",
      "wine:   \t41.09%\n",
      "rich:   \t1.77%\n",
      "off:   \t1.7%\n",
      "riesling:   \t1.32%\n",
      "--------\n",
      "\n"
     ]
    },
    {
     "data": {
      "text/html": [
       "<span style=\"background-color:rgba(135,206,250,0.975994);\">wine</span> <span style=\"background-color:rgba(135,206,250,1.0);\">review</span> <span style=\"background-color:rgba(135,206,250,0.2315405);\">:</span> <span style=\"background-color:rgba(135,206,250,0.15326919);\">germany</span> <span style=\"background-color:rgba(135,206,250,0.11047308);\">riesling</span> <span style=\"background-color:rgba(135,206,250,0.22097489);\">this</span> <span style=\"background-color:rgba(135,206,250,0.08566787);\">is</span>"
      ],
      "text/plain": [
       "<IPython.core.display.HTML object>"
      ]
     },
     "metadata": {},
     "output_type": "display_data"
    },
    {
     "name": "stdout",
     "output_type": "stream",
     "text": [
      "a:   \t99.57%\n",
      "an:   \t0.37%\n",
      "the:   \t0.02%\n",
      "one:   \t0.02%\n",
      "[UNK]:   \t0.0%\n",
      "--------\n",
      "\n"
     ]
    },
    {
     "data": {
      "text/html": [
       "<span style=\"background-color:rgba(135,206,250,0.9307596);\">wine</span> <span style=\"background-color:rgba(135,206,250,1.0);\">review</span> <span style=\"background-color:rgba(135,206,250,0.29393813);\">:</span> <span style=\"background-color:rgba(135,206,250,0.14570867);\">germany</span> <span style=\"background-color:rgba(135,206,250,0.15531103);\">riesling</span> <span style=\"background-color:rgba(135,206,250,0.21773998);\">this</span> <span style=\"background-color:rgba(135,206,250,0.14393903);\">is</span> <span style=\"background-color:rgba(135,206,250,0.12328883);\">a</span>"
      ],
      "text/plain": [
       "<IPython.core.display.HTML object>"
      ]
     },
     "metadata": {},
     "output_type": "display_data"
    },
    {
     "name": "stdout",
     "output_type": "stream",
     "text": [
      "rich:   \t26.9%\n",
      "gorgeous:   \t20.93%\n",
      "ripe:   \t6.12%\n",
      "lovely:   \t5.18%\n",
      "fresh:   \t4.43%\n",
      "--------\n",
      "\n"
     ]
    },
    {
     "data": {
      "text/html": [
       "<span style=\"background-color:rgba(135,206,250,1.0);\">wine</span> <span style=\"background-color:rgba(135,206,250,0.9647701);\">review</span> <span style=\"background-color:rgba(135,206,250,0.230985);\">:</span> <span style=\"background-color:rgba(135,206,250,0.1650763);\">germany</span> <span style=\"background-color:rgba(135,206,250,0.1643428);\">riesling</span> <span style=\"background-color:rgba(135,206,250,0.22247007);\">this</span> <span style=\"background-color:rgba(135,206,250,0.191342);\">is</span> <span style=\"background-color:rgba(135,206,250,0.25920194);\">a</span> <span style=\"background-color:rgba(135,206,250,0.06739253);\">serious</span>"
      ],
      "text/plain": [
       "<IPython.core.display.HTML object>"
      ]
     },
     "metadata": {},
     "output_type": "display_data"
    },
    {
     "name": "stdout",
     "output_type": "stream",
     "text": [
      "and:   \t67.35%\n",
      "concentrated:   \t16.15%\n",
      "impressive:   \t4.73%\n",
      "wine:   \t2.24%\n",
      "complex:   \t1.59%\n",
      "--------\n",
      "\n"
     ]
    },
    {
     "data": {
      "text/html": [
       "<span style=\"background-color:rgba(135,206,250,0.9126497);\">wine</span> <span style=\"background-color:rgba(135,206,250,1.0);\">review</span> <span style=\"background-color:rgba(135,206,250,0.28520873);\">:</span> <span style=\"background-color:rgba(135,206,250,0.17093404);\">germany</span> <span style=\"background-color:rgba(135,206,250,0.25962314);\">riesling</span> <span style=\"background-color:rgba(135,206,250,0.22448522);\">this</span> <span style=\"background-color:rgba(135,206,250,0.19324368);\">is</span> <span style=\"background-color:rgba(135,206,250,0.2330549);\">a</span> <span style=\"background-color:rgba(135,206,250,0.5187546);\">serious</span> <span style=\"background-color:rgba(135,206,250,0.24309672);\">and</span>"
      ],
      "text/plain": [
       "<IPython.core.display.HTML object>"
      ]
     },
     "metadata": {},
     "output_type": "display_data"
    },
    {
     "name": "stdout",
     "output_type": "stream",
     "text": [
      "complex:   \t82.84%\n",
      "concentrated:   \t6.23%\n",
      "minerally:   \t3.83%\n",
      "elegant:   \t1.19%\n",
      "powerful:   \t0.8%\n",
      "--------\n",
      "\n"
     ]
    },
    {
     "data": {
      "text/html": [
       "<span style=\"background-color:rgba(135,206,250,0.8217662);\">wine</span> <span style=\"background-color:rgba(135,206,250,1.0);\">review</span> <span style=\"background-color:rgba(135,206,250,0.21938945);\">:</span> <span style=\"background-color:rgba(135,206,250,0.12639675);\">germany</span> <span style=\"background-color:rgba(135,206,250,0.23302127);\">riesling</span> <span style=\"background-color:rgba(135,206,250,0.26951015);\">this</span> <span style=\"background-color:rgba(135,206,250,0.21700463);\">is</span> <span style=\"background-color:rgba(135,206,250,0.25439236);\">a</span> <span style=\"background-color:rgba(135,206,250,0.17339034);\">serious</span> <span style=\"background-color:rgba(135,206,250,0.20852202);\">and</span> <span style=\"background-color:rgba(135,206,250,0.06192334);\">appealing</span>"
      ],
      "text/plain": [
       "<IPython.core.display.HTML object>"
      ]
     },
     "metadata": {},
     "output_type": "display_data"
    },
    {
     "name": "stdout",
     "output_type": "stream",
     "text": [
      "wine:   \t97.26%\n",
      "riesling:   \t1.92%\n",
      "example:   \t0.24%\n",
      "white:   \t0.12%\n",
      "style:   \t0.08%\n",
      "--------\n",
      "\n"
     ]
    },
    {
     "data": {
      "text/html": [
       "<span style=\"background-color:rgba(135,206,250,0.85532814);\">wine</span> <span style=\"background-color:rgba(135,206,250,1.0);\">review</span> <span style=\"background-color:rgba(135,206,250,0.20859838);\">:</span> <span style=\"background-color:rgba(135,206,250,0.10570131);\">germany</span> <span style=\"background-color:rgba(135,206,250,0.11051971);\">riesling</span> <span style=\"background-color:rgba(135,206,250,0.17239584);\">this</span> <span style=\"background-color:rgba(135,206,250,0.19912492);\">is</span> <span style=\"background-color:rgba(135,206,250,0.16187328);\">a</span> <span style=\"background-color:rgba(135,206,250,0.096214995);\">serious</span> <span style=\"background-color:rgba(135,206,250,0.13539137);\">and</span> <span style=\"background-color:rgba(135,206,250,0.1108838);\">appealing</span> <span style=\"background-color:rgba(135,206,250,0.21112938);\">wine</span>"
      ],
      "text/plain": [
       "<IPython.core.display.HTML object>"
      ]
     },
     "metadata": {},
     "output_type": "display_data"
    },
    {
     "name": "stdout",
     "output_type": "stream",
     "text": [
      "with:   \t77.86%\n",
      "that:   \t18.1%\n",
      "from:   \t1.87%\n",
      "it:   \t0.85%\n",
      "for:   \t0.33%\n",
      "--------\n",
      "\n"
     ]
    },
    {
     "data": {
      "text/html": [
       "<span style=\"background-color:rgba(135,206,250,0.99476814);\">wine</span> <span style=\"background-color:rgba(135,206,250,1.0);\">review</span> <span style=\"background-color:rgba(135,206,250,0.24126877);\">:</span> <span style=\"background-color:rgba(135,206,250,0.1037513);\">germany</span> <span style=\"background-color:rgba(135,206,250,0.07450675);\">riesling</span> <span style=\"background-color:rgba(135,206,250,0.09793677);\">this</span> <span style=\"background-color:rgba(135,206,250,0.06510934);\">is</span> <span style=\"background-color:rgba(135,206,250,0.14354485);\">a</span> <span style=\"background-color:rgba(135,206,250,0.14210491);\">serious</span> <span style=\"background-color:rgba(135,206,250,0.12878782);\">and</span> <span style=\"background-color:rgba(135,206,250,0.116530076);\">appealing</span> <span style=\"background-color:rgba(135,206,250,0.5743596);\">wine</span> <span style=\"background-color:rgba(135,206,250,0.06196326);\">that</span>"
      ],
      "text/plain": [
       "<IPython.core.display.HTML object>"
      ]
     },
     "metadata": {},
     "output_type": "display_data"
    },
    {
     "name": "stdout",
     "output_type": "stream",
     "text": [
      "has:   \t30.61%\n",
      "s:   \t27.68%\n",
      "offers:   \t18.44%\n",
      "is:   \t9.5%\n",
      "shows:   \t4.73%\n",
      "--------\n",
      "\n"
     ]
    },
    {
     "data": {
      "text/html": [
       "<span style=\"background-color:rgba(135,206,250,0.93850064);\">wine</span> <span style=\"background-color:rgba(135,206,250,1.0);\">review</span> <span style=\"background-color:rgba(135,206,250,0.26134452);\">:</span> <span style=\"background-color:rgba(135,206,250,0.15972605);\">germany</span> <span style=\"background-color:rgba(135,206,250,0.13454789);\">riesling</span> <span style=\"background-color:rgba(135,206,250,0.13735013);\">this</span> <span style=\"background-color:rgba(135,206,250,0.08051669);\">is</span> <span style=\"background-color:rgba(135,206,250,0.09032004);\">a</span> <span style=\"background-color:rgba(135,206,250,0.101355955);\">serious</span> <span style=\"background-color:rgba(135,206,250,0.08134383);\">and</span> <span style=\"background-color:rgba(135,206,250,0.08632836);\">appealing</span> <span style=\"background-color:rgba(135,206,250,0.19953868);\">wine</span> <span style=\"background-color:rgba(135,206,250,0.11738218);\">that</span> <span style=\"background-color:rgba(135,206,250,0.106033035);\">has</span>"
      ],
      "text/plain": [
       "<IPython.core.display.HTML object>"
      ]
     },
     "metadata": {},
     "output_type": "display_data"
    },
    {
     "name": "stdout",
     "output_type": "stream",
     "text": [
      "a:   \t94.05%\n",
      "plenty:   \t1.02%\n",
      "an:   \t0.71%\n",
      "intense:   \t0.43%\n",
      "layers:   \t0.37%\n",
      "--------\n",
      "\n"
     ]
    },
    {
     "data": {
      "text/html": [
       "<span style=\"background-color:rgba(135,206,250,0.9812355);\">wine</span> <span style=\"background-color:rgba(135,206,250,1.0);\">review</span> <span style=\"background-color:rgba(135,206,250,0.24945045);\">:</span> <span style=\"background-color:rgba(135,206,250,0.1519208);\">germany</span> <span style=\"background-color:rgba(135,206,250,0.18204066);\">riesling</span> <span style=\"background-color:rgba(135,206,250,0.1522372);\">this</span> <span style=\"background-color:rgba(135,206,250,0.07137893);\">is</span> <span style=\"background-color:rgba(135,206,250,0.069267936);\">a</span> <span style=\"background-color:rgba(135,206,250,0.11899945);\">serious</span> <span style=\"background-color:rgba(135,206,250,0.0844734);\">and</span> <span style=\"background-color:rgba(135,206,250,0.091671266);\">appealing</span> <span style=\"background-color:rgba(135,206,250,0.29290068);\">wine</span> <span style=\"background-color:rgba(135,206,250,0.12161579);\">that</span> <span style=\"background-color:rgba(135,206,250,0.38646963);\">has</span> <span style=\"background-color:rgba(135,206,250,0.19525413);\">a</span>"
      ],
      "text/plain": [
       "<IPython.core.display.HTML object>"
      ]
     },
     "metadata": {},
     "output_type": "display_data"
    },
    {
     "name": "stdout",
     "output_type": "stream",
     "text": [
      "deep:   \t11.54%\n",
      "rich:   \t9.18%\n",
      "touch:   \t7.42%\n",
      "mineral:   \t6.87%\n",
      "good:   \t6.4%\n",
      "--------\n",
      "\n"
     ]
    },
    {
     "data": {
      "text/html": [
       "<span style=\"background-color:rgba(135,206,250,1.0);\">wine</span> <span style=\"background-color:rgba(135,206,250,0.8812456);\">review</span> <span style=\"background-color:rgba(135,206,250,0.115826815);\">:</span> <span style=\"background-color:rgba(135,206,250,0.117663056);\">germany</span> <span style=\"background-color:rgba(135,206,250,0.18407342);\">riesling</span> <span style=\"background-color:rgba(135,206,250,0.06697633);\">this</span> <span style=\"background-color:rgba(135,206,250,0.06151677);\">is</span> <span style=\"background-color:rgba(135,206,250,0.056730613);\">a</span> <span style=\"background-color:rgba(135,206,250,0.0341806);\">serious</span> <span style=\"background-color:rgba(135,206,250,0.048220713);\">and</span> <span style=\"background-color:rgba(135,206,250,0.025288599);\">appealing</span> <span style=\"background-color:rgba(135,206,250,0.14621101);\">wine</span> <span style=\"background-color:rgba(135,206,250,0.071251735);\">that</span> <span style=\"background-color:rgba(135,206,250,0.18132082);\">has</span> <span style=\"background-color:rgba(135,206,250,0.21969241);\">a</span> <span style=\"background-color:rgba(135,206,250,0.046592712);\">deep</span>"
      ],
      "text/plain": [
       "<IPython.core.display.HTML object>"
      ]
     },
     "metadata": {},
     "output_type": "display_data"
    },
    {
     "name": "stdout",
     "output_type": "stream",
     "text": [
      "gold:   \t42.97%\n",
      "mineral:   \t39.81%\n",
      "color:   \t4.32%\n",
      "core:   \t3.46%\n",
      "concentrated:   \t1.99%\n",
      "--------\n",
      "\n"
     ]
    },
    {
     "data": {
      "text/html": [
       "<span style=\"background-color:rgba(135,206,250,1.0);\">wine</span> <span style=\"background-color:rgba(135,206,250,0.9852856);\">review</span> <span style=\"background-color:rgba(135,206,250,0.13227248);\">:</span> <span style=\"background-color:rgba(135,206,250,0.17087364);\">germany</span> <span style=\"background-color:rgba(135,206,250,0.23217936);\">riesling</span> <span style=\"background-color:rgba(135,206,250,0.08840388);\">this</span> <span style=\"background-color:rgba(135,206,250,0.0826465);\">is</span> <span style=\"background-color:rgba(135,206,250,0.06763788);\">a</span> <span style=\"background-color:rgba(135,206,250,0.029458525);\">serious</span> <span style=\"background-color:rgba(135,206,250,0.066708095);\">and</span> <span style=\"background-color:rgba(135,206,250,0.029826252);\">appealing</span> <span style=\"background-color:rgba(135,206,250,0.16664843);\">wine</span> <span style=\"background-color:rgba(135,206,250,0.05657512);\">that</span> <span style=\"background-color:rgba(135,206,250,0.16554095);\">has</span> <span style=\"background-color:rgba(135,206,250,0.26584405);\">a</span> <span style=\"background-color:rgba(135,206,250,0.16945367);\">deep</span> <span style=\"background-color:rgba(135,206,250,0.071270764);\">dark</span>"
      ],
      "text/plain": [
       "<IPython.core.display.HTML object>"
      ]
     },
     "metadata": {},
     "output_type": "display_data"
    },
    {
     "name": "stdout",
     "output_type": "stream",
     "text": [
      "color:   \t88.56%\n",
      "gold:   \t9.99%\n",
      "mineral:   \t0.96%\n",
      "golden:   \t0.11%\n",
      "ruby:   \t0.05%\n",
      "--------\n",
      "\n"
     ]
    },
    {
     "data": {
      "text/html": [
       "<span style=\"background-color:rgba(135,206,250,0.85369396);\">wine</span> <span style=\"background-color:rgba(135,206,250,1.0);\">review</span> <span style=\"background-color:rgba(135,206,250,0.15612687);\">:</span> <span style=\"background-color:rgba(135,206,250,0.070904374);\">germany</span> <span style=\"background-color:rgba(135,206,250,0.081633665);\">riesling</span> <span style=\"background-color:rgba(135,206,250,0.1331259);\">this</span> <span style=\"background-color:rgba(135,206,250,0.090299055);\">is</span> <span style=\"background-color:rgba(135,206,250,0.051588573);\">a</span> <span style=\"background-color:rgba(135,206,250,0.027284078);\">serious</span> <span style=\"background-color:rgba(135,206,250,0.058974326);\">and</span> <span style=\"background-color:rgba(135,206,250,0.018451976);\">appealing</span> <span style=\"background-color:rgba(135,206,250,0.14155506);\">wine</span> <span style=\"background-color:rgba(135,206,250,0.08485832);\">that</span> <span style=\"background-color:rgba(135,206,250,0.1757329);\">has</span> <span style=\"background-color:rgba(135,206,250,0.10481946);\">a</span> <span style=\"background-color:rgba(135,206,250,0.038059022);\">deep</span> <span style=\"background-color:rgba(135,206,250,0.06396565);\">dark</span> <span style=\"background-color:rgba(135,206,250,0.067529514);\">color</span>"
      ],
      "text/plain": [
       "<IPython.core.display.HTML object>"
      ]
     },
     "metadata": {},
     "output_type": "display_data"
    },
    {
     "name": "stdout",
     "output_type": "stream",
     "text": [
      "and:   \t91.2%\n",
      "with:   \t4.52%\n",
      "it:   \t3.1%\n",
      "to:   \t0.26%\n",
      "of:   \t0.26%\n",
      "--------\n",
      "\n"
     ]
    },
    {
     "data": {
      "text/html": [
       "<span style=\"background-color:rgba(135,206,250,0.9687549);\">wine</span> <span style=\"background-color:rgba(135,206,250,1.0);\">review</span> <span style=\"background-color:rgba(135,206,250,0.24511802);\">:</span> <span style=\"background-color:rgba(135,206,250,0.1840298);\">germany</span> <span style=\"background-color:rgba(135,206,250,0.28687167);\">riesling</span> <span style=\"background-color:rgba(135,206,250,0.15798005);\">this</span> <span style=\"background-color:rgba(135,206,250,0.085275434);\">is</span> <span style=\"background-color:rgba(135,206,250,0.077358015);\">a</span> <span style=\"background-color:rgba(135,206,250,0.12695882);\">serious</span> <span style=\"background-color:rgba(135,206,250,0.06529131);\">and</span> <span style=\"background-color:rgba(135,206,250,0.091246195);\">appealing</span> <span style=\"background-color:rgba(135,206,250,0.17102982);\">wine</span> <span style=\"background-color:rgba(135,206,250,0.10690493);\">that</span> <span style=\"background-color:rgba(135,206,250,0.16771705);\">has</span> <span style=\"background-color:rgba(135,206,250,0.16157314);\">a</span> <span style=\"background-color:rgba(135,206,250,0.2714177);\">deep</span> <span style=\"background-color:rgba(135,206,250,0.39785004);\">dark</span> <span style=\"background-color:rgba(135,206,250,0.78370315);\">color</span> <span style=\"background-color:rgba(135,206,250,0.23650691);\">and</span>"
      ],
      "text/plain": [
       "<IPython.core.display.HTML object>"
      ]
     },
     "metadata": {},
     "output_type": "display_data"
    },
    {
     "name": "stdout",
     "output_type": "stream",
     "text": [
      "concentrated:   \t37.09%\n",
      "intense:   \t8.68%\n",
      "dense:   \t7.41%\n",
      "rich:   \t7.23%\n",
      "spicy:   \t3.95%\n",
      "--------\n",
      "\n"
     ]
    },
    {
     "data": {
      "text/html": [
       "<span style=\"background-color:rgba(135,206,250,0.9306086);\">wine</span> <span style=\"background-color:rgba(135,206,250,1.0);\">review</span> <span style=\"background-color:rgba(135,206,250,0.17350094);\">:</span> <span style=\"background-color:rgba(135,206,250,0.12569392);\">germany</span> <span style=\"background-color:rgba(135,206,250,0.19923611);\">riesling</span> <span style=\"background-color:rgba(135,206,250,0.10156954);\">this</span> <span style=\"background-color:rgba(135,206,250,0.077029556);\">is</span> <span style=\"background-color:rgba(135,206,250,0.0598601);\">a</span> <span style=\"background-color:rgba(135,206,250,0.036776926);\">serious</span> <span style=\"background-color:rgba(135,206,250,0.050251212);\">and</span> <span style=\"background-color:rgba(135,206,250,0.05032381);\">appealing</span> <span style=\"background-color:rgba(135,206,250,0.13733149);\">wine</span> <span style=\"background-color:rgba(135,206,250,0.04207502);\">that</span> <span style=\"background-color:rgba(135,206,250,0.106069006);\">has</span> <span style=\"background-color:rgba(135,206,250,0.104059555);\">a</span> <span style=\"background-color:rgba(135,206,250,0.06028704);\">deep</span> <span style=\"background-color:rgba(135,206,250,0.04883739);\">dark</span> <span style=\"background-color:rgba(135,206,250,0.19705805);\">color</span> <span style=\"background-color:rgba(135,206,250,0.17469926);\">and</span> <span style=\"background-color:rgba(135,206,250,0.13483664);\">dense</span>"
      ],
      "text/plain": [
       "<IPython.core.display.HTML object>"
      ]
     },
     "metadata": {},
     "output_type": "display_data"
    },
    {
     "name": "stdout",
     "output_type": "stream",
     "text": [
      "and:   \t39.17%\n",
      "with:   \t17.56%\n",
      "in:   \t14.29%\n",
      "it:   \t8.18%\n",
      "aromas:   \t7.38%\n",
      "--------\n",
      "\n"
     ]
    },
    {
     "data": {
      "text/html": [
       "<span style=\"background-color:rgba(135,206,250,0.93771833);\">wine</span> <span style=\"background-color:rgba(135,206,250,1.0);\">review</span> <span style=\"background-color:rgba(135,206,250,0.25747028);\">:</span> <span style=\"background-color:rgba(135,206,250,0.13620701);\">germany</span> <span style=\"background-color:rgba(135,206,250,0.17660582);\">riesling</span> <span style=\"background-color:rgba(135,206,250,0.096231245);\">this</span> <span style=\"background-color:rgba(135,206,250,0.046311278);\">is</span> <span style=\"background-color:rgba(135,206,250,0.03902276);\">a</span> <span style=\"background-color:rgba(135,206,250,0.06753313);\">serious</span> <span style=\"background-color:rgba(135,206,250,0.041614283);\">and</span> <span style=\"background-color:rgba(135,206,250,0.058647294);\">appealing</span> <span style=\"background-color:rgba(135,206,250,0.09601801);\">wine</span> <span style=\"background-color:rgba(135,206,250,0.03982336);\">that</span> <span style=\"background-color:rgba(135,206,250,0.052335124);\">has</span> <span style=\"background-color:rgba(135,206,250,0.052683067);\">a</span> <span style=\"background-color:rgba(135,206,250,0.0677247);\">deep</span> <span style=\"background-color:rgba(135,206,250,0.10301952);\">dark</span> <span style=\"background-color:rgba(135,206,250,0.11709526);\">color</span> <span style=\"background-color:rgba(135,206,250,0.13078421);\">and</span> <span style=\"background-color:rgba(135,206,250,0.30446237);\">dense</span> <span style=\"background-color:rgba(135,206,250,0.15404397);\">with</span>"
      ],
      "text/plain": [
       "<IPython.core.display.HTML object>"
      ]
     },
     "metadata": {},
     "output_type": "display_data"
    },
    {
     "name": "stdout",
     "output_type": "stream",
     "text": [
      "a:   \t80.41%\n",
      "layers:   \t3.61%\n",
      "flavors:   \t2.52%\n",
      "hints:   \t2.1%\n",
      "aromas:   \t2.03%\n",
      "--------\n",
      "\n"
     ]
    },
    {
     "data": {
      "text/html": [
       "<span style=\"background-color:rgba(135,206,250,1.0);\">wine</span> <span style=\"background-color:rgba(135,206,250,0.9802837);\">review</span> <span style=\"background-color:rgba(135,206,250,0.2154117);\">:</span> <span style=\"background-color:rgba(135,206,250,0.07520698);\">germany</span> <span style=\"background-color:rgba(135,206,250,0.16125709);\">riesling</span> <span style=\"background-color:rgba(135,206,250,0.06445961);\">this</span> <span style=\"background-color:rgba(135,206,250,0.041206088);\">is</span> <span style=\"background-color:rgba(135,206,250,0.029797573);\">a</span> <span style=\"background-color:rgba(135,206,250,0.019569665);\">serious</span> <span style=\"background-color:rgba(135,206,250,0.025741942);\">and</span> <span style=\"background-color:rgba(135,206,250,0.022688663);\">appealing</span> <span style=\"background-color:rgba(135,206,250,0.075883426);\">wine</span> <span style=\"background-color:rgba(135,206,250,0.021114267);\">that</span> <span style=\"background-color:rgba(135,206,250,0.04636638);\">has</span> <span style=\"background-color:rgba(135,206,250,0.042684365);\">a</span> <span style=\"background-color:rgba(135,206,250,0.028805219);\">deep</span> <span style=\"background-color:rgba(135,206,250,0.021502497);\">dark</span> <span style=\"background-color:rgba(135,206,250,0.10478557);\">color</span> <span style=\"background-color:rgba(135,206,250,0.08374619);\">and</span> <span style=\"background-color:rgba(135,206,250,0.085066736);\">dense</span> <span style=\"background-color:rgba(135,206,250,0.2249385);\">with</span> <span style=\"background-color:rgba(135,206,250,0.062200386);\">thick</span>"
      ],
      "text/plain": [
       "<IPython.core.display.HTML object>"
      ]
     },
     "metadata": {},
     "output_type": "display_data"
    },
    {
     "name": "stdout",
     "output_type": "stream",
     "text": [
      "layers:   \t57.51%\n",
      "concentration:   \t12.07%\n",
      "tannins:   \t5.57%\n",
      "concentrated:   \t4.81%\n",
      "aromas:   \t4.8%\n",
      "--------\n",
      "\n"
     ]
    },
    {
     "data": {
      "text/html": [
       "<span style=\"background-color:rgba(135,206,250,0.9007992);\">wine</span> <span style=\"background-color:rgba(135,206,250,1.0);\">review</span> <span style=\"background-color:rgba(135,206,250,0.14997204);\">:</span> <span style=\"background-color:rgba(135,206,250,0.06934586);\">germany</span> <span style=\"background-color:rgba(135,206,250,0.08117016);\">riesling</span> <span style=\"background-color:rgba(135,206,250,0.07123559);\">this</span> <span style=\"background-color:rgba(135,206,250,0.022183094);\">is</span> <span style=\"background-color:rgba(135,206,250,0.018550249);\">a</span> <span style=\"background-color:rgba(135,206,250,0.012939438);\">serious</span> <span style=\"background-color:rgba(135,206,250,0.02343448);\">and</span> <span style=\"background-color:rgba(135,206,250,0.012126452);\">appealing</span> <span style=\"background-color:rgba(135,206,250,0.054399118);\">wine</span> <span style=\"background-color:rgba(135,206,250,0.025384998);\">that</span> <span style=\"background-color:rgba(135,206,250,0.040133957);\">has</span> <span style=\"background-color:rgba(135,206,250,0.020465903);\">a</span> <span style=\"background-color:rgba(135,206,250,0.013881297);\">deep</span> <span style=\"background-color:rgba(135,206,250,0.01313722);\">dark</span> <span style=\"background-color:rgba(135,206,250,0.039519623);\">color</span> <span style=\"background-color:rgba(135,206,250,0.042286426);\">and</span> <span style=\"background-color:rgba(135,206,250,0.031146258);\">dense</span> <span style=\"background-color:rgba(135,206,250,0.10992815);\">with</span> <span style=\"background-color:rgba(135,206,250,0.049888227);\">thick</span> <span style=\"background-color:rgba(135,206,250,0.025073117);\">layers</span>"
      ],
      "text/plain": [
       "<IPython.core.display.HTML object>"
      ]
     },
     "metadata": {},
     "output_type": "display_data"
    },
    {
     "name": "stdout",
     "output_type": "stream",
     "text": [
      "of:   \t100.0%\n",
      "and:   \t0.0%\n",
      "that:   \t0.0%\n",
      "it:   \t0.0%\n",
      "in:   \t0.0%\n",
      "--------\n",
      "\n"
     ]
    },
    {
     "data": {
      "text/html": [
       "<span style=\"background-color:rgba(135,206,250,1.0);\">wine</span> <span style=\"background-color:rgba(135,206,250,0.9361329);\">review</span> <span style=\"background-color:rgba(135,206,250,0.17396566);\">:</span> <span style=\"background-color:rgba(135,206,250,0.19714707);\">germany</span> <span style=\"background-color:rgba(135,206,250,0.26734522);\">riesling</span> <span style=\"background-color:rgba(135,206,250,0.10454789);\">this</span> <span style=\"background-color:rgba(135,206,250,0.04947204);\">is</span> <span style=\"background-color:rgba(135,206,250,0.04617547);\">a</span> <span style=\"background-color:rgba(135,206,250,0.063576914);\">serious</span> <span style=\"background-color:rgba(135,206,250,0.04915889);\">and</span> <span style=\"background-color:rgba(135,206,250,0.05439541);\">appealing</span> <span style=\"background-color:rgba(135,206,250,0.091984175);\">wine</span> <span style=\"background-color:rgba(135,206,250,0.04518412);\">that</span> <span style=\"background-color:rgba(135,206,250,0.06739979);\">has</span> <span style=\"background-color:rgba(135,206,250,0.053952195);\">a</span> <span style=\"background-color:rgba(135,206,250,0.06528724);\">deep</span> <span style=\"background-color:rgba(135,206,250,0.072201364);\">dark</span> <span style=\"background-color:rgba(135,206,250,0.11264531);\">color</span> <span style=\"background-color:rgba(135,206,250,0.08047124);\">and</span> <span style=\"background-color:rgba(135,206,250,0.13739023);\">dense</span> <span style=\"background-color:rgba(135,206,250,0.17810783);\">with</span> <span style=\"background-color:rgba(135,206,250,0.2770275);\">thick</span> <span style=\"background-color:rgba(135,206,250,0.39395708);\">layers</span> <span style=\"background-color:rgba(135,206,250,0.20399903);\">of</span>"
      ],
      "text/plain": [
       "<IPython.core.display.HTML object>"
      ]
     },
     "metadata": {},
     "output_type": "display_data"
    },
    {
     "name": "stdout",
     "output_type": "stream",
     "text": [
      "smoke:   \t25.93%\n",
      "black:   \t9.59%\n",
      "honey:   \t6.9%\n",
      "ripe:   \t5.94%\n",
      "apricot:   \t4.65%\n",
      "--------\n",
      "\n"
     ]
    },
    {
     "data": {
      "text/html": [
       "<span style=\"background-color:rgba(135,206,250,0.90734464);\">wine</span> <span style=\"background-color:rgba(135,206,250,1.0);\">review</span> <span style=\"background-color:rgba(135,206,250,0.13444792);\">:</span> <span style=\"background-color:rgba(135,206,250,0.06895994);\">germany</span> <span style=\"background-color:rgba(135,206,250,0.02683968);\">riesling</span> <span style=\"background-color:rgba(135,206,250,0.0641209);\">this</span> <span style=\"background-color:rgba(135,206,250,0.023986736);\">is</span> <span style=\"background-color:rgba(135,206,250,0.03138594);\">a</span> <span style=\"background-color:rgba(135,206,250,0.0130843995);\">serious</span> <span style=\"background-color:rgba(135,206,250,0.020370321);\">and</span> <span style=\"background-color:rgba(135,206,250,0.011498216);\">appealing</span> <span style=\"background-color:rgba(135,206,250,0.050854135);\">wine</span> <span style=\"background-color:rgba(135,206,250,0.021827627);\">that</span> <span style=\"background-color:rgba(135,206,250,0.042124797);\">has</span> <span style=\"background-color:rgba(135,206,250,0.045748618);\">a</span> <span style=\"background-color:rgba(135,206,250,0.02615949);\">deep</span> <span style=\"background-color:rgba(135,206,250,0.03149713);\">dark</span> <span style=\"background-color:rgba(135,206,250,0.039568957);\">color</span> <span style=\"background-color:rgba(135,206,250,0.05237127);\">and</span> <span style=\"background-color:rgba(135,206,250,0.06475954);\">dense</span> <span style=\"background-color:rgba(135,206,250,0.1088062);\">with</span> <span style=\"background-color:rgba(135,206,250,0.104555346);\">thick</span> <span style=\"background-color:rgba(135,206,250,0.15994383);\">layers</span> <span style=\"background-color:rgba(135,206,250,0.22141492);\">of</span> <span style=\"background-color:rgba(135,206,250,0.079745136);\">stone</span>"
      ],
      "text/plain": [
       "<IPython.core.display.HTML object>"
      ]
     },
     "metadata": {},
     "output_type": "display_data"
    },
    {
     "name": "stdout",
     "output_type": "stream",
     "text": [
      "fruit:   \t93.72%\n",
      "fruits:   \t5.85%\n",
      "and:   \t0.4%\n",
      "berry:   \t0.01%\n",
      "smoke:   \t0.01%\n",
      "--------\n",
      "\n"
     ]
    },
    {
     "data": {
      "text/html": [
       "<span style=\"background-color:rgba(135,206,250,0.81770957);\">wine</span> <span style=\"background-color:rgba(135,206,250,1.0);\">review</span> <span style=\"background-color:rgba(135,206,250,0.15098059);\">:</span> <span style=\"background-color:rgba(135,206,250,0.06506503);\">germany</span> <span style=\"background-color:rgba(135,206,250,0.09886934);\">riesling</span> <span style=\"background-color:rgba(135,206,250,0.11350524);\">this</span> <span style=\"background-color:rgba(135,206,250,0.05315682);\">is</span> <span style=\"background-color:rgba(135,206,250,0.032299273);\">a</span> <span style=\"background-color:rgba(135,206,250,0.020421691);\">serious</span> <span style=\"background-color:rgba(135,206,250,0.021274744);\">and</span> <span style=\"background-color:rgba(135,206,250,0.032248765);\">appealing</span> <span style=\"background-color:rgba(135,206,250,0.07413169);\">wine</span> <span style=\"background-color:rgba(135,206,250,0.030412044);\">that</span> <span style=\"background-color:rgba(135,206,250,0.07040457);\">has</span> <span style=\"background-color:rgba(135,206,250,0.03802428);\">a</span> <span style=\"background-color:rgba(135,206,250,0.028021658);\">deep</span> <span style=\"background-color:rgba(135,206,250,0.021026783);\">dark</span> <span style=\"background-color:rgba(135,206,250,0.038280528);\">color</span> <span style=\"background-color:rgba(135,206,250,0.03968226);\">and</span> <span style=\"background-color:rgba(135,206,250,0.034882937);\">dense</span> <span style=\"background-color:rgba(135,206,250,0.16646527);\">with</span> <span style=\"background-color:rgba(135,206,250,0.098887585);\">thick</span> <span style=\"background-color:rgba(135,206,250,0.12281259);\">layers</span> <span style=\"background-color:rgba(135,206,250,0.1862604);\">of</span> <span style=\"background-color:rgba(135,206,250,0.1157939);\">stone</span> <span style=\"background-color:rgba(135,206,250,0.11508941);\">fruits</span>"
      ],
      "text/plain": [
       "<IPython.core.display.HTML object>"
      ]
     },
     "metadata": {},
     "output_type": "display_data"
    },
    {
     "name": "stdout",
     "output_type": "stream",
     "text": [
      "and:   \t91.45%\n",
      "it:   \t2.81%\n",
      "apricot:   \t1.42%\n",
      "apricots:   \t1.4%\n",
      "that:   \t0.69%\n",
      "--------\n",
      "\n"
     ]
    },
    {
     "data": {
      "text/html": [
       "<span style=\"background-color:rgba(135,206,250,0.83939904);\">wine</span> <span style=\"background-color:rgba(135,206,250,1.0);\">review</span> <span style=\"background-color:rgba(135,206,250,0.21889924);\">:</span> <span style=\"background-color:rgba(135,206,250,0.1867327);\">germany</span> <span style=\"background-color:rgba(135,206,250,0.23197633);\">riesling</span> <span style=\"background-color:rgba(135,206,250,0.086844996);\">this</span> <span style=\"background-color:rgba(135,206,250,0.047729377);\">is</span> <span style=\"background-color:rgba(135,206,250,0.044964794);\">a</span> <span style=\"background-color:rgba(135,206,250,0.079723716);\">serious</span> <span style=\"background-color:rgba(135,206,250,0.034890953);\">and</span> <span style=\"background-color:rgba(135,206,250,0.05821996);\">appealing</span> <span style=\"background-color:rgba(135,206,250,0.07580831);\">wine</span> <span style=\"background-color:rgba(135,206,250,0.039740898);\">that</span> <span style=\"background-color:rgba(135,206,250,0.05334673);\">has</span> <span style=\"background-color:rgba(135,206,250,0.04864194);\">a</span> <span style=\"background-color:rgba(135,206,250,0.068376854);\">deep</span> <span style=\"background-color:rgba(135,206,250,0.072513334);\">dark</span> <span style=\"background-color:rgba(135,206,250,0.099729344);\">color</span> <span style=\"background-color:rgba(135,206,250,0.047678918);\">and</span> <span style=\"background-color:rgba(135,206,250,0.11000037);\">dense</span> <span style=\"background-color:rgba(135,206,250,0.100509584);\">with</span> <span style=\"background-color:rgba(135,206,250,0.20920303);\">thick</span> <span style=\"background-color:rgba(135,206,250,0.17254294);\">layers</span> <span style=\"background-color:rgba(135,206,250,0.2104277);\">of</span> <span style=\"background-color:rgba(135,206,250,0.36001202);\">stone</span> <span style=\"background-color:rgba(135,206,250,0.6226002);\">fruits</span> <span style=\"background-color:rgba(135,206,250,0.23656742);\">and</span>"
      ],
      "text/plain": [
       "<IPython.core.display.HTML object>"
      ]
     },
     "metadata": {},
     "output_type": "display_data"
    },
    {
     "name": "stdout",
     "output_type": "stream",
     "text": [
      "smoke:   \t15.06%\n",
      "honey:   \t12.68%\n",
      "lanolin:   \t6.64%\n",
      "apricots:   \t6.25%\n",
      "petrol:   \t6.23%\n",
      "--------\n",
      "\n"
     ]
    },
    {
     "data": {
      "text/html": [
       "<span style=\"background-color:rgba(135,206,250,0.84213233);\">wine</span> <span style=\"background-color:rgba(135,206,250,1.0);\">review</span> <span style=\"background-color:rgba(135,206,250,0.12426634);\">:</span> <span style=\"background-color:rgba(135,206,250,0.10691517);\">germany</span> <span style=\"background-color:rgba(135,206,250,0.06401899);\">riesling</span> <span style=\"background-color:rgba(135,206,250,0.05280888);\">this</span> <span style=\"background-color:rgba(135,206,250,0.026492633);\">is</span> <span style=\"background-color:rgba(135,206,250,0.031341136);\">a</span> <span style=\"background-color:rgba(135,206,250,0.023412554);\">serious</span> <span style=\"background-color:rgba(135,206,250,0.019749772);\">and</span> <span style=\"background-color:rgba(135,206,250,0.02008035);\">appealing</span> <span style=\"background-color:rgba(135,206,250,0.05837997);\">wine</span> <span style=\"background-color:rgba(135,206,250,0.017788952);\">that</span> <span style=\"background-color:rgba(135,206,250,0.031327065);\">has</span> <span style=\"background-color:rgba(135,206,250,0.044605106);\">a</span> <span style=\"background-color:rgba(135,206,250,0.020584194);\">deep</span> <span style=\"background-color:rgba(135,206,250,0.033918925);\">dark</span> <span style=\"background-color:rgba(135,206,250,0.033557266);\">color</span> <span style=\"background-color:rgba(135,206,250,0.027519437);\">and</span> <span style=\"background-color:rgba(135,206,250,0.029595364);\">dense</span> <span style=\"background-color:rgba(135,206,250,0.057658702);\">with</span> <span style=\"background-color:rgba(135,206,250,0.05888335);\">thick</span> <span style=\"background-color:rgba(135,206,250,0.051289037);\">layers</span> <span style=\"background-color:rgba(135,206,250,0.08679211);\">of</span> <span style=\"background-color:rgba(135,206,250,0.03565204);\">stone</span> <span style=\"background-color:rgba(135,206,250,0.16002482);\">fruits</span> <span style=\"background-color:rgba(135,206,250,0.18838656);\">and</span> <span style=\"background-color:rgba(135,206,250,0.048767544);\">lime</span>"
      ],
      "text/plain": [
       "<IPython.core.display.HTML object>"
      ]
     },
     "metadata": {},
     "output_type": "display_data"
    },
    {
     "name": "stdout",
     "output_type": "stream",
     "text": [
      "zest:   \t59.99%\n",
      "it:   \t22.59%\n",
      "acidity:   \t4.36%\n",
      "the:   \t3.06%\n",
      "juice:   \t1.84%\n",
      "--------\n",
      "\n"
     ]
    },
    {
     "data": {
      "text/html": [
       "<span style=\"background-color:rgba(135,206,250,0.73235995);\">wine</span> <span style=\"background-color:rgba(135,206,250,1.0);\">review</span> <span style=\"background-color:rgba(135,206,250,0.12817878);\">:</span> <span style=\"background-color:rgba(135,206,250,0.1281532);\">germany</span> <span style=\"background-color:rgba(135,206,250,0.09493226);\">riesling</span> <span style=\"background-color:rgba(135,206,250,0.106610514);\">this</span> <span style=\"background-color:rgba(135,206,250,0.058676876);\">is</span> <span style=\"background-color:rgba(135,206,250,0.042551186);\">a</span> <span style=\"background-color:rgba(135,206,250,0.020118399);\">serious</span> <span style=\"background-color:rgba(135,206,250,0.023073506);\">and</span> <span style=\"background-color:rgba(135,206,250,0.040355507);\">appealing</span> <span style=\"background-color:rgba(135,206,250,0.058393274);\">wine</span> <span style=\"background-color:rgba(135,206,250,0.03202617);\">that</span> <span style=\"background-color:rgba(135,206,250,0.07600349);\">has</span> <span style=\"background-color:rgba(135,206,250,0.043915037);\">a</span> <span style=\"background-color:rgba(135,206,250,0.018490609);\">deep</span> <span style=\"background-color:rgba(135,206,250,0.018293286);\">dark</span> <span style=\"background-color:rgba(135,206,250,0.041797165);\">color</span> <span style=\"background-color:rgba(135,206,250,0.037275873);\">and</span> <span style=\"background-color:rgba(135,206,250,0.03234783);\">dense</span> <span style=\"background-color:rgba(135,206,250,0.121053286);\">with</span> <span style=\"background-color:rgba(135,206,250,0.09772691);\">thick</span> <span style=\"background-color:rgba(135,206,250,0.08076388);\">layers</span> <span style=\"background-color:rgba(135,206,250,0.15156531);\">of</span> <span style=\"background-color:rgba(135,206,250,0.079763934);\">stone</span> <span style=\"background-color:rgba(135,206,250,0.21503967);\">fruits</span> <span style=\"background-color:rgba(135,206,250,0.34030247);\">and</span> <span style=\"background-color:rgba(135,206,250,0.1115898);\">lime</span> <span style=\"background-color:rgba(135,206,250,0.09204157);\">zest</span>"
      ],
      "text/plain": [
       "<IPython.core.display.HTML object>"
      ]
     },
     "metadata": {},
     "output_type": "display_data"
    },
    {
     "name": "stdout",
     "output_type": "stream",
     "text": [
      "it:   \t84.42%\n",
      "the:   \t12.17%\n",
      "on:   \t0.71%\n",
      "there:   \t0.62%\n",
      "that:   \t0.6%\n",
      "--------\n",
      "\n"
     ]
    },
    {
     "data": {
      "text/html": [
       "<span style=\"background-color:rgba(135,206,250,1.0);\">wine</span> <span style=\"background-color:rgba(135,206,250,0.99227226);\">review</span> <span style=\"background-color:rgba(135,206,250,0.29461002);\">:</span> <span style=\"background-color:rgba(135,206,250,0.14841376);\">germany</span> <span style=\"background-color:rgba(135,206,250,0.066483244);\">riesling</span> <span style=\"background-color:rgba(135,206,250,0.04967087);\">this</span> <span style=\"background-color:rgba(135,206,250,0.018467003);\">is</span> <span style=\"background-color:rgba(135,206,250,0.02917594);\">a</span> <span style=\"background-color:rgba(135,206,250,0.036726322);\">serious</span> <span style=\"background-color:rgba(135,206,250,0.022888267);\">and</span> <span style=\"background-color:rgba(135,206,250,0.023047948);\">appealing</span> <span style=\"background-color:rgba(135,206,250,0.051703803);\">wine</span> <span style=\"background-color:rgba(135,206,250,0.019532884);\">that</span> <span style=\"background-color:rgba(135,206,250,0.08965839);\">has</span> <span style=\"background-color:rgba(135,206,250,0.03168795);\">a</span> <span style=\"background-color:rgba(135,206,250,0.020140659);\">deep</span> <span style=\"background-color:rgba(135,206,250,0.017820077);\">dark</span> <span style=\"background-color:rgba(135,206,250,0.050038617);\">color</span> <span style=\"background-color:rgba(135,206,250,0.02748834);\">and</span> <span style=\"background-color:rgba(135,206,250,0.033900343);\">dense</span> <span style=\"background-color:rgba(135,206,250,0.06369957);\">with</span> <span style=\"background-color:rgba(135,206,250,0.08249842);\">thick</span> <span style=\"background-color:rgba(135,206,250,0.04431857);\">layers</span> <span style=\"background-color:rgba(135,206,250,0.057509493);\">of</span> <span style=\"background-color:rgba(135,206,250,0.05169949);\">stone</span> <span style=\"background-color:rgba(135,206,250,0.08402926);\">fruits</span> <span style=\"background-color:rgba(135,206,250,0.09897153);\">and</span> <span style=\"background-color:rgba(135,206,250,0.11922612);\">lime</span> <span style=\"background-color:rgba(135,206,250,0.06904445);\">zest</span> <span style=\"background-color:rgba(135,206,250,0.16821222);\">it</span>"
      ],
      "text/plain": [
       "<IPython.core.display.HTML object>"
      ]
     },
     "metadata": {},
     "output_type": "display_data"
    },
    {
     "name": "stdout",
     "output_type": "stream",
     "text": [
      "s:   \t72.7%\n",
      "has:   \t15.78%\n",
      "is:   \t8.21%\n",
      "offers:   \t1.22%\n",
      "finishes:   \t0.94%\n",
      "--------\n",
      "\n"
     ]
    },
    {
     "data": {
      "text/html": [
       "<span style=\"background-color:rgba(135,206,250,1.0);\">wine</span> <span style=\"background-color:rgba(135,206,250,0.9740465);\">review</span> <span style=\"background-color:rgba(135,206,250,0.17442289);\">:</span> <span style=\"background-color:rgba(135,206,250,0.13766624);\">germany</span> <span style=\"background-color:rgba(135,206,250,0.10663075);\">riesling</span> <span style=\"background-color:rgba(135,206,250,0.056618597);\">this</span> <span style=\"background-color:rgba(135,206,250,0.02851171);\">is</span> <span style=\"background-color:rgba(135,206,250,0.039663922);\">a</span> <span style=\"background-color:rgba(135,206,250,0.026675368);\">serious</span> <span style=\"background-color:rgba(135,206,250,0.023475345);\">and</span> <span style=\"background-color:rgba(135,206,250,0.027919324);\">appealing</span> <span style=\"background-color:rgba(135,206,250,0.0457106);\">wine</span> <span style=\"background-color:rgba(135,206,250,0.011534033);\">that</span> <span style=\"background-color:rgba(135,206,250,0.031055702);\">has</span> <span style=\"background-color:rgba(135,206,250,0.03308514);\">a</span> <span style=\"background-color:rgba(135,206,250,0.037974853);\">deep</span> <span style=\"background-color:rgba(135,206,250,0.020225357);\">dark</span> <span style=\"background-color:rgba(135,206,250,0.058633935);\">color</span> <span style=\"background-color:rgba(135,206,250,0.028950864);\">and</span> <span style=\"background-color:rgba(135,206,250,0.03478271);\">dense</span> <span style=\"background-color:rgba(135,206,250,0.042126372);\">with</span> <span style=\"background-color:rgba(135,206,250,0.034957774);\">thick</span> <span style=\"background-color:rgba(135,206,250,0.051890224);\">layers</span> <span style=\"background-color:rgba(135,206,250,0.053236455);\">of</span> <span style=\"background-color:rgba(135,206,250,0.046538383);\">stone</span> <span style=\"background-color:rgba(135,206,250,0.07550305);\">fruits</span> <span style=\"background-color:rgba(135,206,250,0.06946722);\">and</span> <span style=\"background-color:rgba(135,206,250,0.09354905);\">lime</span> <span style=\"background-color:rgba(135,206,250,0.05959896);\">zest</span> <span style=\"background-color:rgba(135,206,250,0.29140463);\">it</span> <span style=\"background-color:rgba(135,206,250,0.13325422);\">s</span>"
      ],
      "text/plain": [
       "<IPython.core.display.HTML object>"
      ]
     },
     "metadata": {},
     "output_type": "display_data"
    },
    {
     "name": "stdout",
     "output_type": "stream",
     "text": [
      "a:   \t92.28%\n",
      "full:   \t1.13%\n",
      "medium:   \t0.88%\n",
      "concentrated:   \t0.68%\n",
      "dry:   \t0.67%\n",
      "--------\n",
      "\n"
     ]
    },
    {
     "data": {
      "text/html": [
       "<span style=\"background-color:rgba(135,206,250,0.95414263);\">wine</span> <span style=\"background-color:rgba(135,206,250,1.0);\">review</span> <span style=\"background-color:rgba(135,206,250,0.20808475);\">:</span> <span style=\"background-color:rgba(135,206,250,0.15231457);\">germany</span> <span style=\"background-color:rgba(135,206,250,0.13833663);\">riesling</span> <span style=\"background-color:rgba(135,206,250,0.062835805);\">this</span> <span style=\"background-color:rgba(135,206,250,0.020536723);\">is</span> <span style=\"background-color:rgba(135,206,250,0.02492835);\">a</span> <span style=\"background-color:rgba(135,206,250,0.04668069);\">serious</span> <span style=\"background-color:rgba(135,206,250,0.023896405);\">and</span> <span style=\"background-color:rgba(135,206,250,0.0391748);\">appealing</span> <span style=\"background-color:rgba(135,206,250,0.056680843);\">wine</span> <span style=\"background-color:rgba(135,206,250,0.019852677);\">that</span> <span style=\"background-color:rgba(135,206,250,0.03415887);\">has</span> <span style=\"background-color:rgba(135,206,250,0.021365764);\">a</span> <span style=\"background-color:rgba(135,206,250,0.04298067);\">deep</span> <span style=\"background-color:rgba(135,206,250,0.023644531);\">dark</span> <span style=\"background-color:rgba(135,206,250,0.05150822);\">color</span> <span style=\"background-color:rgba(135,206,250,0.023391401);\">and</span> <span style=\"background-color:rgba(135,206,250,0.055131428);\">dense</span> <span style=\"background-color:rgba(135,206,250,0.039809406);\">with</span> <span style=\"background-color:rgba(135,206,250,0.082999356);\">thick</span> <span style=\"background-color:rgba(135,206,250,0.0466243);\">layers</span> <span style=\"background-color:rgba(135,206,250,0.048321877);\">of</span> <span style=\"background-color:rgba(135,206,250,0.05004648);\">stone</span> <span style=\"background-color:rgba(135,206,250,0.09257693);\">fruits</span> <span style=\"background-color:rgba(135,206,250,0.065775424);\">and</span> <span style=\"background-color:rgba(135,206,250,0.120461516);\">lime</span> <span style=\"background-color:rgba(135,206,250,0.05196832);\">zest</span> <span style=\"background-color:rgba(135,206,250,0.20107047);\">it</span> <span style=\"background-color:rgba(135,206,250,0.31022453);\">s</span> <span style=\"background-color:rgba(135,206,250,0.22291408);\">a</span>"
      ],
      "text/plain": [
       "<IPython.core.display.HTML object>"
      ]
     },
     "metadata": {},
     "output_type": "display_data"
    },
    {
     "name": "stdout",
     "output_type": "stream",
     "text": [
      "big:   \t18.99%\n",
      "concentrated:   \t9.52%\n",
      "good:   \t6.09%\n",
      "fine:   \t6.01%\n",
      "gorgeous:   \t5.83%\n",
      "--------\n",
      "\n"
     ]
    },
    {
     "data": {
      "text/html": [
       "<span style=\"background-color:rgba(135,206,250,1.0);\">wine</span> <span style=\"background-color:rgba(135,206,250,0.90717554);\">review</span> <span style=\"background-color:rgba(135,206,250,0.14795722);\">:</span> <span style=\"background-color:rgba(135,206,250,0.14141844);\">germany</span> <span style=\"background-color:rgba(135,206,250,0.14941669);\">riesling</span> <span style=\"background-color:rgba(135,206,250,0.045314826);\">this</span> <span style=\"background-color:rgba(135,206,250,0.035638552);\">is</span> <span style=\"background-color:rgba(135,206,250,0.023487732);\">a</span> <span style=\"background-color:rgba(135,206,250,0.014158003);\">serious</span> <span style=\"background-color:rgba(135,206,250,0.019101225);\">and</span> <span style=\"background-color:rgba(135,206,250,0.023271909);\">appealing</span> <span style=\"background-color:rgba(135,206,250,0.047283452);\">wine</span> <span style=\"background-color:rgba(135,206,250,0.014662261);\">that</span> <span style=\"background-color:rgba(135,206,250,0.026021883);\">has</span> <span style=\"background-color:rgba(135,206,250,0.018870326);\">a</span> <span style=\"background-color:rgba(135,206,250,0.015623116);\">deep</span> <span style=\"background-color:rgba(135,206,250,0.012037565);\">dark</span> <span style=\"background-color:rgba(135,206,250,0.035945095);\">color</span> <span style=\"background-color:rgba(135,206,250,0.026578758);\">and</span> <span style=\"background-color:rgba(135,206,250,0.019765167);\">dense</span> <span style=\"background-color:rgba(135,206,250,0.031118233);\">with</span> <span style=\"background-color:rgba(135,206,250,0.044106353);\">thick</span> <span style=\"background-color:rgba(135,206,250,0.03215552);\">layers</span> <span style=\"background-color:rgba(135,206,250,0.029299319);\">of</span> <span style=\"background-color:rgba(135,206,250,0.035262212);\">stone</span> <span style=\"background-color:rgba(135,206,250,0.08699908);\">fruits</span> <span style=\"background-color:rgba(135,206,250,0.04742289);\">and</span> <span style=\"background-color:rgba(135,206,250,0.06544726);\">lime</span> <span style=\"background-color:rgba(135,206,250,0.049514294);\">zest</span> <span style=\"background-color:rgba(135,206,250,0.17559376);\">it</span> <span style=\"background-color:rgba(135,206,250,0.15985952);\">s</span> <span style=\"background-color:rgba(135,206,250,0.35304824);\">a</span> <span style=\"background-color:rgba(135,206,250,0.08339265);\">solid</span>"
      ],
      "text/plain": [
       "<IPython.core.display.HTML object>"
      ]
     },
     "metadata": {},
     "output_type": "display_data"
    },
    {
     "name": "stdout",
     "output_type": "stream",
     "text": [
      "wine:   \t46.86%\n",
      "example:   \t42.51%\n",
      "concentrated:   \t2.03%\n",
      "and:   \t1.89%\n",
      "value:   \t1.85%\n",
      "--------\n",
      "\n"
     ]
    },
    {
     "data": {
      "text/html": [
       "<span style=\"background-color:rgba(135,206,250,0.84678435);\">wine</span> <span style=\"background-color:rgba(135,206,250,1.0);\">review</span> <span style=\"background-color:rgba(135,206,250,0.17327364);\">:</span> <span style=\"background-color:rgba(135,206,250,0.08955144);\">germany</span> <span style=\"background-color:rgba(135,206,250,0.073147886);\">riesling</span> <span style=\"background-color:rgba(135,206,250,0.06766382);\">this</span> <span style=\"background-color:rgba(135,206,250,0.05348532);\">is</span> <span style=\"background-color:rgba(135,206,250,0.03651896);\">a</span> <span style=\"background-color:rgba(135,206,250,0.019991303);\">serious</span> <span style=\"background-color:rgba(135,206,250,0.021951245);\">and</span> <span style=\"background-color:rgba(135,206,250,0.01684298);\">appealing</span> <span style=\"background-color:rgba(135,206,250,0.034487728);\">wine</span> <span style=\"background-color:rgba(135,206,250,0.025935626);\">that</span> <span style=\"background-color:rgba(135,206,250,0.050602797);\">has</span> <span style=\"background-color:rgba(135,206,250,0.04022118);\">a</span> <span style=\"background-color:rgba(135,206,250,0.017541982);\">deep</span> <span style=\"background-color:rgba(135,206,250,0.015339657);\">dark</span> <span style=\"background-color:rgba(135,206,250,0.03495009);\">color</span> <span style=\"background-color:rgba(135,206,250,0.024303153);\">and</span> <span style=\"background-color:rgba(135,206,250,0.022451488);\">dense</span> <span style=\"background-color:rgba(135,206,250,0.04443091);\">with</span> <span style=\"background-color:rgba(135,206,250,0.041814633);\">thick</span> <span style=\"background-color:rgba(135,206,250,0.035842128);\">layers</span> <span style=\"background-color:rgba(135,206,250,0.035963148);\">of</span> <span style=\"background-color:rgba(135,206,250,0.030890187);\">stone</span> <span style=\"background-color:rgba(135,206,250,0.053188376);\">fruits</span> <span style=\"background-color:rgba(135,206,250,0.044736363);\">and</span> <span style=\"background-color:rgba(135,206,250,0.055925485);\">lime</span> <span style=\"background-color:rgba(135,206,250,0.03502216);\">zest</span> <span style=\"background-color:rgba(135,206,250,0.12367869);\">it</span> <span style=\"background-color:rgba(135,206,250,0.20594281);\">s</span> <span style=\"background-color:rgba(135,206,250,0.25819448);\">a</span> <span style=\"background-color:rgba(135,206,250,0.2016229);\">solid</span> <span style=\"background-color:rgba(135,206,250,0.21688972);\">wine</span>"
      ],
      "text/plain": [
       "<IPython.core.display.HTML object>"
      ]
     },
     "metadata": {},
     "output_type": "display_data"
    },
    {
     "name": "stdout",
     "output_type": "stream",
     "text": [
      "with:   \t66.29%\n",
      "that:   \t22.96%\n",
      "to:   \t4.95%\n",
      "for:   \t4.68%\n",
      "at:   \t0.26%\n",
      "--------\n",
      "\n"
     ]
    },
    {
     "data": {
      "text/html": [
       "<span style=\"background-color:rgba(135,206,250,1.0);\">wine</span> <span style=\"background-color:rgba(135,206,250,0.9415122);\">review</span> <span style=\"background-color:rgba(135,206,250,0.29517546);\">:</span> <span style=\"background-color:rgba(135,206,250,0.13946524);\">germany</span> <span style=\"background-color:rgba(135,206,250,0.13344927);\">riesling</span> <span style=\"background-color:rgba(135,206,250,0.048039336);\">this</span> <span style=\"background-color:rgba(135,206,250,0.022988262);\">is</span> <span style=\"background-color:rgba(135,206,250,0.025084097);\">a</span> <span style=\"background-color:rgba(135,206,250,0.036459584);\">serious</span> <span style=\"background-color:rgba(135,206,250,0.026477685);\">and</span> <span style=\"background-color:rgba(135,206,250,0.02877643);\">appealing</span> <span style=\"background-color:rgba(135,206,250,0.039811794);\">wine</span> <span style=\"background-color:rgba(135,206,250,0.015812026);\">that</span> <span style=\"background-color:rgba(135,206,250,0.021277003);\">has</span> <span style=\"background-color:rgba(135,206,250,0.024146477);\">a</span> <span style=\"background-color:rgba(135,206,250,0.04584287);\">deep</span> <span style=\"background-color:rgba(135,206,250,0.041785125);\">dark</span> <span style=\"background-color:rgba(135,206,250,0.036321424);\">color</span> <span style=\"background-color:rgba(135,206,250,0.027996903);\">and</span> <span style=\"background-color:rgba(135,206,250,0.041669633);\">dense</span> <span style=\"background-color:rgba(135,206,250,0.021460773);\">with</span> <span style=\"background-color:rgba(135,206,250,0.06478392);\">thick</span> <span style=\"background-color:rgba(135,206,250,0.025017992);\">layers</span> <span style=\"background-color:rgba(135,206,250,0.02270774);\">of</span> <span style=\"background-color:rgba(135,206,250,0.034591433);\">stone</span> <span style=\"background-color:rgba(135,206,250,0.06880394);\">fruits</span> <span style=\"background-color:rgba(135,206,250,0.043782223);\">and</span> <span style=\"background-color:rgba(135,206,250,0.049848076);\">lime</span> <span style=\"background-color:rgba(135,206,250,0.031752303);\">zest</span> <span style=\"background-color:rgba(135,206,250,0.05557876);\">it</span> <span style=\"background-color:rgba(135,206,250,0.06843041);\">s</span> <span style=\"background-color:rgba(135,206,250,0.1097535);\">a</span> <span style=\"background-color:rgba(135,206,250,0.14869295);\">solid</span> <span style=\"background-color:rgba(135,206,250,0.2627184);\">wine</span> <span style=\"background-color:rgba(135,206,250,0.15363546);\">with</span>"
      ],
      "text/plain": [
       "<IPython.core.display.HTML object>"
      ]
     },
     "metadata": {},
     "output_type": "display_data"
    },
    {
     "name": "stdout",
     "output_type": "stream",
     "text": [
      "a:   \t98.06%\n",
      "an:   \t0.32%\n",
      "rich:   \t0.25%\n",
      "good:   \t0.14%\n",
      "loads:   \t0.12%\n",
      "--------\n",
      "\n"
     ]
    },
    {
     "data": {
      "text/html": [
       "<span style=\"background-color:rgba(135,206,250,1.0);\">wine</span> <span style=\"background-color:rgba(135,206,250,0.8400592);\">review</span> <span style=\"background-color:rgba(135,206,250,0.22857942);\">:</span> <span style=\"background-color:rgba(135,206,250,0.14767832);\">germany</span> <span style=\"background-color:rgba(135,206,250,0.12989603);\">riesling</span> <span style=\"background-color:rgba(135,206,250,0.050254095);\">this</span> <span style=\"background-color:rgba(135,206,250,0.017810866);\">is</span> <span style=\"background-color:rgba(135,206,250,0.021896267);\">a</span> <span style=\"background-color:rgba(135,206,250,0.034980796);\">serious</span> <span style=\"background-color:rgba(135,206,250,0.020979038);\">and</span> <span style=\"background-color:rgba(135,206,250,0.03349794);\">appealing</span> <span style=\"background-color:rgba(135,206,250,0.042528894);\">wine</span> <span style=\"background-color:rgba(135,206,250,0.015231299);\">that</span> <span style=\"background-color:rgba(135,206,250,0.025788244);\">has</span> <span style=\"background-color:rgba(135,206,250,0.018787043);\">a</span> <span style=\"background-color:rgba(135,206,250,0.035612155);\">deep</span> <span style=\"background-color:rgba(135,206,250,0.018900527);\">dark</span> <span style=\"background-color:rgba(135,206,250,0.042310715);\">color</span> <span style=\"background-color:rgba(135,206,250,0.019175755);\">and</span> <span style=\"background-color:rgba(135,206,250,0.037288044);\">dense</span> <span style=\"background-color:rgba(135,206,250,0.027456006);\">with</span> <span style=\"background-color:rgba(135,206,250,0.05986584);\">thick</span> <span style=\"background-color:rgba(135,206,250,0.034371093);\">layers</span> <span style=\"background-color:rgba(135,206,250,0.027626049);\">of</span> <span style=\"background-color:rgba(135,206,250,0.03294586);\">stone</span> <span style=\"background-color:rgba(135,206,250,0.064691015);\">fruits</span> <span style=\"background-color:rgba(135,206,250,0.031988535);\">and</span> <span style=\"background-color:rgba(135,206,250,0.06679726);\">lime</span> <span style=\"background-color:rgba(135,206,250,0.026307333);\">zest</span> <span style=\"background-color:rgba(135,206,250,0.05865637);\">it</span> <span style=\"background-color:rgba(135,206,250,0.07053911);\">s</span> <span style=\"background-color:rgba(135,206,250,0.066389516);\">a</span> <span style=\"background-color:rgba(135,206,250,0.14246643);\">solid</span> <span style=\"background-color:rgba(135,206,250,0.28781763);\">wine</span> <span style=\"background-color:rgba(135,206,250,0.24117845);\">with</span> <span style=\"background-color:rgba(135,206,250,0.18355624);\">a</span>"
      ],
      "text/plain": [
       "<IPython.core.display.HTML object>"
      ]
     },
     "metadata": {},
     "output_type": "display_data"
    },
    {
     "name": "stdout",
     "output_type": "stream",
     "text": [
      "long:   \t90.76%\n",
      "rich:   \t1.76%\n",
      "deep:   \t1.19%\n",
      "hint:   \t0.56%\n",
      "touch:   \t0.54%\n",
      "--------\n",
      "\n"
     ]
    },
    {
     "data": {
      "text/html": [
       "<span style=\"background-color:rgba(135,206,250,1.0);\">wine</span> <span style=\"background-color:rgba(135,206,250,0.7280181);\">review</span> <span style=\"background-color:rgba(135,206,250,0.13041747);\">:</span> <span style=\"background-color:rgba(135,206,250,0.082238495);\">germany</span> <span style=\"background-color:rgba(135,206,250,0.10146578);\">riesling</span> <span style=\"background-color:rgba(135,206,250,0.029077068);\">this</span> <span style=\"background-color:rgba(135,206,250,0.015440069);\">is</span> <span style=\"background-color:rgba(135,206,250,0.013504598);\">a</span> <span style=\"background-color:rgba(135,206,250,0.011795407);\">serious</span> <span style=\"background-color:rgba(135,206,250,0.024334922);\">and</span> <span style=\"background-color:rgba(135,206,250,0.0150207);\">appealing</span> <span style=\"background-color:rgba(135,206,250,0.032111082);\">wine</span> <span style=\"background-color:rgba(135,206,250,0.0071671);\">that</span> <span style=\"background-color:rgba(135,206,250,0.01297937);\">has</span> <span style=\"background-color:rgba(135,206,250,0.01274269);\">a</span> <span style=\"background-color:rgba(135,206,250,0.012920982);\">deep</span> <span style=\"background-color:rgba(135,206,250,0.010688199);\">dark</span> <span style=\"background-color:rgba(135,206,250,0.017547382);\">color</span> <span style=\"background-color:rgba(135,206,250,0.021285243);\">and</span> <span style=\"background-color:rgba(135,206,250,0.01375639);\">dense</span> <span style=\"background-color:rgba(135,206,250,0.011846191);\">with</span> <span style=\"background-color:rgba(135,206,250,0.016912166);\">thick</span> <span style=\"background-color:rgba(135,206,250,0.0092113335);\">layers</span> <span style=\"background-color:rgba(135,206,250,0.019545905);\">of</span> <span style=\"background-color:rgba(135,206,250,0.017135667);\">stone</span> <span style=\"background-color:rgba(135,206,250,0.033238243);\">fruits</span> <span style=\"background-color:rgba(135,206,250,0.024891047);\">and</span> <span style=\"background-color:rgba(135,206,250,0.015920682);\">lime</span> <span style=\"background-color:rgba(135,206,250,0.011515267);\">zest</span> <span style=\"background-color:rgba(135,206,250,0.029639298);\">it</span> <span style=\"background-color:rgba(135,206,250,0.03976834);\">s</span> <span style=\"background-color:rgba(135,206,250,0.06043949);\">a</span> <span style=\"background-color:rgba(135,206,250,0.04031125);\">solid</span> <span style=\"background-color:rgba(135,206,250,0.12841582);\">wine</span> <span style=\"background-color:rgba(135,206,250,0.12562044);\">with</span> <span style=\"background-color:rgba(135,206,250,0.28052348);\">a</span> <span style=\"background-color:rgba(135,206,250,0.060061567);\">long</span>"
      ],
      "text/plain": [
       "<IPython.core.display.HTML object>"
      ]
     },
     "metadata": {},
     "output_type": "display_data"
    },
    {
     "name": "stdout",
     "output_type": "stream",
     "text": [
      "finish:   \t85.48%\n",
      "spicy:   \t4.39%\n",
      "mineral:   \t3.58%\n",
      "minerally:   \t1.63%\n",
      "mouthwatering:   \t0.88%\n",
      "--------\n",
      "\n"
     ]
    },
    {
     "data": {
      "text/html": [
       "<span style=\"background-color:rgba(135,206,250,1.0);\">wine</span> <span style=\"background-color:rgba(135,206,250,0.6427035);\">review</span> <span style=\"background-color:rgba(135,206,250,0.1749584);\">:</span> <span style=\"background-color:rgba(135,206,250,0.084607415);\">germany</span> <span style=\"background-color:rgba(135,206,250,0.0664226);\">riesling</span> <span style=\"background-color:rgba(135,206,250,0.047526225);\">this</span> <span style=\"background-color:rgba(135,206,250,0.02284253);\">is</span> <span style=\"background-color:rgba(135,206,250,0.026764078);\">a</span> <span style=\"background-color:rgba(135,206,250,0.016227055);\">serious</span> <span style=\"background-color:rgba(135,206,250,0.019408513);\">and</span> <span style=\"background-color:rgba(135,206,250,0.009809072);\">appealing</span> <span style=\"background-color:rgba(135,206,250,0.03790299);\">wine</span> <span style=\"background-color:rgba(135,206,250,0.018186321);\">that</span> <span style=\"background-color:rgba(135,206,250,0.032163434);\">has</span> <span style=\"background-color:rgba(135,206,250,0.02444203);\">a</span> <span style=\"background-color:rgba(135,206,250,0.020625269);\">deep</span> <span style=\"background-color:rgba(135,206,250,0.015920414);\">dark</span> <span style=\"background-color:rgba(135,206,250,0.019564692);\">color</span> <span style=\"background-color:rgba(135,206,250,0.02070334);\">and</span> <span style=\"background-color:rgba(135,206,250,0.015329552);\">dense</span> <span style=\"background-color:rgba(135,206,250,0.0335197);\">with</span> <span style=\"background-color:rgba(135,206,250,0.039850693);\">thick</span> <span style=\"background-color:rgba(135,206,250,0.014383846);\">layers</span> <span style=\"background-color:rgba(135,206,250,0.02720738);\">of</span> <span style=\"background-color:rgba(135,206,250,0.021277836);\">stone</span> <span style=\"background-color:rgba(135,206,250,0.030803643);\">fruits</span> <span style=\"background-color:rgba(135,206,250,0.0289828);\">and</span> <span style=\"background-color:rgba(135,206,250,0.039161865);\">lime</span> <span style=\"background-color:rgba(135,206,250,0.017280651);\">zest</span> <span style=\"background-color:rgba(135,206,250,0.07477763);\">it</span> <span style=\"background-color:rgba(135,206,250,0.066016205);\">s</span> <span style=\"background-color:rgba(135,206,250,0.073412344);\">a</span> <span style=\"background-color:rgba(135,206,250,0.050007425);\">solid</span> <span style=\"background-color:rgba(135,206,250,0.121438354);\">wine</span> <span style=\"background-color:rgba(135,206,250,0.16769478);\">with</span> <span style=\"background-color:rgba(135,206,250,0.20677043);\">a</span> <span style=\"background-color:rgba(135,206,250,0.12935647);\">long</span> <span style=\"background-color:rgba(135,206,250,0.115568794);\">finish</span>"
      ],
      "text/plain": [
       "<IPython.core.display.HTML object>"
      ]
     },
     "metadata": {},
     "output_type": "display_data"
    },
    {
     "name": "stdout",
     "output_type": "stream",
     "text": [
      ":   \t70.27%\n",
      "that:   \t16.31%\n",
      "drink:   \t8.66%\n",
      "it:   \t2.14%\n",
      "of:   \t0.73%\n",
      "--------\n",
      "\n"
     ]
    },
    {
     "data": {
      "text/html": [
       "<span style=\"background-color:rgba(135,206,250,1.0);\">wine</span> <span style=\"background-color:rgba(135,206,250,0.69635195);\">review</span> <span style=\"background-color:rgba(135,206,250,0.1584609);\">:</span> <span style=\"background-color:rgba(135,206,250,0.09147401);\">germany</span> <span style=\"background-color:rgba(135,206,250,0.053851023);\">riesling</span> <span style=\"background-color:rgba(135,206,250,0.029797062);\">this</span> <span style=\"background-color:rgba(135,206,250,0.011487655);\">is</span> <span style=\"background-color:rgba(135,206,250,0.028112357);\">a</span> <span style=\"background-color:rgba(135,206,250,0.032436907);\">serious</span> <span style=\"background-color:rgba(135,206,250,0.017305447);\">and</span> <span style=\"background-color:rgba(135,206,250,0.020624802);\">appealing</span> <span style=\"background-color:rgba(135,206,250,0.03147079);\">wine</span> <span style=\"background-color:rgba(135,206,250,0.011134186);\">that</span> <span style=\"background-color:rgba(135,206,250,0.013861384);\">has</span> <span style=\"background-color:rgba(135,206,250,0.032250524);\">a</span> <span style=\"background-color:rgba(135,206,250,0.013799616);\">deep</span> <span style=\"background-color:rgba(135,206,250,0.012071997);\">dark</span> <span style=\"background-color:rgba(135,206,250,0.017265994);\">color</span> <span style=\"background-color:rgba(135,206,250,0.018341327);\">and</span> <span style=\"background-color:rgba(135,206,250,0.016489603);\">dense</span> <span style=\"background-color:rgba(135,206,250,0.017631931);\">with</span> <span style=\"background-color:rgba(135,206,250,0.028172385);\">thick</span> <span style=\"background-color:rgba(135,206,250,0.022306332);\">layers</span> <span style=\"background-color:rgba(135,206,250,0.020756451);\">of</span> <span style=\"background-color:rgba(135,206,250,0.024655111);\">stone</span> <span style=\"background-color:rgba(135,206,250,0.072257996);\">fruits</span> <span style=\"background-color:rgba(135,206,250,0.030365223);\">and</span> <span style=\"background-color:rgba(135,206,250,0.028022716);\">lime</span> <span style=\"background-color:rgba(135,206,250,0.023288097);\">zest</span> <span style=\"background-color:rgba(135,206,250,0.020758914);\">it</span> <span style=\"background-color:rgba(135,206,250,0.048475143);\">s</span> <span style=\"background-color:rgba(135,206,250,0.10524547);\">a</span> <span style=\"background-color:rgba(135,206,250,0.085872844);\">solid</span> <span style=\"background-color:rgba(135,206,250,0.20664535);\">wine</span> <span style=\"background-color:rgba(135,206,250,0.0882811);\">with</span> <span style=\"background-color:rgba(135,206,250,0.24458872);\">a</span> <span style=\"background-color:rgba(135,206,250,0.09464868);\">long</span> <span style=\"background-color:rgba(135,206,250,0.31802264);\">finish</span> <span style=\"background-color:rgba(135,206,250,0.058848403);\">that</span>"
      ],
      "text/plain": [
       "<IPython.core.display.HTML object>"
      ]
     },
     "metadata": {},
     "output_type": "display_data"
    },
    {
     "name": "stdout",
     "output_type": "stream",
     "text": [
      "s:   \t84.15%\n",
      "offers:   \t3.03%\n",
      "has:   \t2.76%\n",
      "shows:   \t2.01%\n",
      "lingers:   \t1.58%\n",
      "--------\n",
      "\n"
     ]
    },
    {
     "data": {
      "text/html": [
       "<span style=\"background-color:rgba(135,206,250,1.0);\">wine</span> <span style=\"background-color:rgba(135,206,250,0.6706752);\">review</span> <span style=\"background-color:rgba(135,206,250,0.18058978);\">:</span> <span style=\"background-color:rgba(135,206,250,0.1260918);\">germany</span> <span style=\"background-color:rgba(135,206,250,0.092670836);\">riesling</span> <span style=\"background-color:rgba(135,206,250,0.046415724);\">this</span> <span style=\"background-color:rgba(135,206,250,0.021962889);\">is</span> <span style=\"background-color:rgba(135,206,250,0.03183279);\">a</span> <span style=\"background-color:rgba(135,206,250,0.01961245);\">serious</span> <span style=\"background-color:rgba(135,206,250,0.020131497);\">and</span> <span style=\"background-color:rgba(135,206,250,0.02144569);\">appealing</span> <span style=\"background-color:rgba(135,206,250,0.035917033);\">wine</span> <span style=\"background-color:rgba(135,206,250,0.009248041);\">that</span> <span style=\"background-color:rgba(135,206,250,0.021878319);\">has</span> <span style=\"background-color:rgba(135,206,250,0.023167722);\">a</span> <span style=\"background-color:rgba(135,206,250,0.027550288);\">deep</span> <span style=\"background-color:rgba(135,206,250,0.014130752);\">dark</span> <span style=\"background-color:rgba(135,206,250,0.03785591);\">color</span> <span style=\"background-color:rgba(135,206,250,0.019891508);\">and</span> <span style=\"background-color:rgba(135,206,250,0.022426955);\">dense</span> <span style=\"background-color:rgba(135,206,250,0.024436353);\">with</span> <span style=\"background-color:rgba(135,206,250,0.019971933);\">thick</span> <span style=\"background-color:rgba(135,206,250,0.030215332);\">layers</span> <span style=\"background-color:rgba(135,206,250,0.021559086);\">of</span> <span style=\"background-color:rgba(135,206,250,0.022241427);\">stone</span> <span style=\"background-color:rgba(135,206,250,0.041005958);\">fruits</span> <span style=\"background-color:rgba(135,206,250,0.025507713);\">and</span> <span style=\"background-color:rgba(135,206,250,0.036315426);\">lime</span> <span style=\"background-color:rgba(135,206,250,0.017960409);\">zest</span> <span style=\"background-color:rgba(135,206,250,0.024914285);\">it</span> <span style=\"background-color:rgba(135,206,250,0.024224166);\">s</span> <span style=\"background-color:rgba(135,206,250,0.049505524);\">a</span> <span style=\"background-color:rgba(135,206,250,0.036250837);\">solid</span> <span style=\"background-color:rgba(135,206,250,0.093910046);\">wine</span> <span style=\"background-color:rgba(135,206,250,0.08125318);\">with</span> <span style=\"background-color:rgba(135,206,250,0.098137885);\">a</span> <span style=\"background-color:rgba(135,206,250,0.0910104);\">long</span> <span style=\"background-color:rgba(135,206,250,0.13374174);\">finish</span> <span style=\"background-color:rgba(135,206,250,0.17893861);\">that</span> <span style=\"background-color:rgba(135,206,250,0.15669233);\">s</span>"
      ],
      "text/plain": [
       "<IPython.core.display.HTML object>"
      ]
     },
     "metadata": {},
     "output_type": "display_data"
    },
    {
     "name": "stdout",
     "output_type": "stream",
     "text": [
      "a:   \t41.21%\n",
      "worth:   \t31.35%\n",
      "long:   \t3.55%\n",
      "dry:   \t3.54%\n",
      "[UNK]:   \t2.15%\n",
      "--------\n",
      "\n"
     ]
    },
    {
     "data": {
      "text/html": [
       "<span style=\"background-color:rgba(135,206,250,1.0);\">wine</span> <span style=\"background-color:rgba(135,206,250,0.6809465);\">review</span> <span style=\"background-color:rgba(135,206,250,0.21107674);\">:</span> <span style=\"background-color:rgba(135,206,250,0.14459273);\">germany</span> <span style=\"background-color:rgba(135,206,250,0.13345763);\">riesling</span> <span style=\"background-color:rgba(135,206,250,0.04613679);\">this</span> <span style=\"background-color:rgba(135,206,250,0.018101158);\">is</span> <span style=\"background-color:rgba(135,206,250,0.020896234);\">a</span> <span style=\"background-color:rgba(135,206,250,0.029964961);\">serious</span> <span style=\"background-color:rgba(135,206,250,0.019292353);\">and</span> <span style=\"background-color:rgba(135,206,250,0.027096286);\">appealing</span> <span style=\"background-color:rgba(135,206,250,0.03871142);\">wine</span> <span style=\"background-color:rgba(135,206,250,0.012849416);\">that</span> <span style=\"background-color:rgba(135,206,250,0.02274874);\">has</span> <span style=\"background-color:rgba(135,206,250,0.016139198);\">a</span> <span style=\"background-color:rgba(135,206,250,0.02581103);\">deep</span> <span style=\"background-color:rgba(135,206,250,0.014375953);\">dark</span> <span style=\"background-color:rgba(135,206,250,0.034413073);\">color</span> <span style=\"background-color:rgba(135,206,250,0.015059687);\">and</span> <span style=\"background-color:rgba(135,206,250,0.027405161);\">dense</span> <span style=\"background-color:rgba(135,206,250,0.019797731);\">with</span> <span style=\"background-color:rgba(135,206,250,0.041833773);\">thick</span> <span style=\"background-color:rgba(135,206,250,0.02428791);\">layers</span> <span style=\"background-color:rgba(135,206,250,0.01842107);\">of</span> <span style=\"background-color:rgba(135,206,250,0.024050115);\">stone</span> <span style=\"background-color:rgba(135,206,250,0.047479376);\">fruits</span> <span style=\"background-color:rgba(135,206,250,0.020721268);\">and</span> <span style=\"background-color:rgba(135,206,250,0.04892645);\">lime</span> <span style=\"background-color:rgba(135,206,250,0.018109012);\">zest</span> <span style=\"background-color:rgba(135,206,250,0.026143536);\">it</span> <span style=\"background-color:rgba(135,206,250,0.03215801);\">s</span> <span style=\"background-color:rgba(135,206,250,0.033303622);\">a</span> <span style=\"background-color:rgba(135,206,250,0.06377626);\">solid</span> <span style=\"background-color:rgba(135,206,250,0.09016454);\">wine</span> <span style=\"background-color:rgba(135,206,250,0.06441961);\">with</span> <span style=\"background-color:rgba(135,206,250,0.052213106);\">a</span> <span style=\"background-color:rgba(135,206,250,0.06882827);\">long</span> <span style=\"background-color:rgba(135,206,250,0.18418004);\">finish</span> <span style=\"background-color:rgba(135,206,250,0.103486456);\">that</span> <span style=\"background-color:rgba(135,206,250,0.25525814);\">s</span> <span style=\"background-color:rgba(135,206,250,0.16285253);\">a</span>"
      ],
      "text/plain": [
       "<IPython.core.display.HTML object>"
      ]
     },
     "metadata": {},
     "output_type": "display_data"
    },
    {
     "name": "stdout",
     "output_type": "stream",
     "text": [
      "great:   \t25.11%\n",
      "good:   \t11.87%\n",
      "fine:   \t10.65%\n",
      "wine:   \t7.78%\n",
      "big:   \t5.28%\n",
      "--------\n",
      "\n"
     ]
    },
    {
     "data": {
      "text/html": [
       "<span style=\"background-color:rgba(135,206,250,1.0);\">wine</span> <span style=\"background-color:rgba(135,206,250,0.61163646);\">review</span> <span style=\"background-color:rgba(135,206,250,0.14555968);\">:</span> <span style=\"background-color:rgba(135,206,250,0.10925345);\">germany</span> <span style=\"background-color:rgba(135,206,250,0.10739531);\">riesling</span> <span style=\"background-color:rgba(135,206,250,0.04285512);\">this</span> <span style=\"background-color:rgba(135,206,250,0.02283694);\">is</span> <span style=\"background-color:rgba(135,206,250,0.025474008);\">a</span> <span style=\"background-color:rgba(135,206,250,0.023809675);\">serious</span> <span style=\"background-color:rgba(135,206,250,0.01721208);\">and</span> <span style=\"background-color:rgba(135,206,250,0.013840641);\">appealing</span> <span style=\"background-color:rgba(135,206,250,0.040132783);\">wine</span> <span style=\"background-color:rgba(135,206,250,0.009305025);\">that</span> <span style=\"background-color:rgba(135,206,250,0.025049314);\">has</span> <span style=\"background-color:rgba(135,206,250,0.021489747);\">a</span> <span style=\"background-color:rgba(135,206,250,0.020077443);\">deep</span> <span style=\"background-color:rgba(135,206,250,0.01896859);\">dark</span> <span style=\"background-color:rgba(135,206,250,0.020241095);\">color</span> <span style=\"background-color:rgba(135,206,250,0.018191513);\">and</span> <span style=\"background-color:rgba(135,206,250,0.021646421);\">dense</span> <span style=\"background-color:rgba(135,206,250,0.02117919);\">with</span> <span style=\"background-color:rgba(135,206,250,0.03883339);\">thick</span> <span style=\"background-color:rgba(135,206,250,0.013948116);\">layers</span> <span style=\"background-color:rgba(135,206,250,0.013987524);\">of</span> <span style=\"background-color:rgba(135,206,250,0.011021173);\">stone</span> <span style=\"background-color:rgba(135,206,250,0.07018237);\">fruits</span> <span style=\"background-color:rgba(135,206,250,0.021986732);\">and</span> <span style=\"background-color:rgba(135,206,250,0.0636827);\">lime</span> <span style=\"background-color:rgba(135,206,250,0.018618142);\">zest</span> <span style=\"background-color:rgba(135,206,250,0.025379175);\">it</span> <span style=\"background-color:rgba(135,206,250,0.023716524);\">s</span> <span style=\"background-color:rgba(135,206,250,0.036857996);\">a</span> <span style=\"background-color:rgba(135,206,250,0.025696782);\">solid</span> <span style=\"background-color:rgba(135,206,250,0.086187154);\">wine</span> <span style=\"background-color:rgba(135,206,250,0.050930224);\">with</span> <span style=\"background-color:rgba(135,206,250,0.07321296);\">a</span> <span style=\"background-color:rgba(135,206,250,0.07139288);\">long</span> <span style=\"background-color:rgba(135,206,250,0.15424314);\">finish</span> <span style=\"background-color:rgba(135,206,250,0.09176354);\">that</span> <span style=\"background-color:rgba(135,206,250,0.14804405);\">s</span> <span style=\"background-color:rgba(135,206,250,0.23592241);\">a</span> <span style=\"background-color:rgba(135,206,250,0.08602739);\">gorgeous</span>"
      ],
      "text/plain": [
       "<IPython.core.display.HTML object>"
      ]
     },
     "metadata": {},
     "output_type": "display_data"
    },
    {
     "name": "stdout",
     "output_type": "stream",
     "text": [
      "wine:   \t97.29%\n",
      "example:   \t2.08%\n",
      "bottle:   \t0.19%\n",
      "expression:   \t0.18%\n",
      "food:   \t0.05%\n",
      "--------\n",
      "\n"
     ]
    },
    {
     "data": {
      "text/html": [
       "<span style=\"background-color:rgba(135,206,250,1.0);\">wine</span> <span style=\"background-color:rgba(135,206,250,0.66180867);\">review</span> <span style=\"background-color:rgba(135,206,250,0.19750828);\">:</span> <span style=\"background-color:rgba(135,206,250,0.08687709);\">germany</span> <span style=\"background-color:rgba(135,206,250,0.07987688);\">riesling</span> <span style=\"background-color:rgba(135,206,250,0.056069493);\">this</span> <span style=\"background-color:rgba(135,206,250,0.041727006);\">is</span> <span style=\"background-color:rgba(135,206,250,0.030141976);\">a</span> <span style=\"background-color:rgba(135,206,250,0.01364573);\">serious</span> <span style=\"background-color:rgba(135,206,250,0.01983696);\">and</span> <span style=\"background-color:rgba(135,206,250,0.0139604425);\">appealing</span> <span style=\"background-color:rgba(135,206,250,0.027890375);\">wine</span> <span style=\"background-color:rgba(135,206,250,0.019651093);\">that</span> <span style=\"background-color:rgba(135,206,250,0.037186816);\">has</span> <span style=\"background-color:rgba(135,206,250,0.030706644);\">a</span> <span style=\"background-color:rgba(135,206,250,0.012801723);\">deep</span> <span style=\"background-color:rgba(135,206,250,0.010320767);\">dark</span> <span style=\"background-color:rgba(135,206,250,0.024399275);\">color</span> <span style=\"background-color:rgba(135,206,250,0.018919399);\">and</span> <span style=\"background-color:rgba(135,206,250,0.014962482);\">dense</span> <span style=\"background-color:rgba(135,206,250,0.030067759);\">with</span> <span style=\"background-color:rgba(135,206,250,0.02248411);\">thick</span> <span style=\"background-color:rgba(135,206,250,0.018292101);\">layers</span> <span style=\"background-color:rgba(135,206,250,0.020483462);\">of</span> <span style=\"background-color:rgba(135,206,250,0.020672848);\">stone</span> <span style=\"background-color:rgba(135,206,250,0.036233053);\">fruits</span> <span style=\"background-color:rgba(135,206,250,0.022852331);\">and</span> <span style=\"background-color:rgba(135,206,250,0.027324451);\">lime</span> <span style=\"background-color:rgba(135,206,250,0.015786909);\">zest</span> <span style=\"background-color:rgba(135,206,250,0.04567666);\">it</span> <span style=\"background-color:rgba(135,206,250,0.043185692);\">s</span> <span style=\"background-color:rgba(135,206,250,0.050666325);\">a</span> <span style=\"background-color:rgba(135,206,250,0.03927145);\">solid</span> <span style=\"background-color:rgba(135,206,250,0.050333165);\">wine</span> <span style=\"background-color:rgba(135,206,250,0.06856563);\">with</span> <span style=\"background-color:rgba(135,206,250,0.08323638);\">a</span> <span style=\"background-color:rgba(135,206,250,0.033977102);\">long</span> <span style=\"background-color:rgba(135,206,250,0.10954837);\">finish</span> <span style=\"background-color:rgba(135,206,250,0.12031487);\">that</span> <span style=\"background-color:rgba(135,206,250,0.18214375);\">s</span> <span style=\"background-color:rgba(135,206,250,0.24852875);\">a</span> <span style=\"background-color:rgba(135,206,250,0.24479105);\">gorgeous</span> <span style=\"background-color:rgba(135,206,250,0.22231068);\">wine</span>"
      ],
      "text/plain": [
       "<IPython.core.display.HTML object>"
      ]
     },
     "metadata": {},
     "output_type": "display_data"
    },
    {
     "name": "stdout",
     "output_type": "stream",
     "text": [
      "to:   \t51.5%\n",
      "with:   \t21.87%\n",
      "that:   \t14.18%\n",
      "for:   \t5.48%\n",
      ":   \t3.91%\n",
      "--------\n",
      "\n"
     ]
    }
   ],
   "source": [
    "info = text_generator.generate(\n",
    "    \"wine review : germany\", max_tokens=80, temperature=0.5\n",
    ")\n",
    "print_probs(info, vocab)"
   ]
  },
  {
   "cell_type": "code",
   "execution_count": null,
   "id": "0166b10d",
   "metadata": {},
   "outputs": [],
   "source": []
  }
 ],
 "metadata": {
  "kernelspec": {
   "display_name": "cv_playgrounds",
   "language": "python",
   "name": "python3"
  },
  "language_info": {
   "codemirror_mode": {
    "name": "ipython",
    "version": 3
   },
   "file_extension": ".py",
   "mimetype": "text/x-python",
   "name": "python",
   "nbconvert_exporter": "python",
   "pygments_lexer": "ipython3",
   "version": "3.10.12"
  }
 },
 "nbformat": 4,
 "nbformat_minor": 5
}
