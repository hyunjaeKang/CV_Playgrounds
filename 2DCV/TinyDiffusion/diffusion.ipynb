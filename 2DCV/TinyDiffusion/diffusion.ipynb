{
 "cells": [
  {
   "cell_type": "markdown",
   "id": "05eec641",
   "metadata": {},
   "source": [
    "DDPM : Denoising Diffusion Probabilistic Models\n",
    "\n",
    "- Ref: \n",
    "    - DDPM: https://github.com/MaximeVandegar/Papers-in-100-Lines-of-Code/tree/main/Denoising_Diffusion_Probabilistic_Models\n",
    "\n",
    "\n"
   ]
  },
  {
   "cell_type": "code",
   "execution_count": 1,
   "id": "7f44ff41",
   "metadata": {},
   "outputs": [],
   "source": [
    "import os\n",
    "import torch\n",
    "import torch.nn as nn\n",
    "import numpy as np\n",
    "\n",
    "import math\n",
    "import torch\n",
    "import torchvision\n",
    "import torchvision.transforms as transforms\n",
    "from torchvision import datasets\n",
    "from torch.utils.data import DataLoader\n",
    "from torchsummary import summary\n",
    "import torchshow as ts\n",
    "\n",
    "from tqdm import tqdm\n",
    "import matplotlib.pyplot as plt\n",
    "import matplotlib.animation as animation\n",
    "import torchvision.transforms.functional as F\n",
    "from pathlib import Path\n",
    "\n",
    "import time\n"
   ]
  },
  {
   "cell_type": "code",
   "execution_count": 2,
   "id": "eac54b2b",
   "metadata": {},
   "outputs": [],
   "source": [
    "## Unet network model\n",
    "# Ref: https://github.com/MaximeVandegar/Papers-in-100-Lines-of-Code/blob/main/Denoising_Diffusion_Probabilistic_Models/unet.py\n",
    "\n",
    "def get_timestep_embedding(timesteps, embedding_dim: int):\n",
    "    \"\"\"\n",
    "    Retrieved from https://github.com/hojonathanho/diffusion/blob/master/diffusion_tf/nn.py#LL90C1-L109C13\n",
    "    \"\"\"\n",
    "    assert len(timesteps.shape) == 1\n",
    "\n",
    "    half_dim = embedding_dim // 2\n",
    "    emb = math.log(10000) / (half_dim - 1)\n",
    "    emb = torch.exp(torch.arange(half_dim, dtype=torch.float32, device=timesteps.device) * -emb)\n",
    "    emb = timesteps.type(torch.float32)[:, None] * emb[None, :]\n",
    "    emb = torch.concat([torch.sin(emb), torch.cos(emb)], axis=1)\n",
    "\n",
    "    if embedding_dim % 2 == 1:  # zero pad\n",
    "        emb = torch.nn.functional.pad(emb, (0, 1, 0, 0))\n",
    "\n",
    "    assert emb.shape == (timesteps.shape[0], embedding_dim), f\"{emb.shape}\"\n",
    "    return emb\n",
    "\n",
    "\n",
    "class Downsample(nn.Module):\n",
    "\n",
    "    def __init__(self, C):\n",
    "        \"\"\"\n",
    "        :param C (int): number of input and output channels\n",
    "        \"\"\"\n",
    "        super(Downsample, self).__init__()\n",
    "        self.conv = nn.Conv2d(C, C, 3, stride=2, padding=1)\n",
    "\n",
    "    def forward(self, x):\n",
    "        B, C, H, W = x.shape\n",
    "        x = self.conv(x)\n",
    "        assert x.shape == (B, C, H // 2, W // 2)\n",
    "        return x\n",
    "\n",
    "\n",
    "class Upsample(nn.Module):\n",
    "\n",
    "    def __init__(self, C):\n",
    "        \"\"\"\n",
    "        :param C (int): number of input and output channels\n",
    "        \"\"\"\n",
    "        super(Upsample, self).__init__()\n",
    "        self.conv = nn.Conv2d(C, C, 3, stride=1, padding=1)\n",
    "\n",
    "    def forward(self, x):\n",
    "        B, C, H, W = x.shape\n",
    "\n",
    "        x = nn.functional.interpolate(x, size=None, scale_factor=2, mode='nearest')\n",
    "\n",
    "        x = self.conv(x)\n",
    "        assert x.shape == (B, C, H * 2, W * 2)\n",
    "        return x\n",
    "\n",
    "\n",
    "class Nin(nn.Module):\n",
    "\n",
    "    def __init__(self, in_dim, out_dim, scale=1e-10):\n",
    "        super(Nin, self).__init__()\n",
    "\n",
    "        n = (in_dim + out_dim) / 2\n",
    "        limit = np.sqrt(3 * scale / n)\n",
    "        self.W = torch.nn.Parameter(torch.zeros((in_dim, out_dim), dtype=torch.float32\n",
    "                                                ).uniform_(-limit, limit))\n",
    "        self.b = torch.nn.Parameter(torch.zeros((1, out_dim, 1, 1), dtype=torch.float32))\n",
    "\n",
    "    def forward(self, x):\n",
    "        return torch.einsum('bchw, co->bohw', x, self.W) + self.b\n",
    "\n",
    "\n",
    "class ResNetBlock(nn.Module):\n",
    "\n",
    "    def __init__(self, in_ch, out_ch, dropout_rate=0.1):\n",
    "        super(ResNetBlock, self).__init__()\n",
    "\n",
    "        self.conv1 = nn.Conv2d(in_ch, out_ch, 3, stride=1, padding=1)\n",
    "        self.dense = nn.Linear(512, out_ch)\n",
    "        self.conv2 = nn.Conv2d(out_ch, out_ch, 3, stride=1, padding=1)\n",
    "\n",
    "        if not (in_ch == out_ch):\n",
    "            self.nin = Nin(in_ch, out_ch)\n",
    "\n",
    "        self.dropout_rate = dropout_rate\n",
    "        self.nonlinearity = torch.nn.SiLU()\n",
    "\n",
    "    def forward(self, x, temb):\n",
    "        \"\"\"\n",
    "        :param x: (B, C, H, W)\n",
    "        :param temb: (B, dim)\n",
    "        \"\"\"\n",
    "\n",
    "        h = self.nonlinearity(nn.functional.group_norm(x, num_groups=32))\n",
    "        h = self.conv1(h)\n",
    "\n",
    "        # add in timestep embedding\n",
    "        h += self.dense(self.nonlinearity(temb))[:, :, None, None]\n",
    "\n",
    "        h = self.nonlinearity(nn.functional.group_norm(h, num_groups=32))\n",
    "        h = nn.functional.dropout(h, p=self.dropout_rate)\n",
    "        h = self.conv2(h)\n",
    "\n",
    "        if not (x.shape[1] == h.shape[1]):\n",
    "            x = self.nin(x)\n",
    "\n",
    "        assert x.shape == h.shape\n",
    "        return x + h\n",
    "\n",
    "\n",
    "class AttentionBlock(nn.Module):\n",
    "\n",
    "    def __init__(self, ch):\n",
    "        super(AttentionBlock, self).__init__()\n",
    "\n",
    "        self.Q = Nin(ch, ch)\n",
    "        self.K = Nin(ch, ch)\n",
    "        self.V = Nin(ch, ch)\n",
    "\n",
    "        self.ch = ch\n",
    "\n",
    "        self.nin = Nin(ch, ch, scale=0.)\n",
    "\n",
    "    def forward(self, x):\n",
    "        B, C, H, W = x.shape\n",
    "        assert C == self.ch\n",
    "\n",
    "        h = nn.functional.group_norm(x, num_groups=32)\n",
    "        q = self.Q(h)\n",
    "        k = self.K(h)\n",
    "        v = self.V(h)\n",
    "\n",
    "        w = torch.einsum('bchw,bcHW->bhwHW', q, k) * (int(C) ** (-0.5))  # [B, H, W, H, W]\n",
    "        w = torch.reshape(w, [B, H, W, H * W])\n",
    "        w = torch.nn.functional.softmax(w, dim=-1)\n",
    "        w = torch.reshape(w, [B, H, W, H, W])\n",
    "\n",
    "        h = torch.einsum('bhwHW,bcHW->bchw', w, v)\n",
    "        h = self.nin(h)\n",
    "\n",
    "        assert h.shape == x.shape\n",
    "        return x + h\n",
    "\n",
    "\n",
    "class UNet(nn.Module):\n",
    "\n",
    "    def __init__(self, ch=128, in_ch=1):\n",
    "        super(UNet, self).__init__()\n",
    "\n",
    "        self.ch = ch\n",
    "        self.linear1 = nn.Linear(ch, 4 * ch)\n",
    "        self.linear2 = nn.Linear(4 * ch, 4 * ch)\n",
    "\n",
    "        self.conv1 = nn.Conv2d(in_ch, ch, 3, stride=1, padding=1)\n",
    "\n",
    "        self.down = nn.ModuleList([ResNetBlock(ch, 1 * ch),\n",
    "                                   ResNetBlock(1 * ch, 1 * ch),\n",
    "                                   Downsample(1 * ch),\n",
    "                                   ResNetBlock(1 * ch, 2 * ch),\n",
    "                                   AttentionBlock(2 * ch),\n",
    "                                   ResNetBlock(2 * ch, 2 * ch),\n",
    "                                   AttentionBlock(2 * ch),\n",
    "                                   Downsample(2 * ch),\n",
    "                                   ResNetBlock(2 * ch, 2 * ch),\n",
    "                                   ResNetBlock(2 * ch, 2 * ch),\n",
    "                                   Downsample(2 * ch),\n",
    "                                   ResNetBlock(2 * ch, 2 * ch),\n",
    "                                   ResNetBlock(2 * ch, 2 * ch)])\n",
    "\n",
    "        self.middle = nn.ModuleList([ResNetBlock(2 * ch, 2 * ch),\n",
    "                                     AttentionBlock(2 * ch),\n",
    "                                     ResNetBlock(2 * ch, 2 * ch)])\n",
    "\n",
    "        self.up = nn.ModuleList([ResNetBlock(4 * ch, 2 * ch),\n",
    "                                 ResNetBlock(4 * ch, 2 * ch),\n",
    "                                 ResNetBlock(4 * ch, 2 * ch),\n",
    "                                 Upsample(2 * ch),\n",
    "                                 ResNetBlock(4 * ch, 2 * ch),\n",
    "                                 ResNetBlock(4 * ch, 2 * ch),\n",
    "                                 ResNetBlock(4 * ch, 2 * ch),\n",
    "                                 Upsample(2 * ch),\n",
    "                                 ResNetBlock(4 * ch, 2 * ch),\n",
    "                                 AttentionBlock(2 * ch),\n",
    "                                 ResNetBlock(4 * ch, 2 * ch),\n",
    "                                 AttentionBlock(2 * ch),\n",
    "                                 ResNetBlock(3 * ch, 2 * ch),\n",
    "                                 AttentionBlock(2 * ch),\n",
    "                                 Upsample(2 * ch),\n",
    "                                 ResNetBlock(3 * ch, ch),\n",
    "                                 ResNetBlock(2 * ch, ch),\n",
    "                                 ResNetBlock(2 * ch, ch)])\n",
    "\n",
    "        self.final_conv = nn.Conv2d(ch, in_ch, 3, stride=1, padding=1)\n",
    "\n",
    "    def forward(self, x, t):\n",
    "        \"\"\"\n",
    "        :param x: (torch.Tensor) batch of images [B, C, H, W]\n",
    "        :param t: (torch.Tensor) tensor of time steps (torch.long) [B]\n",
    "        \"\"\"\n",
    "\n",
    "        temb = get_timestep_embedding(t, self.ch)\n",
    "        temb = torch.nn.functional.silu(self.linear1(temb))\n",
    "        temb = self.linear2(temb)\n",
    "        assert temb.shape == (t.shape[0], self.ch * 4)\n",
    "\n",
    "        x1 = self.conv1(x)\n",
    "\n",
    "        # Down\n",
    "        x2 = self.down[0](x1, temb)\n",
    "        x3 = self.down[1](x2, temb)\n",
    "        x4 = self.down[2](x3)\n",
    "        x5 = self.down[3](x4, temb)\n",
    "        x6 = self.down[4](x5)  # Attention\n",
    "        x7 = self.down[5](x6, temb)\n",
    "        x8 = self.down[6](x7)  # Attention\n",
    "        x9 = self.down[7](x8)\n",
    "        x10 = self.down[8](x9, temb)\n",
    "        x11 = self.down[9](x10, temb)\n",
    "        x12 = self.down[10](x11)\n",
    "        x13 = self.down[11](x12, temb)\n",
    "        x14 = self.down[12](x13, temb)\n",
    "\n",
    "        # Middle\n",
    "        x = self.middle[0](x14, temb)\n",
    "        x = self.middle[1](x)\n",
    "        x = self.middle[2](x, temb)\n",
    "\n",
    "        # Up\n",
    "        x = self.up[0](torch.cat((x, x14), dim=1), temb)\n",
    "        x = self.up[1](torch.cat((x, x13), dim=1), temb)\n",
    "        x = self.up[2](torch.cat((x, x12), dim=1), temb)\n",
    "        x = self.up[3](x)\n",
    "        x = self.up[4](torch.cat((x, x11), dim=1), temb)\n",
    "        x = self.up[5](torch.cat((x, x10), dim=1), temb)\n",
    "        x = self.up[6](torch.cat((x, x9), dim=1), temb)\n",
    "        x = self.up[7](x)\n",
    "        x = self.up[8](torch.cat((x, x8), dim=1), temb)\n",
    "        x = self.up[9](x)\n",
    "        x = self.up[10](torch.cat((x, x6), dim=1), temb)\n",
    "        x = self.up[11](x)\n",
    "        x = self.up[12](torch.cat((x, x4), dim=1), temb)\n",
    "        x = self.up[13](x)\n",
    "        x = self.up[14](x)\n",
    "        x = self.up[15](torch.cat((x, x3), dim=1), temb)\n",
    "        x = self.up[16](torch.cat((x, x2), dim=1), temb)\n",
    "        x = self.up[17](torch.cat((x, x1), dim=1), temb)\n",
    "\n",
    "        x = nn.functional.silu(nn.functional.group_norm(x, num_groups=32))\n",
    "        x = self.final_conv(x)\n",
    "\n",
    "        return x\n"
   ]
  },
  {
   "cell_type": "markdown",
   "id": "9799d8f0",
   "metadata": {},
   "source": [
    "- DDPM\n",
    "    - ![DDPM](https://img1.daumcdn.net/thumb/R1280x0/?scode=mtistory2&fname=https%3A%2F%2Fblog.kakaocdn.net%2Fdn%2FRXOe5%2Fbtru2nyl2SU%2FzkLx0SMgf1qpaI01kCmGu1%2Fimg.png)"
   ]
  },
  {
   "cell_type": "code",
   "execution_count": 3,
   "id": "b84af272",
   "metadata": {},
   "outputs": [],
   "source": [
    "# Diffusion Model\n",
    "\n",
    "class DiffusionModel:\n",
    "\n",
    "    def __init__(self, T: int, model: nn.Module, device: str):\n",
    "        self.T = T\n",
    "        self.function_approximator = model.to(device)\n",
    "        self.device = device\n",
    "\n",
    "        self.beta = torch.linspace(1e-4, 0.02, T).to(device)\n",
    "        self.alpha = 1. - self.beta\n",
    "        self.alpha_bar = torch.cumprod(self.alpha, dim=0)\n",
    "\n",
    "        # DPM_SOLVER\n",
    "        self.alphas = torch.sqrt(self.alpha_bar)\n",
    "        self.sigmas = torch.sqrt(1.0 - self.alpha_bar)\n",
    "        self.lambdas = torch.log(self.alphas / self.sigmas)\n",
    "\n",
    "    def training(self, x0, batch_size, optimizer):\n",
    "        \"\"\"\n",
    "        Algorithm 1 in Denoising Diffusion Probabilistic Models\n",
    "        \"\"\"\n",
    "\n",
    "        # x0 = sample_batch(batch_size, self.device)\n",
    "        t = torch.randint(1, self.T + 1, (batch_size,), device=self.device,\n",
    "                          dtype=torch.long)\n",
    "        eps = torch.randn_like(x0)\n",
    "\n",
    "        # Take one gradient descent step\n",
    "        alpha_bar_t = self.alpha_bar[t - 1].unsqueeze(-1).unsqueeze(\n",
    "            -1).unsqueeze(-1)\n",
    "        eps_predicted = self.function_approximator(torch.sqrt(alpha_bar_t) * x0 + torch.sqrt(1 - alpha_bar_t) * eps, t - 1)\n",
    "        loss = nn.functional.mse_loss(eps, eps_predicted)\n",
    "        optimizer.zero_grad()\n",
    "        loss.backward()\n",
    "        optimizer.step()\n",
    "\n",
    "        return loss.item()\n",
    "\n",
    "    @torch.no_grad()\n",
    "    def sampling(self, n_samples=1, image_channels=1, img_size=(32, 32), sample_it = 10):\n",
    "        \"\"\"\n",
    "        Algorithm 2 in Denoising Diffusion Probabilistic Models\n",
    "        \"\"\"\n",
    "        t_lst = []\n",
    "        x = torch.randn((n_samples, image_channels, img_size[0], img_size[1]),\n",
    "                        device=self.device)\n",
    "        for it in tqdm(range(self.T, 0, -1), desc=\"Sampling\"):\n",
    "            if it % sample_it == 0:\n",
    "                t_lst.append((it, x))\n",
    "            z = torch.randn_like(x) if it > 1 else torch.zeros_like(x)\n",
    "            t = torch.ones(n_samples, dtype=torch.long, device=self.device) * it\n",
    "\n",
    "            beta_t = self.beta[t - 1].unsqueeze(-1).unsqueeze(-1).unsqueeze(-1)\n",
    "            alpha_t = self.alpha[t - 1].unsqueeze(-1).unsqueeze(-1).unsqueeze(-1)\n",
    "            alpha_bar_t = self.alpha_bar[t - 1].unsqueeze(-1).unsqueeze(-1).unsqueeze(-1)\n",
    "\n",
    "            mean = 1 / torch.sqrt(alpha_t) * (x - ((1 - alpha_t) / torch.sqrt(\n",
    "                1 - alpha_bar_t)) * self.function_approximator(x, t - 1))\n",
    "            sigma = torch.sqrt(beta_t)\n",
    "            x = mean + sigma * z\n",
    "        t_lst.append((it-1, x))\n",
    "        return x, t_lst\n",
    "\n",
    "    @torch.no_grad()\n",
    "    def ddpm_sampling(self, n_samples=1, image_channels=1, img_size=(32, 32),\n",
    "                 use_tqdm=True):\n",
    "        \"\"\"\n",
    "        Algorithm 2 in Denoising Diffusion Probabilistic Models\n",
    "        \"\"\"\n",
    "\n",
    "        x = torch.randn((n_samples, image_channels, img_size[0], img_size[1]),\n",
    "                        device=self.device)\n",
    "        progress_bar = tqdm if use_tqdm else lambda x: x\n",
    "        # for t in progress_bar(range(self.T, 0, -1)):\n",
    "        for t in tqdm(range(self.T, 0, -1), desc=\"DDPM Sampling\"):\n",
    "            z = torch.randn_like(x) if t > 1 else torch.zeros_like(x)\n",
    "            t = torch.ones(n_samples, dtype=torch.long, device=self.device) * t\n",
    "\n",
    "            beta_t = self.beta[t - 1].unsqueeze(-1).unsqueeze(-1).unsqueeze(-1)\n",
    "            alpha_t = self.alpha[t - 1].unsqueeze(-1).unsqueeze(-1).unsqueeze(-1)\n",
    "            alpha_bar_t = self.alpha_bar[t - 1].unsqueeze(-1).unsqueeze(-1).unsqueeze(-1)\n",
    "\n",
    "            mean = 1 / torch.sqrt(alpha_t) * (x - ((1 - alpha_t) / torch.sqrt(\n",
    "                1 - alpha_bar_t)) * self.function_approximator(x, t - 1))\n",
    "            sigma = torch.sqrt(beta_t)\n",
    "            x = mean + sigma * z\n",
    "        return x\n",
    "\n",
    "    @torch.no_grad()\n",
    "    def ddim_sampling(self, n_samples=1, image_channels=1, img_size=(32, 32),\n",
    "                      n_steps=50, use_tqdm=True):\n",
    "\n",
    "        step_size = self.T // n_steps\n",
    "        x = torch.randn((n_samples, image_channels, img_size[0], img_size[1]),\n",
    "                        device=self.device)\n",
    "        progress_bar = tqdm if use_tqdm else lambda x: x\n",
    "\n",
    "        # for i in progress_bar(range(n_steps)):\n",
    "        for i in tqdm(range(n_steps), desc=\"DDIM Sampling\"):\n",
    "            t = self.T - i * step_size\n",
    "            t_tensor = torch.ones(n_samples, dtype=torch.long, device=self.device) * t\n",
    "\n",
    "            alpha_bar_t = self.alpha_bar[t - 1].unsqueeze(-1).unsqueeze(-1).unsqueeze(-1)\n",
    "            alpha_bar_prev = self.alpha_bar[t - step_size - 1].unsqueeze(-1).unsqueeze(-1).unsqueeze(-1) if t > step_size else torch.tensor(1.0).to(self.device)\n",
    "\n",
    "            # Predicted noise\n",
    "            eps_pred = self.function_approximator(x, t_tensor - 1)\n",
    "\n",
    "            # Predicted x_0\n",
    "            x0_pred = (x - torch.sqrt(1 - alpha_bar_t) * eps_pred) / torch.sqrt(alpha_bar_t)\n",
    "\n",
    "            # Direction pointing to xt\n",
    "            dir_xt = torch.sqrt(1 - alpha_bar_prev) * eps_pred\n",
    "\n",
    "            # Update rule\n",
    "            x = torch.sqrt(alpha_bar_prev) * x0_pred + dir_xt\n",
    "\n",
    "        return x\n",
    "\n",
    "    @torch.no_grad()\n",
    "    def dpm_solver_sampling(self, n_samples=1, image_channels=1, img_size=(32, 32), n_steps=10, use_tqdm=True):\n",
    "        \"\"\"\n",
    "        DPM-Solver-2 (Algorithm 1 from https://arxiv.org/pdf/2206.00927).\n",
    "        \"\"\"\n",
    "        step_size = self.T // n_steps\n",
    "        # start from Gaussian noise x_T\n",
    "        xT = torch.randn((n_samples, image_channels, img_size[0], img_size[1]), device=self.device)\n",
    "        x_tilde = xT\n",
    "\n",
    "        for i in tqdm(range(n_steps), desc=\"DPM-Solver Sampling\", disable=not use_tqdm):\n",
    "\n",
    "            t_prev = self.T - i * step_size\n",
    "            t_cur = max(t_prev - step_size, 1)\n",
    "\n",
    "            # midpoint in λ-space\n",
    "            lam_mid = (self.lambdas[t_prev - 1] + self.lambdas[t_cur - 1]) / 2.\n",
    "            # invert λ→t via nearest neighbor lookup\n",
    "            s_i = torch.argmin(torch.abs(self.lambdas - lam_mid)).item() + 1\n",
    "\n",
    "            # λ-step size\n",
    "            h = self.lambdas[t_cur - 1] - self.lambdas[t_prev - 1]\n",
    "\n",
    "            # model evaluation at t_prev\n",
    "            t_prev_tensor = torch.full((n_samples,), t_prev, dtype=torch.long, device=self.device)\n",
    "            u_i = (self.alphas[s_i - 1] / self.alphas[t_prev - 1]) * x_tilde - self.sigmas[s_i - 1] * (\n",
    "                torch.exp(h * 0.5) - 1) * self.function_approximator(x_tilde, t_prev_tensor - 1)\n",
    "\n",
    "            t_s_tensor = torch.full((n_samples,), s_i, dtype=torch.long, device=self.device)\n",
    "            x_tilde = (self.alphas[t_cur - 1] / self.alphas[t_prev - 1]) * x_tilde - self.sigmas[t_cur - 1] * (\n",
    "                torch.exp(h) - 1) * self.function_approximator(u_i, t_s_tensor - 1)\n",
    "\n",
    "        return x_tilde"
   ]
  },
  {
   "cell_type": "code",
   "execution_count": 4,
   "id": "f97847c9",
   "metadata": {},
   "outputs": [
    {
     "name": "stdout",
     "output_type": "stream",
     "text": [
      "Current memory allocated on MPS: 0 bytes\n",
      "Driver memory allocated on MPS: 393216 bytes\n",
      "mps\n"
     ]
    }
   ],
   "source": [
    "if torch.backends.mps.is_available():\n",
    "    g_device = torch.device(\"mps\")\n",
    "    print(f\"Current memory allocated on MPS: {torch.mps.current_allocated_memory()} bytes\")\n",
    "    print(f\"Driver memory allocated on MPS: {torch.mps.driver_allocated_memory()} bytes\")\n",
    "elif torch.cuda.is_available():\n",
    "    g_device = torch.device(\"cuda\")\n",
    "else:\n",
    "    g_device = torch.device(\"cpu\")\n",
    "print(g_device)"
   ]
  },
  {
   "cell_type": "code",
   "execution_count": 5,
   "id": "132274e2",
   "metadata": {},
   "outputs": [],
   "source": [
    "\n",
    "def save_video(img_t_lst, nrows = 9, ncols = 9, v_fp = \"test.mp4\"):\n",
    "    # fig, axes = plt.subplots(nrows, ncols, figsize=(6, 6))\n",
    "    fig, axes = plt.subplots(nrows, ncols)\n",
    "    ims = []\n",
    "    for i, imt in img_t_lst:\n",
    "        frame_ims = []\n",
    "        if not isinstance(i, int):\n",
    "            i = i[0]\n",
    "        for j, ax in enumerate(axes.flat):\n",
    "            # print(f\"{i}_{j}\")\n",
    "            # ax.set_title(f\"{i}_{j}\")\n",
    "            ax.axis('off')\n",
    "            frame_ims.append(ax.imshow(F.to_pil_image(imt[j].to(\"cpu\").clip(0, 1)), cmap='gray'))\n",
    "        ims.append(frame_ims)\n",
    "    ani = animation.ArtistAnimation(fig, ims, interval=50, blit=True, repeat_delay=1000)\n",
    "    # vfp = os.path.join(g_video_path, v_fname)\n",
    "    ani.save(v_fp, writer=\"ffmpeg\", fps=10)"
   ]
  },
  {
   "cell_type": "code",
   "execution_count": 6,
   "id": "18d3d9ba",
   "metadata": {},
   "outputs": [
    {
     "name": "stdout",
     "output_type": "stream",
     "text": [
      "Epoch - 0\n"
     ]
    },
    {
     "name": "stderr",
     "output_type": "stream",
     "text": [
      "Loss: 0.01691; step 1874; epoch 0: 100%|██████████| 1875/1875 [08:53<00:00,  3.52it/s]\n",
      "Sampling: 100%|██████████| 1000/1000 [00:30<00:00, 32.95it/s]\n",
      "INFO:matplotlib.animation:Animation.save using <class 'matplotlib.animation.FFMpegWriter'>\n",
      "INFO:matplotlib.animation:MovieWriter._run: running command: ffmpeg -f rawvideo -vcodec rawvideo -s 640x480 -pix_fmt rgba -framerate 10 -loglevel error -i pipe: -vcodec h264 -pix_fmt yuv420p -y ./temp/Diffusion_00_MNIST_videos/test_000.mp4\n",
      "DDPM Sampling: 100%|██████████| 1000/1000 [00:30<00:00, 33.21it/s]\n",
      "/Users/hyunjae.k/110_HyunJae_Git/2025_Drills/.venv/lib/python3.10/site-packages/torchshow/visualization.py:385: UserWarning: Original input range is not 0-1 when using grayscale mode. Auto-rescaling it to 0-1 by default.\n",
      "  warnings.warn('Original input range is not 0-1 when using grayscale mode. Auto-rescaling it to 0-1 by default.')\n"
     ]
    },
    {
     "name": "stdout",
     "output_type": "stream",
     "text": [
      "DDPM-Sampling 30.111337900161743 seconds\n"
     ]
    },
    {
     "name": "stderr",
     "output_type": "stream",
     "text": [
      "DDIM Sampling: 100%|██████████| 50/50 [00:01<00:00, 32.76it/s]\n",
      "/Users/hyunjae.k/110_HyunJae_Git/2025_Drills/.venv/lib/python3.10/site-packages/torchshow/visualization.py:385: UserWarning: Original input range is not 0-1 when using grayscale mode. Auto-rescaling it to 0-1 by default.\n",
      "  warnings.warn('Original input range is not 0-1 when using grayscale mode. Auto-rescaling it to 0-1 by default.')\n"
     ]
    },
    {
     "name": "stdout",
     "output_type": "stream",
     "text": [
      "DDIM-Sampling 1.5277388095855713 seconds\n"
     ]
    },
    {
     "name": "stderr",
     "output_type": "stream",
     "text": [
      "DPM-Solver Sampling: 100%|██████████| 10/10 [00:00<00:00, 13.51it/s]\n",
      "/Users/hyunjae.k/110_HyunJae_Git/2025_Drills/.venv/lib/python3.10/site-packages/torchshow/visualization.py:385: UserWarning: Original input range is not 0-1 when using grayscale mode. Auto-rescaling it to 0-1 by default.\n",
      "  warnings.warn('Original input range is not 0-1 when using grayscale mode. Auto-rescaling it to 0-1 by default.')\n"
     ]
    },
    {
     "name": "stdout",
     "output_type": "stream",
     "text": [
      "DPM-Solver-Sampling 0.7415530681610107 seconds\n",
      "Epoch - 1\n"
     ]
    },
    {
     "name": "stderr",
     "output_type": "stream",
     "text": [
      "Loss: 0.01313; step 1874; epoch 1: 100%|██████████| 1875/1875 [09:03<00:00,  3.45it/s]\n",
      "DDPM Sampling: 100%|██████████| 1000/1000 [00:29<00:00, 33.35it/s]\n",
      "/Users/hyunjae.k/110_HyunJae_Git/2025_Drills/.venv/lib/python3.10/site-packages/torchshow/visualization.py:385: UserWarning: Original input range is not 0-1 when using grayscale mode. Auto-rescaling it to 0-1 by default.\n",
      "  warnings.warn('Original input range is not 0-1 when using grayscale mode. Auto-rescaling it to 0-1 by default.')\n"
     ]
    },
    {
     "name": "stdout",
     "output_type": "stream",
     "text": [
      "DDPM-Sampling 29.987114906311035 seconds\n"
     ]
    },
    {
     "name": "stderr",
     "output_type": "stream",
     "text": [
      "DDIM Sampling: 100%|██████████| 50/50 [00:01<00:00, 33.61it/s]\n",
      "/Users/hyunjae.k/110_HyunJae_Git/2025_Drills/.venv/lib/python3.10/site-packages/torchshow/visualization.py:385: UserWarning: Original input range is not 0-1 when using grayscale mode. Auto-rescaling it to 0-1 by default.\n",
      "  warnings.warn('Original input range is not 0-1 when using grayscale mode. Auto-rescaling it to 0-1 by default.')\n"
     ]
    },
    {
     "name": "stdout",
     "output_type": "stream",
     "text": [
      "DDIM-Sampling 1.4891462326049805 seconds\n"
     ]
    },
    {
     "name": "stderr",
     "output_type": "stream",
     "text": [
      "DPM-Solver Sampling: 100%|██████████| 10/10 [00:00<00:00, 15.99it/s]\n",
      "/Users/hyunjae.k/110_HyunJae_Git/2025_Drills/.venv/lib/python3.10/site-packages/torchshow/visualization.py:385: UserWarning: Original input range is not 0-1 when using grayscale mode. Auto-rescaling it to 0-1 by default.\n",
      "  warnings.warn('Original input range is not 0-1 when using grayscale mode. Auto-rescaling it to 0-1 by default.')\n"
     ]
    },
    {
     "name": "stdout",
     "output_type": "stream",
     "text": [
      "DPM-Solver-Sampling 0.6265249252319336 seconds\n",
      "Epoch - 2\n"
     ]
    },
    {
     "name": "stderr",
     "output_type": "stream",
     "text": [
      "Loss: 0.02457; step 1874; epoch 2: 100%|██████████| 1875/1875 [09:02<00:00,  3.45it/s]\n",
      "DDPM Sampling: 100%|██████████| 1000/1000 [00:29<00:00, 33.50it/s]\n",
      "/Users/hyunjae.k/110_HyunJae_Git/2025_Drills/.venv/lib/python3.10/site-packages/torchshow/visualization.py:385: UserWarning: Original input range is not 0-1 when using grayscale mode. Auto-rescaling it to 0-1 by default.\n",
      "  warnings.warn('Original input range is not 0-1 when using grayscale mode. Auto-rescaling it to 0-1 by default.')\n"
     ]
    },
    {
     "name": "stdout",
     "output_type": "stream",
     "text": [
      "DDPM-Sampling 29.847867965698242 seconds\n"
     ]
    },
    {
     "name": "stderr",
     "output_type": "stream",
     "text": [
      "DDIM Sampling: 100%|██████████| 50/50 [00:01<00:00, 32.38it/s]\n",
      "/Users/hyunjae.k/110_HyunJae_Git/2025_Drills/.venv/lib/python3.10/site-packages/torchshow/visualization.py:385: UserWarning: Original input range is not 0-1 when using grayscale mode. Auto-rescaling it to 0-1 by default.\n",
      "  warnings.warn('Original input range is not 0-1 when using grayscale mode. Auto-rescaling it to 0-1 by default.')\n"
     ]
    },
    {
     "name": "stdout",
     "output_type": "stream",
     "text": [
      "DDIM-Sampling 1.5456128120422363 seconds\n"
     ]
    },
    {
     "name": "stderr",
     "output_type": "stream",
     "text": [
      "DPM-Solver Sampling: 100%|██████████| 10/10 [00:00<00:00, 15.97it/s]\n",
      "/Users/hyunjae.k/110_HyunJae_Git/2025_Drills/.venv/lib/python3.10/site-packages/torchshow/visualization.py:385: UserWarning: Original input range is not 0-1 when using grayscale mode. Auto-rescaling it to 0-1 by default.\n",
      "  warnings.warn('Original input range is not 0-1 when using grayscale mode. Auto-rescaling it to 0-1 by default.')\n"
     ]
    },
    {
     "name": "stdout",
     "output_type": "stream",
     "text": [
      "DPM-Solver-Sampling 0.627467155456543 seconds\n",
      "Epoch - 3\n"
     ]
    },
    {
     "name": "stderr",
     "output_type": "stream",
     "text": [
      "Loss: 0.01128; step 1874; epoch 3: 100%|██████████| 1875/1875 [09:02<00:00,  3.46it/s]\n",
      "DDPM Sampling: 100%|██████████| 1000/1000 [00:29<00:00, 33.59it/s]\n",
      "/Users/hyunjae.k/110_HyunJae_Git/2025_Drills/.venv/lib/python3.10/site-packages/torchshow/visualization.py:385: UserWarning: Original input range is not 0-1 when using grayscale mode. Auto-rescaling it to 0-1 by default.\n",
      "  warnings.warn('Original input range is not 0-1 when using grayscale mode. Auto-rescaling it to 0-1 by default.')\n"
     ]
    },
    {
     "name": "stdout",
     "output_type": "stream",
     "text": [
      "DDPM-Sampling 29.76765489578247 seconds\n"
     ]
    },
    {
     "name": "stderr",
     "output_type": "stream",
     "text": [
      "DDIM Sampling: 100%|██████████| 50/50 [00:01<00:00, 32.32it/s]\n",
      "/Users/hyunjae.k/110_HyunJae_Git/2025_Drills/.venv/lib/python3.10/site-packages/torchshow/visualization.py:385: UserWarning: Original input range is not 0-1 when using grayscale mode. Auto-rescaling it to 0-1 by default.\n",
      "  warnings.warn('Original input range is not 0-1 when using grayscale mode. Auto-rescaling it to 0-1 by default.')\n"
     ]
    },
    {
     "name": "stdout",
     "output_type": "stream",
     "text": [
      "DDIM-Sampling 1.547975778579712 seconds\n"
     ]
    },
    {
     "name": "stderr",
     "output_type": "stream",
     "text": [
      "DPM-Solver Sampling: 100%|██████████| 10/10 [00:00<00:00, 16.14it/s]\n",
      "/Users/hyunjae.k/110_HyunJae_Git/2025_Drills/.venv/lib/python3.10/site-packages/torchshow/visualization.py:385: UserWarning: Original input range is not 0-1 when using grayscale mode. Auto-rescaling it to 0-1 by default.\n",
      "  warnings.warn('Original input range is not 0-1 when using grayscale mode. Auto-rescaling it to 0-1 by default.')\n"
     ]
    },
    {
     "name": "stdout",
     "output_type": "stream",
     "text": [
      "DPM-Solver-Sampling 0.6206917762756348 seconds\n",
      "Epoch - 4\n"
     ]
    },
    {
     "name": "stderr",
     "output_type": "stream",
     "text": [
      "Loss: 0.01800; step 1874; epoch 4: 100%|██████████| 1875/1875 [09:02<00:00,  3.46it/s]\n",
      "DDPM Sampling: 100%|██████████| 1000/1000 [00:30<00:00, 33.26it/s]\n",
      "/Users/hyunjae.k/110_HyunJae_Git/2025_Drills/.venv/lib/python3.10/site-packages/torchshow/visualization.py:385: UserWarning: Original input range is not 0-1 when using grayscale mode. Auto-rescaling it to 0-1 by default.\n",
      "  warnings.warn('Original input range is not 0-1 when using grayscale mode. Auto-rescaling it to 0-1 by default.')\n"
     ]
    },
    {
     "name": "stdout",
     "output_type": "stream",
     "text": [
      "DDPM-Sampling 30.065083742141724 seconds\n"
     ]
    },
    {
     "name": "stderr",
     "output_type": "stream",
     "text": [
      "DDIM Sampling: 100%|██████████| 50/50 [00:01<00:00, 31.80it/s]\n",
      "/Users/hyunjae.k/110_HyunJae_Git/2025_Drills/.venv/lib/python3.10/site-packages/torchshow/visualization.py:385: UserWarning: Original input range is not 0-1 when using grayscale mode. Auto-rescaling it to 0-1 by default.\n",
      "  warnings.warn('Original input range is not 0-1 when using grayscale mode. Auto-rescaling it to 0-1 by default.')\n"
     ]
    },
    {
     "name": "stdout",
     "output_type": "stream",
     "text": [
      "DDIM-Sampling 1.5736138820648193 seconds\n"
     ]
    },
    {
     "name": "stderr",
     "output_type": "stream",
     "text": [
      "DPM-Solver Sampling: 100%|██████████| 10/10 [00:00<00:00, 15.45it/s]\n",
      "/Users/hyunjae.k/110_HyunJae_Git/2025_Drills/.venv/lib/python3.10/site-packages/torchshow/visualization.py:385: UserWarning: Original input range is not 0-1 when using grayscale mode. Auto-rescaling it to 0-1 by default.\n",
      "  warnings.warn('Original input range is not 0-1 when using grayscale mode. Auto-rescaling it to 0-1 by default.')\n"
     ]
    },
    {
     "name": "stdout",
     "output_type": "stream",
     "text": [
      "DPM-Solver-Sampling 0.6482698917388916 seconds\n",
      "Epoch - 5\n"
     ]
    },
    {
     "name": "stderr",
     "output_type": "stream",
     "text": [
      "Loss: 0.00972; step 1874; epoch 5: 100%|██████████| 1875/1875 [09:01<00:00,  3.46it/s]\n",
      "Sampling: 100%|██████████| 1000/1000 [00:29<00:00, 34.15it/s]\n",
      "INFO:matplotlib.animation:Animation.save using <class 'matplotlib.animation.FFMpegWriter'>\n",
      "INFO:matplotlib.animation:MovieWriter._run: running command: ffmpeg -f rawvideo -vcodec rawvideo -s 640x480 -pix_fmt rgba -framerate 10 -loglevel error -i pipe: -vcodec h264 -pix_fmt yuv420p -y ./temp/Diffusion_00_MNIST_videos/test_005.mp4\n",
      "DDPM Sampling: 100%|██████████| 1000/1000 [00:29<00:00, 34.17it/s]\n",
      "/Users/hyunjae.k/110_HyunJae_Git/2025_Drills/.venv/lib/python3.10/site-packages/torchshow/visualization.py:385: UserWarning: Original input range is not 0-1 when using grayscale mode. Auto-rescaling it to 0-1 by default.\n",
      "  warnings.warn('Original input range is not 0-1 when using grayscale mode. Auto-rescaling it to 0-1 by default.')\n"
     ]
    },
    {
     "name": "stdout",
     "output_type": "stream",
     "text": [
      "DDPM-Sampling 29.26871395111084 seconds\n"
     ]
    },
    {
     "name": "stderr",
     "output_type": "stream",
     "text": [
      "DDIM Sampling: 100%|██████████| 50/50 [00:01<00:00, 33.45it/s]\n",
      "/Users/hyunjae.k/110_HyunJae_Git/2025_Drills/.venv/lib/python3.10/site-packages/torchshow/visualization.py:385: UserWarning: Original input range is not 0-1 when using grayscale mode. Auto-rescaling it to 0-1 by default.\n",
      "  warnings.warn('Original input range is not 0-1 when using grayscale mode. Auto-rescaling it to 0-1 by default.')\n"
     ]
    },
    {
     "name": "stdout",
     "output_type": "stream",
     "text": [
      "DDIM-Sampling 1.496164083480835 seconds\n"
     ]
    },
    {
     "name": "stderr",
     "output_type": "stream",
     "text": [
      "DPM-Solver Sampling: 100%|██████████| 10/10 [00:00<00:00, 15.85it/s]\n",
      "/Users/hyunjae.k/110_HyunJae_Git/2025_Drills/.venv/lib/python3.10/site-packages/torchshow/visualization.py:385: UserWarning: Original input range is not 0-1 when using grayscale mode. Auto-rescaling it to 0-1 by default.\n",
      "  warnings.warn('Original input range is not 0-1 when using grayscale mode. Auto-rescaling it to 0-1 by default.')\n"
     ]
    },
    {
     "name": "stdout",
     "output_type": "stream",
     "text": [
      "DPM-Solver-Sampling 0.6319971084594727 seconds\n",
      "Epoch - 6\n"
     ]
    },
    {
     "name": "stderr",
     "output_type": "stream",
     "text": [
      "Loss: 0.00845; step 1874; epoch 6: 100%|██████████| 1875/1875 [08:54<00:00,  3.51it/s]\n",
      "DDPM Sampling: 100%|██████████| 1000/1000 [00:30<00:00, 33.01it/s]\n",
      "/Users/hyunjae.k/110_HyunJae_Git/2025_Drills/.venv/lib/python3.10/site-packages/torchshow/visualization.py:385: UserWarning: Original input range is not 0-1 when using grayscale mode. Auto-rescaling it to 0-1 by default.\n",
      "  warnings.warn('Original input range is not 0-1 when using grayscale mode. Auto-rescaling it to 0-1 by default.')\n"
     ]
    },
    {
     "name": "stdout",
     "output_type": "stream",
     "text": [
      "DDPM-Sampling 30.292716026306152 seconds\n"
     ]
    },
    {
     "name": "stderr",
     "output_type": "stream",
     "text": [
      "DDIM Sampling: 100%|██████████| 50/50 [00:01<00:00, 32.77it/s]\n",
      "/Users/hyunjae.k/110_HyunJae_Git/2025_Drills/.venv/lib/python3.10/site-packages/torchshow/visualization.py:385: UserWarning: Original input range is not 0-1 when using grayscale mode. Auto-rescaling it to 0-1 by default.\n",
      "  warnings.warn('Original input range is not 0-1 when using grayscale mode. Auto-rescaling it to 0-1 by default.')\n"
     ]
    },
    {
     "name": "stdout",
     "output_type": "stream",
     "text": [
      "DDIM-Sampling 1.526944875717163 seconds\n"
     ]
    },
    {
     "name": "stderr",
     "output_type": "stream",
     "text": [
      "DPM-Solver Sampling: 100%|██████████| 10/10 [00:00<00:00, 16.75it/s]\n",
      "/Users/hyunjae.k/110_HyunJae_Git/2025_Drills/.venv/lib/python3.10/site-packages/torchshow/visualization.py:385: UserWarning: Original input range is not 0-1 when using grayscale mode. Auto-rescaling it to 0-1 by default.\n",
      "  warnings.warn('Original input range is not 0-1 when using grayscale mode. Auto-rescaling it to 0-1 by default.')\n"
     ]
    },
    {
     "name": "stdout",
     "output_type": "stream",
     "text": [
      "DPM-Solver-Sampling 0.5984940528869629 seconds\n",
      "Epoch - 7\n"
     ]
    },
    {
     "name": "stderr",
     "output_type": "stream",
     "text": [
      "Loss: 0.01351; step 1874; epoch 7: 100%|██████████| 1875/1875 [08:53<00:00,  3.51it/s]\n",
      "DDPM Sampling: 100%|██████████| 1000/1000 [00:28<00:00, 35.61it/s]\n",
      "/Users/hyunjae.k/110_HyunJae_Git/2025_Drills/.venv/lib/python3.10/site-packages/torchshow/visualization.py:385: UserWarning: Original input range is not 0-1 when using grayscale mode. Auto-rescaling it to 0-1 by default.\n",
      "  warnings.warn('Original input range is not 0-1 when using grayscale mode. Auto-rescaling it to 0-1 by default.')\n"
     ]
    },
    {
     "name": "stdout",
     "output_type": "stream",
     "text": [
      "DDPM-Sampling 28.08502984046936 seconds\n"
     ]
    },
    {
     "name": "stderr",
     "output_type": "stream",
     "text": [
      "DDIM Sampling: 100%|██████████| 50/50 [00:01<00:00, 34.52it/s]\n",
      "/Users/hyunjae.k/110_HyunJae_Git/2025_Drills/.venv/lib/python3.10/site-packages/torchshow/visualization.py:385: UserWarning: Original input range is not 0-1 when using grayscale mode. Auto-rescaling it to 0-1 by default.\n",
      "  warnings.warn('Original input range is not 0-1 when using grayscale mode. Auto-rescaling it to 0-1 by default.')\n"
     ]
    },
    {
     "name": "stdout",
     "output_type": "stream",
     "text": [
      "DDIM-Sampling 1.4495129585266113 seconds\n"
     ]
    },
    {
     "name": "stderr",
     "output_type": "stream",
     "text": [
      "DPM-Solver Sampling: 100%|██████████| 10/10 [00:00<00:00, 17.33it/s]\n",
      "/Users/hyunjae.k/110_HyunJae_Git/2025_Drills/.venv/lib/python3.10/site-packages/torchshow/visualization.py:385: UserWarning: Original input range is not 0-1 when using grayscale mode. Auto-rescaling it to 0-1 by default.\n",
      "  warnings.warn('Original input range is not 0-1 when using grayscale mode. Auto-rescaling it to 0-1 by default.')\n"
     ]
    },
    {
     "name": "stdout",
     "output_type": "stream",
     "text": [
      "DPM-Solver-Sampling 0.5779528617858887 seconds\n",
      "Epoch - 8\n"
     ]
    },
    {
     "name": "stderr",
     "output_type": "stream",
     "text": [
      "Loss: 0.00752; step 1874; epoch 8: 100%|██████████| 1875/1875 [08:52<00:00,  3.52it/s]\n",
      "DDPM Sampling: 100%|██████████| 1000/1000 [00:28<00:00, 35.54it/s]\n",
      "/Users/hyunjae.k/110_HyunJae_Git/2025_Drills/.venv/lib/python3.10/site-packages/torchshow/visualization.py:385: UserWarning: Original input range is not 0-1 when using grayscale mode. Auto-rescaling it to 0-1 by default.\n",
      "  warnings.warn('Original input range is not 0-1 when using grayscale mode. Auto-rescaling it to 0-1 by default.')\n"
     ]
    },
    {
     "name": "stdout",
     "output_type": "stream",
     "text": [
      "DDPM-Sampling 28.14214301109314 seconds\n"
     ]
    },
    {
     "name": "stderr",
     "output_type": "stream",
     "text": [
      "DDIM Sampling: 100%|██████████| 50/50 [00:01<00:00, 34.77it/s]\n",
      "/Users/hyunjae.k/110_HyunJae_Git/2025_Drills/.venv/lib/python3.10/site-packages/torchshow/visualization.py:385: UserWarning: Original input range is not 0-1 when using grayscale mode. Auto-rescaling it to 0-1 by default.\n",
      "  warnings.warn('Original input range is not 0-1 when using grayscale mode. Auto-rescaling it to 0-1 by default.')\n"
     ]
    },
    {
     "name": "stdout",
     "output_type": "stream",
     "text": [
      "DDIM-Sampling 1.4391229152679443 seconds\n"
     ]
    },
    {
     "name": "stderr",
     "output_type": "stream",
     "text": [
      "DPM-Solver Sampling: 100%|██████████| 10/10 [00:00<00:00, 16.64it/s]\n",
      "/Users/hyunjae.k/110_HyunJae_Git/2025_Drills/.venv/lib/python3.10/site-packages/torchshow/visualization.py:385: UserWarning: Original input range is not 0-1 when using grayscale mode. Auto-rescaling it to 0-1 by default.\n",
      "  warnings.warn('Original input range is not 0-1 when using grayscale mode. Auto-rescaling it to 0-1 by default.')\n"
     ]
    },
    {
     "name": "stdout",
     "output_type": "stream",
     "text": [
      "DPM-Solver-Sampling 0.6022651195526123 seconds\n",
      "Epoch - 9\n"
     ]
    },
    {
     "name": "stderr",
     "output_type": "stream",
     "text": [
      "Loss: 0.00543; step 1874; epoch 9: 100%|██████████| 1875/1875 [08:51<00:00,  3.53it/s]\n",
      "DDPM Sampling: 100%|██████████| 1000/1000 [00:28<00:00, 35.52it/s]\n",
      "/Users/hyunjae.k/110_HyunJae_Git/2025_Drills/.venv/lib/python3.10/site-packages/torchshow/visualization.py:385: UserWarning: Original input range is not 0-1 when using grayscale mode. Auto-rescaling it to 0-1 by default.\n",
      "  warnings.warn('Original input range is not 0-1 when using grayscale mode. Auto-rescaling it to 0-1 by default.')\n"
     ]
    },
    {
     "name": "stdout",
     "output_type": "stream",
     "text": [
      "DDPM-Sampling 28.15224313735962 seconds\n"
     ]
    },
    {
     "name": "stderr",
     "output_type": "stream",
     "text": [
      "DDIM Sampling: 100%|██████████| 50/50 [00:01<00:00, 34.86it/s]\n",
      "/Users/hyunjae.k/110_HyunJae_Git/2025_Drills/.venv/lib/python3.10/site-packages/torchshow/visualization.py:385: UserWarning: Original input range is not 0-1 when using grayscale mode. Auto-rescaling it to 0-1 by default.\n",
      "  warnings.warn('Original input range is not 0-1 when using grayscale mode. Auto-rescaling it to 0-1 by default.')\n"
     ]
    },
    {
     "name": "stdout",
     "output_type": "stream",
     "text": [
      "DDIM-Sampling 1.4356529712677002 seconds\n"
     ]
    },
    {
     "name": "stderr",
     "output_type": "stream",
     "text": [
      "DPM-Solver Sampling: 100%|██████████| 10/10 [00:00<00:00, 16.69it/s]\n",
      "/Users/hyunjae.k/110_HyunJae_Git/2025_Drills/.venv/lib/python3.10/site-packages/torchshow/visualization.py:385: UserWarning: Original input range is not 0-1 when using grayscale mode. Auto-rescaling it to 0-1 by default.\n",
      "  warnings.warn('Original input range is not 0-1 when using grayscale mode. Auto-rescaling it to 0-1 by default.')\n"
     ]
    },
    {
     "name": "stdout",
     "output_type": "stream",
     "text": [
      "DPM-Solver-Sampling 0.6004350185394287 seconds\n",
      "Epoch - 10\n"
     ]
    },
    {
     "name": "stderr",
     "output_type": "stream",
     "text": [
      "Loss: 0.01436; step 1874; epoch 10: 100%|██████████| 1875/1875 [08:53<00:00,  3.51it/s]\n",
      "Sampling: 100%|██████████| 1000/1000 [00:27<00:00, 35.73it/s]\n",
      "INFO:matplotlib.animation:Animation.save using <class 'matplotlib.animation.FFMpegWriter'>\n",
      "INFO:matplotlib.animation:MovieWriter._run: running command: ffmpeg -f rawvideo -vcodec rawvideo -s 640x480 -pix_fmt rgba -framerate 10 -loglevel error -i pipe: -vcodec h264 -pix_fmt yuv420p -y ./temp/Diffusion_00_MNIST_videos/test_010.mp4\n",
      "DDPM Sampling: 100%|██████████| 1000/1000 [00:28<00:00, 35.58it/s]\n",
      "/Users/hyunjae.k/110_HyunJae_Git/2025_Drills/.venv/lib/python3.10/site-packages/torchshow/visualization.py:385: UserWarning: Original input range is not 0-1 when using grayscale mode. Auto-rescaling it to 0-1 by default.\n",
      "  warnings.warn('Original input range is not 0-1 when using grayscale mode. Auto-rescaling it to 0-1 by default.')\n"
     ]
    },
    {
     "name": "stdout",
     "output_type": "stream",
     "text": [
      "DDPM-Sampling 28.10714292526245 seconds\n"
     ]
    },
    {
     "name": "stderr",
     "output_type": "stream",
     "text": [
      "DDIM Sampling: 100%|██████████| 50/50 [00:01<00:00, 34.20it/s]\n",
      "/Users/hyunjae.k/110_HyunJae_Git/2025_Drills/.venv/lib/python3.10/site-packages/torchshow/visualization.py:385: UserWarning: Original input range is not 0-1 when using grayscale mode. Auto-rescaling it to 0-1 by default.\n",
      "  warnings.warn('Original input range is not 0-1 when using grayscale mode. Auto-rescaling it to 0-1 by default.')\n"
     ]
    },
    {
     "name": "stdout",
     "output_type": "stream",
     "text": [
      "DDIM-Sampling 1.463301181793213 seconds\n"
     ]
    },
    {
     "name": "stderr",
     "output_type": "stream",
     "text": [
      "DPM-Solver Sampling: 100%|██████████| 10/10 [00:00<00:00, 16.56it/s]\n",
      "/Users/hyunjae.k/110_HyunJae_Git/2025_Drills/.venv/lib/python3.10/site-packages/torchshow/visualization.py:385: UserWarning: Original input range is not 0-1 when using grayscale mode. Auto-rescaling it to 0-1 by default.\n",
      "  warnings.warn('Original input range is not 0-1 when using grayscale mode. Auto-rescaling it to 0-1 by default.')\n"
     ]
    },
    {
     "name": "stdout",
     "output_type": "stream",
     "text": [
      "DPM-Solver-Sampling 0.6049971580505371 seconds\n",
      "Epoch - 11\n"
     ]
    },
    {
     "name": "stderr",
     "output_type": "stream",
     "text": [
      "Loss: 0.01155; step 1874; epoch 11: 100%|██████████| 1875/1875 [08:52<00:00,  3.52it/s]\n",
      "DDPM Sampling: 100%|██████████| 1000/1000 [00:28<00:00, 35.51it/s]\n",
      "/Users/hyunjae.k/110_HyunJae_Git/2025_Drills/.venv/lib/python3.10/site-packages/torchshow/visualization.py:385: UserWarning: Original input range is not 0-1 when using grayscale mode. Auto-rescaling it to 0-1 by default.\n",
      "  warnings.warn('Original input range is not 0-1 when using grayscale mode. Auto-rescaling it to 0-1 by default.')\n"
     ]
    },
    {
     "name": "stdout",
     "output_type": "stream",
     "text": [
      "DDPM-Sampling 28.15959882736206 seconds\n"
     ]
    },
    {
     "name": "stderr",
     "output_type": "stream",
     "text": [
      "DDIM Sampling: 100%|██████████| 50/50 [00:01<00:00, 34.27it/s]\n",
      "/Users/hyunjae.k/110_HyunJae_Git/2025_Drills/.venv/lib/python3.10/site-packages/torchshow/visualization.py:385: UserWarning: Original input range is not 0-1 when using grayscale mode. Auto-rescaling it to 0-1 by default.\n",
      "  warnings.warn('Original input range is not 0-1 when using grayscale mode. Auto-rescaling it to 0-1 by default.')\n"
     ]
    },
    {
     "name": "stdout",
     "output_type": "stream",
     "text": [
      "DDIM-Sampling 1.460184097290039 seconds\n"
     ]
    },
    {
     "name": "stderr",
     "output_type": "stream",
     "text": [
      "DPM-Solver Sampling: 100%|██████████| 10/10 [00:00<00:00, 16.95it/s]\n",
      "/Users/hyunjae.k/110_HyunJae_Git/2025_Drills/.venv/lib/python3.10/site-packages/torchshow/visualization.py:385: UserWarning: Original input range is not 0-1 when using grayscale mode. Auto-rescaling it to 0-1 by default.\n",
      "  warnings.warn('Original input range is not 0-1 when using grayscale mode. Auto-rescaling it to 0-1 by default.')\n"
     ]
    },
    {
     "name": "stdout",
     "output_type": "stream",
     "text": [
      "DPM-Solver-Sampling 0.5912477970123291 seconds\n",
      "Epoch - 12\n"
     ]
    },
    {
     "name": "stderr",
     "output_type": "stream",
     "text": [
      "Loss: 0.00620; step 1874; epoch 12: 100%|██████████| 1875/1875 [08:55<00:00,  3.50it/s]\n",
      "DDPM Sampling: 100%|██████████| 1000/1000 [00:28<00:00, 35.41it/s]\n",
      "/Users/hyunjae.k/110_HyunJae_Git/2025_Drills/.venv/lib/python3.10/site-packages/torchshow/visualization.py:385: UserWarning: Original input range is not 0-1 when using grayscale mode. Auto-rescaling it to 0-1 by default.\n",
      "  warnings.warn('Original input range is not 0-1 when using grayscale mode. Auto-rescaling it to 0-1 by default.')\n"
     ]
    },
    {
     "name": "stdout",
     "output_type": "stream",
     "text": [
      "DDPM-Sampling 28.240389823913574 seconds\n"
     ]
    },
    {
     "name": "stderr",
     "output_type": "stream",
     "text": [
      "DDIM Sampling: 100%|██████████| 50/50 [00:01<00:00, 34.22it/s]\n",
      "/Users/hyunjae.k/110_HyunJae_Git/2025_Drills/.venv/lib/python3.10/site-packages/torchshow/visualization.py:385: UserWarning: Original input range is not 0-1 when using grayscale mode. Auto-rescaling it to 0-1 by default.\n",
      "  warnings.warn('Original input range is not 0-1 when using grayscale mode. Auto-rescaling it to 0-1 by default.')\n"
     ]
    },
    {
     "name": "stdout",
     "output_type": "stream",
     "text": [
      "DDIM-Sampling 1.4624319076538086 seconds\n"
     ]
    },
    {
     "name": "stderr",
     "output_type": "stream",
     "text": [
      "DPM-Solver Sampling: 100%|██████████| 10/10 [00:00<00:00, 16.82it/s]\n",
      "/Users/hyunjae.k/110_HyunJae_Git/2025_Drills/.venv/lib/python3.10/site-packages/torchshow/visualization.py:385: UserWarning: Original input range is not 0-1 when using grayscale mode. Auto-rescaling it to 0-1 by default.\n",
      "  warnings.warn('Original input range is not 0-1 when using grayscale mode. Auto-rescaling it to 0-1 by default.')\n"
     ]
    },
    {
     "name": "stdout",
     "output_type": "stream",
     "text": [
      "DPM-Solver-Sampling 0.5956521034240723 seconds\n",
      "Epoch - 13\n"
     ]
    },
    {
     "name": "stderr",
     "output_type": "stream",
     "text": [
      "Loss: 0.00904; step 1874; epoch 13: 100%|██████████| 1875/1875 [08:47<00:00,  3.55it/s]\n",
      "DDPM Sampling: 100%|██████████| 1000/1000 [00:27<00:00, 35.93it/s]\n",
      "/Users/hyunjae.k/110_HyunJae_Git/2025_Drills/.venv/lib/python3.10/site-packages/torchshow/visualization.py:385: UserWarning: Original input range is not 0-1 when using grayscale mode. Auto-rescaling it to 0-1 by default.\n",
      "  warnings.warn('Original input range is not 0-1 when using grayscale mode. Auto-rescaling it to 0-1 by default.')\n"
     ]
    },
    {
     "name": "stdout",
     "output_type": "stream",
     "text": [
      "DDPM-Sampling 27.83445382118225 seconds\n"
     ]
    },
    {
     "name": "stderr",
     "output_type": "stream",
     "text": [
      "DDIM Sampling: 100%|██████████| 50/50 [00:01<00:00, 35.87it/s]\n",
      "/Users/hyunjae.k/110_HyunJae_Git/2025_Drills/.venv/lib/python3.10/site-packages/torchshow/visualization.py:385: UserWarning: Original input range is not 0-1 when using grayscale mode. Auto-rescaling it to 0-1 by default.\n",
      "  warnings.warn('Original input range is not 0-1 when using grayscale mode. Auto-rescaling it to 0-1 by default.')\n"
     ]
    },
    {
     "name": "stdout",
     "output_type": "stream",
     "text": [
      "DDIM-Sampling 1.3950650691986084 seconds\n"
     ]
    },
    {
     "name": "stderr",
     "output_type": "stream",
     "text": [
      "DPM-Solver Sampling: 100%|██████████| 10/10 [00:00<00:00, 17.66it/s]\n",
      "/Users/hyunjae.k/110_HyunJae_Git/2025_Drills/.venv/lib/python3.10/site-packages/torchshow/visualization.py:385: UserWarning: Original input range is not 0-1 when using grayscale mode. Auto-rescaling it to 0-1 by default.\n",
      "  warnings.warn('Original input range is not 0-1 when using grayscale mode. Auto-rescaling it to 0-1 by default.')\n"
     ]
    },
    {
     "name": "stdout",
     "output_type": "stream",
     "text": [
      "DPM-Solver-Sampling 0.5672359466552734 seconds\n",
      "Epoch - 14\n"
     ]
    },
    {
     "name": "stderr",
     "output_type": "stream",
     "text": [
      "Loss: 0.00707; step 1874; epoch 14: 100%|██████████| 1875/1875 [08:40<00:00,  3.60it/s]\n",
      "DDPM Sampling: 100%|██████████| 1000/1000 [00:27<00:00, 35.90it/s]\n",
      "/Users/hyunjae.k/110_HyunJae_Git/2025_Drills/.venv/lib/python3.10/site-packages/torchshow/visualization.py:385: UserWarning: Original input range is not 0-1 when using grayscale mode. Auto-rescaling it to 0-1 by default.\n",
      "  warnings.warn('Original input range is not 0-1 when using grayscale mode. Auto-rescaling it to 0-1 by default.')\n"
     ]
    },
    {
     "name": "stdout",
     "output_type": "stream",
     "text": [
      "DDPM-Sampling 27.856010913848877 seconds\n"
     ]
    },
    {
     "name": "stderr",
     "output_type": "stream",
     "text": [
      "DDIM Sampling: 100%|██████████| 50/50 [00:01<00:00, 35.86it/s]\n",
      "/Users/hyunjae.k/110_HyunJae_Git/2025_Drills/.venv/lib/python3.10/site-packages/torchshow/visualization.py:385: UserWarning: Original input range is not 0-1 when using grayscale mode. Auto-rescaling it to 0-1 by default.\n",
      "  warnings.warn('Original input range is not 0-1 when using grayscale mode. Auto-rescaling it to 0-1 by default.')\n"
     ]
    },
    {
     "name": "stdout",
     "output_type": "stream",
     "text": [
      "DDIM-Sampling 1.3954486846923828 seconds\n"
     ]
    },
    {
     "name": "stderr",
     "output_type": "stream",
     "text": [
      "DPM-Solver Sampling: 100%|██████████| 10/10 [00:00<00:00, 17.82it/s]\n",
      "/Users/hyunjae.k/110_HyunJae_Git/2025_Drills/.venv/lib/python3.10/site-packages/torchshow/visualization.py:385: UserWarning: Original input range is not 0-1 when using grayscale mode. Auto-rescaling it to 0-1 by default.\n",
      "  warnings.warn('Original input range is not 0-1 when using grayscale mode. Auto-rescaling it to 0-1 by default.')\n"
     ]
    },
    {
     "name": "stdout",
     "output_type": "stream",
     "text": [
      "DPM-Solver-Sampling 0.562047004699707 seconds\n",
      "Epoch - 15\n"
     ]
    },
    {
     "name": "stderr",
     "output_type": "stream",
     "text": [
      "Loss: 0.00892; step 1874; epoch 15: 100%|██████████| 1875/1875 [08:40<00:00,  3.60it/s]\n",
      "Sampling: 100%|██████████| 1000/1000 [00:27<00:00, 35.93it/s]\n",
      "INFO:matplotlib.animation:Animation.save using <class 'matplotlib.animation.FFMpegWriter'>\n",
      "INFO:matplotlib.animation:MovieWriter._run: running command: ffmpeg -f rawvideo -vcodec rawvideo -s 640x480 -pix_fmt rgba -framerate 10 -loglevel error -i pipe: -vcodec h264 -pix_fmt yuv420p -y ./temp/Diffusion_00_MNIST_videos/test_015.mp4\n",
      "DDPM Sampling: 100%|██████████| 1000/1000 [00:27<00:00, 35.90it/s]\n",
      "/Users/hyunjae.k/110_HyunJae_Git/2025_Drills/.venv/lib/python3.10/site-packages/torchshow/visualization.py:385: UserWarning: Original input range is not 0-1 when using grayscale mode. Auto-rescaling it to 0-1 by default.\n",
      "  warnings.warn('Original input range is not 0-1 when using grayscale mode. Auto-rescaling it to 0-1 by default.')\n"
     ]
    },
    {
     "name": "stdout",
     "output_type": "stream",
     "text": [
      "DDPM-Sampling 27.859853744506836 seconds\n"
     ]
    },
    {
     "name": "stderr",
     "output_type": "stream",
     "text": [
      "DDIM Sampling: 100%|██████████| 50/50 [00:01<00:00, 35.18it/s]\n",
      "/Users/hyunjae.k/110_HyunJae_Git/2025_Drills/.venv/lib/python3.10/site-packages/torchshow/visualization.py:385: UserWarning: Original input range is not 0-1 when using grayscale mode. Auto-rescaling it to 0-1 by default.\n",
      "  warnings.warn('Original input range is not 0-1 when using grayscale mode. Auto-rescaling it to 0-1 by default.')\n"
     ]
    },
    {
     "name": "stdout",
     "output_type": "stream",
     "text": [
      "DDIM-Sampling 1.4222729206085205 seconds\n"
     ]
    },
    {
     "name": "stderr",
     "output_type": "stream",
     "text": [
      "DPM-Solver Sampling: 100%|██████████| 10/10 [00:00<00:00, 17.61it/s]\n",
      "/Users/hyunjae.k/110_HyunJae_Git/2025_Drills/.venv/lib/python3.10/site-packages/torchshow/visualization.py:385: UserWarning: Original input range is not 0-1 when using grayscale mode. Auto-rescaling it to 0-1 by default.\n",
      "  warnings.warn('Original input range is not 0-1 when using grayscale mode. Auto-rescaling it to 0-1 by default.')\n"
     ]
    },
    {
     "name": "stdout",
     "output_type": "stream",
     "text": [
      "DPM-Solver-Sampling 0.5690028667449951 seconds\n",
      "Epoch - 16\n"
     ]
    },
    {
     "name": "stderr",
     "output_type": "stream",
     "text": [
      "Loss: 0.01208; step 1874; epoch 16: 100%|██████████| 1875/1875 [08:47<00:00,  3.56it/s]\n",
      "DDPM Sampling: 100%|██████████| 1000/1000 [00:29<00:00, 33.77it/s]\n",
      "/Users/hyunjae.k/110_HyunJae_Git/2025_Drills/.venv/lib/python3.10/site-packages/torchshow/visualization.py:385: UserWarning: Original input range is not 0-1 when using grayscale mode. Auto-rescaling it to 0-1 by default.\n",
      "  warnings.warn('Original input range is not 0-1 when using grayscale mode. Auto-rescaling it to 0-1 by default.')\n"
     ]
    },
    {
     "name": "stdout",
     "output_type": "stream",
     "text": [
      "DDPM-Sampling 29.612315893173218 seconds\n"
     ]
    },
    {
     "name": "stderr",
     "output_type": "stream",
     "text": [
      "DDIM Sampling: 100%|██████████| 50/50 [00:01<00:00, 33.52it/s]\n",
      "/Users/hyunjae.k/110_HyunJae_Git/2025_Drills/.venv/lib/python3.10/site-packages/torchshow/visualization.py:385: UserWarning: Original input range is not 0-1 when using grayscale mode. Auto-rescaling it to 0-1 by default.\n",
      "  warnings.warn('Original input range is not 0-1 when using grayscale mode. Auto-rescaling it to 0-1 by default.')\n"
     ]
    },
    {
     "name": "stdout",
     "output_type": "stream",
     "text": [
      "DDIM-Sampling 1.4933891296386719 seconds\n"
     ]
    },
    {
     "name": "stderr",
     "output_type": "stream",
     "text": [
      "DPM-Solver Sampling: 100%|██████████| 10/10 [00:00<00:00, 16.99it/s]\n",
      "/Users/hyunjae.k/110_HyunJae_Git/2025_Drills/.venv/lib/python3.10/site-packages/torchshow/visualization.py:385: UserWarning: Original input range is not 0-1 when using grayscale mode. Auto-rescaling it to 0-1 by default.\n",
      "  warnings.warn('Original input range is not 0-1 when using grayscale mode. Auto-rescaling it to 0-1 by default.')\n"
     ]
    },
    {
     "name": "stdout",
     "output_type": "stream",
     "text": [
      "DPM-Solver-Sampling 0.5897316932678223 seconds\n",
      "Epoch - 17\n"
     ]
    },
    {
     "name": "stderr",
     "output_type": "stream",
     "text": [
      "Loss: 0.00572; step 1874; epoch 17: 100%|██████████| 1875/1875 [09:07<00:00,  3.42it/s]\n",
      "DDPM Sampling: 100%|██████████| 1000/1000 [00:29<00:00, 33.96it/s]\n",
      "/Users/hyunjae.k/110_HyunJae_Git/2025_Drills/.venv/lib/python3.10/site-packages/torchshow/visualization.py:385: UserWarning: Original input range is not 0-1 when using grayscale mode. Auto-rescaling it to 0-1 by default.\n",
      "  warnings.warn('Original input range is not 0-1 when using grayscale mode. Auto-rescaling it to 0-1 by default.')\n"
     ]
    },
    {
     "name": "stdout",
     "output_type": "stream",
     "text": [
      "DDPM-Sampling 29.4513258934021 seconds\n"
     ]
    },
    {
     "name": "stderr",
     "output_type": "stream",
     "text": [
      "DDIM Sampling: 100%|██████████| 50/50 [00:01<00:00, 33.87it/s]\n",
      "/Users/hyunjae.k/110_HyunJae_Git/2025_Drills/.venv/lib/python3.10/site-packages/torchshow/visualization.py:385: UserWarning: Original input range is not 0-1 when using grayscale mode. Auto-rescaling it to 0-1 by default.\n",
      "  warnings.warn('Original input range is not 0-1 when using grayscale mode. Auto-rescaling it to 0-1 by default.')\n"
     ]
    },
    {
     "name": "stdout",
     "output_type": "stream",
     "text": [
      "DDIM-Sampling 1.477599859237671 seconds\n"
     ]
    },
    {
     "name": "stderr",
     "output_type": "stream",
     "text": [
      "DPM-Solver Sampling: 100%|██████████| 10/10 [00:00<00:00, 16.21it/s]\n",
      "/Users/hyunjae.k/110_HyunJae_Git/2025_Drills/.venv/lib/python3.10/site-packages/torchshow/visualization.py:385: UserWarning: Original input range is not 0-1 when using grayscale mode. Auto-rescaling it to 0-1 by default.\n",
      "  warnings.warn('Original input range is not 0-1 when using grayscale mode. Auto-rescaling it to 0-1 by default.')\n"
     ]
    },
    {
     "name": "stdout",
     "output_type": "stream",
     "text": [
      "DPM-Solver-Sampling 0.6179409027099609 seconds\n",
      "Epoch - 18\n"
     ]
    },
    {
     "name": "stderr",
     "output_type": "stream",
     "text": [
      "Loss: 0.00626; step 1874; epoch 18: 100%|██████████| 1875/1875 [09:02<00:00,  3.46it/s]\n",
      "DDPM Sampling: 100%|██████████| 1000/1000 [00:28<00:00, 35.16it/s]\n",
      "/Users/hyunjae.k/110_HyunJae_Git/2025_Drills/.venv/lib/python3.10/site-packages/torchshow/visualization.py:385: UserWarning: Original input range is not 0-1 when using grayscale mode. Auto-rescaling it to 0-1 by default.\n",
      "  warnings.warn('Original input range is not 0-1 when using grayscale mode. Auto-rescaling it to 0-1 by default.')\n"
     ]
    },
    {
     "name": "stdout",
     "output_type": "stream",
     "text": [
      "DDPM-Sampling 28.44489622116089 seconds\n"
     ]
    },
    {
     "name": "stderr",
     "output_type": "stream",
     "text": [
      "DDIM Sampling: 100%|██████████| 50/50 [00:01<00:00, 33.43it/s]\n",
      "/Users/hyunjae.k/110_HyunJae_Git/2025_Drills/.venv/lib/python3.10/site-packages/torchshow/visualization.py:385: UserWarning: Original input range is not 0-1 when using grayscale mode. Auto-rescaling it to 0-1 by default.\n",
      "  warnings.warn('Original input range is not 0-1 when using grayscale mode. Auto-rescaling it to 0-1 by default.')\n"
     ]
    },
    {
     "name": "stdout",
     "output_type": "stream",
     "text": [
      "DDIM-Sampling 1.4969470500946045 seconds\n"
     ]
    },
    {
     "name": "stderr",
     "output_type": "stream",
     "text": [
      "DPM-Solver Sampling: 100%|██████████| 10/10 [00:00<00:00, 16.80it/s]\n",
      "/Users/hyunjae.k/110_HyunJae_Git/2025_Drills/.venv/lib/python3.10/site-packages/torchshow/visualization.py:385: UserWarning: Original input range is not 0-1 when using grayscale mode. Auto-rescaling it to 0-1 by default.\n",
      "  warnings.warn('Original input range is not 0-1 when using grayscale mode. Auto-rescaling it to 0-1 by default.')\n"
     ]
    },
    {
     "name": "stdout",
     "output_type": "stream",
     "text": [
      "DPM-Solver-Sampling 0.5966081619262695 seconds\n",
      "Epoch - 19\n"
     ]
    },
    {
     "name": "stderr",
     "output_type": "stream",
     "text": [
      "Loss: 0.00933; step 1874; epoch 19: 100%|██████████| 1875/1875 [09:00<00:00,  3.47it/s]\n",
      "Sampling: 100%|██████████| 1000/1000 [00:28<00:00, 35.32it/s]\n",
      "INFO:matplotlib.animation:Animation.save using <class 'matplotlib.animation.FFMpegWriter'>\n",
      "INFO:matplotlib.animation:MovieWriter._run: running command: ffmpeg -f rawvideo -vcodec rawvideo -s 640x480 -pix_fmt rgba -framerate 10 -loglevel error -i pipe: -vcodec h264 -pix_fmt yuv420p -y ./temp/Diffusion_00_MNIST_videos/test_019.mp4\n",
      "DDPM Sampling: 100%|██████████| 1000/1000 [00:28<00:00, 35.28it/s]\n",
      "/Users/hyunjae.k/110_HyunJae_Git/2025_Drills/.venv/lib/python3.10/site-packages/torchshow/visualization.py:385: UserWarning: Original input range is not 0-1 when using grayscale mode. Auto-rescaling it to 0-1 by default.\n",
      "  warnings.warn('Original input range is not 0-1 when using grayscale mode. Auto-rescaling it to 0-1 by default.')\n"
     ]
    },
    {
     "name": "stdout",
     "output_type": "stream",
     "text": [
      "DDPM-Sampling 28.345005750656128 seconds\n"
     ]
    },
    {
     "name": "stderr",
     "output_type": "stream",
     "text": [
      "DDIM Sampling: 100%|██████████| 50/50 [00:01<00:00, 34.35it/s]\n",
      "/Users/hyunjae.k/110_HyunJae_Git/2025_Drills/.venv/lib/python3.10/site-packages/torchshow/visualization.py:385: UserWarning: Original input range is not 0-1 when using grayscale mode. Auto-rescaling it to 0-1 by default.\n",
      "  warnings.warn('Original input range is not 0-1 when using grayscale mode. Auto-rescaling it to 0-1 by default.')\n"
     ]
    },
    {
     "name": "stdout",
     "output_type": "stream",
     "text": [
      "DDIM-Sampling 1.4565610885620117 seconds\n"
     ]
    },
    {
     "name": "stderr",
     "output_type": "stream",
     "text": [
      "DPM-Solver Sampling: 100%|██████████| 10/10 [00:00<00:00, 16.76it/s]"
     ]
    },
    {
     "name": "stdout",
     "output_type": "stream",
     "text": [
      "DPM-Solver-Sampling 0.5979137420654297 seconds\n"
     ]
    },
    {
     "name": "stderr",
     "output_type": "stream",
     "text": [
      "\n",
      "/Users/hyunjae.k/110_HyunJae_Git/2025_Drills/.venv/lib/python3.10/site-packages/torchshow/visualization.py:385: UserWarning: Original input range is not 0-1 when using grayscale mode. Auto-rescaling it to 0-1 by default.\n",
      "  warnings.warn('Original input range is not 0-1 when using grayscale mode. Auto-rescaling it to 0-1 by default.')\n"
     ]
    },
    {
     "data": {
      "image/png": "[encoded data removed]",
      "text/plain": [
       "<Figure size 640x480 with 9 Axes>"
      ]
     },
     "metadata": {},
     "output_type": "display_data"
    },
    {
     "data": {
      "image/png": "[encoded data removed]",
      "text/plain": [
       "<Figure size 640x480 with 9 Axes>"
      ]
     },
     "metadata": {},
     "output_type": "display_data"
    },
    {
     "data": {
      "image/png": "[encoded data removed]",
      "text/plain": [
       "<Figure size 640x480 with 9 Axes>"
      ]
     },
     "metadata": {},
     "output_type": "display_data"
    },
    {
     "data": {
      "image/png": "[encoded data removed]",
      "text/plain": [
       "<Figure size 640x480 with 9 Axes>"
      ]
     },
     "metadata": {},
     "output_type": "display_data"
    },
    {
     "data": {
      "image/png": "[encoded data removed]",
      "text/plain": [
       "<Figure size 640x480 with 9 Axes>"
      ]
     },
     "metadata": {},
     "output_type": "display_data"
    }
   ],
   "source": [
    "g_model_path = './temp/Diffusion_00_MNIST_models/'\n",
    "g_video_path = './temp/Diffusion_00_MNIST_videos/'\n",
    "Path(g_model_path).mkdir(exist_ok=True, parents=True)\n",
    "Path(g_video_path).mkdir(exist_ok=True, parents=True)\n",
    "\n",
    "\n",
    "# parameters\n",
    "batch_size = 32\n",
    "epoches = 20\n",
    "nb_images = 9\n",
    "img_channel = 1\n",
    "\n",
    "# datasets\n",
    "transform = transforms.Compose([\n",
    "                transforms.ToTensor(),\n",
    "                transforms.Resize((32,32),interpolation=transforms.InterpolationMode.BILINEAR, antialias=True)\n",
    "            ])\n",
    "dataset = datasets.MNIST(root='./temp/data', train=True, download=True, transform=transform)\n",
    "len(dataset)\n",
    "dataloader = torch.utils.data.DataLoader(dataset, batch_size=batch_size, shuffle=True)\n",
    "\n",
    "# Setup Model\n",
    "model = UNet(in_ch = img_channel)\n",
    "model.to(g_device)\n",
    "optimizer = torch.optim.Adam(model.parameters(), lr=2e-5)\n",
    "diffusion_model = DiffusionModel(1000, model, g_device)\n",
    "\n",
    "# Training\n",
    "loss_lst = []\n",
    "for ep in range(epoches):\n",
    "    print(f\"Epoch - {ep}\")\n",
    "    tq = tqdm(enumerate(dataloader), total = len(dataloader), desc=\"Training\")\n",
    "    for i, x0, in tq:\n",
    "        x0 = x0[0].to(g_device)\n",
    "        _loss = diffusion_model.training(x0, batch_size, optimizer)\n",
    "        loss_lst.append(_loss)\n",
    "        tq.set_description(f\"Loss: {_loss:.5f}; step {i}; epoch {ep}\")\n",
    "\n",
    "    _model_path = os.path.join(g_model_path, f'unet_{ep:03d}.pth')\n",
    "    torch.save(diffusion_model.function_approximator.state_dict(), _model_path)\n",
    "\n",
    "    diffusion_model.function_approximator.eval()\n",
    "    if ep % 5 == 0 or ep == epoches-1:\n",
    "        _, t_list = diffusion_model.sampling(n_samples=nb_images, image_channels=img_channel, img_size=(32, 32))\n",
    "        vfp = os.path.join(g_video_path, f\"test_{ep:03d}.mp4\")\n",
    "        save_video(t_list, 3, 3, vfp)\n",
    "\n",
    "\n",
    "    st = time.time()\n",
    "    samples = diffusion_model.ddpm_sampling(n_samples=nb_images, image_channels=img_channel, img_size=(32, 32), use_tqdm=True)\n",
    "    print(f\"DDPM-Sampling {time.time() - st } seconds\")\n",
    "    img_op = os.path.join(g_video_path, f\"ddpm_{ep:03d}.jpg\")\n",
    "    ts.save(samples, img_op, ncols = 3)\n",
    "\n",
    "    st = time.time()\n",
    "    samples = diffusion_model.ddim_sampling(n_samples=nb_images, image_channels=img_channel, img_size=(32, 32), use_tqdm=True)\n",
    "    print(f\"DDIM-Sampling {time.time() - st } seconds\")\n",
    "    img_op = os.path.join(g_video_path, f\"ddim_{ep:03d}.jpg\")\n",
    "    ts.save(samples, img_op, ncols = 3)\n",
    "\n",
    "    st = time.time()\n",
    "    samples = diffusion_model.dpm_solver_sampling(n_samples=nb_images, n_steps=10, image_channels=img_channel, img_size=(32, 32), use_tqdm=True)\n",
    "    print(f\"DPM-Solver-Sampling {time.time() - st } seconds\")\n",
    "    img_op = os.path.join(g_video_path, f\"dpm_solver_{ep:03d}.jpg\")\n",
    "    ts.save(samples, img_op, ncols = 3)\n",
    "\n",
    "\n",
    "    diffusion_model.function_approximator.train()\n",
    "\n",
    "plt.plot(loss_lst)\n",
    "plt.show()"
   ]
  },
  {
   "cell_type": "code",
   "execution_count": 7,
   "id": "dbf50b8a",
   "metadata": {},
   "outputs": [
    {
     "data": {
      "image/png": "[encoded data removed]",
      "text/plain": [
       "<Figure size 640x480 with 1 Axes>"
      ]
     },
     "metadata": {},
     "output_type": "display_data"
    }
   ],
   "source": [
    "# plot losses\n",
    "plt.plot(loss_lst)\n",
    "plt.xlabel('Iteration')\n",
    "plt.ylabel('Loss')\n",
    "plt.show()"
   ]
  },
  {
   "cell_type": "code",
   "execution_count": null,
   "id": "e2508691",
   "metadata": {},
   "outputs": [
    {
     "name": "stdout",
     "output_type": "stream",
     "text": [
      "Epoch - 0\n"
     ]
    },
    {
     "name": "stderr",
     "output_type": "stream",
     "text": [
      "Loss: 0.04788; step 254; epoch 0: 100%|██████████| 255/255 [03:05<00:00,  1.38it/s]\n",
      "Sampling: 100%|██████████| 1000/1000 [06:48<00:00,  2.45it/s]\n",
      "INFO:matplotlib.animation:Animation.save using <class 'matplotlib.animation.FFMpegWriter'>\n",
      "INFO:matplotlib.animation:MovieWriter._run: running command: ffmpeg -f rawvideo -vcodec rawvideo -s 640x480 -pix_fmt rgba -framerate 10 -loglevel error -i pipe: -vcodec h264 -pix_fmt yuv420p -y ./temp/Diffusion_00_Flowers102_videos/test_000.mp4\n",
      "DDPM Sampling: 100%|██████████| 1000/1000 [06:46<00:00,  2.46it/s]\n"
     ]
    },
    {
     "name": "stdout",
     "output_type": "stream",
     "text": [
      "DDPM-Sampling 406.1644811630249 seconds\n"
     ]
    },
    {
     "name": "stderr",
     "output_type": "stream",
     "text": [
      "DDIM Sampling: 100%|██████████| 50/50 [00:20<00:00,  2.46it/s]\n"
     ]
    },
    {
     "name": "stdout",
     "output_type": "stream",
     "text": [
      "DDIM-Sampling 20.295013904571533 seconds\n"
     ]
    },
    {
     "name": "stderr",
     "output_type": "stream",
     "text": [
      "DPM-Solver Sampling: 100%|██████████| 10/10 [00:08<00:00,  1.24it/s]\n"
     ]
    },
    {
     "name": "stdout",
     "output_type": "stream",
     "text": [
      "DPM-Solver-Sampling 8.07364296913147 seconds\n",
      "Epoch - 1\n"
     ]
    },
    {
     "name": "stderr",
     "output_type": "stream",
     "text": [
      "Loss: 0.04126; step 254; epoch 1: 100%|██████████| 255/255 [03:11<00:00,  1.33it/s]\n",
      "DDPM Sampling: 100%|██████████| 1000/1000 [06:55<00:00,  2.41it/s]\n"
     ]
    },
    {
     "name": "stdout",
     "output_type": "stream",
     "text": [
      "DDPM-Sampling 415.02939891815186 seconds\n"
     ]
    },
    {
     "name": "stderr",
     "output_type": "stream",
     "text": [
      "DDIM Sampling: 100%|██████████| 50/50 [00:20<00:00,  2.42it/s]\n"
     ]
    },
    {
     "name": "stdout",
     "output_type": "stream",
     "text": [
      "DDIM-Sampling 20.683475971221924 seconds\n"
     ]
    },
    {
     "name": "stderr",
     "output_type": "stream",
     "text": [
      "DPM-Solver Sampling: 100%|██████████| 10/10 [00:08<00:00,  1.21it/s]\n"
     ]
    },
    {
     "name": "stdout",
     "output_type": "stream",
     "text": [
      "DPM-Solver-Sampling 8.28880000114441 seconds\n",
      "Epoch - 2\n"
     ]
    },
    {
     "name": "stderr",
     "output_type": "stream",
     "text": [
      "Loss: 0.03221; step 254; epoch 2: 100%|██████████| 255/255 [03:13<00:00,  1.32it/s]\n",
      "DDPM Sampling: 100%|██████████| 1000/1000 [06:49<00:00,  2.44it/s]\n"
     ]
    },
    {
     "name": "stdout",
     "output_type": "stream",
     "text": [
      "DDPM-Sampling 409.5543429851532 seconds\n"
     ]
    },
    {
     "name": "stderr",
     "output_type": "stream",
     "text": [
      "DDIM Sampling: 100%|██████████| 50/50 [00:20<00:00,  2.48it/s]\n"
     ]
    },
    {
     "name": "stdout",
     "output_type": "stream",
     "text": [
      "DDIM-Sampling 20.187162160873413 seconds\n"
     ]
    },
    {
     "name": "stderr",
     "output_type": "stream",
     "text": [
      "DPM-Solver Sampling: 100%|██████████| 10/10 [00:08<00:00,  1.25it/s]\n"
     ]
    },
    {
     "name": "stdout",
     "output_type": "stream",
     "text": [
      "DPM-Solver-Sampling 8.028548002243042 seconds\n",
      "Epoch - 3\n"
     ]
    },
    {
     "name": "stderr",
     "output_type": "stream",
     "text": [
      "Loss: 0.03012; step 254; epoch 3: 100%|██████████| 255/255 [03:11<00:00,  1.33it/s]\n",
      "DDPM Sampling: 100%|██████████| 1000/1000 [06:51<00:00,  2.43it/s]\n"
     ]
    },
    {
     "name": "stdout",
     "output_type": "stream",
     "text": [
      "DDPM-Sampling 411.20798802375793 seconds\n"
     ]
    },
    {
     "name": "stderr",
     "output_type": "stream",
     "text": [
      "DDIM Sampling: 100%|██████████| 50/50 [00:20<00:00,  2.48it/s]\n"
     ]
    },
    {
     "name": "stdout",
     "output_type": "stream",
     "text": [
      "DDIM-Sampling 20.145262002944946 seconds\n"
     ]
    },
    {
     "name": "stderr",
     "output_type": "stream",
     "text": [
      "DPM-Solver Sampling: 100%|██████████| 10/10 [00:08<00:00,  1.23it/s]\n"
     ]
    },
    {
     "name": "stdout",
     "output_type": "stream",
     "text": [
      "DPM-Solver-Sampling 8.118782043457031 seconds\n",
      "Epoch - 4\n"
     ]
    },
    {
     "name": "stderr",
     "output_type": "stream",
     "text": [
      "Loss: 0.01485; step 254; epoch 4: 100%|██████████| 255/255 [03:12<00:00,  1.33it/s]\n",
      "DDPM Sampling: 100%|██████████| 1000/1000 [06:50<00:00,  2.44it/s]\n"
     ]
    },
    {
     "name": "stdout",
     "output_type": "stream",
     "text": [
      "DDPM-Sampling 410.3764269351959 seconds\n"
     ]
    },
    {
     "name": "stderr",
     "output_type": "stream",
     "text": [
      "DDIM Sampling: 100%|██████████| 50/50 [00:20<00:00,  2.47it/s]\n"
     ]
    },
    {
     "name": "stdout",
     "output_type": "stream",
     "text": [
      "DDIM-Sampling 20.25668501853943 seconds\n"
     ]
    },
    {
     "name": "stderr",
     "output_type": "stream",
     "text": [
      "DPM-Solver Sampling: 100%|██████████| 10/10 [00:08<00:00,  1.24it/s]\n"
     ]
    },
    {
     "name": "stdout",
     "output_type": "stream",
     "text": [
      "DPM-Solver-Sampling 8.072882890701294 seconds\n",
      "Epoch - 5\n"
     ]
    },
    {
     "name": "stderr",
     "output_type": "stream",
     "text": [
      "Loss: 0.01829; step 254; epoch 5: 100%|██████████| 255/255 [03:11<00:00,  1.33it/s]\n",
      "Sampling: 100%|██████████| 1000/1000 [07:22<00:00,  2.26it/s]\n",
      "INFO:matplotlib.animation:Animation.save using <class 'matplotlib.animation.FFMpegWriter'>\n",
      "INFO:matplotlib.animation:MovieWriter._run: running command: ffmpeg -f rawvideo -vcodec rawvideo -s 640x480 -pix_fmt rgba -framerate 10 -loglevel error -i pipe: -vcodec h264 -pix_fmt yuv420p -y ./temp/Diffusion_00_Flowers102_videos/test_005.mp4\n",
      "DDPM Sampling: 100%|██████████| 1000/1000 [07:19<00:00,  2.28it/s]\n"
     ]
    },
    {
     "name": "stdout",
     "output_type": "stream",
     "text": [
      "DDPM-Sampling 439.47158908843994 seconds\n"
     ]
    },
    {
     "name": "stderr",
     "output_type": "stream",
     "text": [
      "DDIM Sampling: 100%|██████████| 50/50 [00:22<00:00,  2.22it/s]\n"
     ]
    },
    {
     "name": "stdout",
     "output_type": "stream",
     "text": [
      "DDIM-Sampling 22.504366874694824 seconds\n"
     ]
    },
    {
     "name": "stderr",
     "output_type": "stream",
     "text": [
      "DPM-Solver Sampling: 100%|██████████| 10/10 [00:09<00:00,  1.10it/s]\n"
     ]
    },
    {
     "name": "stdout",
     "output_type": "stream",
     "text": [
      "DPM-Solver-Sampling 9.12004804611206 seconds\n",
      "Epoch - 6\n"
     ]
    },
    {
     "name": "stderr",
     "output_type": "stream",
     "text": [
      "Loss: 0.06627; step 254; epoch 6: 100%|██████████| 255/255 [03:32<00:00,  1.20it/s]\n",
      "DDPM Sampling: 100%|██████████| 1000/1000 [07:36<00:00,  2.19it/s]\n"
     ]
    },
    {
     "name": "stdout",
     "output_type": "stream",
     "text": [
      "DDPM-Sampling 456.99742603302 seconds\n"
     ]
    },
    {
     "name": "stderr",
     "output_type": "stream",
     "text": [
      "DDIM Sampling: 100%|██████████| 50/50 [00:22<00:00,  2.20it/s]\n"
     ]
    },
    {
     "name": "stdout",
     "output_type": "stream",
     "text": [
      "DDIM-Sampling 22.680628776550293 seconds\n"
     ]
    },
    {
     "name": "stderr",
     "output_type": "stream",
     "text": [
      "DPM-Solver Sampling: 100%|██████████| 10/10 [00:09<00:00,  1.11it/s]\n"
     ]
    },
    {
     "name": "stdout",
     "output_type": "stream",
     "text": [
      "DPM-Solver-Sampling 9.04681396484375 seconds\n",
      "Epoch - 7\n"
     ]
    },
    {
     "name": "stderr",
     "output_type": "stream",
     "text": [
      "Loss: 0.06439; step 254; epoch 7: 100%|██████████| 255/255 [03:21<00:00,  1.26it/s]\n",
      "DDPM Sampling: 100%|██████████| 1000/1000 [07:11<00:00,  2.32it/s]\n"
     ]
    },
    {
     "name": "stdout",
     "output_type": "stream",
     "text": [
      "DDPM-Sampling 431.7537829875946 seconds\n"
     ]
    },
    {
     "name": "stderr",
     "output_type": "stream",
     "text": [
      "DDIM Sampling: 100%|██████████| 50/50 [00:21<00:00,  2.35it/s]\n"
     ]
    },
    {
     "name": "stdout",
     "output_type": "stream",
     "text": [
      "DDIM-Sampling 21.30805802345276 seconds\n"
     ]
    },
    {
     "name": "stderr",
     "output_type": "stream",
     "text": [
      "DPM-Solver Sampling: 100%|██████████| 10/10 [00:08<00:00,  1.18it/s]\n"
     ]
    },
    {
     "name": "stdout",
     "output_type": "stream",
     "text": [
      "DPM-Solver-Sampling 8.488759994506836 seconds\n",
      "Epoch - 8\n"
     ]
    },
    {
     "name": "stderr",
     "output_type": "stream",
     "text": [
      "Loss: 0.02000; step 254; epoch 8: 100%|██████████| 255/255 [03:22<00:00,  1.26it/s]\n",
      "DDPM Sampling: 100%|██████████| 1000/1000 [07:18<00:00,  2.28it/s]\n"
     ]
    },
    {
     "name": "stdout",
     "output_type": "stream",
     "text": [
      "DDPM-Sampling 438.50798201560974 seconds\n"
     ]
    },
    {
     "name": "stderr",
     "output_type": "stream",
     "text": [
      "DDIM Sampling: 100%|██████████| 50/50 [00:21<00:00,  2.37it/s]\n"
     ]
    },
    {
     "name": "stdout",
     "output_type": "stream",
     "text": [
      "DDIM-Sampling 21.083595991134644 seconds\n"
     ]
    },
    {
     "name": "stderr",
     "output_type": "stream",
     "text": [
      "DPM-Solver Sampling: 100%|██████████| 10/10 [00:08<00:00,  1.16it/s]\n"
     ]
    },
    {
     "name": "stdout",
     "output_type": "stream",
     "text": [
      "DPM-Solver-Sampling 8.646073818206787 seconds\n",
      "Epoch - 9\n"
     ]
    },
    {
     "name": "stderr",
     "output_type": "stream",
     "text": [
      "Loss: 0.00926; step 254; epoch 9: 100%|██████████| 255/255 [03:15<00:00,  1.30it/s]\n",
      "DDPM Sampling: 100%|██████████| 1000/1000 [07:19<00:00,  2.27it/s]\n"
     ]
    },
    {
     "name": "stdout",
     "output_type": "stream",
     "text": [
      "DDPM-Sampling 439.83341002464294 seconds\n"
     ]
    },
    {
     "name": "stderr",
     "output_type": "stream",
     "text": [
      "DDIM Sampling: 100%|██████████| 50/50 [00:23<00:00,  2.09it/s]\n"
     ]
    },
    {
     "name": "stdout",
     "output_type": "stream",
     "text": [
      "DDIM-Sampling 23.887830018997192 seconds\n"
     ]
    },
    {
     "name": "stderr",
     "output_type": "stream",
     "text": [
      "DPM-Solver Sampling: 100%|██████████| 10/10 [00:09<00:00,  1.05it/s]\n"
     ]
    },
    {
     "name": "stdout",
     "output_type": "stream",
     "text": [
      "DPM-Solver-Sampling 9.528031826019287 seconds\n",
      "Epoch - 10\n"
     ]
    },
    {
     "name": "stderr",
     "output_type": "stream",
     "text": [
      "Loss: 0.00848; step 254; epoch 10: 100%|██████████| 255/255 [03:46<00:00,  1.13it/s]\n",
      "Sampling: 100%|██████████| 1000/1000 [08:53<00:00,  1.87it/s]\n",
      "INFO:matplotlib.animation:Animation.save using <class 'matplotlib.animation.FFMpegWriter'>\n",
      "INFO:matplotlib.animation:MovieWriter._run: running command: ffmpeg -f rawvideo -vcodec rawvideo -s 640x480 -pix_fmt rgba -framerate 10 -loglevel error -i pipe: -vcodec h264 -pix_fmt yuv420p -y ./temp/Diffusion_00_Flowers102_videos/test_010.mp4\n",
      "DDPM Sampling: 100%|██████████| 1000/1000 [08:38<00:00,  1.93it/s]\n"
     ]
    },
    {
     "name": "stdout",
     "output_type": "stream",
     "text": [
      "DDPM-Sampling 518.5323910713196 seconds\n"
     ]
    },
    {
     "name": "stderr",
     "output_type": "stream",
     "text": [
      "DDIM Sampling: 100%|██████████| 50/50 [00:26<00:00,  1.88it/s]\n"
     ]
    },
    {
     "name": "stdout",
     "output_type": "stream",
     "text": [
      "DDIM-Sampling 26.543161153793335 seconds\n"
     ]
    },
    {
     "name": "stderr",
     "output_type": "stream",
     "text": [
      "DPM-Solver Sampling: 100%|██████████| 10/10 [00:10<00:00,  1.08s/it]\n"
     ]
    },
    {
     "name": "stdout",
     "output_type": "stream",
     "text": [
      "DPM-Solver-Sampling 10.755922317504883 seconds\n",
      "Epoch - 11\n"
     ]
    },
    {
     "name": "stderr",
     "output_type": "stream",
     "text": [
      "Loss: 0.01549; step 254; epoch 11: 100%|██████████| 255/255 [03:48<00:00,  1.11it/s]\n",
      "DDPM Sampling: 100%|██████████| 1000/1000 [08:01<00:00,  2.07it/s]\n"
     ]
    },
    {
     "name": "stdout",
     "output_type": "stream",
     "text": [
      "DDPM-Sampling 481.92977714538574 seconds\n"
     ]
    },
    {
     "name": "stderr",
     "output_type": "stream",
     "text": [
      "DDIM Sampling: 100%|██████████| 50/50 [00:20<00:00,  2.47it/s]\n"
     ]
    },
    {
     "name": "stdout",
     "output_type": "stream",
     "text": [
      "DDIM-Sampling 20.236947059631348 seconds\n"
     ]
    },
    {
     "name": "stderr",
     "output_type": "stream",
     "text": [
      "DPM-Solver Sampling: 100%|██████████| 10/10 [00:07<00:00,  1.25it/s]\n"
     ]
    },
    {
     "name": "stdout",
     "output_type": "stream",
     "text": [
      "DPM-Solver-Sampling 7.980085849761963 seconds\n",
      "Epoch - 12\n"
     ]
    },
    {
     "name": "stderr",
     "output_type": "stream",
     "text": [
      "Loss: 0.00822; step 254; epoch 12: 100%|██████████| 255/255 [03:12<00:00,  1.32it/s]\n",
      "DDPM Sampling: 100%|██████████| 1000/1000 [06:56<00:00,  2.40it/s]\n"
     ]
    },
    {
     "name": "stdout",
     "output_type": "stream",
     "text": [
      "DDPM-Sampling 416.75721192359924 seconds\n"
     ]
    },
    {
     "name": "stderr",
     "output_type": "stream",
     "text": [
      "DDIM Sampling: 100%|██████████| 50/50 [00:20<00:00,  2.48it/s]\n"
     ]
    },
    {
     "name": "stdout",
     "output_type": "stream",
     "text": [
      "DDIM-Sampling 20.19573402404785 seconds\n"
     ]
    },
    {
     "name": "stderr",
     "output_type": "stream",
     "text": [
      "DPM-Solver Sampling: 100%|██████████| 10/10 [00:08<00:00,  1.23it/s]\n"
     ]
    },
    {
     "name": "stdout",
     "output_type": "stream",
     "text": [
      "DPM-Solver-Sampling 8.104428052902222 seconds\n",
      "Epoch - 13\n"
     ]
    },
    {
     "name": "stderr",
     "output_type": "stream",
     "text": [
      "Loss: 0.01035; step 254; epoch 13: 100%|██████████| 255/255 [03:12<00:00,  1.33it/s]\n",
      "DDPM Sampling: 100%|██████████| 1000/1000 [06:59<00:00,  2.39it/s]\n"
     ]
    },
    {
     "name": "stdout",
     "output_type": "stream",
     "text": [
      "DDPM-Sampling 419.0756001472473 seconds\n"
     ]
    },
    {
     "name": "stderr",
     "output_type": "stream",
     "text": [
      "DDIM Sampling: 100%|██████████| 50/50 [00:20<00:00,  2.42it/s]\n"
     ]
    },
    {
     "name": "stdout",
     "output_type": "stream",
     "text": [
      "DDIM-Sampling 20.699844121932983 seconds\n"
     ]
    },
    {
     "name": "stderr",
     "output_type": "stream",
     "text": [
      "DPM-Solver Sampling: 100%|██████████| 10/10 [00:08<00:00,  1.21it/s]\n"
     ]
    },
    {
     "name": "stdout",
     "output_type": "stream",
     "text": [
      "DPM-Solver-Sampling 8.291000127792358 seconds\n",
      "Epoch - 14\n"
     ]
    },
    {
     "name": "stderr",
     "output_type": "stream",
     "text": [
      "Loss: 0.00981; step 254; epoch 14: 100%|██████████| 255/255 [03:14<00:00,  1.31it/s]\n",
      "DDPM Sampling: 100%|██████████| 1000/1000 [06:58<00:00,  2.39it/s]\n"
     ]
    },
    {
     "name": "stdout",
     "output_type": "stream",
     "text": [
      "DDPM-Sampling 418.0519449710846 seconds\n"
     ]
    },
    {
     "name": "stderr",
     "output_type": "stream",
     "text": [
      "DDIM Sampling: 100%|██████████| 50/50 [00:21<00:00,  2.36it/s]\n"
     ]
    },
    {
     "name": "stdout",
     "output_type": "stream",
     "text": [
      "DDIM-Sampling 21.157274961471558 seconds\n"
     ]
    },
    {
     "name": "stderr",
     "output_type": "stream",
     "text": [
      "DPM-Solver Sampling: 100%|██████████| 10/10 [00:08<00:00,  1.20it/s]\n"
     ]
    },
    {
     "name": "stdout",
     "output_type": "stream",
     "text": [
      "DPM-Solver-Sampling 8.335824966430664 seconds\n",
      "Epoch - 15\n"
     ]
    },
    {
     "name": "stderr",
     "output_type": "stream",
     "text": [
      "Loss: 0.01025; step 254; epoch 15: 100%|██████████| 255/255 [03:15<00:00,  1.30it/s]\n",
      "Sampling: 100%|██████████| 1000/1000 [06:57<00:00,  2.40it/s]\n",
      "INFO:matplotlib.animation:Animation.save using <class 'matplotlib.animation.FFMpegWriter'>\n",
      "INFO:matplotlib.animation:MovieWriter._run: running command: ffmpeg -f rawvideo -vcodec rawvideo -s 640x480 -pix_fmt rgba -framerate 10 -loglevel error -i pipe: -vcodec h264 -pix_fmt yuv420p -y ./temp/Diffusion_00_Flowers102_videos/test_015.mp4\n",
      "DDPM Sampling: 100%|██████████| 1000/1000 [06:56<00:00,  2.40it/s]\n"
     ]
    },
    {
     "name": "stdout",
     "output_type": "stream",
     "text": [
      "DDPM-Sampling 416.4723491668701 seconds\n"
     ]
    },
    {
     "name": "stderr",
     "output_type": "stream",
     "text": [
      "DDIM Sampling: 100%|██████████| 50/50 [00:20<00:00,  2.43it/s]\n"
     ]
    },
    {
     "name": "stdout",
     "output_type": "stream",
     "text": [
      "DDIM-Sampling 20.544827938079834 seconds\n"
     ]
    },
    {
     "name": "stderr",
     "output_type": "stream",
     "text": [
      "DPM-Solver Sampling: 100%|██████████| 10/10 [00:08<00:00,  1.22it/s]\n"
     ]
    },
    {
     "name": "stdout",
     "output_type": "stream",
     "text": [
      "DPM-Solver-Sampling 8.191488027572632 seconds\n",
      "Epoch - 16\n"
     ]
    },
    {
     "name": "stderr",
     "output_type": "stream",
     "text": [
      "Loss: 0.03206; step 254; epoch 16: 100%|██████████| 255/255 [03:12<00:00,  1.32it/s]\n",
      "DDPM Sampling: 100%|██████████| 1000/1000 [06:53<00:00,  2.42it/s]\n"
     ]
    },
    {
     "name": "stdout",
     "output_type": "stream",
     "text": [
      "DDPM-Sampling 413.0725498199463 seconds\n"
     ]
    },
    {
     "name": "stderr",
     "output_type": "stream",
     "text": [
      "DDIM Sampling: 100%|██████████| 50/50 [00:20<00:00,  2.44it/s]\n"
     ]
    },
    {
     "name": "stdout",
     "output_type": "stream",
     "text": [
      "DDIM-Sampling 20.523418188095093 seconds\n"
     ]
    },
    {
     "name": "stderr",
     "output_type": "stream",
     "text": [
      "DPM-Solver Sampling: 100%|██████████| 10/10 [00:08<00:00,  1.23it/s]\n"
     ]
    },
    {
     "name": "stdout",
     "output_type": "stream",
     "text": [
      "DPM-Solver-Sampling 8.112560987472534 seconds\n",
      "Epoch - 17\n"
     ]
    },
    {
     "name": "stderr",
     "output_type": "stream",
     "text": [
      "Loss: 0.01635; step 254; epoch 17: 100%|██████████| 255/255 [03:12<00:00,  1.32it/s]\n",
      "DDPM Sampling: 100%|██████████| 1000/1000 [06:50<00:00,  2.44it/s]\n"
     ]
    },
    {
     "name": "stdout",
     "output_type": "stream",
     "text": [
      "DDPM-Sampling 410.51735615730286 seconds\n"
     ]
    },
    {
     "name": "stderr",
     "output_type": "stream",
     "text": [
      "DDIM Sampling: 100%|██████████| 50/50 [00:20<00:00,  2.47it/s]\n"
     ]
    },
    {
     "name": "stdout",
     "output_type": "stream",
     "text": [
      "DDIM-Sampling 20.243669986724854 seconds\n"
     ]
    },
    {
     "name": "stderr",
     "output_type": "stream",
     "text": [
      "DPM-Solver Sampling: 100%|██████████| 10/10 [00:08<00:00,  1.25it/s]\n"
     ]
    },
    {
     "name": "stdout",
     "output_type": "stream",
     "text": [
      "DPM-Solver-Sampling 8.030053853988647 seconds\n",
      "Epoch - 18\n"
     ]
    },
    {
     "name": "stderr",
     "output_type": "stream",
     "text": [
      "Loss: 0.00582; step 254; epoch 18: 100%|██████████| 255/255 [03:10<00:00,  1.34it/s]\n",
      "DDPM Sampling: 100%|██████████| 1000/1000 [06:47<00:00,  2.46it/s]\n"
     ]
    },
    {
     "name": "stdout",
     "output_type": "stream",
     "text": [
      "DDPM-Sampling 407.1457369327545 seconds\n"
     ]
    },
    {
     "name": "stderr",
     "output_type": "stream",
     "text": [
      "DDIM Sampling: 100%|██████████| 50/50 [00:20<00:00,  2.47it/s]\n"
     ]
    },
    {
     "name": "stdout",
     "output_type": "stream",
     "text": [
      "DDIM-Sampling 20.221363067626953 seconds\n"
     ]
    },
    {
     "name": "stderr",
     "output_type": "stream",
     "text": [
      "DPM-Solver Sampling: 100%|██████████| 10/10 [00:08<00:00,  1.24it/s]\n"
     ]
    },
    {
     "name": "stdout",
     "output_type": "stream",
     "text": [
      "DPM-Solver-Sampling 8.04508900642395 seconds\n",
      "Epoch - 19\n"
     ]
    },
    {
     "name": "stderr",
     "output_type": "stream",
     "text": [
      "Loss: 0.04091; step 254; epoch 19: 100%|██████████| 255/255 [03:10<00:00,  1.34it/s]\n",
      "DDPM Sampling: 100%|██████████| 1000/1000 [06:46<00:00,  2.46it/s]\n"
     ]
    },
    {
     "name": "stdout",
     "output_type": "stream",
     "text": [
      "DDPM-Sampling 406.4513337612152 seconds\n"
     ]
    },
    {
     "name": "stderr",
     "output_type": "stream",
     "text": [
      "DDIM Sampling: 100%|██████████| 50/50 [00:20<00:00,  2.48it/s]\n"
     ]
    },
    {
     "name": "stdout",
     "output_type": "stream",
     "text": [
      "DDIM-Sampling 20.182181119918823 seconds\n"
     ]
    },
    {
     "name": "stderr",
     "output_type": "stream",
     "text": [
      "DPM-Solver Sampling: 100%|██████████| 10/10 [00:08<00:00,  1.24it/s]\n"
     ]
    },
    {
     "name": "stdout",
     "output_type": "stream",
     "text": [
      "DPM-Solver-Sampling 8.058776140213013 seconds\n",
      "Epoch - 20\n"
     ]
    },
    {
     "name": "stderr",
     "output_type": "stream",
     "text": [
      "Loss: 0.00649; step 254; epoch 20: 100%|██████████| 255/255 [03:10<00:00,  1.34it/s]\n",
      "Sampling: 100%|██████████| 1000/1000 [06:48<00:00,  2.45it/s]\n",
      "INFO:matplotlib.animation:Animation.save using <class 'matplotlib.animation.FFMpegWriter'>\n",
      "INFO:matplotlib.animation:MovieWriter._run: running command: ffmpeg -f rawvideo -vcodec rawvideo -s 640x480 -pix_fmt rgba -framerate 10 -loglevel error -i pipe: -vcodec h264 -pix_fmt yuv420p -y ./temp/Diffusion_00_Flowers102_videos/test_020.mp4\n",
      "DDPM Sampling: 100%|██████████| 1000/1000 [06:36<00:00,  2.52it/s]\n"
     ]
    },
    {
     "name": "stdout",
     "output_type": "stream",
     "text": [
      "DDPM-Sampling 396.1886169910431 seconds\n"
     ]
    },
    {
     "name": "stderr",
     "output_type": "stream",
     "text": [
      "DDIM Sampling: 100%|██████████| 50/50 [00:19<00:00,  2.60it/s]\n"
     ]
    },
    {
     "name": "stdout",
     "output_type": "stream",
     "text": [
      "DDIM-Sampling 19.26153588294983 seconds\n"
     ]
    },
    {
     "name": "stderr",
     "output_type": "stream",
     "text": [
      "DPM-Solver Sampling: 100%|██████████| 10/10 [00:07<00:00,  1.30it/s]\n"
     ]
    },
    {
     "name": "stdout",
     "output_type": "stream",
     "text": [
      "DPM-Solver-Sampling 7.67830228805542 seconds\n",
      "Epoch - 21\n"
     ]
    },
    {
     "name": "stderr",
     "output_type": "stream",
     "text": [
      "Loss: 0.02117; step 254; epoch 21: 100%|██████████| 255/255 [03:03<00:00,  1.39it/s]\n",
      "DDPM Sampling: 100%|██████████| 1000/1000 [06:30<00:00,  2.56it/s]\n"
     ]
    },
    {
     "name": "stdout",
     "output_type": "stream",
     "text": [
      "DDPM-Sampling 390.10423493385315 seconds\n"
     ]
    },
    {
     "name": "stderr",
     "output_type": "stream",
     "text": [
      "DDIM Sampling: 100%|██████████| 50/50 [00:19<00:00,  2.59it/s]\n"
     ]
    },
    {
     "name": "stdout",
     "output_type": "stream",
     "text": [
      "DDIM-Sampling 19.30052614212036 seconds\n"
     ]
    },
    {
     "name": "stderr",
     "output_type": "stream",
     "text": [
      "DPM-Solver Sampling: 100%|██████████| 10/10 [00:07<00:00,  1.29it/s]\n"
     ]
    },
    {
     "name": "stdout",
     "output_type": "stream",
     "text": [
      "DPM-Solver-Sampling 7.745924949645996 seconds\n",
      "Epoch - 22\n"
     ]
    },
    {
     "name": "stderr",
     "output_type": "stream",
     "text": [
      "Loss: 0.01321; step 254; epoch 22: 100%|██████████| 255/255 [03:03<00:00,  1.39it/s]\n",
      "DDPM Sampling: 100%|██████████| 1000/1000 [06:31<00:00,  2.55it/s]\n"
     ]
    },
    {
     "name": "stdout",
     "output_type": "stream",
     "text": [
      "DDPM-Sampling 391.54403138160706 seconds\n"
     ]
    },
    {
     "name": "stderr",
     "output_type": "stream",
     "text": [
      "DDIM Sampling: 100%|██████████| 50/50 [00:19<00:00,  2.58it/s]\n"
     ]
    },
    {
     "name": "stdout",
     "output_type": "stream",
     "text": [
      "DDIM-Sampling 19.411438941955566 seconds\n"
     ]
    },
    {
     "name": "stderr",
     "output_type": "stream",
     "text": [
      "DPM-Solver Sampling: 100%|██████████| 10/10 [00:07<00:00,  1.30it/s]\n"
     ]
    },
    {
     "name": "stdout",
     "output_type": "stream",
     "text": [
      "DPM-Solver-Sampling 7.708977222442627 seconds\n",
      "Epoch - 23\n"
     ]
    },
    {
     "name": "stderr",
     "output_type": "stream",
     "text": [
      "Loss: 0.03703; step 254; epoch 23: 100%|██████████| 255/255 [03:04<00:00,  1.38it/s]\n",
      "DDPM Sampling: 100%|██████████| 1000/1000 [06:33<00:00,  2.54it/s]\n"
     ]
    },
    {
     "name": "stdout",
     "output_type": "stream",
     "text": [
      "DDPM-Sampling 393.04846382141113 seconds\n"
     ]
    },
    {
     "name": "stderr",
     "output_type": "stream",
     "text": [
      "DDIM Sampling: 100%|██████████| 50/50 [00:19<00:00,  2.51it/s]\n"
     ]
    },
    {
     "name": "stdout",
     "output_type": "stream",
     "text": [
      "DDIM-Sampling 19.888524055480957 seconds\n"
     ]
    },
    {
     "name": "stderr",
     "output_type": "stream",
     "text": [
      "DPM-Solver Sampling: 100%|██████████| 10/10 [00:07<00:00,  1.27it/s]\n"
     ]
    },
    {
     "name": "stdout",
     "output_type": "stream",
     "text": [
      "DPM-Solver-Sampling 7.873725175857544 seconds\n",
      "Epoch - 24\n"
     ]
    },
    {
     "name": "stderr",
     "output_type": "stream",
     "text": [
      "Loss: 0.06128; step 254; epoch 24: 100%|██████████| 255/255 [03:12<00:00,  1.32it/s]\n",
      "DDPM Sampling: 100%|██████████| 1000/1000 [06:54<00:00,  2.41it/s]\n"
     ]
    },
    {
     "name": "stdout",
     "output_type": "stream",
     "text": [
      "DDPM-Sampling 414.6264340877533 seconds\n"
     ]
    },
    {
     "name": "stderr",
     "output_type": "stream",
     "text": [
      "DDIM Sampling: 100%|██████████| 50/50 [00:20<00:00,  2.49it/s]\n"
     ]
    },
    {
     "name": "stdout",
     "output_type": "stream",
     "text": [
      "DDIM-Sampling 20.11692786216736 seconds\n"
     ]
    },
    {
     "name": "stderr",
     "output_type": "stream",
     "text": [
      "DPM-Solver Sampling: 100%|██████████| 10/10 [00:08<00:00,  1.25it/s]\n"
     ]
    },
    {
     "name": "stdout",
     "output_type": "stream",
     "text": [
      "DPM-Solver-Sampling 8.006548166275024 seconds\n",
      "Epoch - 25\n"
     ]
    },
    {
     "name": "stderr",
     "output_type": "stream",
     "text": [
      "Loss: 0.00430; step 254; epoch 25: 100%|██████████| 255/255 [03:10<00:00,  1.34it/s]\n",
      "Sampling: 100%|██████████| 1000/1000 [06:58<00:00,  2.39it/s]\n",
      "INFO:matplotlib.animation:Animation.save using <class 'matplotlib.animation.FFMpegWriter'>\n",
      "INFO:matplotlib.animation:MovieWriter._run: running command: ffmpeg -f rawvideo -vcodec rawvideo -s 640x480 -pix_fmt rgba -framerate 10 -loglevel error -i pipe: -vcodec h264 -pix_fmt yuv420p -y ./temp/Diffusion_00_Flowers102_videos/test_025.mp4\n",
      "DDPM Sampling: 100%|██████████| 1000/1000 [06:52<00:00,  2.43it/s]\n"
     ]
    },
    {
     "name": "stdout",
     "output_type": "stream",
     "text": [
      "DDPM-Sampling 412.31135988235474 seconds\n"
     ]
    },
    {
     "name": "stderr",
     "output_type": "stream",
     "text": [
      "DDIM Sampling: 100%|██████████| 50/50 [00:20<00:00,  2.47it/s]\n"
     ]
    },
    {
     "name": "stdout",
     "output_type": "stream",
     "text": [
      "DDIM-Sampling 20.270843744277954 seconds\n"
     ]
    },
    {
     "name": "stderr",
     "output_type": "stream",
     "text": [
      "DPM-Solver Sampling: 100%|██████████| 10/10 [00:08<00:00,  1.24it/s]\n"
     ]
    },
    {
     "name": "stdout",
     "output_type": "stream",
     "text": [
      "DPM-Solver-Sampling 8.097244024276733 seconds\n",
      "Epoch - 26\n"
     ]
    },
    {
     "name": "stderr",
     "output_type": "stream",
     "text": [
      "Loss: 0.04731; step 254; epoch 26: 100%|██████████| 255/255 [03:11<00:00,  1.33it/s]\n",
      "DDPM Sampling: 100%|██████████| 1000/1000 [06:50<00:00,  2.44it/s]\n"
     ]
    },
    {
     "name": "stdout",
     "output_type": "stream",
     "text": [
      "DDPM-Sampling 410.271283864975 seconds\n"
     ]
    },
    {
     "name": "stderr",
     "output_type": "stream",
     "text": [
      "DDIM Sampling: 100%|██████████| 50/50 [00:20<00:00,  2.43it/s]\n"
     ]
    },
    {
     "name": "stdout",
     "output_type": "stream",
     "text": [
      "DDIM-Sampling 20.554867267608643 seconds\n"
     ]
    },
    {
     "name": "stderr",
     "output_type": "stream",
     "text": [
      "DPM-Solver Sampling: 100%|██████████| 10/10 [00:08<00:00,  1.22it/s]\n"
     ]
    },
    {
     "name": "stdout",
     "output_type": "stream",
     "text": [
      "DPM-Solver-Sampling 8.176482200622559 seconds\n",
      "Epoch - 27\n"
     ]
    },
    {
     "name": "stderr",
     "output_type": "stream",
     "text": [
      "Loss: 0.04528; step 254; epoch 27: 100%|██████████| 255/255 [03:12<00:00,  1.32it/s]\n",
      "DDPM Sampling: 100%|██████████| 1000/1000 [06:52<00:00,  2.42it/s]\n"
     ]
    },
    {
     "name": "stdout",
     "output_type": "stream",
     "text": [
      "DDPM-Sampling 412.95701599121094 seconds\n"
     ]
    },
    {
     "name": "stderr",
     "output_type": "stream",
     "text": [
      "DDIM Sampling: 100%|██████████| 50/50 [00:20<00:00,  2.44it/s]\n"
     ]
    },
    {
     "name": "stdout",
     "output_type": "stream",
     "text": [
      "DDIM-Sampling 20.494574069976807 seconds\n"
     ]
    },
    {
     "name": "stderr",
     "output_type": "stream",
     "text": [
      "DPM-Solver Sampling: 100%|██████████| 10/10 [00:08<00:00,  1.22it/s]\n"
     ]
    },
    {
     "name": "stdout",
     "output_type": "stream",
     "text": [
      "DPM-Solver-Sampling 8.178356885910034 seconds\n",
      "Epoch - 28\n"
     ]
    },
    {
     "name": "stderr",
     "output_type": "stream",
     "text": [
      "Loss: 0.01028; step 254; epoch 28: 100%|██████████| 255/255 [03:09<00:00,  1.34it/s]\n",
      "DDPM Sampling: 100%|██████████| 1000/1000 [06:48<00:00,  2.45it/s]\n"
     ]
    },
    {
     "name": "stdout",
     "output_type": "stream",
     "text": [
      "DDPM-Sampling 408.9362881183624 seconds\n"
     ]
    },
    {
     "name": "stderr",
     "output_type": "stream",
     "text": [
      "DDIM Sampling: 100%|██████████| 50/50 [00:20<00:00,  2.47it/s]\n"
     ]
    },
    {
     "name": "stdout",
     "output_type": "stream",
     "text": [
      "DDIM-Sampling 20.27479100227356 seconds\n"
     ]
    },
    {
     "name": "stderr",
     "output_type": "stream",
     "text": [
      "DPM-Solver Sampling: 100%|██████████| 10/10 [00:08<00:00,  1.24it/s]\n"
     ]
    },
    {
     "name": "stdout",
     "output_type": "stream",
     "text": [
      "DPM-Solver-Sampling 8.058531045913696 seconds\n",
      "Epoch - 29\n"
     ]
    },
    {
     "name": "stderr",
     "output_type": "stream",
     "text": [
      "Loss: 0.01674; step 254; epoch 29: 100%|██████████| 255/255 [03:10<00:00,  1.34it/s]\n",
      "DDPM Sampling: 100%|██████████| 1000/1000 [06:47<00:00,  2.45it/s]\n"
     ]
    },
    {
     "name": "stdout",
     "output_type": "stream",
     "text": [
      "DDPM-Sampling 407.6094169616699 seconds\n"
     ]
    },
    {
     "name": "stderr",
     "output_type": "stream",
     "text": [
      "DDIM Sampling: 100%|██████████| 50/50 [00:19<00:00,  2.59it/s]\n"
     ]
    },
    {
     "name": "stdout",
     "output_type": "stream",
     "text": [
      "DDIM-Sampling 19.28113102912903 seconds\n"
     ]
    },
    {
     "name": "stderr",
     "output_type": "stream",
     "text": [
      "DPM-Solver Sampling: 100%|██████████| 10/10 [00:07<00:00,  1.30it/s]\n"
     ]
    },
    {
     "name": "stdout",
     "output_type": "stream",
     "text": [
      "DPM-Solver-Sampling 7.709111213684082 seconds\n",
      "Epoch - 30\n"
     ]
    },
    {
     "name": "stderr",
     "output_type": "stream",
     "text": [
      "Loss: 0.00532; step 254; epoch 30: 100%|██████████| 255/255 [03:04<00:00,  1.38it/s]\n",
      "Sampling: 100%|██████████| 1000/1000 [06:51<00:00,  2.43it/s]\n",
      "INFO:matplotlib.animation:Animation.save using <class 'matplotlib.animation.FFMpegWriter'>\n",
      "INFO:matplotlib.animation:MovieWriter._run: running command: ffmpeg -f rawvideo -vcodec rawvideo -s 640x480 -pix_fmt rgba -framerate 10 -loglevel error -i pipe: -vcodec h264 -pix_fmt yuv420p -y ./temp/Diffusion_00_Flowers102_videos/test_030.mp4\n",
      "DDPM Sampling: 100%|██████████| 1000/1000 [06:54<00:00,  2.41it/s]\n"
     ]
    },
    {
     "name": "stdout",
     "output_type": "stream",
     "text": [
      "DDPM-Sampling 414.550714969635 seconds\n"
     ]
    },
    {
     "name": "stderr",
     "output_type": "stream",
     "text": [
      "DDIM Sampling: 100%|██████████| 50/50 [00:20<00:00,  2.43it/s]\n"
     ]
    },
    {
     "name": "stdout",
     "output_type": "stream",
     "text": [
      "DDIM-Sampling 20.611860036849976 seconds\n"
     ]
    },
    {
     "name": "stderr",
     "output_type": "stream",
     "text": [
      "DPM-Solver Sampling: 100%|██████████| 10/10 [00:08<00:00,  1.22it/s]\n"
     ]
    },
    {
     "name": "stdout",
     "output_type": "stream",
     "text": [
      "DPM-Solver-Sampling 8.169450998306274 seconds\n",
      "Epoch - 31\n"
     ]
    },
    {
     "name": "stderr",
     "output_type": "stream",
     "text": [
      "Loss: 0.00563; step 254; epoch 31: 100%|██████████| 255/255 [03:09<00:00,  1.35it/s]\n",
      "DDPM Sampling: 100%|██████████| 1000/1000 [06:54<00:00,  2.41it/s]\n"
     ]
    },
    {
     "name": "stdout",
     "output_type": "stream",
     "text": [
      "DDPM-Sampling 414.32363176345825 seconds\n"
     ]
    },
    {
     "name": "stderr",
     "output_type": "stream",
     "text": [
      "DDIM Sampling: 100%|██████████| 50/50 [00:20<00:00,  2.43it/s]\n"
     ]
    },
    {
     "name": "stdout",
     "output_type": "stream",
     "text": [
      "DDIM-Sampling 20.607863903045654 seconds\n"
     ]
    },
    {
     "name": "stderr",
     "output_type": "stream",
     "text": [
      "DPM-Solver Sampling: 100%|██████████| 10/10 [00:08<00:00,  1.22it/s]\n"
     ]
    },
    {
     "name": "stdout",
     "output_type": "stream",
     "text": [
      "DPM-Solver-Sampling 8.20370888710022 seconds\n",
      "Epoch - 32\n"
     ]
    },
    {
     "name": "stderr",
     "output_type": "stream",
     "text": [
      "Loss: 0.01302; step 254; epoch 32: 100%|██████████| 255/255 [03:08<00:00,  1.35it/s]\n",
      "DDPM Sampling: 100%|██████████| 1000/1000 [06:52<00:00,  2.42it/s]\n"
     ]
    },
    {
     "name": "stdout",
     "output_type": "stream",
     "text": [
      "DDPM-Sampling 412.5996530056 seconds\n"
     ]
    },
    {
     "name": "stderr",
     "output_type": "stream",
     "text": [
      "DDIM Sampling: 100%|██████████| 50/50 [00:20<00:00,  2.43it/s]\n"
     ]
    },
    {
     "name": "stdout",
     "output_type": "stream",
     "text": [
      "DDIM-Sampling 20.587893962860107 seconds\n"
     ]
    },
    {
     "name": "stderr",
     "output_type": "stream",
     "text": [
      "DPM-Solver Sampling: 100%|██████████| 10/10 [00:08<00:00,  1.22it/s]\n"
     ]
    },
    {
     "name": "stdout",
     "output_type": "stream",
     "text": [
      "DPM-Solver-Sampling 8.194983005523682 seconds\n",
      "Epoch - 33\n"
     ]
    },
    {
     "name": "stderr",
     "output_type": "stream",
     "text": [
      "Loss: 0.00179; step 254; epoch 33: 100%|██████████| 255/255 [03:08<00:00,  1.35it/s]\n",
      "DDPM Sampling: 100%|██████████| 1000/1000 [06:54<00:00,  2.41it/s]\n"
     ]
    },
    {
     "name": "stdout",
     "output_type": "stream",
     "text": [
      "DDPM-Sampling 414.7663450241089 seconds\n"
     ]
    },
    {
     "name": "stderr",
     "output_type": "stream",
     "text": [
      "DDIM Sampling: 100%|██████████| 50/50 [00:20<00:00,  2.46it/s]\n"
     ]
    },
    {
     "name": "stdout",
     "output_type": "stream",
     "text": [
      "DDIM-Sampling 20.35706901550293 seconds\n"
     ]
    },
    {
     "name": "stderr",
     "output_type": "stream",
     "text": [
      "DPM-Solver Sampling: 100%|██████████| 10/10 [00:08<00:00,  1.23it/s]\n"
     ]
    },
    {
     "name": "stdout",
     "output_type": "stream",
     "text": [
      "DPM-Solver-Sampling 8.101631879806519 seconds\n",
      "Epoch - 34\n"
     ]
    },
    {
     "name": "stderr",
     "output_type": "stream",
     "text": [
      "Loss: 0.01236; step 254; epoch 34: 100%|██████████| 255/255 [03:08<00:00,  1.35it/s]\n",
      "DDPM Sampling: 100%|██████████| 1000/1000 [06:53<00:00,  2.42it/s]\n"
     ]
    },
    {
     "name": "stdout",
     "output_type": "stream",
     "text": [
      "DDPM-Sampling 413.4474630355835 seconds\n"
     ]
    },
    {
     "name": "stderr",
     "output_type": "stream",
     "text": [
      "DDIM Sampling: 100%|██████████| 50/50 [00:20<00:00,  2.44it/s]\n"
     ]
    },
    {
     "name": "stdout",
     "output_type": "stream",
     "text": [
      "DDIM-Sampling 20.492908000946045 seconds\n"
     ]
    },
    {
     "name": "stderr",
     "output_type": "stream",
     "text": [
      "DPM-Solver Sampling: 100%|██████████| 10/10 [00:08<00:00,  1.23it/s]\n"
     ]
    },
    {
     "name": "stdout",
     "output_type": "stream",
     "text": [
      "DPM-Solver-Sampling 8.163821935653687 seconds\n",
      "Epoch - 35\n"
     ]
    },
    {
     "name": "stderr",
     "output_type": "stream",
     "text": [
      "Loss: 0.00437; step 254; epoch 35: 100%|██████████| 255/255 [03:10<00:00,  1.34it/s]\n",
      "Sampling: 100%|██████████| 1000/1000 [06:33<00:00,  2.54it/s]\n",
      "INFO:matplotlib.animation:Animation.save using <class 'matplotlib.animation.FFMpegWriter'>\n",
      "INFO:matplotlib.animation:MovieWriter._run: running command: ffmpeg -f rawvideo -vcodec rawvideo -s 640x480 -pix_fmt rgba -framerate 10 -loglevel error -i pipe: -vcodec h264 -pix_fmt yuv420p -y ./temp/Diffusion_00_Flowers102_videos/test_035.mp4\n",
      "DDPM Sampling: 100%|██████████| 1000/1000 [06:30<00:00,  2.56it/s]\n"
     ]
    },
    {
     "name": "stdout",
     "output_type": "stream",
     "text": [
      "DDPM-Sampling 390.52558398246765 seconds\n"
     ]
    },
    {
     "name": "stderr",
     "output_type": "stream",
     "text": [
      "DDIM Sampling: 100%|██████████| 50/50 [00:19<00:00,  2.59it/s]\n"
     ]
    },
    {
     "name": "stdout",
     "output_type": "stream",
     "text": [
      "DDIM-Sampling 19.30867886543274 seconds\n"
     ]
    },
    {
     "name": "stderr",
     "output_type": "stream",
     "text": [
      "DPM-Solver Sampling: 100%|██████████| 10/10 [00:07<00:00,  1.31it/s]\n"
     ]
    },
    {
     "name": "stdout",
     "output_type": "stream",
     "text": [
      "DPM-Solver-Sampling 7.655313968658447 seconds\n",
      "Epoch - 36\n"
     ]
    },
    {
     "name": "stderr",
     "output_type": "stream",
     "text": [
      "Loss: 0.02390; step 254; epoch 36: 100%|██████████| 255/255 [03:03<00:00,  1.39it/s]\n",
      "DDPM Sampling: 100%|██████████| 1000/1000 [06:34<00:00,  2.53it/s]\n"
     ]
    },
    {
     "name": "stdout",
     "output_type": "stream",
     "text": [
      "DDPM-Sampling 394.6768081188202 seconds\n"
     ]
    },
    {
     "name": "stderr",
     "output_type": "stream",
     "text": [
      "DDIM Sampling: 100%|██████████| 50/50 [00:20<00:00,  2.48it/s]\n"
     ]
    },
    {
     "name": "stdout",
     "output_type": "stream",
     "text": [
      "DDIM-Sampling 20.12383794784546 seconds\n"
     ]
    },
    {
     "name": "stderr",
     "output_type": "stream",
     "text": [
      "DPM-Solver Sampling: 100%|██████████| 10/10 [00:08<00:00,  1.24it/s]\n"
     ]
    },
    {
     "name": "stdout",
     "output_type": "stream",
     "text": [
      "DPM-Solver-Sampling 8.098071098327637 seconds\n",
      "Epoch - 37\n"
     ]
    },
    {
     "name": "stderr",
     "output_type": "stream",
     "text": [
      "Loss: 0.04306; step 254; epoch 37: 100%|██████████| 255/255 [03:09<00:00,  1.34it/s]\n",
      "DDPM Sampling: 100%|██████████| 1000/1000 [06:39<00:00,  2.51it/s]\n"
     ]
    },
    {
     "name": "stdout",
     "output_type": "stream",
     "text": [
      "DDPM-Sampling 399.1573209762573 seconds\n"
     ]
    },
    {
     "name": "stderr",
     "output_type": "stream",
     "text": [
      "DDIM Sampling: 100%|██████████| 50/50 [00:19<00:00,  2.55it/s]\n"
     ]
    },
    {
     "name": "stdout",
     "output_type": "stream",
     "text": [
      "DDIM-Sampling 19.63435983657837 seconds\n"
     ]
    },
    {
     "name": "stderr",
     "output_type": "stream",
     "text": [
      "DPM-Solver Sampling: 100%|██████████| 10/10 [00:07<00:00,  1.29it/s]\n"
     ]
    },
    {
     "name": "stdout",
     "output_type": "stream",
     "text": [
      "DPM-Solver-Sampling 7.783454895019531 seconds\n",
      "Epoch - 38\n"
     ]
    },
    {
     "name": "stderr",
     "output_type": "stream",
     "text": [
      "Loss: 0.01309; step 254; epoch 38: 100%|██████████| 255/255 [03:07<00:00,  1.36it/s]\n",
      "DDPM Sampling: 100%|██████████| 1000/1000 [06:39<00:00,  2.50it/s]\n"
     ]
    },
    {
     "name": "stdout",
     "output_type": "stream",
     "text": [
      "DDPM-Sampling 399.98170804977417 seconds\n"
     ]
    },
    {
     "name": "stderr",
     "output_type": "stream",
     "text": [
      "DDIM Sampling: 100%|██████████| 50/50 [00:19<00:00,  2.53it/s]\n"
     ]
    },
    {
     "name": "stdout",
     "output_type": "stream",
     "text": [
      "DDIM-Sampling 19.760639905929565 seconds\n"
     ]
    },
    {
     "name": "stderr",
     "output_type": "stream",
     "text": [
      "DPM-Solver Sampling: 100%|██████████| 10/10 [00:07<00:00,  1.27it/s]\n"
     ]
    },
    {
     "name": "stdout",
     "output_type": "stream",
     "text": [
      "DPM-Solver-Sampling 7.8872010707855225 seconds\n",
      "Epoch - 39\n"
     ]
    },
    {
     "name": "stderr",
     "output_type": "stream",
     "text": [
      "Loss: 0.00312; step 254; epoch 39: 100%|██████████| 255/255 [03:06<00:00,  1.36it/s]\n",
      "DDPM Sampling: 100%|██████████| 1000/1000 [06:39<00:00,  2.50it/s]\n"
     ]
    },
    {
     "name": "stdout",
     "output_type": "stream",
     "text": [
      "DDPM-Sampling 399.73673605918884 seconds\n"
     ]
    },
    {
     "name": "stderr",
     "output_type": "stream",
     "text": [
      "DDIM Sampling: 100%|██████████| 50/50 [00:19<00:00,  2.52it/s]\n"
     ]
    },
    {
     "name": "stdout",
     "output_type": "stream",
     "text": [
      "DDIM-Sampling 19.822954177856445 seconds\n"
     ]
    },
    {
     "name": "stderr",
     "output_type": "stream",
     "text": [
      "DPM-Solver Sampling: 100%|██████████| 10/10 [00:07<00:00,  1.27it/s]\n"
     ]
    },
    {
     "name": "stdout",
     "output_type": "stream",
     "text": [
      "DPM-Solver-Sampling 7.873316764831543 seconds\n",
      "Epoch - 40\n"
     ]
    },
    {
     "name": "stderr",
     "output_type": "stream",
     "text": [
      "Loss: 0.00308; step 254; epoch 40: 100%|██████████| 255/255 [03:06<00:00,  1.36it/s]\n",
      "Sampling: 100%|██████████| 1000/1000 [06:38<00:00,  2.51it/s]\n",
      "INFO:matplotlib.animation:Animation.save using <class 'matplotlib.animation.FFMpegWriter'>\n",
      "INFO:matplotlib.animation:MovieWriter._run: running command: ffmpeg -f rawvideo -vcodec rawvideo -s 640x480 -pix_fmt rgba -framerate 10 -loglevel error -i pipe: -vcodec h264 -pix_fmt yuv420p -y ./temp/Diffusion_00_Flowers102_videos/test_040.mp4\n",
      "DDPM Sampling: 100%|██████████| 1000/1000 [06:41<00:00,  2.49it/s]\n"
     ]
    },
    {
     "name": "stdout",
     "output_type": "stream",
     "text": [
      "DDPM-Sampling 401.8916082382202 seconds\n"
     ]
    },
    {
     "name": "stderr",
     "output_type": "stream",
     "text": [
      "DDIM Sampling: 100%|██████████| 50/50 [00:19<00:00,  2.53it/s]\n"
     ]
    },
    {
     "name": "stdout",
     "output_type": "stream",
     "text": [
      "DDIM-Sampling 19.78230309486389 seconds\n"
     ]
    },
    {
     "name": "stderr",
     "output_type": "stream",
     "text": [
      "DPM-Solver Sampling: 100%|██████████| 10/10 [00:07<00:00,  1.27it/s]\n"
     ]
    },
    {
     "name": "stdout",
     "output_type": "stream",
     "text": [
      "DPM-Solver-Sampling 7.888342618942261 seconds\n",
      "Epoch - 41\n"
     ]
    },
    {
     "name": "stderr",
     "output_type": "stream",
     "text": [
      "Loss: 0.01960; step 254; epoch 41: 100%|██████████| 255/255 [03:08<00:00,  1.35it/s]\n",
      "DDPM Sampling: 100%|██████████| 1000/1000 [06:46<00:00,  2.46it/s]\n"
     ]
    },
    {
     "name": "stdout",
     "output_type": "stream",
     "text": [
      "DDPM-Sampling 406.7910017967224 seconds\n"
     ]
    },
    {
     "name": "stderr",
     "output_type": "stream",
     "text": [
      "DDIM Sampling: 100%|██████████| 50/50 [00:20<00:00,  2.48it/s]\n"
     ]
    },
    {
     "name": "stdout",
     "output_type": "stream",
     "text": [
      "DDIM-Sampling 20.138390064239502 seconds\n"
     ]
    },
    {
     "name": "stderr",
     "output_type": "stream",
     "text": [
      "DPM-Solver Sampling: 100%|██████████| 10/10 [00:07<00:00,  1.26it/s]\n"
     ]
    },
    {
     "name": "stdout",
     "output_type": "stream",
     "text": [
      "DPM-Solver-Sampling 7.961465120315552 seconds\n",
      "Epoch - 42\n"
     ]
    },
    {
     "name": "stderr",
     "output_type": "stream",
     "text": [
      "Loss: 0.00279; step 254; epoch 42: 100%|██████████| 255/255 [03:07<00:00,  1.36it/s]\n",
      "DDPM Sampling: 100%|██████████| 1000/1000 [06:31<00:00,  2.55it/s]\n"
     ]
    },
    {
     "name": "stdout",
     "output_type": "stream",
     "text": [
      "DDPM-Sampling 391.413950920105 seconds\n"
     ]
    },
    {
     "name": "stderr",
     "output_type": "stream",
     "text": [
      "DDIM Sampling: 100%|██████████| 50/50 [00:19<00:00,  2.57it/s]\n"
     ]
    },
    {
     "name": "stdout",
     "output_type": "stream",
     "text": [
      "DDIM-Sampling 19.45935606956482 seconds\n"
     ]
    },
    {
     "name": "stderr",
     "output_type": "stream",
     "text": [
      "DPM-Solver Sampling: 100%|██████████| 10/10 [00:07<00:00,  1.29it/s]\n"
     ]
    },
    {
     "name": "stdout",
     "output_type": "stream",
     "text": [
      "DPM-Solver-Sampling 7.741911888122559 seconds\n",
      "Epoch - 43\n"
     ]
    },
    {
     "name": "stderr",
     "output_type": "stream",
     "text": [
      "Loss: 0.00668; step 254; epoch 43: 100%|██████████| 255/255 [03:02<00:00,  1.40it/s]\n",
      "DDPM Sampling: 100%|██████████| 1000/1000 [06:43<00:00,  2.48it/s]\n"
     ]
    },
    {
     "name": "stdout",
     "output_type": "stream",
     "text": [
      "DDPM-Sampling 403.23763608932495 seconds\n"
     ]
    },
    {
     "name": "stderr",
     "output_type": "stream",
     "text": [
      "DDIM Sampling: 100%|██████████| 50/50 [00:20<00:00,  2.47it/s]\n"
     ]
    },
    {
     "name": "stdout",
     "output_type": "stream",
     "text": [
      "DDIM-Sampling 20.27910017967224 seconds\n"
     ]
    },
    {
     "name": "stderr",
     "output_type": "stream",
     "text": [
      "DPM-Solver Sampling: 100%|██████████| 10/10 [00:08<00:00,  1.25it/s]\n"
     ]
    },
    {
     "name": "stdout",
     "output_type": "stream",
     "text": [
      "DPM-Solver-Sampling 8.019065141677856 seconds\n",
      "Epoch - 44\n"
     ]
    },
    {
     "name": "stderr",
     "output_type": "stream",
     "text": [
      "Loss: 0.00240; step 254; epoch 44: 100%|██████████| 255/255 [03:11<00:00,  1.33it/s]\n",
      "DDPM Sampling: 100%|██████████| 1000/1000 [06:43<00:00,  2.48it/s]\n"
     ]
    },
    {
     "name": "stdout",
     "output_type": "stream",
     "text": [
      "DDPM-Sampling 403.46171593666077 seconds\n"
     ]
    },
    {
     "name": "stderr",
     "output_type": "stream",
     "text": [
      "DDIM Sampling: 100%|██████████| 50/50 [00:20<00:00,  2.46it/s]\n"
     ]
    },
    {
     "name": "stdout",
     "output_type": "stream",
     "text": [
      "DDIM-Sampling 20.303313970565796 seconds\n"
     ]
    },
    {
     "name": "stderr",
     "output_type": "stream",
     "text": [
      "DPM-Solver Sampling: 100%|██████████| 10/10 [00:08<00:00,  1.24it/s]\n"
     ]
    },
    {
     "name": "stdout",
     "output_type": "stream",
     "text": [
      "DPM-Solver-Sampling 8.09656286239624 seconds\n",
      "Epoch - 45\n"
     ]
    },
    {
     "name": "stderr",
     "output_type": "stream",
     "text": [
      "Loss: 0.00837; step 254; epoch 45: 100%|██████████| 255/255 [03:12<00:00,  1.32it/s]\n",
      "Sampling: 100%|██████████| 1000/1000 [06:45<00:00,  2.46it/s]\n",
      "INFO:matplotlib.animation:Animation.save using <class 'matplotlib.animation.FFMpegWriter'>\n",
      "INFO:matplotlib.animation:MovieWriter._run: running command: ffmpeg -f rawvideo -vcodec rawvideo -s 640x480 -pix_fmt rgba -framerate 10 -loglevel error -i pipe: -vcodec h264 -pix_fmt yuv420p -y ./temp/Diffusion_00_Flowers102_videos/test_045.mp4\n",
      "DDPM Sampling: 100%|██████████| 1000/1000 [06:41<00:00,  2.49it/s]\n"
     ]
    },
    {
     "name": "stdout",
     "output_type": "stream",
     "text": [
      "DDPM-Sampling 401.59079098701477 seconds\n"
     ]
    },
    {
     "name": "stderr",
     "output_type": "stream",
     "text": [
      "DDIM Sampling: 100%|██████████| 50/50 [00:19<00:00,  2.54it/s]\n"
     ]
    },
    {
     "name": "stdout",
     "output_type": "stream",
     "text": [
      "DDIM-Sampling 19.714313983917236 seconds\n"
     ]
    },
    {
     "name": "stderr",
     "output_type": "stream",
     "text": [
      "DPM-Solver Sampling: 100%|██████████| 10/10 [00:07<00:00,  1.29it/s]\n"
     ]
    },
    {
     "name": "stdout",
     "output_type": "stream",
     "text": [
      "DPM-Solver-Sampling 7.7820000648498535 seconds\n",
      "Epoch - 46\n"
     ]
    },
    {
     "name": "stderr",
     "output_type": "stream",
     "text": [
      "Loss: 0.01709; step 254; epoch 46: 100%|██████████| 255/255 [03:04<00:00,  1.38it/s]\n",
      "DDPM Sampling: 100%|██████████| 1000/1000 [06:37<00:00,  2.51it/s]\n"
     ]
    },
    {
     "name": "stdout",
     "output_type": "stream",
     "text": [
      "DDPM-Sampling 397.7825300693512 seconds\n"
     ]
    },
    {
     "name": "stderr",
     "output_type": "stream",
     "text": [
      "DDIM Sampling: 100%|██████████| 50/50 [00:19<00:00,  2.52it/s]\n"
     ]
    },
    {
     "name": "stdout",
     "output_type": "stream",
     "text": [
      "DDIM-Sampling 19.8490629196167 seconds\n"
     ]
    },
    {
     "name": "stderr",
     "output_type": "stream",
     "text": [
      "DPM-Solver Sampling: 100%|██████████| 10/10 [00:07<00:00,  1.27it/s]\n"
     ]
    },
    {
     "name": "stdout",
     "output_type": "stream",
     "text": [
      "DPM-Solver-Sampling 7.874610900878906 seconds\n",
      "Epoch - 47\n"
     ]
    },
    {
     "name": "stderr",
     "output_type": "stream",
     "text": [
      "Loss: 0.00599; step 254; epoch 47: 100%|██████████| 255/255 [03:06<00:00,  1.37it/s]\n",
      "DDPM Sampling: 100%|██████████| 1000/1000 [06:35<00:00,  2.53it/s]\n"
     ]
    },
    {
     "name": "stdout",
     "output_type": "stream",
     "text": [
      "DDPM-Sampling 395.4568419456482 seconds\n"
     ]
    },
    {
     "name": "stderr",
     "output_type": "stream",
     "text": [
      "DDIM Sampling: 100%|██████████| 50/50 [00:19<00:00,  2.54it/s]\n"
     ]
    },
    {
     "name": "stdout",
     "output_type": "stream",
     "text": [
      "DDIM-Sampling 19.713093996047974 seconds\n"
     ]
    },
    {
     "name": "stderr",
     "output_type": "stream",
     "text": [
      "DPM-Solver Sampling: 100%|██████████| 10/10 [00:07<00:00,  1.28it/s]\n"
     ]
    },
    {
     "name": "stdout",
     "output_type": "stream",
     "text": [
      "DPM-Solver-Sampling 7.819947004318237 seconds\n",
      "Epoch - 48\n"
     ]
    },
    {
     "name": "stderr",
     "output_type": "stream",
     "text": [
      "Loss: 0.00386; step 254; epoch 48: 100%|██████████| 255/255 [03:05<00:00,  1.37it/s]\n",
      "DDPM Sampling: 100%|██████████| 1000/1000 [06:39<00:00,  2.50it/s]\n"
     ]
    },
    {
     "name": "stdout",
     "output_type": "stream",
     "text": [
      "DDPM-Sampling 399.2422740459442 seconds\n"
     ]
    },
    {
     "name": "stderr",
     "output_type": "stream",
     "text": [
      "DDIM Sampling: 100%|██████████| 50/50 [00:19<00:00,  2.51it/s]\n"
     ]
    },
    {
     "name": "stdout",
     "output_type": "stream",
     "text": [
      "DDIM-Sampling 19.909868717193604 seconds\n"
     ]
    },
    {
     "name": "stderr",
     "output_type": "stream",
     "text": [
      "DPM-Solver Sampling: 100%|██████████| 10/10 [00:07<00:00,  1.26it/s]\n"
     ]
    },
    {
     "name": "stdout",
     "output_type": "stream",
     "text": [
      "DPM-Solver-Sampling 7.9114508628845215 seconds\n",
      "Epoch - 49\n"
     ]
    },
    {
     "name": "stderr",
     "output_type": "stream",
     "text": [
      "Loss: 0.01300; step 254; epoch 49: 100%|██████████| 255/255 [03:06<00:00,  1.37it/s]\n",
      "DDPM Sampling: 100%|██████████| 1000/1000 [06:36<00:00,  2.52it/s]\n"
     ]
    },
    {
     "name": "stdout",
     "output_type": "stream",
     "text": [
      "DDPM-Sampling 396.7050368785858 seconds\n"
     ]
    },
    {
     "name": "stderr",
     "output_type": "stream",
     "text": [
      "DDIM Sampling: 100%|██████████| 50/50 [00:19<00:00,  2.55it/s]\n"
     ]
    },
    {
     "name": "stdout",
     "output_type": "stream",
     "text": [
      "DDIM-Sampling 19.590363264083862 seconds\n"
     ]
    },
    {
     "name": "stderr",
     "output_type": "stream",
     "text": [
      "DPM-Solver Sampling: 100%|██████████| 10/10 [00:07<00:00,  1.27it/s]\n"
     ]
    },
    {
     "name": "stdout",
     "output_type": "stream",
     "text": [
      "DPM-Solver-Sampling 7.8850929737091064 seconds\n",
      "Epoch - 50\n"
     ]
    },
    {
     "name": "stderr",
     "output_type": "stream",
     "text": [
      "Loss: 0.01279; step 254; epoch 50: 100%|██████████| 255/255 [03:06<00:00,  1.37it/s]\n",
      "Sampling: 100%|██████████| 1000/1000 [06:35<00:00,  2.53it/s]\n",
      "INFO:matplotlib.animation:Animation.save using <class 'matplotlib.animation.FFMpegWriter'>\n",
      "INFO:matplotlib.animation:MovieWriter._run: running command: ffmpeg -f rawvideo -vcodec rawvideo -s 640x480 -pix_fmt rgba -framerate 10 -loglevel error -i pipe: -vcodec h264 -pix_fmt yuv420p -y ./temp/Diffusion_00_Flowers102_videos/test_050.mp4\n",
      "DDPM Sampling: 100%|██████████| 1000/1000 [06:32<00:00,  2.55it/s]\n"
     ]
    },
    {
     "name": "stdout",
     "output_type": "stream",
     "text": [
      "DDPM-Sampling 392.8581349849701 seconds\n"
     ]
    },
    {
     "name": "stderr",
     "output_type": "stream",
     "text": [
      "DDIM Sampling: 100%|██████████| 50/50 [00:19<00:00,  2.59it/s]\n"
     ]
    },
    {
     "name": "stdout",
     "output_type": "stream",
     "text": [
      "DDIM-Sampling 19.280019998550415 seconds\n"
     ]
    },
    {
     "name": "stderr",
     "output_type": "stream",
     "text": [
      "DPM-Solver Sampling: 100%|██████████| 10/10 [00:07<00:00,  1.32it/s]\n"
     ]
    },
    {
     "name": "stdout",
     "output_type": "stream",
     "text": [
      "DPM-Solver-Sampling 7.588593006134033 seconds\n",
      "Epoch - 51\n"
     ]
    },
    {
     "name": "stderr",
     "output_type": "stream",
     "text": [
      "Loss: 0.00308; step 254; epoch 51: 100%|██████████| 255/255 [03:00<00:00,  1.41it/s]\n",
      "DDPM Sampling: 100%|██████████| 1000/1000 [06:22<00:00,  2.61it/s]\n"
     ]
    },
    {
     "name": "stdout",
     "output_type": "stream",
     "text": [
      "DDPM-Sampling 382.6982419490814 seconds\n"
     ]
    },
    {
     "name": "stderr",
     "output_type": "stream",
     "text": [
      "DDIM Sampling: 100%|██████████| 50/50 [00:18<00:00,  2.64it/s]\n"
     ]
    },
    {
     "name": "stdout",
     "output_type": "stream",
     "text": [
      "DDIM-Sampling 18.956292152404785 seconds\n"
     ]
    },
    {
     "name": "stderr",
     "output_type": "stream",
     "text": [
      "DPM-Solver Sampling: 100%|██████████| 10/10 [00:07<00:00,  1.33it/s]\n"
     ]
    },
    {
     "name": "stdout",
     "output_type": "stream",
     "text": [
      "DPM-Solver-Sampling 7.527052879333496 seconds\n",
      "Epoch - 52\n"
     ]
    },
    {
     "name": "stderr",
     "output_type": "stream",
     "text": [
      "Loss: 0.06347; step 254; epoch 52: 100%|██████████| 255/255 [02:59<00:00,  1.42it/s]\n",
      "DDPM Sampling: 100%|██████████| 1000/1000 [06:23<00:00,  2.61it/s]\n"
     ]
    },
    {
     "name": "stdout",
     "output_type": "stream",
     "text": [
      "DDPM-Sampling 383.6066508293152 seconds\n"
     ]
    },
    {
     "name": "stderr",
     "output_type": "stream",
     "text": [
      "DDIM Sampling: 100%|██████████| 50/50 [00:19<00:00,  2.60it/s]\n"
     ]
    },
    {
     "name": "stdout",
     "output_type": "stream",
     "text": [
      "DDIM-Sampling 19.263365030288696 seconds\n"
     ]
    },
    {
     "name": "stderr",
     "output_type": "stream",
     "text": [
      "DPM-Solver Sampling: 100%|██████████| 10/10 [00:07<00:00,  1.31it/s]\n"
     ]
    },
    {
     "name": "stdout",
     "output_type": "stream",
     "text": [
      "DPM-Solver-Sampling 7.6505420207977295 seconds\n",
      "Epoch - 53\n"
     ]
    },
    {
     "name": "stderr",
     "output_type": "stream",
     "text": [
      "Loss: 0.00564; step 254; epoch 53: 100%|██████████| 255/255 [03:01<00:00,  1.41it/s]\n",
      "DDPM Sampling: 100%|██████████| 1000/1000 [06:24<00:00,  2.60it/s]\n"
     ]
    },
    {
     "name": "stdout",
     "output_type": "stream",
     "text": [
      "DDPM-Sampling 384.68214297294617 seconds\n"
     ]
    },
    {
     "name": "stderr",
     "output_type": "stream",
     "text": [
      "DDIM Sampling: 100%|██████████| 50/50 [00:19<00:00,  2.62it/s]\n"
     ]
    },
    {
     "name": "stdout",
     "output_type": "stream",
     "text": [
      "DDIM-Sampling 19.070024013519287 seconds\n"
     ]
    },
    {
     "name": "stderr",
     "output_type": "stream",
     "text": [
      "DPM-Solver Sampling: 100%|██████████| 10/10 [00:07<00:00,  1.31it/s]\n"
     ]
    },
    {
     "name": "stdout",
     "output_type": "stream",
     "text": [
      "DPM-Solver-Sampling 7.623341798782349 seconds\n",
      "Epoch - 54\n"
     ]
    },
    {
     "name": "stderr",
     "output_type": "stream",
     "text": [
      "Loss: 0.01329; step 254; epoch 54: 100%|██████████| 255/255 [03:00<00:00,  1.42it/s]\n",
      "DDPM Sampling: 100%|██████████| 1000/1000 [06:20<00:00,  2.63it/s]\n"
     ]
    },
    {
     "name": "stdout",
     "output_type": "stream",
     "text": [
      "DDPM-Sampling 380.59794783592224 seconds\n"
     ]
    },
    {
     "name": "stderr",
     "output_type": "stream",
     "text": [
      "DDIM Sampling: 100%|██████████| 50/50 [00:18<00:00,  2.65it/s]\n"
     ]
    },
    {
     "name": "stdout",
     "output_type": "stream",
     "text": [
      "DDIM-Sampling 18.88421392440796 seconds\n"
     ]
    },
    {
     "name": "stderr",
     "output_type": "stream",
     "text": [
      "DPM-Solver Sampling: 100%|██████████| 10/10 [00:07<00:00,  1.34it/s]\n"
     ]
    },
    {
     "name": "stdout",
     "output_type": "stream",
     "text": [
      "DPM-Solver-Sampling 7.491219997406006 seconds\n",
      "Epoch - 55\n"
     ]
    },
    {
     "name": "stderr",
     "output_type": "stream",
     "text": [
      "Loss: 0.00646; step 254; epoch 55: 100%|██████████| 255/255 [02:59<00:00,  1.42it/s]\n",
      "Sampling: 100%|██████████| 1000/1000 [06:17<00:00,  2.65it/s]\n",
      "INFO:matplotlib.animation:Animation.save using <class 'matplotlib.animation.FFMpegWriter'>\n",
      "INFO:matplotlib.animation:MovieWriter._run: running command: ffmpeg -f rawvideo -vcodec rawvideo -s 640x480 -pix_fmt rgba -framerate 10 -loglevel error -i pipe: -vcodec h264 -pix_fmt yuv420p -y ./temp/Diffusion_00_Flowers102_videos/test_055.mp4\n",
      "DDPM Sampling: 100%|██████████| 1000/1000 [06:16<00:00,  2.65it/s]\n"
     ]
    },
    {
     "name": "stdout",
     "output_type": "stream",
     "text": [
      "DDPM-Sampling 376.8425679206848 seconds\n"
     ]
    },
    {
     "name": "stderr",
     "output_type": "stream",
     "text": [
      "DDIM Sampling: 100%|██████████| 50/50 [00:18<00:00,  2.66it/s]\n"
     ]
    },
    {
     "name": "stdout",
     "output_type": "stream",
     "text": [
      "DDIM-Sampling 18.809988021850586 seconds\n"
     ]
    },
    {
     "name": "stderr",
     "output_type": "stream",
     "text": [
      "DPM-Solver Sampling: 100%|██████████| 10/10 [00:07<00:00,  1.34it/s]\n"
     ]
    },
    {
     "name": "stdout",
     "output_type": "stream",
     "text": [
      "DPM-Solver-Sampling 7.460370063781738 seconds\n",
      "Epoch - 56\n"
     ]
    },
    {
     "name": "stderr",
     "output_type": "stream",
     "text": [
      "Loss: 0.03145; step 254; epoch 56: 100%|██████████| 255/255 [02:58<00:00,  1.43it/s]\n",
      "DDPM Sampling: 100%|██████████| 1000/1000 [06:19<00:00,  2.63it/s]\n"
     ]
    },
    {
     "name": "stdout",
     "output_type": "stream",
     "text": [
      "DDPM-Sampling 379.85496401786804 seconds\n"
     ]
    },
    {
     "name": "stderr",
     "output_type": "stream",
     "text": [
      "DDIM Sampling: 100%|██████████| 50/50 [00:18<00:00,  2.66it/s]\n"
     ]
    },
    {
     "name": "stdout",
     "output_type": "stream",
     "text": [
      "DDIM-Sampling 18.816378831863403 seconds\n"
     ]
    },
    {
     "name": "stderr",
     "output_type": "stream",
     "text": [
      "DPM-Solver Sampling: 100%|██████████| 10/10 [00:07<00:00,  1.34it/s]\n"
     ]
    },
    {
     "name": "stdout",
     "output_type": "stream",
     "text": [
      "DPM-Solver-Sampling 7.466152191162109 seconds\n",
      "Epoch - 57\n"
     ]
    },
    {
     "name": "stderr",
     "output_type": "stream",
     "text": [
      "Loss: 0.01179; step 254; epoch 57: 100%|██████████| 255/255 [02:57<00:00,  1.43it/s]\n",
      "DDPM Sampling: 100%|██████████| 1000/1000 [06:17<00:00,  2.65it/s]\n"
     ]
    },
    {
     "name": "stdout",
     "output_type": "stream",
     "text": [
      "DDPM-Sampling 377.5840039253235 seconds\n"
     ]
    },
    {
     "name": "stderr",
     "output_type": "stream",
     "text": [
      "DDIM Sampling: 100%|██████████| 50/50 [00:18<00:00,  2.67it/s]\n"
     ]
    },
    {
     "name": "stdout",
     "output_type": "stream",
     "text": [
      "DDIM-Sampling 18.728181838989258 seconds\n"
     ]
    },
    {
     "name": "stderr",
     "output_type": "stream",
     "text": [
      "DPM-Solver Sampling: 100%|██████████| 10/10 [00:07<00:00,  1.34it/s]\n"
     ]
    },
    {
     "name": "stdout",
     "output_type": "stream",
     "text": [
      "DPM-Solver-Sampling 7.472069025039673 seconds\n",
      "Epoch - 58\n"
     ]
    },
    {
     "name": "stderr",
     "output_type": "stream",
     "text": [
      "Loss: 0.00542; step 254; epoch 58: 100%|██████████| 255/255 [02:58<00:00,  1.43it/s]\n",
      "DDPM Sampling: 100%|██████████| 1000/1000 [06:18<00:00,  2.64it/s]\n"
     ]
    },
    {
     "name": "stdout",
     "output_type": "stream",
     "text": [
      "DDPM-Sampling 378.1040508747101 seconds\n"
     ]
    },
    {
     "name": "stderr",
     "output_type": "stream",
     "text": [
      "DDIM Sampling: 100%|██████████| 50/50 [00:18<00:00,  2.64it/s]\n"
     ]
    },
    {
     "name": "stdout",
     "output_type": "stream",
     "text": [
      "DDIM-Sampling 18.91729712486267 seconds\n"
     ]
    },
    {
     "name": "stderr",
     "output_type": "stream",
     "text": [
      "DPM-Solver Sampling: 100%|██████████| 10/10 [00:07<00:00,  1.33it/s]\n"
     ]
    },
    {
     "name": "stdout",
     "output_type": "stream",
     "text": [
      "DPM-Solver-Sampling 7.5071539878845215 seconds\n",
      "Epoch - 59\n"
     ]
    },
    {
     "name": "stderr",
     "output_type": "stream",
     "text": [
      "Loss: 0.00465; step 254; epoch 59: 100%|██████████| 255/255 [02:57<00:00,  1.43it/s]\n",
      "DDPM Sampling: 100%|██████████| 1000/1000 [06:18<00:00,  2.64it/s]\n"
     ]
    },
    {
     "name": "stdout",
     "output_type": "stream",
     "text": [
      "DDPM-Sampling 378.7821309566498 seconds\n"
     ]
    },
    {
     "name": "stderr",
     "output_type": "stream",
     "text": [
      "DDIM Sampling: 100%|██████████| 50/50 [00:18<00:00,  2.67it/s]\n"
     ]
    },
    {
     "name": "stdout",
     "output_type": "stream",
     "text": [
      "DDIM-Sampling 18.706775903701782 seconds\n"
     ]
    },
    {
     "name": "stderr",
     "output_type": "stream",
     "text": [
      "DPM-Solver Sampling: 100%|██████████| 10/10 [00:07<00:00,  1.35it/s]\n"
     ]
    },
    {
     "name": "stdout",
     "output_type": "stream",
     "text": [
      "DPM-Solver-Sampling 7.424315929412842 seconds\n",
      "Epoch - 60\n"
     ]
    },
    {
     "name": "stderr",
     "output_type": "stream",
     "text": [
      "Loss: 0.03544; step 254; epoch 60: 100%|██████████| 255/255 [02:57<00:00,  1.44it/s]\n",
      "Sampling: 100%|██████████| 1000/1000 [06:21<00:00,  2.62it/s]\n",
      "INFO:matplotlib.animation:Animation.save using <class 'matplotlib.animation.FFMpegWriter'>\n",
      "INFO:matplotlib.animation:MovieWriter._run: running command: ffmpeg -f rawvideo -vcodec rawvideo -s 640x480 -pix_fmt rgba -framerate 10 -loglevel error -i pipe: -vcodec h264 -pix_fmt yuv420p -y ./temp/Diffusion_00_Flowers102_videos/test_060.mp4\n",
      "DDPM Sampling: 100%|██████████| 1000/1000 [06:19<00:00,  2.63it/s]\n"
     ]
    },
    {
     "name": "stdout",
     "output_type": "stream",
     "text": [
      "DDPM-Sampling 379.939505815506 seconds\n"
     ]
    },
    {
     "name": "stderr",
     "output_type": "stream",
     "text": [
      "DDIM Sampling: 100%|██████████| 50/50 [00:18<00:00,  2.65it/s]\n"
     ]
    },
    {
     "name": "stdout",
     "output_type": "stream",
     "text": [
      "DDIM-Sampling 18.88819408416748 seconds\n"
     ]
    },
    {
     "name": "stderr",
     "output_type": "stream",
     "text": [
      "DPM-Solver Sampling: 100%|██████████| 10/10 [00:07<00:00,  1.33it/s]\n"
     ]
    },
    {
     "name": "stdout",
     "output_type": "stream",
     "text": [
      "DPM-Solver-Sampling 7.541383981704712 seconds\n",
      "Epoch - 61\n"
     ]
    },
    {
     "name": "stderr",
     "output_type": "stream",
     "text": [
      "Loss: 0.00131; step 254; epoch 61: 100%|██████████| 255/255 [02:59<00:00,  1.42it/s]\n",
      "DDPM Sampling: 100%|██████████| 1000/1000 [06:16<00:00,  2.66it/s]\n"
     ]
    },
    {
     "name": "stdout",
     "output_type": "stream",
     "text": [
      "DDPM-Sampling 376.64496874809265 seconds\n"
     ]
    },
    {
     "name": "stderr",
     "output_type": "stream",
     "text": [
      "DDIM Sampling: 100%|██████████| 50/50 [00:18<00:00,  2.65it/s]\n"
     ]
    },
    {
     "name": "stdout",
     "output_type": "stream",
     "text": [
      "DDIM-Sampling 18.84451913833618 seconds\n"
     ]
    },
    {
     "name": "stderr",
     "output_type": "stream",
     "text": [
      "DPM-Solver Sampling: 100%|██████████| 10/10 [00:07<00:00,  1.34it/s]\n"
     ]
    },
    {
     "name": "stdout",
     "output_type": "stream",
     "text": [
      "DPM-Solver-Sampling 7.4811060428619385 seconds\n",
      "Epoch - 62\n"
     ]
    },
    {
     "name": "stderr",
     "output_type": "stream",
     "text": [
      "Loss: 0.00178; step 254; epoch 62: 100%|██████████| 255/255 [02:59<00:00,  1.42it/s]\n",
      "DDPM Sampling: 100%|██████████| 1000/1000 [06:18<00:00,  2.64it/s]\n"
     ]
    },
    {
     "name": "stdout",
     "output_type": "stream",
     "text": [
      "DDPM-Sampling 378.6948161125183 seconds\n"
     ]
    },
    {
     "name": "stderr",
     "output_type": "stream",
     "text": [
      "DDIM Sampling: 100%|██████████| 50/50 [00:18<00:00,  2.65it/s]\n"
     ]
    },
    {
     "name": "stdout",
     "output_type": "stream",
     "text": [
      "DDIM-Sampling 18.902880668640137 seconds\n"
     ]
    },
    {
     "name": "stderr",
     "output_type": "stream",
     "text": [
      "DPM-Solver Sampling: 100%|██████████| 10/10 [00:07<00:00,  1.32it/s]\n"
     ]
    },
    {
     "name": "stdout",
     "output_type": "stream",
     "text": [
      "DPM-Solver-Sampling 7.568017244338989 seconds\n",
      "Epoch - 63\n"
     ]
    },
    {
     "name": "stderr",
     "output_type": "stream",
     "text": [
      "Loss: 0.02197; step 254; epoch 63: 100%|██████████| 255/255 [02:58<00:00,  1.43it/s]\n",
      "DDPM Sampling: 100%|██████████| 1000/1000 [06:17<00:00,  2.65it/s]\n"
     ]
    },
    {
     "name": "stdout",
     "output_type": "stream",
     "text": [
      "DDPM-Sampling 377.2522962093353 seconds\n"
     ]
    },
    {
     "name": "stderr",
     "output_type": "stream",
     "text": [
      "DDIM Sampling: 100%|██████████| 50/50 [00:18<00:00,  2.65it/s]\n"
     ]
    },
    {
     "name": "stdout",
     "output_type": "stream",
     "text": [
      "DDIM-Sampling 18.886948823928833 seconds\n"
     ]
    },
    {
     "name": "stderr",
     "output_type": "stream",
     "text": [
      "DPM-Solver Sampling: 100%|██████████| 10/10 [00:07<00:00,  1.34it/s]\n"
     ]
    },
    {
     "name": "stdout",
     "output_type": "stream",
     "text": [
      "DPM-Solver-Sampling 7.470533847808838 seconds\n",
      "Epoch - 64\n"
     ]
    },
    {
     "name": "stderr",
     "output_type": "stream",
     "text": [
      "Loss: 0.01215; step 254; epoch 64: 100%|██████████| 255/255 [02:57<00:00,  1.43it/s]\n",
      "DDPM Sampling: 100%|██████████| 1000/1000 [06:19<00:00,  2.63it/s]\n"
     ]
    },
    {
     "name": "stdout",
     "output_type": "stream",
     "text": [
      "DDPM-Sampling 379.762570142746 seconds\n"
     ]
    },
    {
     "name": "stderr",
     "output_type": "stream",
     "text": [
      "DDIM Sampling: 100%|██████████| 50/50 [00:18<00:00,  2.63it/s]\n"
     ]
    },
    {
     "name": "stdout",
     "output_type": "stream",
     "text": [
      "DDIM-Sampling 18.994822025299072 seconds\n"
     ]
    },
    {
     "name": "stderr",
     "output_type": "stream",
     "text": [
      "DPM-Solver Sampling: 100%|██████████| 10/10 [00:07<00:00,  1.32it/s]\n"
     ]
    },
    {
     "name": "stdout",
     "output_type": "stream",
     "text": [
      "DPM-Solver-Sampling 7.556766033172607 seconds\n",
      "Epoch - 65\n"
     ]
    },
    {
     "name": "stderr",
     "output_type": "stream",
     "text": [
      "Loss: 0.00215; step 254; epoch 65: 100%|██████████| 255/255 [02:58<00:00,  1.43it/s]\n",
      "Sampling: 100%|██████████| 1000/1000 [06:19<00:00,  2.64it/s]\n",
      "INFO:matplotlib.animation:Animation.save using <class 'matplotlib.animation.FFMpegWriter'>\n",
      "INFO:matplotlib.animation:MovieWriter._run: running command: ffmpeg -f rawvideo -vcodec rawvideo -s 640x480 -pix_fmt rgba -framerate 10 -loglevel error -i pipe: -vcodec h264 -pix_fmt yuv420p -y ./temp/Diffusion_00_Flowers102_videos/test_065.mp4\n",
      "DDPM Sampling: 100%|██████████| 1000/1000 [06:16<00:00,  2.66it/s]\n"
     ]
    },
    {
     "name": "stdout",
     "output_type": "stream",
     "text": [
      "DDPM-Sampling 376.55677318573 seconds\n"
     ]
    },
    {
     "name": "stderr",
     "output_type": "stream",
     "text": [
      "DDIM Sampling: 100%|██████████| 50/50 [00:18<00:00,  2.68it/s]\n"
     ]
    },
    {
     "name": "stdout",
     "output_type": "stream",
     "text": [
      "DDIM-Sampling 18.629842042922974 seconds\n"
     ]
    },
    {
     "name": "stderr",
     "output_type": "stream",
     "text": [
      "DPM-Solver Sampling: 100%|██████████| 10/10 [00:07<00:00,  1.35it/s]\n"
     ]
    },
    {
     "name": "stdout",
     "output_type": "stream",
     "text": [
      "DPM-Solver-Sampling 7.403386831283569 seconds\n",
      "Epoch - 66\n"
     ]
    },
    {
     "name": "stderr",
     "output_type": "stream",
     "text": [
      "Loss: 0.01986; step 254; epoch 66: 100%|██████████| 255/255 [02:57<00:00,  1.44it/s]\n",
      "DDPM Sampling: 100%|██████████| 1000/1000 [06:16<00:00,  2.65it/s]\n"
     ]
    },
    {
     "name": "stdout",
     "output_type": "stream",
     "text": [
      "DDPM-Sampling 376.93357610702515 seconds\n"
     ]
    },
    {
     "name": "stderr",
     "output_type": "stream",
     "text": [
      "DDIM Sampling: 100%|██████████| 50/50 [00:18<00:00,  2.65it/s]\n"
     ]
    },
    {
     "name": "stdout",
     "output_type": "stream",
     "text": [
      "DDIM-Sampling 18.84535026550293 seconds\n"
     ]
    },
    {
     "name": "stderr",
     "output_type": "stream",
     "text": [
      "DPM-Solver Sampling: 100%|██████████| 10/10 [00:07<00:00,  1.34it/s]\n"
     ]
    },
    {
     "name": "stdout",
     "output_type": "stream",
     "text": [
      "DPM-Solver-Sampling 7.461480140686035 seconds\n",
      "Epoch - 67\n"
     ]
    },
    {
     "name": "stderr",
     "output_type": "stream",
     "text": [
      "Loss: 0.00209; step 254; epoch 67: 100%|██████████| 255/255 [02:57<00:00,  1.44it/s]\n",
      "DDPM Sampling: 100%|██████████| 1000/1000 [06:13<00:00,  2.67it/s]\n"
     ]
    },
    {
     "name": "stdout",
     "output_type": "stream",
     "text": [
      "DDPM-Sampling 373.96207094192505 seconds\n"
     ]
    },
    {
     "name": "stderr",
     "output_type": "stream",
     "text": [
      "DDIM Sampling: 100%|██████████| 50/50 [00:18<00:00,  2.69it/s]\n"
     ]
    },
    {
     "name": "stdout",
     "output_type": "stream",
     "text": [
      "DDIM-Sampling 18.60787296295166 seconds\n"
     ]
    },
    {
     "name": "stderr",
     "output_type": "stream",
     "text": [
      "DPM-Solver Sampling: 100%|██████████| 10/10 [00:07<00:00,  1.35it/s]\n"
     ]
    },
    {
     "name": "stdout",
     "output_type": "stream",
     "text": [
      "DPM-Solver-Sampling 7.383155107498169 seconds\n",
      "Epoch - 68\n"
     ]
    },
    {
     "name": "stderr",
     "output_type": "stream",
     "text": [
      "Loss: 0.07887; step 254; epoch 68: 100%|██████████| 255/255 [02:56<00:00,  1.45it/s]\n",
      "DDPM Sampling: 100%|██████████| 1000/1000 [06:16<00:00,  2.66it/s]\n"
     ]
    },
    {
     "name": "stdout",
     "output_type": "stream",
     "text": [
      "DDPM-Sampling 376.3188650608063 seconds\n"
     ]
    },
    {
     "name": "stderr",
     "output_type": "stream",
     "text": [
      "DDIM Sampling: 100%|██████████| 50/50 [00:18<00:00,  2.68it/s]\n"
     ]
    },
    {
     "name": "stdout",
     "output_type": "stream",
     "text": [
      "DDIM-Sampling 18.672863006591797 seconds\n"
     ]
    },
    {
     "name": "stderr",
     "output_type": "stream",
     "text": [
      "DPM-Solver Sampling: 100%|██████████| 10/10 [00:07<00:00,  1.35it/s]\n"
     ]
    },
    {
     "name": "stdout",
     "output_type": "stream",
     "text": [
      "DPM-Solver-Sampling 7.410090923309326 seconds\n",
      "Epoch - 69\n"
     ]
    },
    {
     "name": "stderr",
     "output_type": "stream",
     "text": [
      "Loss: 0.00248; step 254; epoch 69: 100%|██████████| 255/255 [02:56<00:00,  1.45it/s]\n",
      "DDPM Sampling: 100%|██████████| 1000/1000 [06:15<00:00,  2.66it/s]\n"
     ]
    },
    {
     "name": "stdout",
     "output_type": "stream",
     "text": [
      "DDPM-Sampling 375.9157991409302 seconds\n"
     ]
    },
    {
     "name": "stderr",
     "output_type": "stream",
     "text": [
      "DDIM Sampling: 100%|██████████| 50/50 [00:18<00:00,  2.68it/s]\n"
     ]
    },
    {
     "name": "stdout",
     "output_type": "stream",
     "text": [
      "DDIM-Sampling 18.677129983901978 seconds\n"
     ]
    },
    {
     "name": "stderr",
     "output_type": "stream",
     "text": [
      "DPM-Solver Sampling: 100%|██████████| 10/10 [00:07<00:00,  1.36it/s]\n"
     ]
    },
    {
     "name": "stdout",
     "output_type": "stream",
     "text": [
      "DPM-Solver-Sampling 7.38068413734436 seconds\n",
      "Epoch - 70\n"
     ]
    },
    {
     "name": "stderr",
     "output_type": "stream",
     "text": [
      "Loss: 0.09604; step 254; epoch 70: 100%|██████████| 255/255 [02:56<00:00,  1.44it/s]\n",
      "Sampling: 100%|██████████| 1000/1000 [06:16<00:00,  2.66it/s]\n",
      "INFO:matplotlib.animation:Animation.save using <class 'matplotlib.animation.FFMpegWriter'>\n",
      "INFO:matplotlib.animation:MovieWriter._run: running command: ffmpeg -f rawvideo -vcodec rawvideo -s 640x480 -pix_fmt rgba -framerate 10 -loglevel error -i pipe: -vcodec h264 -pix_fmt yuv420p -y ./temp/Diffusion_00_Flowers102_videos/test_070.mp4\n",
      "DDPM Sampling: 100%|██████████| 1000/1000 [06:16<00:00,  2.65it/s]\n"
     ]
    },
    {
     "name": "stdout",
     "output_type": "stream",
     "text": [
      "DDPM-Sampling 376.93739914894104 seconds\n"
     ]
    },
    {
     "name": "stderr",
     "output_type": "stream",
     "text": [
      "DDIM Sampling: 100%|██████████| 50/50 [00:18<00:00,  2.67it/s]\n"
     ]
    },
    {
     "name": "stdout",
     "output_type": "stream",
     "text": [
      "DDIM-Sampling 18.70380997657776 seconds\n"
     ]
    },
    {
     "name": "stderr",
     "output_type": "stream",
     "text": [
      "DPM-Solver Sampling: 100%|██████████| 10/10 [00:07<00:00,  1.35it/s]\n"
     ]
    },
    {
     "name": "stdout",
     "output_type": "stream",
     "text": [
      "DPM-Solver-Sampling 7.3886260986328125 seconds\n",
      "Epoch - 71\n"
     ]
    },
    {
     "name": "stderr",
     "output_type": "stream",
     "text": [
      "Loss: 0.00822; step 254; epoch 71: 100%|██████████| 255/255 [02:56<00:00,  1.44it/s]\n",
      "DDPM Sampling: 100%|██████████| 1000/1000 [06:14<00:00,  2.67it/s]\n"
     ]
    },
    {
     "name": "stdout",
     "output_type": "stream",
     "text": [
      "DDPM-Sampling 374.53018593788147 seconds\n"
     ]
    },
    {
     "name": "stderr",
     "output_type": "stream",
     "text": [
      "DDIM Sampling: 100%|██████████| 50/50 [00:18<00:00,  2.68it/s]\n"
     ]
    },
    {
     "name": "stdout",
     "output_type": "stream",
     "text": [
      "DDIM-Sampling 18.635957956314087 seconds\n"
     ]
    },
    {
     "name": "stderr",
     "output_type": "stream",
     "text": [
      "DPM-Solver Sampling: 100%|██████████| 10/10 [00:07<00:00,  1.35it/s]\n"
     ]
    },
    {
     "name": "stdout",
     "output_type": "stream",
     "text": [
      "DPM-Solver-Sampling 7.39792799949646 seconds\n",
      "Epoch - 72\n"
     ]
    },
    {
     "name": "stderr",
     "output_type": "stream",
     "text": [
      "Loss: 0.04071; step 254; epoch 72: 100%|██████████| 255/255 [02:56<00:00,  1.45it/s]\n",
      "DDPM Sampling: 100%|██████████| 1000/1000 [06:26<00:00,  2.59it/s]\n"
     ]
    },
    {
     "name": "stdout",
     "output_type": "stream",
     "text": [
      "DDPM-Sampling 386.8436779975891 seconds\n"
     ]
    },
    {
     "name": "stderr",
     "output_type": "stream",
     "text": [
      "DDIM Sampling: 100%|██████████| 50/50 [00:19<00:00,  2.54it/s]\n"
     ]
    },
    {
     "name": "stdout",
     "output_type": "stream",
     "text": [
      "DDIM-Sampling 19.666768074035645 seconds\n"
     ]
    },
    {
     "name": "stderr",
     "output_type": "stream",
     "text": [
      "DPM-Solver Sampling: 100%|██████████| 10/10 [00:07<00:00,  1.29it/s]\n"
     ]
    },
    {
     "name": "stdout",
     "output_type": "stream",
     "text": [
      "DPM-Solver-Sampling 7.743221998214722 seconds\n",
      "Epoch - 73\n"
     ]
    },
    {
     "name": "stderr",
     "output_type": "stream",
     "text": [
      "Loss: 0.04107; step 254; epoch 73: 100%|██████████| 255/255 [03:05<00:00,  1.38it/s]\n",
      "DDPM Sampling: 100%|██████████| 1000/1000 [06:22<00:00,  2.61it/s]\n"
     ]
    },
    {
     "name": "stdout",
     "output_type": "stream",
     "text": [
      "DDPM-Sampling 382.5545926094055 seconds\n"
     ]
    },
    {
     "name": "stderr",
     "output_type": "stream",
     "text": [
      "DDIM Sampling: 100%|██████████| 50/50 [00:19<00:00,  2.62it/s]\n"
     ]
    },
    {
     "name": "stdout",
     "output_type": "stream",
     "text": [
      "DDIM-Sampling 19.098212242126465 seconds\n"
     ]
    },
    {
     "name": "stderr",
     "output_type": "stream",
     "text": [
      "DPM-Solver Sampling: 100%|██████████| 10/10 [00:07<00:00,  1.31it/s]\n"
     ]
    },
    {
     "name": "stdout",
     "output_type": "stream",
     "text": [
      "DPM-Solver-Sampling 7.614508152008057 seconds\n",
      "Epoch - 74\n"
     ]
    },
    {
     "name": "stderr",
     "output_type": "stream",
     "text": [
      "Loss: 0.00068; step 254; epoch 74: 100%|██████████| 255/255 [03:00<00:00,  1.42it/s]\n",
      "DDPM Sampling: 100%|██████████| 1000/1000 [06:20<00:00,  2.63it/s]\n"
     ]
    },
    {
     "name": "stdout",
     "output_type": "stream",
     "text": [
      "DDPM-Sampling 380.5723612308502 seconds\n"
     ]
    },
    {
     "name": "stderr",
     "output_type": "stream",
     "text": [
      "DDIM Sampling: 100%|██████████| 50/50 [00:19<00:00,  2.62it/s]\n"
     ]
    },
    {
     "name": "stdout",
     "output_type": "stream",
     "text": [
      "DDIM-Sampling 19.108161687850952 seconds\n"
     ]
    },
    {
     "name": "stderr",
     "output_type": "stream",
     "text": [
      "DPM-Solver Sampling: 100%|██████████| 10/10 [00:07<00:00,  1.32it/s]\n"
     ]
    },
    {
     "name": "stdout",
     "output_type": "stream",
     "text": [
      "DPM-Solver-Sampling 7.582992076873779 seconds\n",
      "Epoch - 75\n"
     ]
    },
    {
     "name": "stderr",
     "output_type": "stream",
     "text": [
      "Loss: 0.00233; step 254; epoch 75: 100%|██████████| 255/255 [02:59<00:00,  1.42it/s]\n",
      "Sampling: 100%|██████████| 1000/1000 [06:23<00:00,  2.61it/s]\n",
      "INFO:matplotlib.animation:Animation.save using <class 'matplotlib.animation.FFMpegWriter'>\n",
      "INFO:matplotlib.animation:MovieWriter._run: running command: ffmpeg -f rawvideo -vcodec rawvideo -s 640x480 -pix_fmt rgba -framerate 10 -loglevel error -i pipe: -vcodec h264 -pix_fmt yuv420p -y ./temp/Diffusion_00_Flowers102_videos/test_075.mp4\n",
      "DDPM Sampling: 100%|██████████| 1000/1000 [06:19<00:00,  2.63it/s]\n"
     ]
    },
    {
     "name": "stdout",
     "output_type": "stream",
     "text": [
      "DDPM-Sampling 379.75753688812256 seconds\n"
     ]
    },
    {
     "name": "stderr",
     "output_type": "stream",
     "text": [
      "DDIM Sampling: 100%|██████████| 50/50 [00:18<00:00,  2.64it/s]\n"
     ]
    },
    {
     "name": "stdout",
     "output_type": "stream",
     "text": [
      "DDIM-Sampling 18.965425968170166 seconds\n"
     ]
    },
    {
     "name": "stderr",
     "output_type": "stream",
     "text": [
      "DPM-Solver Sampling: 100%|██████████| 10/10 [00:07<00:00,  1.33it/s]\n"
     ]
    },
    {
     "name": "stdout",
     "output_type": "stream",
     "text": [
      "DPM-Solver-Sampling 7.542363882064819 seconds\n",
      "Epoch - 76\n"
     ]
    },
    {
     "name": "stderr",
     "output_type": "stream",
     "text": [
      "Loss: 0.00443; step 254; epoch 76: 100%|██████████| 255/255 [02:59<00:00,  1.42it/s]\n",
      "DDPM Sampling: 100%|██████████| 1000/1000 [06:20<00:00,  2.63it/s]\n"
     ]
    },
    {
     "name": "stdout",
     "output_type": "stream",
     "text": [
      "DDPM-Sampling 380.4284510612488 seconds\n"
     ]
    },
    {
     "name": "stderr",
     "output_type": "stream",
     "text": [
      "DDIM Sampling: 100%|██████████| 50/50 [00:19<00:00,  2.62it/s]\n"
     ]
    },
    {
     "name": "stdout",
     "output_type": "stream",
     "text": [
      "DDIM-Sampling 19.110838174819946 seconds\n"
     ]
    },
    {
     "name": "stderr",
     "output_type": "stream",
     "text": [
      "DPM-Solver Sampling: 100%|██████████| 10/10 [00:07<00:00,  1.32it/s]\n"
     ]
    },
    {
     "name": "stdout",
     "output_type": "stream",
     "text": [
      "DPM-Solver-Sampling 7.589469909667969 seconds\n",
      "Epoch - 77\n"
     ]
    },
    {
     "name": "stderr",
     "output_type": "stream",
     "text": [
      "Loss: 0.02281; step 254; epoch 77: 100%|██████████| 255/255 [02:59<00:00,  1.42it/s]\n",
      "DDPM Sampling: 100%|██████████| 1000/1000 [06:20<00:00,  2.63it/s]\n"
     ]
    },
    {
     "name": "stdout",
     "output_type": "stream",
     "text": [
      "DDPM-Sampling 380.6125819683075 seconds\n"
     ]
    },
    {
     "name": "stderr",
     "output_type": "stream",
     "text": [
      "DDIM Sampling: 100%|██████████| 50/50 [00:18<00:00,  2.63it/s]\n"
     ]
    },
    {
     "name": "stdout",
     "output_type": "stream",
     "text": [
      "DDIM-Sampling 18.994571924209595 seconds\n"
     ]
    },
    {
     "name": "stderr",
     "output_type": "stream",
     "text": [
      "DPM-Solver Sampling: 100%|██████████| 10/10 [00:07<00:00,  1.31it/s]\n"
     ]
    },
    {
     "name": "stdout",
     "output_type": "stream",
     "text": [
      "DPM-Solver-Sampling 7.617223024368286 seconds\n",
      "Epoch - 78\n"
     ]
    },
    {
     "name": "stderr",
     "output_type": "stream",
     "text": [
      "Loss: 0.00376; step 254; epoch 78: 100%|██████████| 255/255 [02:58<00:00,  1.43it/s]\n",
      "DDPM Sampling: 100%|██████████| 1000/1000 [06:18<00:00,  2.64it/s]\n"
     ]
    },
    {
     "name": "stdout",
     "output_type": "stream",
     "text": [
      "DDPM-Sampling 378.8798050880432 seconds\n"
     ]
    },
    {
     "name": "stderr",
     "output_type": "stream",
     "text": [
      "DDIM Sampling: 100%|██████████| 50/50 [00:18<00:00,  2.72it/s]\n"
     ]
    },
    {
     "name": "stdout",
     "output_type": "stream",
     "text": [
      "DDIM-Sampling 18.386085271835327 seconds\n"
     ]
    },
    {
     "name": "stderr",
     "output_type": "stream",
     "text": [
      "DPM-Solver Sampling: 100%|██████████| 10/10 [00:07<00:00,  1.37it/s]\n"
     ]
    },
    {
     "name": "stdout",
     "output_type": "stream",
     "text": [
      "DPM-Solver-Sampling 7.313424110412598 seconds\n",
      "Epoch - 79\n"
     ]
    },
    {
     "name": "stderr",
     "output_type": "stream",
     "text": [
      "Loss: 0.00187; step 254; epoch 79: 100%|██████████| 255/255 [02:52<00:00,  1.47it/s]\n",
      "DDPM Sampling: 100%|██████████| 1000/1000 [06:11<00:00,  2.69it/s]\n"
     ]
    },
    {
     "name": "stdout",
     "output_type": "stream",
     "text": [
      "DDPM-Sampling 371.20549297332764 seconds\n"
     ]
    },
    {
     "name": "stderr",
     "output_type": "stream",
     "text": [
      "DDIM Sampling: 100%|██████████| 50/50 [00:18<00:00,  2.69it/s]\n"
     ]
    },
    {
     "name": "stdout",
     "output_type": "stream",
     "text": [
      "DDIM-Sampling 18.576612949371338 seconds\n"
     ]
    },
    {
     "name": "stderr",
     "output_type": "stream",
     "text": [
      "DPM-Solver Sampling: 100%|██████████| 10/10 [00:07<00:00,  1.36it/s]\n"
     ]
    },
    {
     "name": "stdout",
     "output_type": "stream",
     "text": [
      "DPM-Solver-Sampling 7.358388900756836 seconds\n",
      "Epoch - 80\n"
     ]
    },
    {
     "name": "stderr",
     "output_type": "stream",
     "text": [
      "Loss: 0.00109; step 254; epoch 80: 100%|██████████| 255/255 [02:55<00:00,  1.46it/s]\n",
      "Sampling: 100%|██████████| 1000/1000 [06:12<00:00,  2.68it/s]\n",
      "INFO:matplotlib.animation:Animation.save using <class 'matplotlib.animation.FFMpegWriter'>\n",
      "INFO:matplotlib.animation:MovieWriter._run: running command: ffmpeg -f rawvideo -vcodec rawvideo -s 640x480 -pix_fmt rgba -framerate 10 -loglevel error -i pipe: -vcodec h264 -pix_fmt yuv420p -y ./temp/Diffusion_00_Flowers102_videos/test_080.mp4\n",
      "DDPM Sampling: 100%|██████████| 1000/1000 [06:11<00:00,  2.69it/s]\n"
     ]
    },
    {
     "name": "stdout",
     "output_type": "stream",
     "text": [
      "DDPM-Sampling 371.9545168876648 seconds\n"
     ]
    },
    {
     "name": "stderr",
     "output_type": "stream",
     "text": [
      "DDIM Sampling: 100%|██████████| 50/50 [00:18<00:00,  2.71it/s]\n"
     ]
    },
    {
     "name": "stdout",
     "output_type": "stream",
     "text": [
      "DDIM-Sampling 18.424354076385498 seconds\n"
     ]
    },
    {
     "name": "stderr",
     "output_type": "stream",
     "text": [
      "DPM-Solver Sampling: 100%|██████████| 10/10 [00:07<00:00,  1.37it/s]\n"
     ]
    },
    {
     "name": "stdout",
     "output_type": "stream",
     "text": [
      "DPM-Solver-Sampling 7.293688058853149 seconds\n",
      "Epoch - 81\n"
     ]
    },
    {
     "name": "stderr",
     "output_type": "stream",
     "text": [
      "Loss: 0.00955; step 254; epoch 81: 100%|██████████| 255/255 [02:54<00:00,  1.46it/s]\n",
      "DDPM Sampling: 100%|██████████| 1000/1000 [06:11<00:00,  2.69it/s]\n"
     ]
    },
    {
     "name": "stdout",
     "output_type": "stream",
     "text": [
      "DDPM-Sampling 371.9010248184204 seconds\n"
     ]
    },
    {
     "name": "stderr",
     "output_type": "stream",
     "text": [
      "DDIM Sampling: 100%|██████████| 50/50 [00:18<00:00,  2.72it/s]\n"
     ]
    },
    {
     "name": "stdout",
     "output_type": "stream",
     "text": [
      "DDIM-Sampling 18.363929271697998 seconds\n"
     ]
    },
    {
     "name": "stderr",
     "output_type": "stream",
     "text": [
      "DPM-Solver Sampling: 100%|██████████| 10/10 [00:07<00:00,  1.38it/s]\n"
     ]
    },
    {
     "name": "stdout",
     "output_type": "stream",
     "text": [
      "DPM-Solver-Sampling 7.255774021148682 seconds\n",
      "Epoch - 82\n"
     ]
    },
    {
     "name": "stderr",
     "output_type": "stream",
     "text": [
      "Loss: 0.01453; step 254; epoch 82: 100%|██████████| 255/255 [02:53<00:00,  1.47it/s]\n",
      "DDPM Sampling: 100%|██████████| 1000/1000 [06:10<00:00,  2.70it/s]\n"
     ]
    },
    {
     "name": "stdout",
     "output_type": "stream",
     "text": [
      "DDPM-Sampling 370.75735092163086 seconds\n"
     ]
    },
    {
     "name": "stderr",
     "output_type": "stream",
     "text": [
      "DDIM Sampling: 100%|██████████| 50/50 [00:18<00:00,  2.73it/s]\n"
     ]
    },
    {
     "name": "stdout",
     "output_type": "stream",
     "text": [
      "DDIM-Sampling 18.346681833267212 seconds\n"
     ]
    },
    {
     "name": "stderr",
     "output_type": "stream",
     "text": [
      "DPM-Solver Sampling: 100%|██████████| 10/10 [00:07<00:00,  1.38it/s]\n"
     ]
    },
    {
     "name": "stdout",
     "output_type": "stream",
     "text": [
      "DPM-Solver-Sampling 7.235815763473511 seconds\n",
      "Epoch - 83\n"
     ]
    },
    {
     "name": "stderr",
     "output_type": "stream",
     "text": [
      "Loss: 0.00357; step 254; epoch 83: 100%|██████████| 255/255 [02:53<00:00,  1.47it/s]\n",
      "DDPM Sampling: 100%|██████████| 1000/1000 [06:10<00:00,  2.70it/s]\n"
     ]
    },
    {
     "name": "stdout",
     "output_type": "stream",
     "text": [
      "DDPM-Sampling 370.3981237411499 seconds\n"
     ]
    },
    {
     "name": "stderr",
     "output_type": "stream",
     "text": [
      "DDIM Sampling: 100%|██████████| 50/50 [00:18<00:00,  2.74it/s]\n"
     ]
    },
    {
     "name": "stdout",
     "output_type": "stream",
     "text": [
      "DDIM-Sampling 18.226305961608887 seconds\n"
     ]
    },
    {
     "name": "stderr",
     "output_type": "stream",
     "text": [
      "DPM-Solver Sampling: 100%|██████████| 10/10 [00:07<00:00,  1.38it/s]\n"
     ]
    },
    {
     "name": "stdout",
     "output_type": "stream",
     "text": [
      "DPM-Solver-Sampling 7.257576942443848 seconds\n",
      "Epoch - 84\n"
     ]
    },
    {
     "name": "stderr",
     "output_type": "stream",
     "text": [
      "Loss: 0.00477; step 254; epoch 84: 100%|██████████| 255/255 [02:52<00:00,  1.47it/s]\n",
      "DDPM Sampling: 100%|██████████| 1000/1000 [06:08<00:00,  2.71it/s]\n"
     ]
    },
    {
     "name": "stdout",
     "output_type": "stream",
     "text": [
      "DDPM-Sampling 368.5081558227539 seconds\n"
     ]
    },
    {
     "name": "stderr",
     "output_type": "stream",
     "text": [
      "DDIM Sampling: 100%|██████████| 50/50 [00:18<00:00,  2.73it/s]\n"
     ]
    },
    {
     "name": "stdout",
     "output_type": "stream",
     "text": [
      "DDIM-Sampling 18.302329063415527 seconds\n"
     ]
    },
    {
     "name": "stderr",
     "output_type": "stream",
     "text": [
      "DPM-Solver Sampling: 100%|██████████| 10/10 [00:07<00:00,  1.39it/s]\n"
     ]
    },
    {
     "name": "stdout",
     "output_type": "stream",
     "text": [
      "DPM-Solver-Sampling 7.173105001449585 seconds\n",
      "Epoch - 85\n"
     ]
    },
    {
     "name": "stderr",
     "output_type": "stream",
     "text": [
      "Loss: 0.00201; step 254; epoch 85: 100%|██████████| 255/255 [02:53<00:00,  1.47it/s]\n",
      "Sampling: 100%|██████████| 1000/1000 [06:08<00:00,  2.71it/s]\n",
      "INFO:matplotlib.animation:Animation.save using <class 'matplotlib.animation.FFMpegWriter'>\n",
      "INFO:matplotlib.animation:MovieWriter._run: running command: ffmpeg -f rawvideo -vcodec rawvideo -s 640x480 -pix_fmt rgba -framerate 10 -loglevel error -i pipe: -vcodec h264 -pix_fmt yuv420p -y ./temp/Diffusion_00_Flowers102_videos/test_085.mp4\n",
      "DDPM Sampling: 100%|██████████| 1000/1000 [06:08<00:00,  2.71it/s]\n"
     ]
    },
    {
     "name": "stdout",
     "output_type": "stream",
     "text": [
      "DDPM-Sampling 368.98234605789185 seconds\n"
     ]
    },
    {
     "name": "stderr",
     "output_type": "stream",
     "text": [
      "DDIM Sampling: 100%|██████████| 50/50 [00:18<00:00,  2.73it/s]\n"
     ]
    },
    {
     "name": "stdout",
     "output_type": "stream",
     "text": [
      "DDIM-Sampling 18.3497052192688 seconds\n"
     ]
    },
    {
     "name": "stderr",
     "output_type": "stream",
     "text": [
      "DPM-Solver Sampling: 100%|██████████| 10/10 [00:07<00:00,  1.37it/s]\n"
     ]
    },
    {
     "name": "stdout",
     "output_type": "stream",
     "text": [
      "DPM-Solver-Sampling 7.318145990371704 seconds\n",
      "Epoch - 86\n"
     ]
    },
    {
     "name": "stderr",
     "output_type": "stream",
     "text": [
      "Loss: 0.00070; step 254; epoch 86: 100%|██████████| 255/255 [02:53<00:00,  1.47it/s]\n",
      "DDPM Sampling: 100%|██████████| 1000/1000 [06:09<00:00,  2.71it/s]\n"
     ]
    },
    {
     "name": "stdout",
     "output_type": "stream",
     "text": [
      "DDPM-Sampling 369.1502432823181 seconds\n"
     ]
    },
    {
     "name": "stderr",
     "output_type": "stream",
     "text": [
      "DDIM Sampling: 100%|██████████| 50/50 [00:18<00:00,  2.73it/s]\n"
     ]
    },
    {
     "name": "stdout",
     "output_type": "stream",
     "text": [
      "DDIM-Sampling 18.29369807243347 seconds\n"
     ]
    },
    {
     "name": "stderr",
     "output_type": "stream",
     "text": [
      "DPM-Solver Sampling: 100%|██████████| 10/10 [00:07<00:00,  1.37it/s]\n"
     ]
    },
    {
     "name": "stdout",
     "output_type": "stream",
     "text": [
      "DPM-Solver-Sampling 7.284152030944824 seconds\n",
      "Epoch - 87\n"
     ]
    },
    {
     "name": "stderr",
     "output_type": "stream",
     "text": [
      "Loss: 0.00327; step 254; epoch 87: 100%|██████████| 255/255 [02:53<00:00,  1.47it/s]\n",
      "DDPM Sampling: 100%|██████████| 1000/1000 [06:07<00:00,  2.72it/s]\n"
     ]
    },
    {
     "name": "stdout",
     "output_type": "stream",
     "text": [
      "DDPM-Sampling 367.14317893981934 seconds\n"
     ]
    },
    {
     "name": "stderr",
     "output_type": "stream",
     "text": [
      "DDIM Sampling: 100%|██████████| 50/50 [00:18<00:00,  2.75it/s]\n"
     ]
    },
    {
     "name": "stdout",
     "output_type": "stream",
     "text": [
      "DDIM-Sampling 18.155051708221436 seconds\n"
     ]
    },
    {
     "name": "stderr",
     "output_type": "stream",
     "text": [
      "DPM-Solver Sampling: 100%|██████████| 10/10 [00:07<00:00,  1.37it/s]\n"
     ]
    },
    {
     "name": "stdout",
     "output_type": "stream",
     "text": [
      "DPM-Solver-Sampling 7.27531099319458 seconds\n",
      "Epoch - 88\n"
     ]
    },
    {
     "name": "stderr",
     "output_type": "stream",
     "text": [
      "Loss: 0.00392; step 254; epoch 88: 100%|██████████| 255/255 [02:52<00:00,  1.48it/s]\n",
      "DDPM Sampling: 100%|██████████| 1000/1000 [06:10<00:00,  2.70it/s]\n"
     ]
    },
    {
     "name": "stdout",
     "output_type": "stream",
     "text": [
      "DDPM-Sampling 370.495817899704 seconds\n"
     ]
    },
    {
     "name": "stderr",
     "output_type": "stream",
     "text": [
      "DDIM Sampling: 100%|██████████| 50/50 [00:18<00:00,  2.64it/s]\n"
     ]
    },
    {
     "name": "stdout",
     "output_type": "stream",
     "text": [
      "DDIM-Sampling 18.934260845184326 seconds\n"
     ]
    },
    {
     "name": "stderr",
     "output_type": "stream",
     "text": [
      "DPM-Solver Sampling: 100%|██████████| 10/10 [00:07<00:00,  1.33it/s]\n"
     ]
    },
    {
     "name": "stdout",
     "output_type": "stream",
     "text": [
      "DPM-Solver-Sampling 7.521398067474365 seconds\n",
      "Epoch - 89\n"
     ]
    },
    {
     "name": "stderr",
     "output_type": "stream",
     "text": [
      "Loss: 0.00214; step 254; epoch 89: 100%|██████████| 255/255 [02:58<00:00,  1.43it/s]\n",
      "DDPM Sampling: 100%|██████████| 1000/1000 [06:19<00:00,  2.63it/s]\n"
     ]
    },
    {
     "name": "stdout",
     "output_type": "stream",
     "text": [
      "DDPM-Sampling 379.58581924438477 seconds\n"
     ]
    },
    {
     "name": "stderr",
     "output_type": "stream",
     "text": [
      "DDIM Sampling: 100%|██████████| 50/50 [00:18<00:00,  2.67it/s]\n"
     ]
    },
    {
     "name": "stdout",
     "output_type": "stream",
     "text": [
      "DDIM-Sampling 18.711528301239014 seconds\n"
     ]
    },
    {
     "name": "stderr",
     "output_type": "stream",
     "text": [
      "DPM-Solver Sampling: 100%|██████████| 10/10 [00:07<00:00,  1.33it/s]\n"
     ]
    },
    {
     "name": "stdout",
     "output_type": "stream",
     "text": [
      "DPM-Solver-Sampling 7.5272650718688965 seconds\n",
      "Epoch - 90\n"
     ]
    },
    {
     "name": "stderr",
     "output_type": "stream",
     "text": [
      "Loss: 0.01182; step 254; epoch 90: 100%|██████████| 255/255 [02:58<00:00,  1.43it/s]\n",
      "Sampling: 100%|██████████| 1000/1000 [06:20<00:00,  2.63it/s]\n",
      "INFO:matplotlib.animation:Animation.save using <class 'matplotlib.animation.FFMpegWriter'>\n",
      "INFO:matplotlib.animation:MovieWriter._run: running command: ffmpeg -f rawvideo -vcodec rawvideo -s 640x480 -pix_fmt rgba -framerate 10 -loglevel error -i pipe: -vcodec h264 -pix_fmt yuv420p -y ./temp/Diffusion_00_Flowers102_videos/test_090.mp4\n",
      "DDPM Sampling: 100%|██████████| 1000/1000 [06:19<00:00,  2.64it/s]\n"
     ]
    },
    {
     "name": "stdout",
     "output_type": "stream",
     "text": [
      "DDPM-Sampling 379.1844789981842 seconds\n"
     ]
    },
    {
     "name": "stderr",
     "output_type": "stream",
     "text": [
      "DDIM Sampling: 100%|██████████| 50/50 [00:18<00:00,  2.64it/s]\n"
     ]
    },
    {
     "name": "stdout",
     "output_type": "stream",
     "text": [
      "DDIM-Sampling 18.967570304870605 seconds\n"
     ]
    },
    {
     "name": "stderr",
     "output_type": "stream",
     "text": [
      "DPM-Solver Sampling: 100%|██████████| 10/10 [00:07<00:00,  1.33it/s]\n"
     ]
    },
    {
     "name": "stdout",
     "output_type": "stream",
     "text": [
      "DPM-Solver-Sampling 7.494822978973389 seconds\n",
      "Epoch - 91\n"
     ]
    },
    {
     "name": "stderr",
     "output_type": "stream",
     "text": [
      "Loss: 0.03753; step 254; epoch 91: 100%|██████████| 255/255 [02:58<00:00,  1.43it/s]\n",
      "DDPM Sampling: 100%|██████████| 1000/1000 [06:25<00:00,  2.59it/s]\n"
     ]
    },
    {
     "name": "stdout",
     "output_type": "stream",
     "text": [
      "DDPM-Sampling 385.3895196914673 seconds\n"
     ]
    },
    {
     "name": "stderr",
     "output_type": "stream",
     "text": [
      "DDIM Sampling: 100%|██████████| 50/50 [00:18<00:00,  2.66it/s]\n"
     ]
    },
    {
     "name": "stdout",
     "output_type": "stream",
     "text": [
      "DDIM-Sampling 18.829739093780518 seconds\n"
     ]
    },
    {
     "name": "stderr",
     "output_type": "stream",
     "text": [
      "DPM-Solver Sampling: 100%|██████████| 10/10 [00:07<00:00,  1.34it/s]\n"
     ]
    },
    {
     "name": "stdout",
     "output_type": "stream",
     "text": [
      "DPM-Solver-Sampling 7.441558122634888 seconds\n",
      "Epoch - 92\n"
     ]
    },
    {
     "name": "stderr",
     "output_type": "stream",
     "text": [
      "Loss: 0.05766; step 254; epoch 92: 100%|██████████| 255/255 [02:59<00:00,  1.42it/s]\n",
      "DDPM Sampling: 100%|██████████| 1000/1000 [06:25<00:00,  2.60it/s]\n"
     ]
    },
    {
     "name": "stdout",
     "output_type": "stream",
     "text": [
      "DDPM-Sampling 385.30113887786865 seconds\n"
     ]
    },
    {
     "name": "stderr",
     "output_type": "stream",
     "text": [
      "DDIM Sampling: 100%|██████████| 50/50 [00:19<00:00,  2.58it/s]\n"
     ]
    },
    {
     "name": "stdout",
     "output_type": "stream",
     "text": [
      "DDIM-Sampling 19.395798921585083 seconds\n"
     ]
    },
    {
     "name": "stderr",
     "output_type": "stream",
     "text": [
      "DPM-Solver Sampling: 100%|██████████| 10/10 [00:07<00:00,  1.31it/s]\n"
     ]
    },
    {
     "name": "stdout",
     "output_type": "stream",
     "text": [
      "DPM-Solver-Sampling 7.662421941757202 seconds\n",
      "Epoch - 93\n"
     ]
    },
    {
     "name": "stderr",
     "output_type": "stream",
     "text": [
      "Loss: 0.00350; step 254; epoch 93: 100%|██████████| 255/255 [03:01<00:00,  1.41it/s]\n",
      "DDPM Sampling: 100%|██████████| 1000/1000 [06:19<00:00,  2.63it/s]\n"
     ]
    },
    {
     "name": "stdout",
     "output_type": "stream",
     "text": [
      "DDPM-Sampling 379.53323197364807 seconds\n"
     ]
    },
    {
     "name": "stderr",
     "output_type": "stream",
     "text": [
      "DDIM Sampling: 100%|██████████| 50/50 [00:18<00:00,  2.64it/s]\n"
     ]
    },
    {
     "name": "stdout",
     "output_type": "stream",
     "text": [
      "DDIM-Sampling 18.970234870910645 seconds\n"
     ]
    },
    {
     "name": "stderr",
     "output_type": "stream",
     "text": [
      "DPM-Solver Sampling: 100%|██████████| 10/10 [00:07<00:00,  1.33it/s]\n"
     ]
    },
    {
     "name": "stdout",
     "output_type": "stream",
     "text": [
      "DPM-Solver-Sampling 7.548167943954468 seconds\n",
      "Epoch - 94\n"
     ]
    },
    {
     "name": "stderr",
     "output_type": "stream",
     "text": [
      "Loss: 0.01069; step 254; epoch 94: 100%|██████████| 255/255 [03:00<00:00,  1.41it/s]\n",
      "DDPM Sampling: 100%|██████████| 1000/1000 [06:19<00:00,  2.63it/s]\n"
     ]
    },
    {
     "name": "stdout",
     "output_type": "stream",
     "text": [
      "DDPM-Sampling 379.95803809165955 seconds\n"
     ]
    },
    {
     "name": "stderr",
     "output_type": "stream",
     "text": [
      "DDIM Sampling: 100%|██████████| 50/50 [00:18<00:00,  2.65it/s]\n"
     ]
    },
    {
     "name": "stdout",
     "output_type": "stream",
     "text": [
      "DDIM-Sampling 18.874040126800537 seconds\n"
     ]
    },
    {
     "name": "stderr",
     "output_type": "stream",
     "text": [
      "DPM-Solver Sampling: 100%|██████████| 10/10 [00:07<00:00,  1.34it/s]\n"
     ]
    },
    {
     "name": "stdout",
     "output_type": "stream",
     "text": [
      "DPM-Solver-Sampling 7.481777906417847 seconds\n",
      "Epoch - 95\n"
     ]
    },
    {
     "name": "stderr",
     "output_type": "stream",
     "text": [
      "Loss: 0.01823; step 254; epoch 95: 100%|██████████| 255/255 [03:03<00:00,  1.39it/s]\n",
      "Sampling: 100%|██████████| 1000/1000 [06:21<00:00,  2.62it/s]\n",
      "INFO:matplotlib.animation:Animation.save using <class 'matplotlib.animation.FFMpegWriter'>\n",
      "INFO:matplotlib.animation:MovieWriter._run: running command: ffmpeg -f rawvideo -vcodec rawvideo -s 640x480 -pix_fmt rgba -framerate 10 -loglevel error -i pipe: -vcodec h264 -pix_fmt yuv420p -y ./temp/Diffusion_00_Flowers102_videos/test_095.mp4\n",
      "DDPM Sampling: 100%|██████████| 1000/1000 [06:23<00:00,  2.61it/s]\n",
      "/Users/hyunjae.k/110_HyunJae_Git/2025_Drills/.venv/lib/python3.10/site-packages/torchshow/visualization.py:119: RuntimeWarning: More than 20 figures have been opened. Figures created through the pyplot interface (`matplotlib.pyplot.figure`) are retained until explicitly closed and may consume too much memory. (To control this warning, see the rcParam `figure.max_open_warning`). Consider using `matplotlib.pyplot.close()`.\n",
      "  fig = plt.figure(figsize=figsize, dpi=dpi)\n"
     ]
    },
    {
     "name": "stdout",
     "output_type": "stream",
     "text": [
      "DDPM-Sampling 383.67966890335083 seconds\n"
     ]
    },
    {
     "name": "stderr",
     "output_type": "stream",
     "text": [
      "DDIM Sampling: 100%|██████████| 50/50 [00:19<00:00,  2.63it/s]\n",
      "/Users/hyunjae.k/110_HyunJae_Git/2025_Drills/.venv/lib/python3.10/site-packages/torchshow/visualization.py:119: RuntimeWarning: More than 20 figures have been opened. Figures created through the pyplot interface (`matplotlib.pyplot.figure`) are retained until explicitly closed and may consume too much memory. (To control this warning, see the rcParam `figure.max_open_warning`). Consider using `matplotlib.pyplot.close()`.\n",
      "  fig = plt.figure(figsize=figsize, dpi=dpi)\n"
     ]
    },
    {
     "name": "stdout",
     "output_type": "stream",
     "text": [
      "DDIM-Sampling 19.034153938293457 seconds\n"
     ]
    },
    {
     "name": "stderr",
     "output_type": "stream",
     "text": [
      "DPM-Solver Sampling: 100%|██████████| 10/10 [00:07<00:00,  1.31it/s]\n",
      "/Users/hyunjae.k/110_HyunJae_Git/2025_Drills/.venv/lib/python3.10/site-packages/torchshow/visualization.py:119: RuntimeWarning: More than 20 figures have been opened. Figures created through the pyplot interface (`matplotlib.pyplot.figure`) are retained until explicitly closed and may consume too much memory. (To control this warning, see the rcParam `figure.max_open_warning`). Consider using `matplotlib.pyplot.close()`.\n",
      "  fig = plt.figure(figsize=figsize, dpi=dpi)\n"
     ]
    },
    {
     "name": "stdout",
     "output_type": "stream",
     "text": [
      "DPM-Solver-Sampling 7.647589921951294 seconds\n",
      "Epoch - 96\n"
     ]
    },
    {
     "name": "stderr",
     "output_type": "stream",
     "text": [
      "Loss: 0.01893; step 254; epoch 96: 100%|██████████| 255/255 [03:00<00:00,  1.41it/s]\n",
      "DDPM Sampling: 100%|██████████| 1000/1000 [06:23<00:00,  2.61it/s]\n",
      "/Users/hyunjae.k/110_HyunJae_Git/2025_Drills/.venv/lib/python3.10/site-packages/torchshow/visualization.py:119: RuntimeWarning: More than 20 figures have been opened. Figures created through the pyplot interface (`matplotlib.pyplot.figure`) are retained until explicitly closed and may consume too much memory. (To control this warning, see the rcParam `figure.max_open_warning`). Consider using `matplotlib.pyplot.close()`.\n",
      "  fig = plt.figure(figsize=figsize, dpi=dpi)\n"
     ]
    },
    {
     "name": "stdout",
     "output_type": "stream",
     "text": [
      "DDPM-Sampling 383.80876326560974 seconds\n"
     ]
    },
    {
     "name": "stderr",
     "output_type": "stream",
     "text": [
      "DDIM Sampling: 100%|██████████| 50/50 [00:19<00:00,  2.63it/s]\n",
      "/Users/hyunjae.k/110_HyunJae_Git/2025_Drills/.venv/lib/python3.10/site-packages/torchshow/visualization.py:119: RuntimeWarning: More than 20 figures have been opened. Figures created through the pyplot interface (`matplotlib.pyplot.figure`) are retained until explicitly closed and may consume too much memory. (To control this warning, see the rcParam `figure.max_open_warning`). Consider using `matplotlib.pyplot.close()`.\n",
      "  fig = plt.figure(figsize=figsize, dpi=dpi)\n"
     ]
    },
    {
     "name": "stdout",
     "output_type": "stream",
     "text": [
      "DDIM-Sampling 19.008463144302368 seconds\n"
     ]
    },
    {
     "name": "stderr",
     "output_type": "stream",
     "text": [
      "DPM-Solver Sampling: 100%|██████████| 10/10 [00:07<00:00,  1.33it/s]\n",
      "/Users/hyunjae.k/110_HyunJae_Git/2025_Drills/.venv/lib/python3.10/site-packages/torchshow/visualization.py:119: RuntimeWarning: More than 20 figures have been opened. Figures created through the pyplot interface (`matplotlib.pyplot.figure`) are retained until explicitly closed and may consume too much memory. (To control this warning, see the rcParam `figure.max_open_warning`). Consider using `matplotlib.pyplot.close()`.\n",
      "  fig = plt.figure(figsize=figsize, dpi=dpi)\n"
     ]
    },
    {
     "name": "stdout",
     "output_type": "stream",
     "text": [
      "DPM-Solver-Sampling 7.532088994979858 seconds\n",
      "Epoch - 97\n"
     ]
    },
    {
     "name": "stderr",
     "output_type": "stream",
     "text": [
      "Loss: 0.02983; step 254; epoch 97: 100%|██████████| 255/255 [02:59<00:00,  1.42it/s]\n",
      "DDPM Sampling: 100%|██████████| 1000/1000 [06:21<00:00,  2.62it/s]\n",
      "/Users/hyunjae.k/110_HyunJae_Git/2025_Drills/.venv/lib/python3.10/site-packages/torchshow/visualization.py:119: RuntimeWarning: More than 20 figures have been opened. Figures created through the pyplot interface (`matplotlib.pyplot.figure`) are retained until explicitly closed and may consume too much memory. (To control this warning, see the rcParam `figure.max_open_warning`). Consider using `matplotlib.pyplot.close()`.\n",
      "  fig = plt.figure(figsize=figsize, dpi=dpi)\n"
     ]
    },
    {
     "name": "stdout",
     "output_type": "stream",
     "text": [
      "DDPM-Sampling 381.9513840675354 seconds\n"
     ]
    },
    {
     "name": "stderr",
     "output_type": "stream",
     "text": [
      "DDIM Sampling: 100%|██████████| 50/50 [00:19<00:00,  2.62it/s]\n",
      "/Users/hyunjae.k/110_HyunJae_Git/2025_Drills/.venv/lib/python3.10/site-packages/torchshow/visualization.py:119: RuntimeWarning: More than 20 figures have been opened. Figures created through the pyplot interface (`matplotlib.pyplot.figure`) are retained until explicitly closed and may consume too much memory. (To control this warning, see the rcParam `figure.max_open_warning`). Consider using `matplotlib.pyplot.close()`.\n",
      "  fig = plt.figure(figsize=figsize, dpi=dpi)\n"
     ]
    },
    {
     "name": "stdout",
     "output_type": "stream",
     "text": [
      "DDIM-Sampling 19.05721688270569 seconds\n"
     ]
    },
    {
     "name": "stderr",
     "output_type": "stream",
     "text": [
      "DPM-Solver Sampling: 100%|██████████| 10/10 [00:07<00:00,  1.33it/s]\n",
      "/Users/hyunjae.k/110_HyunJae_Git/2025_Drills/.venv/lib/python3.10/site-packages/torchshow/visualization.py:119: RuntimeWarning: More than 20 figures have been opened. Figures created through the pyplot interface (`matplotlib.pyplot.figure`) are retained until explicitly closed and may consume too much memory. (To control this warning, see the rcParam `figure.max_open_warning`). Consider using `matplotlib.pyplot.close()`.\n",
      "  fig = plt.figure(figsize=figsize, dpi=dpi)\n"
     ]
    },
    {
     "name": "stdout",
     "output_type": "stream",
     "text": [
      "DPM-Solver-Sampling 7.5347580909729 seconds\n",
      "Epoch - 98\n"
     ]
    },
    {
     "name": "stderr",
     "output_type": "stream",
     "text": [
      "Loss: 0.00537; step 254; epoch 98: 100%|██████████| 255/255 [02:59<00:00,  1.42it/s]\n",
      "DDPM Sampling: 100%|██████████| 1000/1000 [06:23<00:00,  2.61it/s]\n",
      "/Users/hyunjae.k/110_HyunJae_Git/2025_Drills/.venv/lib/python3.10/site-packages/torchshow/visualization.py:119: RuntimeWarning: More than 20 figures have been opened. Figures created through the pyplot interface (`matplotlib.pyplot.figure`) are retained until explicitly closed and may consume too much memory. (To control this warning, see the rcParam `figure.max_open_warning`). Consider using `matplotlib.pyplot.close()`.\n",
      "  fig = plt.figure(figsize=figsize, dpi=dpi)\n"
     ]
    },
    {
     "name": "stdout",
     "output_type": "stream",
     "text": [
      "DDPM-Sampling 383.5997083187103 seconds\n"
     ]
    },
    {
     "name": "stderr",
     "output_type": "stream",
     "text": [
      "DDIM Sampling: 100%|██████████| 50/50 [00:19<00:00,  2.59it/s]\n",
      "/Users/hyunjae.k/110_HyunJae_Git/2025_Drills/.venv/lib/python3.10/site-packages/torchshow/visualization.py:119: RuntimeWarning: More than 20 figures have been opened. Figures created through the pyplot interface (`matplotlib.pyplot.figure`) are retained until explicitly closed and may consume too much memory. (To control this warning, see the rcParam `figure.max_open_warning`). Consider using `matplotlib.pyplot.close()`.\n",
      "  fig = plt.figure(figsize=figsize, dpi=dpi)\n"
     ]
    },
    {
     "name": "stdout",
     "output_type": "stream",
     "text": [
      "DDIM-Sampling 19.272657871246338 seconds\n"
     ]
    },
    {
     "name": "stderr",
     "output_type": "stream",
     "text": [
      "DPM-Solver Sampling: 100%|██████████| 10/10 [00:07<00:00,  1.31it/s]\n",
      "/Users/hyunjae.k/110_HyunJae_Git/2025_Drills/.venv/lib/python3.10/site-packages/torchshow/visualization.py:119: RuntimeWarning: More than 20 figures have been opened. Figures created through the pyplot interface (`matplotlib.pyplot.figure`) are retained until explicitly closed and may consume too much memory. (To control this warning, see the rcParam `figure.max_open_warning`). Consider using `matplotlib.pyplot.close()`.\n",
      "  fig = plt.figure(figsize=figsize, dpi=dpi)\n"
     ]
    },
    {
     "name": "stdout",
     "output_type": "stream",
     "text": [
      "DPM-Solver-Sampling 7.64202880859375 seconds\n",
      "Epoch - 99\n"
     ]
    },
    {
     "name": "stderr",
     "output_type": "stream",
     "text": [
      "Loss: 0.01117; step 254; epoch 99: 100%|██████████| 255/255 [03:01<00:00,  1.41it/s]\n",
      "DDPM Sampling: 100%|██████████| 1000/1000 [06:25<00:00,  2.59it/s]\n",
      "/Users/hyunjae.k/110_HyunJae_Git/2025_Drills/.venv/lib/python3.10/site-packages/torchshow/visualization.py:119: RuntimeWarning: More than 20 figures have been opened. Figures created through the pyplot interface (`matplotlib.pyplot.figure`) are retained until explicitly closed and may consume too much memory. (To control this warning, see the rcParam `figure.max_open_warning`). Consider using `matplotlib.pyplot.close()`.\n",
      "  fig = plt.figure(figsize=figsize, dpi=dpi)\n"
     ]
    },
    {
     "name": "stdout",
     "output_type": "stream",
     "text": [
      "DDPM-Sampling 385.59471702575684 seconds\n"
     ]
    },
    {
     "name": "stderr",
     "output_type": "stream",
     "text": [
      "DDIM Sampling: 100%|██████████| 50/50 [00:19<00:00,  2.61it/s]\n",
      "/Users/hyunjae.k/110_HyunJae_Git/2025_Drills/.venv/lib/python3.10/site-packages/torchshow/visualization.py:119: RuntimeWarning: More than 20 figures have been opened. Figures created through the pyplot interface (`matplotlib.pyplot.figure`) are retained until explicitly closed and may consume too much memory. (To control this warning, see the rcParam `figure.max_open_warning`). Consider using `matplotlib.pyplot.close()`.\n",
      "  fig = plt.figure(figsize=figsize, dpi=dpi)\n"
     ]
    },
    {
     "name": "stdout",
     "output_type": "stream",
     "text": [
      "DDIM-Sampling 19.168287992477417 seconds\n"
     ]
    },
    {
     "name": "stderr",
     "output_type": "stream",
     "text": [
      "DPM-Solver Sampling: 100%|██████████| 10/10 [00:07<00:00,  1.32it/s]\n",
      "/Users/hyunjae.k/110_HyunJae_Git/2025_Drills/.venv/lib/python3.10/site-packages/torchshow/visualization.py:119: RuntimeWarning: More than 20 figures have been opened. Figures created through the pyplot interface (`matplotlib.pyplot.figure`) are retained until explicitly closed and may consume too much memory. (To control this warning, see the rcParam `figure.max_open_warning`). Consider using `matplotlib.pyplot.close()`.\n",
      "  fig = plt.figure(figsize=figsize, dpi=dpi)\n"
     ]
    },
    {
     "name": "stdout",
     "output_type": "stream",
     "text": [
      "DPM-Solver-Sampling 7.603333234786987 seconds\n",
      "Epoch - 100\n"
     ]
    },
    {
     "name": "stderr",
     "output_type": "stream",
     "text": [
      "Loss: 0.05824; step 254; epoch 100: 100%|██████████| 255/255 [03:01<00:00,  1.40it/s]\n",
      "Sampling: 100%|██████████| 1000/1000 [06:31<00:00,  2.55it/s]\n",
      "/var/folders/xk/hd_6wmxj32ngdnnm2x5h1_7r0000gn/T/ipykernel_4723/510747069.py:3: RuntimeWarning: More than 20 figures have been opened. Figures created through the pyplot interface (`matplotlib.pyplot.figure`) are retained until explicitly closed and may consume too much memory. (To control this warning, see the rcParam `figure.max_open_warning`). Consider using `matplotlib.pyplot.close()`.\n",
      "  fig, axes = plt.subplots(nrows, ncols)\n",
      "INFO:matplotlib.animation:Animation.save using <class 'matplotlib.animation.FFMpegWriter'>\n",
      "INFO:matplotlib.animation:MovieWriter._run: running command: ffmpeg -f rawvideo -vcodec rawvideo -s 640x480 -pix_fmt rgba -framerate 10 -loglevel error -i pipe: -vcodec h264 -pix_fmt yuv420p -y ./temp/Diffusion_00_Flowers102_videos/test_100.mp4\n",
      "DDPM Sampling: 100%|██████████| 1000/1000 [06:16<00:00,  2.66it/s]\n"
     ]
    },
    {
     "name": "stdout",
     "output_type": "stream",
     "text": [
      "DDPM-Sampling 376.5493528842926 seconds\n"
     ]
    },
    {
     "name": "stderr",
     "output_type": "stream",
     "text": [
      "DDIM Sampling: 100%|██████████| 50/50 [00:18<00:00,  2.66it/s]\n"
     ]
    },
    {
     "name": "stdout",
     "output_type": "stream",
     "text": [
      "DDIM-Sampling 18.805335998535156 seconds\n"
     ]
    },
    {
     "name": "stderr",
     "output_type": "stream",
     "text": [
      "DPM-Solver Sampling: 100%|██████████| 10/10 [00:07<00:00,  1.34it/s]\n"
     ]
    },
    {
     "name": "stdout",
     "output_type": "stream",
     "text": [
      "DPM-Solver-Sampling 7.487132787704468 seconds\n",
      "Epoch - 101\n"
     ]
    },
    {
     "name": "stderr",
     "output_type": "stream",
     "text": [
      "Loss: 0.00948; step 254; epoch 101: 100%|██████████| 255/255 [02:58<00:00,  1.43it/s]\n",
      "DDPM Sampling: 100%|██████████| 1000/1000 [06:21<00:00,  2.62it/s]\n"
     ]
    },
    {
     "name": "stdout",
     "output_type": "stream",
     "text": [
      "DDPM-Sampling 381.5744800567627 seconds\n"
     ]
    },
    {
     "name": "stderr",
     "output_type": "stream",
     "text": [
      "DDIM Sampling: 100%|██████████| 50/50 [00:18<00:00,  2.64it/s]\n"
     ]
    },
    {
     "name": "stdout",
     "output_type": "stream",
     "text": [
      "DDIM-Sampling 18.965942859649658 seconds\n"
     ]
    },
    {
     "name": "stderr",
     "output_type": "stream",
     "text": [
      "DPM-Solver Sampling: 100%|██████████| 10/10 [00:07<00:00,  1.33it/s]\n"
     ]
    },
    {
     "name": "stdout",
     "output_type": "stream",
     "text": [
      "DPM-Solver-Sampling 7.495873928070068 seconds\n",
      "Epoch - 102\n"
     ]
    },
    {
     "name": "stderr",
     "output_type": "stream",
     "text": [
      "Loss: 0.00658; step 254; epoch 102: 100%|██████████| 255/255 [02:59<00:00,  1.42it/s]\n",
      "DDPM Sampling: 100%|██████████| 1000/1000 [06:21<00:00,  2.62it/s]\n"
     ]
    },
    {
     "name": "stdout",
     "output_type": "stream",
     "text": [
      "DDPM-Sampling 381.7405779361725 seconds\n"
     ]
    },
    {
     "name": "stderr",
     "output_type": "stream",
     "text": [
      "DDIM Sampling: 100%|██████████| 50/50 [00:19<00:00,  2.62it/s]\n"
     ]
    },
    {
     "name": "stdout",
     "output_type": "stream",
     "text": [
      "DDIM-Sampling 19.0888729095459 seconds\n"
     ]
    },
    {
     "name": "stderr",
     "output_type": "stream",
     "text": [
      "DPM-Solver Sampling: 100%|██████████| 10/10 [00:07<00:00,  1.33it/s]\n"
     ]
    },
    {
     "name": "stdout",
     "output_type": "stream",
     "text": [
      "DPM-Solver-Sampling 7.50898003578186 seconds\n",
      "Epoch - 103\n"
     ]
    },
    {
     "name": "stderr",
     "output_type": "stream",
     "text": [
      "Loss: 0.00347; step 254; epoch 103: 100%|██████████| 255/255 [02:58<00:00,  1.43it/s]\n",
      "DDPM Sampling: 100%|██████████| 1000/1000 [06:19<00:00,  2.64it/s]\n"
     ]
    },
    {
     "name": "stdout",
     "output_type": "stream",
     "text": [
      "DDPM-Sampling 379.2569389343262 seconds\n"
     ]
    },
    {
     "name": "stderr",
     "output_type": "stream",
     "text": [
      "DDIM Sampling: 100%|██████████| 50/50 [00:18<00:00,  2.66it/s]\n"
     ]
    },
    {
     "name": "stdout",
     "output_type": "stream",
     "text": [
      "DDIM-Sampling 18.82077693939209 seconds\n"
     ]
    },
    {
     "name": "stderr",
     "output_type": "stream",
     "text": [
      "DPM-Solver Sampling: 100%|██████████| 10/10 [00:07<00:00,  1.33it/s]\n"
     ]
    },
    {
     "name": "stdout",
     "output_type": "stream",
     "text": [
      "DPM-Solver-Sampling 7.527062177658081 seconds\n",
      "Epoch - 104\n"
     ]
    },
    {
     "name": "stderr",
     "output_type": "stream",
     "text": [
      "Loss: 0.00802; step 254; epoch 104: 100%|██████████| 255/255 [02:59<00:00,  1.42it/s]\n",
      "DDPM Sampling:  41%|████      | 409/1000 [02:36<03:48,  2.59it/s]"
     ]
    }
   ],
   "source": [
    "g_model_path = './temp/Diffusion_00_Flowers102_models/'\n",
    "g_video_path = './temp/Diffusion_00_Flowers102_videos/'\n",
    "Path(g_model_path).mkdir(exist_ok=True, parents=True)\n",
    "Path(g_video_path).mkdir(exist_ok=True, parents=True)\n",
    "\n",
    "\n",
    "# parameters\n",
    "batch_size = 4\n",
    "epoches = 300\n",
    "nb_images = 9\n",
    "img_channel = 3\n",
    "\n",
    "# datasets\n",
    "transform = transforms.Compose([\n",
    "                transforms.ToTensor(),\n",
    "                transforms.Resize((128, 128),interpolation=transforms.InterpolationMode.BILINEAR, antialias=True)\n",
    "            ])\n",
    "dataset = datasets.Flowers102(root='./temp/data', split=\"train\", download=True, transform=transform)\n",
    "len(dataset)\n",
    "dataloader = torch.utils.data.DataLoader(dataset, batch_size=batch_size, shuffle=True)\n",
    "\n",
    "# Setup Model\n",
    "model = UNet(in_ch = img_channel)\n",
    "model.to(g_device)\n",
    "optimizer = torch.optim.Adam(model.parameters(), lr=2e-5)\n",
    "diffusion_model = DiffusionModel(1000, model, g_device)\n",
    "\n",
    "# Training\n",
    "loss_lst = []\n",
    "for ep in range(epoches):\n",
    "    print(f\"Epoch - {ep}\")\n",
    "    tq = tqdm(enumerate(dataloader), total = len(dataloader), desc=\"Training\")\n",
    "    for i, x0, in tq:\n",
    "        x0 = x0[0].to(g_device)\n",
    "        _loss = diffusion_model.training(x0, batch_size, optimizer)\n",
    "        loss_lst.append(_loss)\n",
    "        tq.set_description(f\"Loss: {_loss:.5f}; step {i}; epoch {ep}\")\n",
    "\n",
    "    _model_path = os.path.join(g_model_path, f'unet_{ep:03d}.pth')\n",
    "    torch.save(diffusion_model.function_approximator.state_dict(), _model_path)\n",
    "\n",
    "    diffusion_model.function_approximator.eval()\n",
    "    if ep % 5 == 0 or ep == epoches-1:\n",
    "        _, t_list = diffusion_model.sampling(n_samples=nb_images, image_channels=img_channel, img_size=(128, 128))\n",
    "        vfp = os.path.join(g_video_path, f\"test_{ep:03d}.mp4\")\n",
    "        save_video(t_list, 3, 3, vfp)\n",
    "\n",
    "\n",
    "    st = time.time()\n",
    "    samples = diffusion_model.ddpm_sampling(n_samples=nb_images, image_channels=img_channel, img_size=(128, 128), use_tqdm=True)\n",
    "    print(f\"DDPM-Sampling {time.time() - st } seconds\")\n",
    "    img_op = os.path.join(g_video_path, f\"ddpm_{ep:03d}.jpg\")\n",
    "    ts.save(samples, img_op, ncols = 3)\n",
    "\n",
    "    st = time.time()\n",
    "    samples = diffusion_model.ddim_sampling(n_samples=nb_images, image_channels=img_channel, img_size=(128, 128), use_tqdm=True)\n",
    "    print(f\"DDIM-Sampling {time.time() - st } seconds\")\n",
    "    img_op = os.path.join(g_video_path, f\"ddim_{ep:03d}.jpg\")\n",
    "    ts.save(samples, img_op, ncols = 3)\n",
    "\n",
    "    st = time.time()\n",
    "    samples = diffusion_model.dpm_solver_sampling(n_samples=nb_images, n_steps=10, image_channels=img_channel, img_size=(128, 128), use_tqdm=True)\n",
    "    print(f\"DPM-Solver-Sampling {time.time() - st } seconds\")\n",
    "    img_op = os.path.join(g_video_path, f\"dpm_solver_{ep:03d}.jpg\")\n",
    "    ts.save(samples, img_op, ncols = 3)\n",
    "\n",
    "\n",
    "    diffusion_model.function_approximator.train()\n",
    "\n",
    "plt.plot(loss_lst)\n",
    "plt.show()\n"
   ]
  },
  {
   "cell_type": "code",
   "execution_count": null,
   "id": "69271f04",
   "metadata": {},
   "outputs": [],
   "source": [
    "# plot losses\n",
    "plt.plot(loss_lst)\n",
    "plt.xlabel('Iteration')\n",
    "plt.ylabel('Loss')\n",
    "plt.show()"
   ]
  },
  {
   "cell_type": "code",
   "execution_count": null,
   "id": "13f330f0",
   "metadata": {},
   "outputs": [],
   "source": []
  }
 ],
 "metadata": {
  "kernelspec": {
   "display_name": ".venv",
   "language": "python",
   "name": "python3"
  },
  "language_info": {
   "codemirror_mode": {
    "name": "ipython",
    "version": 3
   },
   "file_extension": ".py",
   "mimetype": "text/x-python",
   "name": "python",
   "nbconvert_exporter": "python",
   "pygments_lexer": "ipython3",
   "version": "3.10.17"
  }
 },
 "nbformat": 4,
 "nbformat_minor": 5
}
