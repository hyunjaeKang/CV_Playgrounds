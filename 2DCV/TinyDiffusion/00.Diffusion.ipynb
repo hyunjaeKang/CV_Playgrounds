{
 "cells": [
  {
   "cell_type": "markdown",
   "id": "05eec641",
   "metadata": {},
   "source": [
    "DDPM : Denoising Diffusion Probabilistic Models\n",
    "\n",
    "- Ref: \n",
    "    - DDPM: https://github.com/MaximeVandegar/Papers-in-100-Lines-of-Code/tree/main/Denoising_Diffusion_Probabilistic_Models\n",
    "\n",
    "\n"
   ]
  },
  {
   "cell_type": "code",
   "execution_count": 7,
   "id": "7f44ff41",
   "metadata": {},
   "outputs": [],
   "source": [
    "import os\n",
    "import torch\n",
    "import torch.nn as nn\n",
    "import numpy as np\n",
    "\n",
    "import math\n",
    "import torch\n",
    "import torchvision\n",
    "import torchvision.transforms as transforms\n",
    "from torchvision import datasets\n",
    "from torch.utils.data import DataLoader\n",
    "from torchsummary import summary\n",
    "import torchshow as ts\n",
    "\n",
    "from tqdm import tqdm\n",
    "import matplotlib.pyplot as plt\n",
    "import matplotlib.animation as animation\n",
    "import torchvision.transforms.functional as F\n",
    "from pathlib import Path\n",
    "\n",
    "import time\n"
   ]
  },
  {
   "cell_type": "code",
   "execution_count": 8,
   "id": "eac54b2b",
   "metadata": {},
   "outputs": [],
   "source": [
    "## Unet network model\n",
    "# Ref: https://github.com/MaximeVandegar/Papers-in-100-Lines-of-Code/blob/main/Denoising_Diffusion_Probabilistic_Models/unet.py\n",
    "\n",
    "def get_timestep_embedding(timesteps, embedding_dim: int):\n",
    "    \"\"\"\n",
    "    Retrieved from https://github.com/hojonathanho/diffusion/blob/master/diffusion_tf/nn.py#LL90C1-L109C13\n",
    "    \"\"\"\n",
    "    assert len(timesteps.shape) == 1\n",
    "\n",
    "    half_dim = embedding_dim // 2\n",
    "    emb = math.log(10000) / (half_dim - 1)\n",
    "    emb = torch.exp(torch.arange(half_dim, dtype=torch.float32, device=timesteps.device) * -emb)\n",
    "    emb = timesteps.type(torch.float32)[:, None] * emb[None, :]\n",
    "    emb = torch.concat([torch.sin(emb), torch.cos(emb)], axis=1)\n",
    "\n",
    "    if embedding_dim % 2 == 1:  # zero pad\n",
    "        emb = torch.nn.functional.pad(emb, (0, 1, 0, 0))\n",
    "\n",
    "    assert emb.shape == (timesteps.shape[0], embedding_dim), f\"{emb.shape}\"\n",
    "    return emb\n",
    "\n",
    "\n",
    "class Downsample(nn.Module):\n",
    "\n",
    "    def __init__(self, C):\n",
    "        \"\"\"\n",
    "        :param C (int): number of input and output channels\n",
    "        \"\"\"\n",
    "        super(Downsample, self).__init__()\n",
    "        self.conv = nn.Conv2d(C, C, 3, stride=2, padding=1)\n",
    "\n",
    "    def forward(self, x):\n",
    "        B, C, H, W = x.shape\n",
    "        x = self.conv(x)\n",
    "        assert x.shape == (B, C, H // 2, W // 2)\n",
    "        return x\n",
    "\n",
    "\n",
    "class Upsample(nn.Module):\n",
    "\n",
    "    def __init__(self, C):\n",
    "        \"\"\"\n",
    "        :param C (int): number of input and output channels\n",
    "        \"\"\"\n",
    "        super(Upsample, self).__init__()\n",
    "        self.conv = nn.Conv2d(C, C, 3, stride=1, padding=1)\n",
    "\n",
    "    def forward(self, x):\n",
    "        B, C, H, W = x.shape\n",
    "\n",
    "        x = nn.functional.interpolate(x, size=None, scale_factor=2, mode='nearest')\n",
    "\n",
    "        x = self.conv(x)\n",
    "        assert x.shape == (B, C, H * 2, W * 2)\n",
    "        return x\n",
    "\n",
    "\n",
    "class Nin(nn.Module):\n",
    "\n",
    "    def __init__(self, in_dim, out_dim, scale=1e-10):\n",
    "        super(Nin, self).__init__()\n",
    "\n",
    "        n = (in_dim + out_dim) / 2\n",
    "        limit = np.sqrt(3 * scale / n)\n",
    "        self.W = torch.nn.Parameter(torch.zeros((in_dim, out_dim), dtype=torch.float32\n",
    "                                                ).uniform_(-limit, limit))\n",
    "        self.b = torch.nn.Parameter(torch.zeros((1, out_dim, 1, 1), dtype=torch.float32))\n",
    "\n",
    "    def forward(self, x):\n",
    "        return torch.einsum('bchw, co->bohw', x, self.W) + self.b\n",
    "\n",
    "\n",
    "class ResNetBlock(nn.Module):\n",
    "\n",
    "    def __init__(self, in_ch, out_ch, dropout_rate=0.1):\n",
    "        super(ResNetBlock, self).__init__()\n",
    "\n",
    "        self.conv1 = nn.Conv2d(in_ch, out_ch, 3, stride=1, padding=1)\n",
    "        self.dense = nn.Linear(512, out_ch)\n",
    "        self.conv2 = nn.Conv2d(out_ch, out_ch, 3, stride=1, padding=1)\n",
    "\n",
    "        if not (in_ch == out_ch):\n",
    "            self.nin = Nin(in_ch, out_ch)\n",
    "\n",
    "        self.dropout_rate = dropout_rate\n",
    "        self.nonlinearity = torch.nn.SiLU()\n",
    "\n",
    "    def forward(self, x, temb):\n",
    "        \"\"\"\n",
    "        :param x: (B, C, H, W)\n",
    "        :param temb: (B, dim)\n",
    "        \"\"\"\n",
    "\n",
    "        h = self.nonlinearity(nn.functional.group_norm(x, num_groups=32))\n",
    "        h = self.conv1(h)\n",
    "\n",
    "        # add in timestep embedding\n",
    "        h += self.dense(self.nonlinearity(temb))[:, :, None, None]\n",
    "\n",
    "        h = self.nonlinearity(nn.functional.group_norm(h, num_groups=32))\n",
    "        h = nn.functional.dropout(h, p=self.dropout_rate)\n",
    "        h = self.conv2(h)\n",
    "\n",
    "        if not (x.shape[1] == h.shape[1]):\n",
    "            x = self.nin(x)\n",
    "\n",
    "        assert x.shape == h.shape\n",
    "        return x + h\n",
    "\n",
    "\n",
    "class AttentionBlock(nn.Module):\n",
    "\n",
    "    def __init__(self, ch):\n",
    "        super(AttentionBlock, self).__init__()\n",
    "\n",
    "        self.Q = Nin(ch, ch)\n",
    "        self.K = Nin(ch, ch)\n",
    "        self.V = Nin(ch, ch)\n",
    "\n",
    "        self.ch = ch\n",
    "\n",
    "        self.nin = Nin(ch, ch, scale=0.)\n",
    "\n",
    "    def forward(self, x):\n",
    "        B, C, H, W = x.shape\n",
    "        assert C == self.ch\n",
    "\n",
    "        h = nn.functional.group_norm(x, num_groups=32)\n",
    "        q = self.Q(h)\n",
    "        k = self.K(h)\n",
    "        v = self.V(h)\n",
    "\n",
    "        w = torch.einsum('bchw,bcHW->bhwHW', q, k) * (int(C) ** (-0.5))  # [B, H, W, H, W]\n",
    "        w = torch.reshape(w, [B, H, W, H * W])\n",
    "        w = torch.nn.functional.softmax(w, dim=-1)\n",
    "        w = torch.reshape(w, [B, H, W, H, W])\n",
    "\n",
    "        h = torch.einsum('bhwHW,bcHW->bchw', w, v)\n",
    "        h = self.nin(h)\n",
    "\n",
    "        assert h.shape == x.shape\n",
    "        return x + h\n",
    "\n",
    "\n",
    "class UNet(nn.Module):\n",
    "\n",
    "    def __init__(self, ch=128, in_ch=1):\n",
    "        super(UNet, self).__init__()\n",
    "\n",
    "        self.ch = ch\n",
    "        self.linear1 = nn.Linear(ch, 4 * ch)\n",
    "        self.linear2 = nn.Linear(4 * ch, 4 * ch)\n",
    "\n",
    "        self.conv1 = nn.Conv2d(in_ch, ch, 3, stride=1, padding=1)\n",
    "\n",
    "        self.down = nn.ModuleList([ResNetBlock(ch, 1 * ch),\n",
    "                                   ResNetBlock(1 * ch, 1 * ch),\n",
    "                                   Downsample(1 * ch),\n",
    "                                   ResNetBlock(1 * ch, 2 * ch),\n",
    "                                   AttentionBlock(2 * ch),\n",
    "                                   ResNetBlock(2 * ch, 2 * ch),\n",
    "                                   AttentionBlock(2 * ch),\n",
    "                                   Downsample(2 * ch),\n",
    "                                   ResNetBlock(2 * ch, 2 * ch),\n",
    "                                   ResNetBlock(2 * ch, 2 * ch),\n",
    "                                   Downsample(2 * ch),\n",
    "                                   ResNetBlock(2 * ch, 2 * ch),\n",
    "                                   ResNetBlock(2 * ch, 2 * ch)])\n",
    "\n",
    "        self.middle = nn.ModuleList([ResNetBlock(2 * ch, 2 * ch),\n",
    "                                     AttentionBlock(2 * ch),\n",
    "                                     ResNetBlock(2 * ch, 2 * ch)])\n",
    "\n",
    "        self.up = nn.ModuleList([ResNetBlock(4 * ch, 2 * ch),\n",
    "                                 ResNetBlock(4 * ch, 2 * ch),\n",
    "                                 ResNetBlock(4 * ch, 2 * ch),\n",
    "                                 Upsample(2 * ch),\n",
    "                                 ResNetBlock(4 * ch, 2 * ch),\n",
    "                                 ResNetBlock(4 * ch, 2 * ch),\n",
    "                                 ResNetBlock(4 * ch, 2 * ch),\n",
    "                                 Upsample(2 * ch),\n",
    "                                 ResNetBlock(4 * ch, 2 * ch),\n",
    "                                 AttentionBlock(2 * ch),\n",
    "                                 ResNetBlock(4 * ch, 2 * ch),\n",
    "                                 AttentionBlock(2 * ch),\n",
    "                                 ResNetBlock(3 * ch, 2 * ch),\n",
    "                                 AttentionBlock(2 * ch),\n",
    "                                 Upsample(2 * ch),\n",
    "                                 ResNetBlock(3 * ch, ch),\n",
    "                                 ResNetBlock(2 * ch, ch),\n",
    "                                 ResNetBlock(2 * ch, ch)])\n",
    "\n",
    "        self.final_conv = nn.Conv2d(ch, in_ch, 3, stride=1, padding=1)\n",
    "\n",
    "    def forward(self, x, t):\n",
    "        \"\"\"\n",
    "        :param x: (torch.Tensor) batch of images [B, C, H, W]\n",
    "        :param t: (torch.Tensor) tensor of time steps (torch.long) [B]\n",
    "        \"\"\"\n",
    "\n",
    "        temb = get_timestep_embedding(t, self.ch)\n",
    "        temb = torch.nn.functional.silu(self.linear1(temb))\n",
    "        temb = self.linear2(temb)\n",
    "        assert temb.shape == (t.shape[0], self.ch * 4)\n",
    "\n",
    "        x1 = self.conv1(x)\n",
    "\n",
    "        # Down\n",
    "        x2 = self.down[0](x1, temb)\n",
    "        x3 = self.down[1](x2, temb)\n",
    "        x4 = self.down[2](x3)\n",
    "        x5 = self.down[3](x4, temb)\n",
    "        x6 = self.down[4](x5)  # Attention\n",
    "        x7 = self.down[5](x6, temb)\n",
    "        x8 = self.down[6](x7)  # Attention\n",
    "        x9 = self.down[7](x8)\n",
    "        x10 = self.down[8](x9, temb)\n",
    "        x11 = self.down[9](x10, temb)\n",
    "        x12 = self.down[10](x11)\n",
    "        x13 = self.down[11](x12, temb)\n",
    "        x14 = self.down[12](x13, temb)\n",
    "\n",
    "        # Middle\n",
    "        x = self.middle[0](x14, temb)\n",
    "        x = self.middle[1](x)\n",
    "        x = self.middle[2](x, temb)\n",
    "\n",
    "        # Up\n",
    "        x = self.up[0](torch.cat((x, x14), dim=1), temb)\n",
    "        x = self.up[1](torch.cat((x, x13), dim=1), temb)\n",
    "        x = self.up[2](torch.cat((x, x12), dim=1), temb)\n",
    "        x = self.up[3](x)\n",
    "        x = self.up[4](torch.cat((x, x11), dim=1), temb)\n",
    "        x = self.up[5](torch.cat((x, x10), dim=1), temb)\n",
    "        x = self.up[6](torch.cat((x, x9), dim=1), temb)\n",
    "        x = self.up[7](x)\n",
    "        x = self.up[8](torch.cat((x, x8), dim=1), temb)\n",
    "        x = self.up[9](x)\n",
    "        x = self.up[10](torch.cat((x, x6), dim=1), temb)\n",
    "        x = self.up[11](x)\n",
    "        x = self.up[12](torch.cat((x, x4), dim=1), temb)\n",
    "        x = self.up[13](x)\n",
    "        x = self.up[14](x)\n",
    "        x = self.up[15](torch.cat((x, x3), dim=1), temb)\n",
    "        x = self.up[16](torch.cat((x, x2), dim=1), temb)\n",
    "        x = self.up[17](torch.cat((x, x1), dim=1), temb)\n",
    "\n",
    "        x = nn.functional.silu(nn.functional.group_norm(x, num_groups=32))\n",
    "        x = self.final_conv(x)\n",
    "\n",
    "        return x\n"
   ]
  },
  {
   "cell_type": "markdown",
   "id": "9799d8f0",
   "metadata": {},
   "source": [
    "- DDPM\n",
    "    - ![DDPM](https://img1.daumcdn.net/thumb/R1280x0/?scode=mtistory2&fname=https%3A%2F%2Fblog.kakaocdn.net%2Fdn%2FRXOe5%2Fbtru2nyl2SU%2FzkLx0SMgf1qpaI01kCmGu1%2Fimg.png)"
   ]
  },
  {
   "cell_type": "code",
   "execution_count": 9,
   "id": "b84af272",
   "metadata": {},
   "outputs": [],
   "source": [
    "# Diffusion Model\n",
    "\n",
    "class DiffusionModel:\n",
    "\n",
    "    def __init__(self, T: int, model: nn.Module, device: str):\n",
    "        self.T = T\n",
    "        self.function_approximator = model.to(device)\n",
    "        self.device = device\n",
    "\n",
    "        self.beta = torch.linspace(1e-4, 0.02, T).to(device)\n",
    "        self.alpha = 1. - self.beta\n",
    "        self.alpha_bar = torch.cumprod(self.alpha, dim=0)\n",
    "\n",
    "        # DPM_SOLVER\n",
    "        self.alphas = torch.sqrt(self.alpha_bar)\n",
    "        self.sigmas = torch.sqrt(1.0 - self.alpha_bar)\n",
    "        self.lambdas = torch.log(self.alphas / self.sigmas)\n",
    "\n",
    "    def training(self, x0, batch_size, optimizer):\n",
    "        \"\"\"\n",
    "        Algorithm 1 in Denoising Diffusion Probabilistic Models\n",
    "        \"\"\"\n",
    "\n",
    "        # x0 = sample_batch(batch_size, self.device)\n",
    "        t = torch.randint(1, self.T + 1, (batch_size,), device=self.device,\n",
    "                          dtype=torch.long)\n",
    "        eps = torch.randn_like(x0)\n",
    "\n",
    "        # Take one gradient descent step\n",
    "        alpha_bar_t = self.alpha_bar[t - 1].unsqueeze(-1).unsqueeze(\n",
    "            -1).unsqueeze(-1)\n",
    "        eps_predicted = self.function_approximator(torch.sqrt(alpha_bar_t) * x0 + torch.sqrt(1 - alpha_bar_t) * eps, t - 1)\n",
    "        loss = nn.functional.mse_loss(eps, eps_predicted)\n",
    "        optimizer.zero_grad()\n",
    "        loss.backward()\n",
    "        optimizer.step()\n",
    "\n",
    "        return loss.item()\n",
    "\n",
    "    @torch.no_grad()\n",
    "    def sampling(self, n_samples=1, image_channels=1, img_size=(32, 32), sample_it = 10):\n",
    "        \"\"\"\n",
    "        Algorithm 2 in Denoising Diffusion Probabilistic Models\n",
    "        \"\"\"\n",
    "        t_lst = []\n",
    "        x = torch.randn((n_samples, image_channels, img_size[0], img_size[1]),\n",
    "                        device=self.device)\n",
    "        for it in tqdm(range(self.T, 0, -1), desc=\"Sampling\"):\n",
    "            if it % sample_it == 0:\n",
    "                t_lst.append((it, x))\n",
    "            z = torch.randn_like(x) if it > 1 else torch.zeros_like(x)\n",
    "            t = torch.ones(n_samples, dtype=torch.long, device=self.device) * it\n",
    "\n",
    "            beta_t = self.beta[t - 1].unsqueeze(-1).unsqueeze(-1).unsqueeze(-1)\n",
    "            alpha_t = self.alpha[t - 1].unsqueeze(-1).unsqueeze(-1).unsqueeze(-1)\n",
    "            alpha_bar_t = self.alpha_bar[t - 1].unsqueeze(-1).unsqueeze(-1).unsqueeze(-1)\n",
    "\n",
    "            mean = 1 / torch.sqrt(alpha_t) * (x - ((1 - alpha_t) / torch.sqrt(\n",
    "                1 - alpha_bar_t)) * self.function_approximator(x, t - 1))\n",
    "            sigma = torch.sqrt(beta_t)\n",
    "            x = mean + sigma * z\n",
    "        t_lst.append((it-1, x))\n",
    "        return x, t_lst\n",
    "\n",
    "    @torch.no_grad()\n",
    "    def ddpm_sampling(self, n_samples=1, image_channels=1, img_size=(32, 32),\n",
    "                 use_tqdm=True):\n",
    "        \"\"\"\n",
    "        Algorithm 2 in Denoising Diffusion Probabilistic Models\n",
    "        \"\"\"\n",
    "\n",
    "        x = torch.randn((n_samples, image_channels, img_size[0], img_size[1]),\n",
    "                        device=self.device)\n",
    "        progress_bar = tqdm if use_tqdm else lambda x: x\n",
    "        # for t in progress_bar(range(self.T, 0, -1)):\n",
    "        for t in tqdm(range(self.T, 0, -1), desc=\"DDPM Sampling\"):\n",
    "            z = torch.randn_like(x) if t > 1 else torch.zeros_like(x)\n",
    "            t = torch.ones(n_samples, dtype=torch.long, device=self.device) * t\n",
    "\n",
    "            beta_t = self.beta[t - 1].unsqueeze(-1).unsqueeze(-1).unsqueeze(-1)\n",
    "            alpha_t = self.alpha[t - 1].unsqueeze(-1).unsqueeze(-1).unsqueeze(-1)\n",
    "            alpha_bar_t = self.alpha_bar[t - 1].unsqueeze(-1).unsqueeze(-1).unsqueeze(-1)\n",
    "\n",
    "            mean = 1 / torch.sqrt(alpha_t) * (x - ((1 - alpha_t) / torch.sqrt(\n",
    "                1 - alpha_bar_t)) * self.function_approximator(x, t - 1))\n",
    "            sigma = torch.sqrt(beta_t)\n",
    "            x = mean + sigma * z\n",
    "        return x\n",
    "\n",
    "    @torch.no_grad()\n",
    "    def ddim_sampling(self, n_samples=1, image_channels=1, img_size=(32, 32),\n",
    "                      n_steps=50, use_tqdm=True):\n",
    "\n",
    "        step_size = self.T // n_steps\n",
    "        x = torch.randn((n_samples, image_channels, img_size[0], img_size[1]),\n",
    "                        device=self.device)\n",
    "        progress_bar = tqdm if use_tqdm else lambda x: x\n",
    "\n",
    "        # for i in progress_bar(range(n_steps)):\n",
    "        for i in tqdm(range(n_steps), desc=\"DDIM Sampling\"):\n",
    "            t = self.T - i * step_size\n",
    "            t_tensor = torch.ones(n_samples, dtype=torch.long, device=self.device) * t\n",
    "\n",
    "            alpha_bar_t = self.alpha_bar[t - 1].unsqueeze(-1).unsqueeze(-1).unsqueeze(-1)\n",
    "            alpha_bar_prev = self.alpha_bar[t - step_size - 1].unsqueeze(-1).unsqueeze(-1).unsqueeze(-1) if t > step_size else torch.tensor(1.0).to(self.device)\n",
    "\n",
    "            # Predicted noise\n",
    "            eps_pred = self.function_approximator(x, t_tensor - 1)\n",
    "\n",
    "            # Predicted x_0\n",
    "            x0_pred = (x - torch.sqrt(1 - alpha_bar_t) * eps_pred) / torch.sqrt(alpha_bar_t)\n",
    "\n",
    "            # Direction pointing to xt\n",
    "            dir_xt = torch.sqrt(1 - alpha_bar_prev) * eps_pred\n",
    "\n",
    "            # Update rule\n",
    "            x = torch.sqrt(alpha_bar_prev) * x0_pred + dir_xt\n",
    "\n",
    "        return x\n",
    "\n",
    "    @torch.no_grad()\n",
    "    def dpm_solver_sampling(self, n_samples=1, image_channels=1, img_size=(32, 32), n_steps=10, use_tqdm=True):\n",
    "        \"\"\"\n",
    "        DPM-Solver-2 (Algorithm 1 from https://arxiv.org/pdf/2206.00927).\n",
    "        \"\"\"\n",
    "        step_size = self.T // n_steps\n",
    "        # start from Gaussian noise x_T\n",
    "        xT = torch.randn((n_samples, image_channels, img_size[0], img_size[1]), device=self.device)\n",
    "        x_tilde = xT\n",
    "\n",
    "        for i in tqdm(range(n_steps), desc=\"DPM-Solver Sampling\", disable=not use_tqdm):\n",
    "\n",
    "            t_prev = self.T - i * step_size\n",
    "            t_cur = max(t_prev - step_size, 1)\n",
    "\n",
    "            # midpoint in λ-space\n",
    "            lam_mid = (self.lambdas[t_prev - 1] + self.lambdas[t_cur - 1]) / 2.\n",
    "            # invert λ→t via nearest neighbor lookup\n",
    "            s_i = torch.argmin(torch.abs(self.lambdas - lam_mid)).item() + 1\n",
    "\n",
    "            # λ-step size\n",
    "            h = self.lambdas[t_cur - 1] - self.lambdas[t_prev - 1]\n",
    "\n",
    "            # model evaluation at t_prev\n",
    "            t_prev_tensor = torch.full((n_samples,), t_prev, dtype=torch.long, device=self.device)\n",
    "            u_i = (self.alphas[s_i - 1] / self.alphas[t_prev - 1]) * x_tilde - self.sigmas[s_i - 1] * (\n",
    "                torch.exp(h * 0.5) - 1) * self.function_approximator(x_tilde, t_prev_tensor - 1)\n",
    "\n",
    "            t_s_tensor = torch.full((n_samples,), s_i, dtype=torch.long, device=self.device)\n",
    "            x_tilde = (self.alphas[t_cur - 1] / self.alphas[t_prev - 1]) * x_tilde - self.sigmas[t_cur - 1] * (\n",
    "                torch.exp(h) - 1) * self.function_approximator(u_i, t_s_tensor - 1)\n",
    "\n",
    "        return x_tilde"
   ]
  },
  {
   "cell_type": "code",
   "execution_count": 10,
   "id": "f97847c9",
   "metadata": {},
   "outputs": [
    {
     "name": "stdout",
     "output_type": "stream",
     "text": [
      "Current memory allocated on MPS: 1261548544 bytes\n",
      "Driver memory allocated on MPS: 4675682304 bytes\n",
      "mps\n"
     ]
    }
   ],
   "source": [
    "if torch.backends.mps.is_available():\n",
    "    g_device = torch.device(\"mps\")\n",
    "    print(f\"Current memory allocated on MPS: {torch.mps.current_allocated_memory()} bytes\")\n",
    "    print(f\"Driver memory allocated on MPS: {torch.mps.driver_allocated_memory()} bytes\")\n",
    "elif torch.cuda.is_available():\n",
    "    g_device = torch.device(\"cuda\")\n",
    "else:\n",
    "    g_device = torch.device(\"cpu\")\n",
    "print(g_device)"
   ]
  },
  {
   "cell_type": "code",
   "execution_count": 11,
   "id": "132274e2",
   "metadata": {},
   "outputs": [],
   "source": [
    "\n",
    "def save_video(img_t_lst, nrows = 9, ncols = 9, v_fp = \"test.mp4\"):\n",
    "    # fig, axes = plt.subplots(nrows, ncols, figsize=(6, 6))\n",
    "    fig, axes = plt.subplots(nrows, ncols)\n",
    "    ims = []\n",
    "    for i, imt in img_t_lst:\n",
    "        frame_ims = []\n",
    "        if not isinstance(i, int):\n",
    "            i = i[0]\n",
    "        for j, ax in enumerate(axes.flat):\n",
    "            # print(f\"{i}_{j}\")\n",
    "            # ax.set_title(f\"{i}_{j}\")\n",
    "            ax.axis('off')\n",
    "            frame_ims.append(ax.imshow(F.to_pil_image(imt[j].to(\"cpu\").clip(0, 1)), cmap='gray'))\n",
    "        ims.append(frame_ims)\n",
    "    ani = animation.ArtistAnimation(fig, ims, interval=50, blit=True, repeat_delay=1000)\n",
    "    # vfp = os.path.join(g_video_path, v_fname)\n",
    "    ani.save(v_fp, writer=\"ffmpeg\", fps=10)"
   ]
  },
  {
   "cell_type": "code",
   "execution_count": 12,
   "id": "18d3d9ba",
   "metadata": {},
   "outputs": [
    {
     "name": "stdout",
     "output_type": "stream",
     "text": [
      "Epoch - 0\n"
     ]
    },
    {
     "name": "stderr",
     "output_type": "stream",
     "text": [
      "Loss: 0.02116; step 1874; epoch 0: 100%|██████████| 1875/1875 [11:08<00:00,  2.80it/s]\n",
      "Sampling: 100%|██████████| 1000/1000 [00:31<00:00, 31.89it/s]\n",
      "INFO:matplotlib.animation:Animation.save using <class 'matplotlib.animation.FFMpegWriter'>\n",
      "INFO:matplotlib.animation:MovieWriter._run: running command: ffmpeg -f rawvideo -vcodec rawvideo -s 640x480 -pix_fmt rgba -framerate 10 -loglevel error -i pipe: -vcodec h264 -pix_fmt yuv420p -y ./temp/00_Diffusion_MNIST_videos/test_000.mp4\n",
      "DDPM Sampling: 100%|██████████| 1000/1000 [00:30<00:00, 32.95it/s]\n",
      "/Users/hyunjae.k/anaconda3/envs/cv_playgrounds/lib/python3.10/site-packages/torchshow/visualization.py:385: UserWarning: Original input range is not 0-1 when using grayscale mode. Auto-rescaling it to 0-1 by default.\n",
      "  warnings.warn('Original input range is not 0-1 when using grayscale mode. Auto-rescaling it to 0-1 by default.')\n"
     ]
    },
    {
     "name": "stdout",
     "output_type": "stream",
     "text": [
      "DDPM-Sampling 30.351086854934692 seconds\n"
     ]
    },
    {
     "name": "stderr",
     "output_type": "stream",
     "text": [
      "DDIM Sampling: 100%|██████████| 50/50 [00:01<00:00, 31.61it/s]\n",
      "/Users/hyunjae.k/anaconda3/envs/cv_playgrounds/lib/python3.10/site-packages/torchshow/visualization.py:385: UserWarning: Original input range is not 0-1 when using grayscale mode. Auto-rescaling it to 0-1 by default.\n",
      "  warnings.warn('Original input range is not 0-1 when using grayscale mode. Auto-rescaling it to 0-1 by default.')\n"
     ]
    },
    {
     "name": "stdout",
     "output_type": "stream",
     "text": [
      "DDIM-Sampling 1.5837092399597168 seconds\n"
     ]
    },
    {
     "name": "stderr",
     "output_type": "stream",
     "text": [
      "DPM-Solver Sampling: 100%|██████████| 10/10 [00:00<00:00, 13.67it/s]\n",
      "/Users/hyunjae.k/anaconda3/envs/cv_playgrounds/lib/python3.10/site-packages/torchshow/visualization.py:385: UserWarning: Original input range is not 0-1 when using grayscale mode. Auto-rescaling it to 0-1 by default.\n",
      "  warnings.warn('Original input range is not 0-1 when using grayscale mode. Auto-rescaling it to 0-1 by default.')\n"
     ]
    },
    {
     "name": "stdout",
     "output_type": "stream",
     "text": [
      "DPM-Solver-Sampling 0.7336869239807129 seconds\n",
      "Epoch - 1\n"
     ]
    },
    {
     "name": "stderr",
     "output_type": "stream",
     "text": [
      "Loss: 0.01822; step 1874; epoch 1: 100%|██████████| 1875/1875 [11:06<00:00,  2.82it/s]\n",
      "DDPM Sampling: 100%|██████████| 1000/1000 [00:30<00:00, 33.25it/s]\n",
      "/Users/hyunjae.k/anaconda3/envs/cv_playgrounds/lib/python3.10/site-packages/torchshow/visualization.py:385: UserWarning: Original input range is not 0-1 when using grayscale mode. Auto-rescaling it to 0-1 by default.\n",
      "  warnings.warn('Original input range is not 0-1 when using grayscale mode. Auto-rescaling it to 0-1 by default.')\n"
     ]
    },
    {
     "name": "stdout",
     "output_type": "stream",
     "text": [
      "DDPM-Sampling 30.07491374015808 seconds\n"
     ]
    },
    {
     "name": "stderr",
     "output_type": "stream",
     "text": [
      "DDIM Sampling: 100%|██████████| 50/50 [00:01<00:00, 32.61it/s]\n",
      "/Users/hyunjae.k/anaconda3/envs/cv_playgrounds/lib/python3.10/site-packages/torchshow/visualization.py:385: UserWarning: Original input range is not 0-1 when using grayscale mode. Auto-rescaling it to 0-1 by default.\n",
      "  warnings.warn('Original input range is not 0-1 when using grayscale mode. Auto-rescaling it to 0-1 by default.')\n"
     ]
    },
    {
     "name": "stdout",
     "output_type": "stream",
     "text": [
      "DDIM-Sampling 1.535423994064331 seconds\n"
     ]
    },
    {
     "name": "stderr",
     "output_type": "stream",
     "text": [
      "DPM-Solver Sampling: 100%|██████████| 10/10 [00:00<00:00, 16.59it/s]\n",
      "/Users/hyunjae.k/anaconda3/envs/cv_playgrounds/lib/python3.10/site-packages/torchshow/visualization.py:385: UserWarning: Original input range is not 0-1 when using grayscale mode. Auto-rescaling it to 0-1 by default.\n",
      "  warnings.warn('Original input range is not 0-1 when using grayscale mode. Auto-rescaling it to 0-1 by default.')\n"
     ]
    },
    {
     "name": "stdout",
     "output_type": "stream",
     "text": [
      "DPM-Solver-Sampling 0.6049671173095703 seconds\n",
      "Epoch - 2\n"
     ]
    },
    {
     "name": "stderr",
     "output_type": "stream",
     "text": [
      "Loss: 0.01997; step 1874; epoch 2: 100%|██████████| 1875/1875 [10:56<00:00,  2.85it/s]\n",
      "DDPM Sampling: 100%|██████████| 1000/1000 [00:29<00:00, 33.96it/s]\n",
      "/Users/hyunjae.k/anaconda3/envs/cv_playgrounds/lib/python3.10/site-packages/torchshow/visualization.py:385: UserWarning: Original input range is not 0-1 when using grayscale mode. Auto-rescaling it to 0-1 by default.\n",
      "  warnings.warn('Original input range is not 0-1 when using grayscale mode. Auto-rescaling it to 0-1 by default.')\n"
     ]
    },
    {
     "name": "stdout",
     "output_type": "stream",
     "text": [
      "DDPM-Sampling 29.451302766799927 seconds\n"
     ]
    },
    {
     "name": "stderr",
     "output_type": "stream",
     "text": [
      "DDIM Sampling: 100%|██████████| 50/50 [00:01<00:00, 34.75it/s]\n",
      "/Users/hyunjae.k/anaconda3/envs/cv_playgrounds/lib/python3.10/site-packages/torchshow/visualization.py:385: UserWarning: Original input range is not 0-1 when using grayscale mode. Auto-rescaling it to 0-1 by default.\n",
      "  warnings.warn('Original input range is not 0-1 when using grayscale mode. Auto-rescaling it to 0-1 by default.')\n"
     ]
    },
    {
     "name": "stdout",
     "output_type": "stream",
     "text": [
      "DDIM-Sampling 1.4408531188964844 seconds\n"
     ]
    },
    {
     "name": "stderr",
     "output_type": "stream",
     "text": [
      "DPM-Solver Sampling: 100%|██████████| 10/10 [00:00<00:00, 16.05it/s]\n",
      "/Users/hyunjae.k/anaconda3/envs/cv_playgrounds/lib/python3.10/site-packages/torchshow/visualization.py:385: UserWarning: Original input range is not 0-1 when using grayscale mode. Auto-rescaling it to 0-1 by default.\n",
      "  warnings.warn('Original input range is not 0-1 when using grayscale mode. Auto-rescaling it to 0-1 by default.')\n"
     ]
    },
    {
     "name": "stdout",
     "output_type": "stream",
     "text": [
      "DPM-Solver-Sampling 0.6246180534362793 seconds\n",
      "Epoch - 3\n"
     ]
    },
    {
     "name": "stderr",
     "output_type": "stream",
     "text": [
      "Loss: 0.01314; step 1874; epoch 3: 100%|██████████| 1875/1875 [10:55<00:00,  2.86it/s]\n",
      "DDPM Sampling: 100%|██████████| 1000/1000 [00:30<00:00, 33.22it/s]\n",
      "/Users/hyunjae.k/anaconda3/envs/cv_playgrounds/lib/python3.10/site-packages/torchshow/visualization.py:385: UserWarning: Original input range is not 0-1 when using grayscale mode. Auto-rescaling it to 0-1 by default.\n",
      "  warnings.warn('Original input range is not 0-1 when using grayscale mode. Auto-rescaling it to 0-1 by default.')\n"
     ]
    },
    {
     "name": "stdout",
     "output_type": "stream",
     "text": [
      "DDPM-Sampling 30.10436201095581 seconds\n"
     ]
    },
    {
     "name": "stderr",
     "output_type": "stream",
     "text": [
      "DDIM Sampling: 100%|██████████| 50/50 [00:01<00:00, 33.97it/s]\n",
      "/Users/hyunjae.k/anaconda3/envs/cv_playgrounds/lib/python3.10/site-packages/torchshow/visualization.py:385: UserWarning: Original input range is not 0-1 when using grayscale mode. Auto-rescaling it to 0-1 by default.\n",
      "  warnings.warn('Original input range is not 0-1 when using grayscale mode. Auto-rescaling it to 0-1 by default.')\n"
     ]
    },
    {
     "name": "stdout",
     "output_type": "stream",
     "text": [
      "DDIM-Sampling 1.474034070968628 seconds\n"
     ]
    },
    {
     "name": "stderr",
     "output_type": "stream",
     "text": [
      "DPM-Solver Sampling: 100%|██████████| 10/10 [00:00<00:00, 16.75it/s]\n",
      "/Users/hyunjae.k/anaconda3/envs/cv_playgrounds/lib/python3.10/site-packages/torchshow/visualization.py:385: UserWarning: Original input range is not 0-1 when using grayscale mode. Auto-rescaling it to 0-1 by default.\n",
      "  warnings.warn('Original input range is not 0-1 when using grayscale mode. Auto-rescaling it to 0-1 by default.')\n"
     ]
    },
    {
     "name": "stdout",
     "output_type": "stream",
     "text": [
      "DPM-Solver-Sampling 0.5991301536560059 seconds\n",
      "Epoch - 4\n"
     ]
    },
    {
     "name": "stderr",
     "output_type": "stream",
     "text": [
      "Loss: 0.01116; step 1874; epoch 4: 100%|██████████| 1875/1875 [11:03<00:00,  2.83it/s]\n",
      "DDPM Sampling: 100%|██████████| 1000/1000 [00:33<00:00, 29.43it/s]\n",
      "/Users/hyunjae.k/anaconda3/envs/cv_playgrounds/lib/python3.10/site-packages/torchshow/visualization.py:385: UserWarning: Original input range is not 0-1 when using grayscale mode. Auto-rescaling it to 0-1 by default.\n",
      "  warnings.warn('Original input range is not 0-1 when using grayscale mode. Auto-rescaling it to 0-1 by default.')\n"
     ]
    },
    {
     "name": "stdout",
     "output_type": "stream",
     "text": [
      "DDPM-Sampling 33.980712890625 seconds\n"
     ]
    },
    {
     "name": "stderr",
     "output_type": "stream",
     "text": [
      "DDIM Sampling: 100%|██████████| 50/50 [00:01<00:00, 31.18it/s]\n",
      "/Users/hyunjae.k/anaconda3/envs/cv_playgrounds/lib/python3.10/site-packages/torchshow/visualization.py:385: UserWarning: Original input range is not 0-1 when using grayscale mode. Auto-rescaling it to 0-1 by default.\n",
      "  warnings.warn('Original input range is not 0-1 when using grayscale mode. Auto-rescaling it to 0-1 by default.')\n"
     ]
    },
    {
     "name": "stdout",
     "output_type": "stream",
     "text": [
      "DDIM-Sampling 1.606083869934082 seconds\n"
     ]
    },
    {
     "name": "stderr",
     "output_type": "stream",
     "text": [
      "DPM-Solver Sampling: 100%|██████████| 10/10 [00:00<00:00, 15.92it/s]\n",
      "/Users/hyunjae.k/anaconda3/envs/cv_playgrounds/lib/python3.10/site-packages/torchshow/visualization.py:385: UserWarning: Original input range is not 0-1 when using grayscale mode. Auto-rescaling it to 0-1 by default.\n",
      "  warnings.warn('Original input range is not 0-1 when using grayscale mode. Auto-rescaling it to 0-1 by default.')\n"
     ]
    },
    {
     "name": "stdout",
     "output_type": "stream",
     "text": [
      "DPM-Solver-Sampling 0.6303431987762451 seconds\n",
      "Epoch - 5\n"
     ]
    },
    {
     "name": "stderr",
     "output_type": "stream",
     "text": [
      "Loss: 0.01780; step 1874; epoch 5: 100%|██████████| 1875/1875 [11:09<00:00,  2.80it/s]\n",
      "Sampling: 100%|██████████| 1000/1000 [00:30<00:00, 33.08it/s]\n",
      "INFO:matplotlib.animation:Animation.save using <class 'matplotlib.animation.FFMpegWriter'>\n",
      "INFO:matplotlib.animation:MovieWriter._run: running command: ffmpeg -f rawvideo -vcodec rawvideo -s 640x480 -pix_fmt rgba -framerate 10 -loglevel error -i pipe: -vcodec h264 -pix_fmt yuv420p -y ./temp/00_Diffusion_MNIST_videos/test_005.mp4\n",
      "DDPM Sampling: 100%|██████████| 1000/1000 [00:29<00:00, 33.59it/s]\n",
      "/Users/hyunjae.k/anaconda3/envs/cv_playgrounds/lib/python3.10/site-packages/torchshow/visualization.py:385: UserWarning: Original input range is not 0-1 when using grayscale mode. Auto-rescaling it to 0-1 by default.\n",
      "  warnings.warn('Original input range is not 0-1 when using grayscale mode. Auto-rescaling it to 0-1 by default.')\n"
     ]
    },
    {
     "name": "stdout",
     "output_type": "stream",
     "text": [
      "DDPM-Sampling 29.77159023284912 seconds\n"
     ]
    },
    {
     "name": "stderr",
     "output_type": "stream",
     "text": [
      "DDIM Sampling: 100%|██████████| 50/50 [00:01<00:00, 32.70it/s]\n",
      "/Users/hyunjae.k/anaconda3/envs/cv_playgrounds/lib/python3.10/site-packages/torchshow/visualization.py:385: UserWarning: Original input range is not 0-1 when using grayscale mode. Auto-rescaling it to 0-1 by default.\n",
      "  warnings.warn('Original input range is not 0-1 when using grayscale mode. Auto-rescaling it to 0-1 by default.')\n"
     ]
    },
    {
     "name": "stdout",
     "output_type": "stream",
     "text": [
      "DDIM-Sampling 1.5313851833343506 seconds\n"
     ]
    },
    {
     "name": "stderr",
     "output_type": "stream",
     "text": [
      "DPM-Solver Sampling: 100%|██████████| 10/10 [00:00<00:00, 16.32it/s]\n",
      "/Users/hyunjae.k/anaconda3/envs/cv_playgrounds/lib/python3.10/site-packages/torchshow/visualization.py:385: UserWarning: Original input range is not 0-1 when using grayscale mode. Auto-rescaling it to 0-1 by default.\n",
      "  warnings.warn('Original input range is not 0-1 when using grayscale mode. Auto-rescaling it to 0-1 by default.')\n"
     ]
    },
    {
     "name": "stdout",
     "output_type": "stream",
     "text": [
      "DPM-Solver-Sampling 0.6152408123016357 seconds\n",
      "Epoch - 6\n"
     ]
    },
    {
     "name": "stderr",
     "output_type": "stream",
     "text": [
      "Loss: 0.01130; step 1874; epoch 6: 100%|██████████| 1875/1875 [10:56<00:00,  2.86it/s]\n",
      "DDPM Sampling: 100%|██████████| 1000/1000 [00:29<00:00, 33.39it/s]\n",
      "/Users/hyunjae.k/anaconda3/envs/cv_playgrounds/lib/python3.10/site-packages/torchshow/visualization.py:385: UserWarning: Original input range is not 0-1 when using grayscale mode. Auto-rescaling it to 0-1 by default.\n",
      "  warnings.warn('Original input range is not 0-1 when using grayscale mode. Auto-rescaling it to 0-1 by default.')\n"
     ]
    },
    {
     "name": "stdout",
     "output_type": "stream",
     "text": [
      "DDPM-Sampling 29.94819712638855 seconds\n"
     ]
    },
    {
     "name": "stderr",
     "output_type": "stream",
     "text": [
      "DDIM Sampling: 100%|██████████| 50/50 [00:01<00:00, 33.03it/s]\n",
      "/Users/hyunjae.k/anaconda3/envs/cv_playgrounds/lib/python3.10/site-packages/torchshow/visualization.py:385: UserWarning: Original input range is not 0-1 when using grayscale mode. Auto-rescaling it to 0-1 by default.\n",
      "  warnings.warn('Original input range is not 0-1 when using grayscale mode. Auto-rescaling it to 0-1 by default.')\n"
     ]
    },
    {
     "name": "stdout",
     "output_type": "stream",
     "text": [
      "DDIM-Sampling 1.519853115081787 seconds\n"
     ]
    },
    {
     "name": "stderr",
     "output_type": "stream",
     "text": [
      "DPM-Solver Sampling: 100%|██████████| 10/10 [00:00<00:00, 16.31it/s]\n",
      "/Users/hyunjae.k/anaconda3/envs/cv_playgrounds/lib/python3.10/site-packages/torchshow/visualization.py:385: UserWarning: Original input range is not 0-1 when using grayscale mode. Auto-rescaling it to 0-1 by default.\n",
      "  warnings.warn('Original input range is not 0-1 when using grayscale mode. Auto-rescaling it to 0-1 by default.')\n"
     ]
    },
    {
     "name": "stdout",
     "output_type": "stream",
     "text": [
      "DPM-Solver-Sampling 0.6158251762390137 seconds\n",
      "Epoch - 7\n"
     ]
    },
    {
     "name": "stderr",
     "output_type": "stream",
     "text": [
      "Loss: 0.01670; step 1874; epoch 7: 100%|██████████| 1875/1875 [11:00<00:00,  2.84it/s]\n",
      "DDPM Sampling: 100%|██████████| 1000/1000 [00:30<00:00, 33.27it/s]\n",
      "/Users/hyunjae.k/anaconda3/envs/cv_playgrounds/lib/python3.10/site-packages/torchshow/visualization.py:385: UserWarning: Original input range is not 0-1 when using grayscale mode. Auto-rescaling it to 0-1 by default.\n",
      "  warnings.warn('Original input range is not 0-1 when using grayscale mode. Auto-rescaling it to 0-1 by default.')\n"
     ]
    },
    {
     "name": "stdout",
     "output_type": "stream",
     "text": [
      "DDPM-Sampling 30.060360193252563 seconds\n"
     ]
    },
    {
     "name": "stderr",
     "output_type": "stream",
     "text": [
      "DDIM Sampling: 100%|██████████| 50/50 [00:01<00:00, 33.01it/s]\n",
      "/Users/hyunjae.k/anaconda3/envs/cv_playgrounds/lib/python3.10/site-packages/torchshow/visualization.py:385: UserWarning: Original input range is not 0-1 when using grayscale mode. Auto-rescaling it to 0-1 by default.\n",
      "  warnings.warn('Original input range is not 0-1 when using grayscale mode. Auto-rescaling it to 0-1 by default.')\n"
     ]
    },
    {
     "name": "stdout",
     "output_type": "stream",
     "text": [
      "DDIM-Sampling 1.5167722702026367 seconds\n"
     ]
    },
    {
     "name": "stderr",
     "output_type": "stream",
     "text": [
      "DPM-Solver Sampling: 100%|██████████| 10/10 [00:00<00:00, 16.31it/s]\n",
      "/Users/hyunjae.k/anaconda3/envs/cv_playgrounds/lib/python3.10/site-packages/torchshow/visualization.py:385: UserWarning: Original input range is not 0-1 when using grayscale mode. Auto-rescaling it to 0-1 by default.\n",
      "  warnings.warn('Original input range is not 0-1 when using grayscale mode. Auto-rescaling it to 0-1 by default.')\n"
     ]
    },
    {
     "name": "stdout",
     "output_type": "stream",
     "text": [
      "DPM-Solver-Sampling 0.6152868270874023 seconds\n",
      "Epoch - 8\n"
     ]
    },
    {
     "name": "stderr",
     "output_type": "stream",
     "text": [
      "Loss: 0.01425; step 1874; epoch 8: 100%|██████████| 1875/1875 [11:05<00:00,  2.82it/s]\n",
      "DDPM Sampling: 100%|██████████| 1000/1000 [00:30<00:00, 32.71it/s]\n",
      "/Users/hyunjae.k/anaconda3/envs/cv_playgrounds/lib/python3.10/site-packages/torchshow/visualization.py:385: UserWarning: Original input range is not 0-1 when using grayscale mode. Auto-rescaling it to 0-1 by default.\n",
      "  warnings.warn('Original input range is not 0-1 when using grayscale mode. Auto-rescaling it to 0-1 by default.')\n"
     ]
    },
    {
     "name": "stdout",
     "output_type": "stream",
     "text": [
      "DDPM-Sampling 30.574770212173462 seconds\n"
     ]
    },
    {
     "name": "stderr",
     "output_type": "stream",
     "text": [
      "DDIM Sampling: 100%|██████████| 50/50 [00:01<00:00, 32.83it/s]\n",
      "/Users/hyunjae.k/anaconda3/envs/cv_playgrounds/lib/python3.10/site-packages/torchshow/visualization.py:385: UserWarning: Original input range is not 0-1 when using grayscale mode. Auto-rescaling it to 0-1 by default.\n",
      "  warnings.warn('Original input range is not 0-1 when using grayscale mode. Auto-rescaling it to 0-1 by default.')\n"
     ]
    },
    {
     "name": "stdout",
     "output_type": "stream",
     "text": [
      "DDIM-Sampling 1.5251431465148926 seconds\n"
     ]
    },
    {
     "name": "stderr",
     "output_type": "stream",
     "text": [
      "DPM-Solver Sampling: 100%|██████████| 10/10 [00:00<00:00, 16.77it/s]\n",
      "/Users/hyunjae.k/anaconda3/envs/cv_playgrounds/lib/python3.10/site-packages/torchshow/visualization.py:385: UserWarning: Original input range is not 0-1 when using grayscale mode. Auto-rescaling it to 0-1 by default.\n",
      "  warnings.warn('Original input range is not 0-1 when using grayscale mode. Auto-rescaling it to 0-1 by default.')\n"
     ]
    },
    {
     "name": "stdout",
     "output_type": "stream",
     "text": [
      "DPM-Solver-Sampling 0.598095178604126 seconds\n",
      "Epoch - 9\n"
     ]
    },
    {
     "name": "stderr",
     "output_type": "stream",
     "text": [
      "Loss: 0.00591; step 1874; epoch 9: 100%|██████████| 1875/1875 [11:03<00:00,  2.83it/s]\n",
      "DDPM Sampling: 100%|██████████| 1000/1000 [00:30<00:00, 33.13it/s]\n",
      "/Users/hyunjae.k/anaconda3/envs/cv_playgrounds/lib/python3.10/site-packages/torchshow/visualization.py:385: UserWarning: Original input range is not 0-1 when using grayscale mode. Auto-rescaling it to 0-1 by default.\n",
      "  warnings.warn('Original input range is not 0-1 when using grayscale mode. Auto-rescaling it to 0-1 by default.')\n"
     ]
    },
    {
     "name": "stdout",
     "output_type": "stream",
     "text": [
      "DDPM-Sampling 30.18818497657776 seconds\n"
     ]
    },
    {
     "name": "stderr",
     "output_type": "stream",
     "text": [
      "DDIM Sampling: 100%|██████████| 50/50 [00:01<00:00, 32.86it/s]\n",
      "/Users/hyunjae.k/anaconda3/envs/cv_playgrounds/lib/python3.10/site-packages/torchshow/visualization.py:385: UserWarning: Original input range is not 0-1 when using grayscale mode. Auto-rescaling it to 0-1 by default.\n",
      "  warnings.warn('Original input range is not 0-1 when using grayscale mode. Auto-rescaling it to 0-1 by default.')\n"
     ]
    },
    {
     "name": "stdout",
     "output_type": "stream",
     "text": [
      "DDIM-Sampling 1.523475170135498 seconds\n"
     ]
    },
    {
     "name": "stderr",
     "output_type": "stream",
     "text": [
      "DPM-Solver Sampling: 100%|██████████| 10/10 [00:00<00:00, 16.47it/s]\n",
      "/Users/hyunjae.k/anaconda3/envs/cv_playgrounds/lib/python3.10/site-packages/torchshow/visualization.py:385: UserWarning: Original input range is not 0-1 when using grayscale mode. Auto-rescaling it to 0-1 by default.\n",
      "  warnings.warn('Original input range is not 0-1 when using grayscale mode. Auto-rescaling it to 0-1 by default.')\n"
     ]
    },
    {
     "name": "stdout",
     "output_type": "stream",
     "text": [
      "DPM-Solver-Sampling 0.6090250015258789 seconds\n",
      "Epoch - 10\n"
     ]
    },
    {
     "name": "stderr",
     "output_type": "stream",
     "text": [
      "Loss: 0.01334; step 1874; epoch 10: 100%|██████████| 1875/1875 [11:01<00:00,  2.83it/s]\n",
      "Sampling: 100%|██████████| 1000/1000 [00:30<00:00, 33.07it/s]\n",
      "INFO:matplotlib.animation:Animation.save using <class 'matplotlib.animation.FFMpegWriter'>\n",
      "INFO:matplotlib.animation:MovieWriter._run: running command: ffmpeg -f rawvideo -vcodec rawvideo -s 640x480 -pix_fmt rgba -framerate 10 -loglevel error -i pipe: -vcodec h264 -pix_fmt yuv420p -y ./temp/00_Diffusion_MNIST_videos/test_010.mp4\n",
      "DDPM Sampling: 100%|██████████| 1000/1000 [00:30<00:00, 32.79it/s]\n",
      "/Users/hyunjae.k/anaconda3/envs/cv_playgrounds/lib/python3.10/site-packages/torchshow/visualization.py:385: UserWarning: Original input range is not 0-1 when using grayscale mode. Auto-rescaling it to 0-1 by default.\n",
      "  warnings.warn('Original input range is not 0-1 when using grayscale mode. Auto-rescaling it to 0-1 by default.')\n"
     ]
    },
    {
     "name": "stdout",
     "output_type": "stream",
     "text": [
      "DDPM-Sampling 30.500556707382202 seconds\n"
     ]
    },
    {
     "name": "stderr",
     "output_type": "stream",
     "text": [
      "DDIM Sampling: 100%|██████████| 50/50 [00:01<00:00, 31.87it/s]\n",
      "/Users/hyunjae.k/anaconda3/envs/cv_playgrounds/lib/python3.10/site-packages/torchshow/visualization.py:385: UserWarning: Original input range is not 0-1 when using grayscale mode. Auto-rescaling it to 0-1 by default.\n",
      "  warnings.warn('Original input range is not 0-1 when using grayscale mode. Auto-rescaling it to 0-1 by default.')\n"
     ]
    },
    {
     "name": "stdout",
     "output_type": "stream",
     "text": [
      "DDIM-Sampling 1.5707449913024902 seconds\n"
     ]
    },
    {
     "name": "stderr",
     "output_type": "stream",
     "text": [
      "DPM-Solver Sampling: 100%|██████████| 10/10 [00:00<00:00, 16.38it/s]\n",
      "/Users/hyunjae.k/anaconda3/envs/cv_playgrounds/lib/python3.10/site-packages/torchshow/visualization.py:385: UserWarning: Original input range is not 0-1 when using grayscale mode. Auto-rescaling it to 0-1 by default.\n",
      "  warnings.warn('Original input range is not 0-1 when using grayscale mode. Auto-rescaling it to 0-1 by default.')\n"
     ]
    },
    {
     "name": "stdout",
     "output_type": "stream",
     "text": [
      "DPM-Solver-Sampling 0.6125030517578125 seconds\n",
      "Epoch - 11\n"
     ]
    },
    {
     "name": "stderr",
     "output_type": "stream",
     "text": [
      "Loss: 0.00750; step 1874; epoch 11: 100%|██████████| 1875/1875 [10:55<00:00,  2.86it/s]\n",
      "DDPM Sampling: 100%|██████████| 1000/1000 [00:29<00:00, 33.97it/s]\n",
      "/Users/hyunjae.k/anaconda3/envs/cv_playgrounds/lib/python3.10/site-packages/torchshow/visualization.py:385: UserWarning: Original input range is not 0-1 when using grayscale mode. Auto-rescaling it to 0-1 by default.\n",
      "  warnings.warn('Original input range is not 0-1 when using grayscale mode. Auto-rescaling it to 0-1 by default.')\n"
     ]
    },
    {
     "name": "stdout",
     "output_type": "stream",
     "text": [
      "DDPM-Sampling 29.443103075027466 seconds\n"
     ]
    },
    {
     "name": "stderr",
     "output_type": "stream",
     "text": [
      "DDIM Sampling: 100%|██████████| 50/50 [00:01<00:00, 33.96it/s]\n",
      "/Users/hyunjae.k/anaconda3/envs/cv_playgrounds/lib/python3.10/site-packages/torchshow/visualization.py:385: UserWarning: Original input range is not 0-1 when using grayscale mode. Auto-rescaling it to 0-1 by default.\n",
      "  warnings.warn('Original input range is not 0-1 when using grayscale mode. Auto-rescaling it to 0-1 by default.')\n"
     ]
    },
    {
     "name": "stdout",
     "output_type": "stream",
     "text": [
      "DDIM-Sampling 1.4743578433990479 seconds\n"
     ]
    },
    {
     "name": "stderr",
     "output_type": "stream",
     "text": [
      "DPM-Solver Sampling: 100%|██████████| 10/10 [00:00<00:00, 16.85it/s]\n",
      "/Users/hyunjae.k/anaconda3/envs/cv_playgrounds/lib/python3.10/site-packages/torchshow/visualization.py:385: UserWarning: Original input range is not 0-1 when using grayscale mode. Auto-rescaling it to 0-1 by default.\n",
      "  warnings.warn('Original input range is not 0-1 when using grayscale mode. Auto-rescaling it to 0-1 by default.')\n"
     ]
    },
    {
     "name": "stdout",
     "output_type": "stream",
     "text": [
      "DPM-Solver-Sampling 0.5963389873504639 seconds\n",
      "Epoch - 12\n"
     ]
    },
    {
     "name": "stderr",
     "output_type": "stream",
     "text": [
      "Loss: 0.00962; step 1874; epoch 12: 100%|██████████| 1875/1875 [10:53<00:00,  2.87it/s]\n",
      "DDPM Sampling: 100%|██████████| 1000/1000 [00:29<00:00, 34.05it/s]\n",
      "/Users/hyunjae.k/anaconda3/envs/cv_playgrounds/lib/python3.10/site-packages/torchshow/visualization.py:385: UserWarning: Original input range is not 0-1 when using grayscale mode. Auto-rescaling it to 0-1 by default.\n",
      "  warnings.warn('Original input range is not 0-1 when using grayscale mode. Auto-rescaling it to 0-1 by default.')\n"
     ]
    },
    {
     "name": "stdout",
     "output_type": "stream",
     "text": [
      "DDPM-Sampling 29.370324850082397 seconds\n"
     ]
    },
    {
     "name": "stderr",
     "output_type": "stream",
     "text": [
      "DDIM Sampling: 100%|██████████| 50/50 [00:01<00:00, 33.00it/s]\n",
      "/Users/hyunjae.k/anaconda3/envs/cv_playgrounds/lib/python3.10/site-packages/torchshow/visualization.py:385: UserWarning: Original input range is not 0-1 when using grayscale mode. Auto-rescaling it to 0-1 by default.\n",
      "  warnings.warn('Original input range is not 0-1 when using grayscale mode. Auto-rescaling it to 0-1 by default.')\n"
     ]
    },
    {
     "name": "stdout",
     "output_type": "stream",
     "text": [
      "DDIM-Sampling 1.5166959762573242 seconds\n"
     ]
    },
    {
     "name": "stderr",
     "output_type": "stream",
     "text": [
      "DPM-Solver Sampling: 100%|██████████| 10/10 [00:00<00:00, 16.98it/s]\n",
      "/Users/hyunjae.k/anaconda3/envs/cv_playgrounds/lib/python3.10/site-packages/torchshow/visualization.py:385: UserWarning: Original input range is not 0-1 when using grayscale mode. Auto-rescaling it to 0-1 by default.\n",
      "  warnings.warn('Original input range is not 0-1 when using grayscale mode. Auto-rescaling it to 0-1 by default.')\n"
     ]
    },
    {
     "name": "stdout",
     "output_type": "stream",
     "text": [
      "DPM-Solver-Sampling 0.5906078815460205 seconds\n",
      "Epoch - 13\n"
     ]
    },
    {
     "name": "stderr",
     "output_type": "stream",
     "text": [
      "Loss: 0.01686; step 1874; epoch 13: 100%|██████████| 1875/1875 [10:47<00:00,  2.90it/s]\n",
      "DDPM Sampling: 100%|██████████| 1000/1000 [00:29<00:00, 33.48it/s]\n",
      "/Users/hyunjae.k/anaconda3/envs/cv_playgrounds/lib/python3.10/site-packages/torchshow/visualization.py:385: UserWarning: Original input range is not 0-1 when using grayscale mode. Auto-rescaling it to 0-1 by default.\n",
      "  warnings.warn('Original input range is not 0-1 when using grayscale mode. Auto-rescaling it to 0-1 by default.')\n"
     ]
    },
    {
     "name": "stdout",
     "output_type": "stream",
     "text": [
      "DDPM-Sampling 29.87138605117798 seconds\n"
     ]
    },
    {
     "name": "stderr",
     "output_type": "stream",
     "text": [
      "DDIM Sampling: 100%|██████████| 50/50 [00:01<00:00, 33.92it/s]\n",
      "/Users/hyunjae.k/anaconda3/envs/cv_playgrounds/lib/python3.10/site-packages/torchshow/visualization.py:385: UserWarning: Original input range is not 0-1 when using grayscale mode. Auto-rescaling it to 0-1 by default.\n",
      "  warnings.warn('Original input range is not 0-1 when using grayscale mode. Auto-rescaling it to 0-1 by default.')\n"
     ]
    },
    {
     "name": "stdout",
     "output_type": "stream",
     "text": [
      "DDIM-Sampling 1.4759180545806885 seconds\n"
     ]
    },
    {
     "name": "stderr",
     "output_type": "stream",
     "text": [
      "DPM-Solver Sampling: 100%|██████████| 10/10 [00:00<00:00, 16.10it/s]\n",
      "/Users/hyunjae.k/anaconda3/envs/cv_playgrounds/lib/python3.10/site-packages/torchshow/visualization.py:385: UserWarning: Original input range is not 0-1 when using grayscale mode. Auto-rescaling it to 0-1 by default.\n",
      "  warnings.warn('Original input range is not 0-1 when using grayscale mode. Auto-rescaling it to 0-1 by default.')\n"
     ]
    },
    {
     "name": "stdout",
     "output_type": "stream",
     "text": [
      "DPM-Solver-Sampling 0.6232740879058838 seconds\n",
      "Epoch - 14\n"
     ]
    },
    {
     "name": "stderr",
     "output_type": "stream",
     "text": [
      "Loss: 0.01403; step 1874; epoch 14: 100%|██████████| 1875/1875 [10:48<00:00,  2.89it/s]\n",
      "DDPM Sampling: 100%|██████████| 1000/1000 [00:29<00:00, 33.65it/s]\n",
      "/Users/hyunjae.k/anaconda3/envs/cv_playgrounds/lib/python3.10/site-packages/torchshow/visualization.py:385: UserWarning: Original input range is not 0-1 when using grayscale mode. Auto-rescaling it to 0-1 by default.\n",
      "  warnings.warn('Original input range is not 0-1 when using grayscale mode. Auto-rescaling it to 0-1 by default.')\n"
     ]
    },
    {
     "name": "stdout",
     "output_type": "stream",
     "text": [
      "DDPM-Sampling 29.715895891189575 seconds\n"
     ]
    },
    {
     "name": "stderr",
     "output_type": "stream",
     "text": [
      "DDIM Sampling: 100%|██████████| 50/50 [00:01<00:00, 33.29it/s]\n",
      "/Users/hyunjae.k/anaconda3/envs/cv_playgrounds/lib/python3.10/site-packages/torchshow/visualization.py:385: UserWarning: Original input range is not 0-1 when using grayscale mode. Auto-rescaling it to 0-1 by default.\n",
      "  warnings.warn('Original input range is not 0-1 when using grayscale mode. Auto-rescaling it to 0-1 by default.')\n"
     ]
    },
    {
     "name": "stdout",
     "output_type": "stream",
     "text": [
      "DDIM-Sampling 1.5037100315093994 seconds\n"
     ]
    },
    {
     "name": "stderr",
     "output_type": "stream",
     "text": [
      "DPM-Solver Sampling: 100%|██████████| 10/10 [00:00<00:00, 16.53it/s]\n",
      "/Users/hyunjae.k/anaconda3/envs/cv_playgrounds/lib/python3.10/site-packages/torchshow/visualization.py:385: UserWarning: Original input range is not 0-1 when using grayscale mode. Auto-rescaling it to 0-1 by default.\n",
      "  warnings.warn('Original input range is not 0-1 when using grayscale mode. Auto-rescaling it to 0-1 by default.')\n"
     ]
    },
    {
     "name": "stdout",
     "output_type": "stream",
     "text": [
      "DPM-Solver-Sampling 0.6069180965423584 seconds\n",
      "Epoch - 15\n"
     ]
    },
    {
     "name": "stderr",
     "output_type": "stream",
     "text": [
      "Loss: 0.01025; step 1874; epoch 15: 100%|██████████| 1875/1875 [10:47<00:00,  2.89it/s]\n",
      "Sampling: 100%|██████████| 1000/1000 [00:29<00:00, 33.88it/s]\n",
      "INFO:matplotlib.animation:Animation.save using <class 'matplotlib.animation.FFMpegWriter'>\n",
      "INFO:matplotlib.animation:MovieWriter._run: running command: ffmpeg -f rawvideo -vcodec rawvideo -s 640x480 -pix_fmt rgba -framerate 10 -loglevel error -i pipe: -vcodec h264 -pix_fmt yuv420p -y ./temp/00_Diffusion_MNIST_videos/test_015.mp4\n",
      "DDPM Sampling: 100%|██████████| 1000/1000 [00:29<00:00, 34.00it/s]\n",
      "/Users/hyunjae.k/anaconda3/envs/cv_playgrounds/lib/python3.10/site-packages/torchshow/visualization.py:385: UserWarning: Original input range is not 0-1 when using grayscale mode. Auto-rescaling it to 0-1 by default.\n",
      "  warnings.warn('Original input range is not 0-1 when using grayscale mode. Auto-rescaling it to 0-1 by default.')\n"
     ]
    },
    {
     "name": "stdout",
     "output_type": "stream",
     "text": [
      "DDPM-Sampling 29.41701602935791 seconds\n"
     ]
    },
    {
     "name": "stderr",
     "output_type": "stream",
     "text": [
      "DDIM Sampling: 100%|██████████| 50/50 [00:01<00:00, 33.42it/s]\n",
      "/Users/hyunjae.k/anaconda3/envs/cv_playgrounds/lib/python3.10/site-packages/torchshow/visualization.py:385: UserWarning: Original input range is not 0-1 when using grayscale mode. Auto-rescaling it to 0-1 by default.\n",
      "  warnings.warn('Original input range is not 0-1 when using grayscale mode. Auto-rescaling it to 0-1 by default.')\n"
     ]
    },
    {
     "name": "stdout",
     "output_type": "stream",
     "text": [
      "DDIM-Sampling 1.4980478286743164 seconds\n"
     ]
    },
    {
     "name": "stderr",
     "output_type": "stream",
     "text": [
      "DPM-Solver Sampling: 100%|██████████| 10/10 [00:00<00:00, 16.93it/s]\n",
      "/Users/hyunjae.k/anaconda3/envs/cv_playgrounds/lib/python3.10/site-packages/torchshow/visualization.py:385: UserWarning: Original input range is not 0-1 when using grayscale mode. Auto-rescaling it to 0-1 by default.\n",
      "  warnings.warn('Original input range is not 0-1 when using grayscale mode. Auto-rescaling it to 0-1 by default.')\n"
     ]
    },
    {
     "name": "stdout",
     "output_type": "stream",
     "text": [
      "DPM-Solver-Sampling 0.592609167098999 seconds\n",
      "Epoch - 16\n"
     ]
    },
    {
     "name": "stderr",
     "output_type": "stream",
     "text": [
      "Loss: 0.01015; step 1874; epoch 16: 100%|██████████| 1875/1875 [10:50<00:00,  2.88it/s]\n",
      "DDPM Sampling: 100%|██████████| 1000/1000 [00:29<00:00, 33.78it/s]\n",
      "/Users/hyunjae.k/anaconda3/envs/cv_playgrounds/lib/python3.10/site-packages/torchshow/visualization.py:385: UserWarning: Original input range is not 0-1 when using grayscale mode. Auto-rescaling it to 0-1 by default.\n",
      "  warnings.warn('Original input range is not 0-1 when using grayscale mode. Auto-rescaling it to 0-1 by default.')\n"
     ]
    },
    {
     "name": "stdout",
     "output_type": "stream",
     "text": [
      "DDPM-Sampling 29.60595989227295 seconds\n"
     ]
    },
    {
     "name": "stderr",
     "output_type": "stream",
     "text": [
      "DDIM Sampling: 100%|██████████| 50/50 [00:01<00:00, 34.18it/s]\n",
      "/Users/hyunjae.k/anaconda3/envs/cv_playgrounds/lib/python3.10/site-packages/torchshow/visualization.py:385: UserWarning: Original input range is not 0-1 when using grayscale mode. Auto-rescaling it to 0-1 by default.\n",
      "  warnings.warn('Original input range is not 0-1 when using grayscale mode. Auto-rescaling it to 0-1 by default.')\n"
     ]
    },
    {
     "name": "stdout",
     "output_type": "stream",
     "text": [
      "DDIM-Sampling 1.4645888805389404 seconds\n"
     ]
    },
    {
     "name": "stderr",
     "output_type": "stream",
     "text": [
      "DPM-Solver Sampling: 100%|██████████| 10/10 [00:00<00:00, 15.87it/s]\n",
      "/Users/hyunjae.k/anaconda3/envs/cv_playgrounds/lib/python3.10/site-packages/torchshow/visualization.py:385: UserWarning: Original input range is not 0-1 when using grayscale mode. Auto-rescaling it to 0-1 by default.\n",
      "  warnings.warn('Original input range is not 0-1 when using grayscale mode. Auto-rescaling it to 0-1 by default.')\n"
     ]
    },
    {
     "name": "stdout",
     "output_type": "stream",
     "text": [
      "DPM-Solver-Sampling 0.6319718360900879 seconds\n",
      "Epoch - 17\n"
     ]
    },
    {
     "name": "stderr",
     "output_type": "stream",
     "text": [
      "Loss: 0.00725; step 1874; epoch 17: 100%|██████████| 1875/1875 [10:49<00:00,  2.89it/s]\n",
      "DDPM Sampling: 100%|██████████| 1000/1000 [00:29<00:00, 33.73it/s]\n",
      "/Users/hyunjae.k/anaconda3/envs/cv_playgrounds/lib/python3.10/site-packages/torchshow/visualization.py:385: UserWarning: Original input range is not 0-1 when using grayscale mode. Auto-rescaling it to 0-1 by default.\n",
      "  warnings.warn('Original input range is not 0-1 when using grayscale mode. Auto-rescaling it to 0-1 by default.')\n"
     ]
    },
    {
     "name": "stdout",
     "output_type": "stream",
     "text": [
      "DDPM-Sampling 29.646540880203247 seconds\n"
     ]
    },
    {
     "name": "stderr",
     "output_type": "stream",
     "text": [
      "DDIM Sampling: 100%|██████████| 50/50 [00:01<00:00, 34.16it/s]\n",
      "/Users/hyunjae.k/anaconda3/envs/cv_playgrounds/lib/python3.10/site-packages/torchshow/visualization.py:385: UserWarning: Original input range is not 0-1 when using grayscale mode. Auto-rescaling it to 0-1 by default.\n",
      "  warnings.warn('Original input range is not 0-1 when using grayscale mode. Auto-rescaling it to 0-1 by default.')\n"
     ]
    },
    {
     "name": "stdout",
     "output_type": "stream",
     "text": [
      "DDIM-Sampling 1.4659428596496582 seconds\n"
     ]
    },
    {
     "name": "stderr",
     "output_type": "stream",
     "text": [
      "DPM-Solver Sampling: 100%|██████████| 10/10 [00:00<00:00, 16.43it/s]\n",
      "/Users/hyunjae.k/anaconda3/envs/cv_playgrounds/lib/python3.10/site-packages/torchshow/visualization.py:385: UserWarning: Original input range is not 0-1 when using grayscale mode. Auto-rescaling it to 0-1 by default.\n",
      "  warnings.warn('Original input range is not 0-1 when using grayscale mode. Auto-rescaling it to 0-1 by default.')\n"
     ]
    },
    {
     "name": "stdout",
     "output_type": "stream",
     "text": [
      "DPM-Solver-Sampling 0.6105949878692627 seconds\n",
      "Epoch - 18\n"
     ]
    },
    {
     "name": "stderr",
     "output_type": "stream",
     "text": [
      "Loss: 0.01297; step 1874; epoch 18: 100%|██████████| 1875/1875 [10:50<00:00,  2.88it/s]\n",
      "DDPM Sampling: 100%|██████████| 1000/1000 [00:29<00:00, 34.21it/s]\n",
      "/Users/hyunjae.k/anaconda3/envs/cv_playgrounds/lib/python3.10/site-packages/torchshow/visualization.py:385: UserWarning: Original input range is not 0-1 when using grayscale mode. Auto-rescaling it to 0-1 by default.\n",
      "  warnings.warn('Original input range is not 0-1 when using grayscale mode. Auto-rescaling it to 0-1 by default.')\n"
     ]
    },
    {
     "name": "stdout",
     "output_type": "stream",
     "text": [
      "DDPM-Sampling 29.232287883758545 seconds\n"
     ]
    },
    {
     "name": "stderr",
     "output_type": "stream",
     "text": [
      "DDIM Sampling: 100%|██████████| 50/50 [00:01<00:00, 33.93it/s]\n",
      "/Users/hyunjae.k/anaconda3/envs/cv_playgrounds/lib/python3.10/site-packages/torchshow/visualization.py:385: UserWarning: Original input range is not 0-1 when using grayscale mode. Auto-rescaling it to 0-1 by default.\n",
      "  warnings.warn('Original input range is not 0-1 when using grayscale mode. Auto-rescaling it to 0-1 by default.')\n"
     ]
    },
    {
     "name": "stdout",
     "output_type": "stream",
     "text": [
      "DDIM-Sampling 1.4756479263305664 seconds\n"
     ]
    },
    {
     "name": "stderr",
     "output_type": "stream",
     "text": [
      "DPM-Solver Sampling: 100%|██████████| 10/10 [00:00<00:00, 16.34it/s]\n",
      "/Users/hyunjae.k/anaconda3/envs/cv_playgrounds/lib/python3.10/site-packages/torchshow/visualization.py:385: UserWarning: Original input range is not 0-1 when using grayscale mode. Auto-rescaling it to 0-1 by default.\n",
      "  warnings.warn('Original input range is not 0-1 when using grayscale mode. Auto-rescaling it to 0-1 by default.')\n"
     ]
    },
    {
     "name": "stdout",
     "output_type": "stream",
     "text": [
      "DPM-Solver-Sampling 0.6138401031494141 seconds\n",
      "Epoch - 19\n"
     ]
    },
    {
     "name": "stderr",
     "output_type": "stream",
     "text": [
      "Loss: 0.01066; step 1874; epoch 19: 100%|██████████| 1875/1875 [10:46<00:00,  2.90it/s]\n",
      "Sampling: 100%|██████████| 1000/1000 [00:29<00:00, 33.52it/s]\n",
      "INFO:matplotlib.animation:Animation.save using <class 'matplotlib.animation.FFMpegWriter'>\n",
      "INFO:matplotlib.animation:MovieWriter._run: running command: ffmpeg -f rawvideo -vcodec rawvideo -s 640x480 -pix_fmt rgba -framerate 10 -loglevel error -i pipe: -vcodec h264 -pix_fmt yuv420p -y ./temp/00_Diffusion_MNIST_videos/test_019.mp4\n",
      "DDPM Sampling: 100%|██████████| 1000/1000 [00:29<00:00, 33.65it/s]\n",
      "/Users/hyunjae.k/anaconda3/envs/cv_playgrounds/lib/python3.10/site-packages/torchshow/visualization.py:385: UserWarning: Original input range is not 0-1 when using grayscale mode. Auto-rescaling it to 0-1 by default.\n",
      "  warnings.warn('Original input range is not 0-1 when using grayscale mode. Auto-rescaling it to 0-1 by default.')\n"
     ]
    },
    {
     "name": "stdout",
     "output_type": "stream",
     "text": [
      "DDPM-Sampling 29.72340989112854 seconds\n"
     ]
    },
    {
     "name": "stderr",
     "output_type": "stream",
     "text": [
      "DDIM Sampling: 100%|██████████| 50/50 [00:01<00:00, 32.97it/s]\n",
      "/Users/hyunjae.k/anaconda3/envs/cv_playgrounds/lib/python3.10/site-packages/torchshow/visualization.py:385: UserWarning: Original input range is not 0-1 when using grayscale mode. Auto-rescaling it to 0-1 by default.\n",
      "  warnings.warn('Original input range is not 0-1 when using grayscale mode. Auto-rescaling it to 0-1 by default.')\n"
     ]
    },
    {
     "name": "stdout",
     "output_type": "stream",
     "text": [
      "DDIM-Sampling 1.5184590816497803 seconds\n"
     ]
    },
    {
     "name": "stderr",
     "output_type": "stream",
     "text": [
      "DPM-Solver Sampling: 100%|██████████| 10/10 [00:00<00:00, 16.50it/s]\n",
      "/Users/hyunjae.k/anaconda3/envs/cv_playgrounds/lib/python3.10/site-packages/torchshow/visualization.py:385: UserWarning: Original input range is not 0-1 when using grayscale mode. Auto-rescaling it to 0-1 by default.\n",
      "  warnings.warn('Original input range is not 0-1 when using grayscale mode. Auto-rescaling it to 0-1 by default.')\n"
     ]
    },
    {
     "name": "stdout",
     "output_type": "stream",
     "text": [
      "DPM-Solver-Sampling 0.6081600189208984 seconds\n"
     ]
    },
    {
     "data": {
      "image/png": "[encoded data removed]",
      "text/plain": [
       "<Figure size 640x480 with 9 Axes>"
      ]
     },
     "metadata": {},
     "output_type": "display_data"
    },
    {
     "data": {
      "image/png": "[encoded data removed]",
      "text/plain": [
       "<Figure size 640x480 with 9 Axes>"
      ]
     },
     "metadata": {},
     "output_type": "display_data"
    },
    {
     "data": {
      "image/png": "[encoded data removed]",
      "text/plain": [
       "<Figure size 640x480 with 9 Axes>"
      ]
     },
     "metadata": {},
     "output_type": "display_data"
    },
    {
     "data": {
      "image/png": "[encoded data removed]",
      "text/plain": [
       "<Figure size 640x480 with 9 Axes>"
      ]
     },
     "metadata": {},
     "output_type": "display_data"
    },
    {
     "data": {
      "image/png": "[encoded data removed]",
      "text/plain": [
       "<Figure size 640x480 with 9 Axes>"
      ]
     },
     "metadata": {},
     "output_type": "display_data"
    }
   ],
   "source": [
    "g_model_path = './temp/00_Diffusion_MNIST_models/'\n",
    "g_video_path = './temp/00_Diffusion_MNIST_videos/'\n",
    "Path(g_model_path).mkdir(exist_ok=True, parents=True)\n",
    "Path(g_video_path).mkdir(exist_ok=True, parents=True)\n",
    "\n",
    "\n",
    "# parameters\n",
    "batch_size = 32\n",
    "epoches = 20\n",
    "nb_images = 9\n",
    "img_channel = 1\n",
    "\n",
    "# datasets\n",
    "transform = transforms.Compose([\n",
    "                transforms.ToTensor(),\n",
    "                transforms.Resize((32,32),interpolation=transforms.InterpolationMode.BILINEAR, antialias=True)\n",
    "            ])\n",
    "dataset = datasets.MNIST(root='./temp/data', train=True, download=True, transform=transform)\n",
    "len(dataset)\n",
    "dataloader = torch.utils.data.DataLoader(dataset, batch_size=batch_size, shuffle=True)\n",
    "\n",
    "# Setup Model\n",
    "model = UNet(in_ch = img_channel)\n",
    "model.to(g_device)\n",
    "optimizer = torch.optim.Adam(model.parameters(), lr=2e-5)\n",
    "diffusion_model = DiffusionModel(1000, model, g_device)\n",
    "\n",
    "# Training\n",
    "loss_lst = []\n",
    "for ep in range(epoches):\n",
    "    print(f\"Epoch - {ep}\")\n",
    "    tq = tqdm(enumerate(dataloader), total = len(dataloader), desc=\"Training\")\n",
    "    for i, x0, in tq:\n",
    "        x0 = x0[0].to(g_device)\n",
    "        _loss = diffusion_model.training(x0, batch_size, optimizer)\n",
    "        loss_lst.append(_loss)\n",
    "        tq.set_description(f\"Loss: {_loss:.5f}; step {i}; epoch {ep}\")\n",
    "\n",
    "    _model_path = os.path.join(g_model_path, f'unet_{ep:03d}.pth')\n",
    "    torch.save(diffusion_model.function_approximator.state_dict(), _model_path)\n",
    "\n",
    "    diffusion_model.function_approximator.eval()\n",
    "    if ep % 5 == 0 or ep == epoches-1:\n",
    "        _, t_list = diffusion_model.sampling(n_samples=nb_images, image_channels=img_channel, img_size=(32, 32))\n",
    "        vfp = os.path.join(g_video_path, f\"test_{ep:03d}.mp4\")\n",
    "        save_video(t_list, 3, 3, vfp)\n",
    "\n",
    "\n",
    "    st = time.time()\n",
    "    samples = diffusion_model.ddpm_sampling(n_samples=nb_images, image_channels=img_channel, img_size=(32, 32), use_tqdm=True)\n",
    "    print(f\"DDPM-Sampling {time.time() - st } seconds\")\n",
    "    img_op = os.path.join(g_video_path, f\"ddpm_{ep:03d}.jpg\")\n",
    "    ts.save(samples, img_op, ncols = 3)\n",
    "\n",
    "    st = time.time()\n",
    "    samples = diffusion_model.ddim_sampling(n_samples=nb_images, image_channels=img_channel, img_size=(32, 32), use_tqdm=True)\n",
    "    print(f\"DDIM-Sampling {time.time() - st } seconds\")\n",
    "    img_op = os.path.join(g_video_path, f\"ddim_{ep:03d}.jpg\")\n",
    "    ts.save(samples, img_op, ncols = 3)\n",
    "\n",
    "    st = time.time()\n",
    "    samples = diffusion_model.dpm_solver_sampling(n_samples=nb_images, n_steps=10, image_channels=img_channel, img_size=(32, 32), use_tqdm=True)\n",
    "    print(f\"DPM-Solver-Sampling {time.time() - st } seconds\")\n",
    "    img_op = os.path.join(g_video_path, f\"dpm_solver_{ep:03d}.jpg\")\n",
    "    ts.save(samples, img_op, ncols = 3)\n",
    "\n",
    "\n",
    "    diffusion_model.function_approximator.train()\n",
    "\n",
    "plt.plot(loss_lst)\n",
    "plt.show()"
   ]
  },
  {
   "cell_type": "code",
   "execution_count": 13,
   "id": "dbf50b8a",
   "metadata": {},
   "outputs": [
    {
     "data": {
      "image/png": "[encoded data removed]",
      "text/plain": [
       "<Figure size 640x480 with 1 Axes>"
      ]
     },
     "metadata": {},
     "output_type": "display_data"
    }
   ],
   "source": [
    "# plot losses\n",
    "plt.plot(loss_lst)\n",
    "plt.xlabel('Iteration')\n",
    "plt.ylabel('Loss')\n",
    "plt.show()"
   ]
  }
 ],
 "metadata": {
  "kernelspec": {
   "display_name": "cv_playgrounds",
   "language": "python",
   "name": "python3"
  },
  "language_info": {
   "codemirror_mode": {
    "name": "ipython",
    "version": 3
   },
   "file_extension": ".py",
   "mimetype": "text/x-python",
   "name": "python",
   "nbconvert_exporter": "python",
   "pygments_lexer": "ipython3",
   "version": "3.10.12"
  }
 },
 "nbformat": 4,
 "nbformat_minor": 5
}
