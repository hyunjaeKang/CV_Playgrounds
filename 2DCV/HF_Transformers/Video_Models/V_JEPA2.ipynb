{
 "cells": [
  {
   "cell_type": "markdown",
   "id": "77683888",
   "metadata": {},
   "source": [
    "# V_JEPA2\n",
    "\n",
    "V-JEPA 2 is a self-supervised approach to training video encoders developed by FAIR, Meta. Using internet-scale video data, V-JEPA 2 attains state-of-the-art performance on motion understanding and human action anticipation tasks. V-JEPA 2-AC is a latent action-conditioned world model post-trained from V-JEPA 2 (using a small amount of robot trajectory interaction data) that solves robot manipulation tasks without environment-specific data collection or task-specific training or calibration.\n",
    "\n",
    "<img src=\"https://huggingface.co/datasets/huggingface/documentation-images/resolve/main/transformers/model_doc/vjepa.gif\" alt=\"Your image title\" width=70% height=70%/>\n",
    "\n",
    "----\n",
    "\n",
    "### Reference:\n",
    "- ***Paper***\n",
    "    - [V-JEPA 2: Self-Supervised Video Models Enable Understanding, Prediction and Planning](https://arxiv.org/abs/2506.09985)\n",
    "- ***Blogs***\n",
    "    - [Introducing the V-JEPA 2 world model and new benchmarks for physical reasoning](https://ai.meta.com/blog/v-jepa-2-world-model-benchmarks/)\n",
    "    - https://huggingface.co/docs/transformers/v4.53.3/en/model_doc/vjepa2"
   ]
  },
  {
   "cell_type": "markdown",
   "id": "2b09f7cf",
   "metadata": {},
   "source": [
    "## Device Setup"
   ]
  },
  {
   "cell_type": "code",
   "execution_count": 1,
   "id": "bc598956",
   "metadata": {},
   "outputs": [
    {
     "name": "stdout",
     "output_type": "stream",
     "text": [
      "Fri Sep 12 18:12:05 2025       \n",
      "+-----------------------------------------------------------------------------------------+\n",
      "| NVIDIA-SMI 575.57.08              Driver Version: 575.57.08      CUDA Version: 12.9     |\n",
      "|-----------------------------------------+------------------------+----------------------+\n",
      "| GPU  Name                 Persistence-M | Bus-Id          Disp.A | Volatile Uncorr. ECC |\n",
      "| Fan  Temp   Perf          Pwr:Usage/Cap |           Memory-Usage | GPU-Util  Compute M. |\n",
      "|                                         |                        |               MIG M. |\n",
      "|=========================================+========================+======================|\n",
      "|   0  NVIDIA GeForce RTX 2080 Ti     On  |   00000000:01:00.0  On |                  N/A |\n",
      "| 28%   45C    P5             37W /  250W |    1223MiB /  11264MiB |     34%      Default |\n",
      "|                                         |                        |                  N/A |\n",
      "+-----------------------------------------+------------------------+----------------------+\n",
      "                                                                                         \n",
      "+-----------------------------------------------------------------------------------------+\n",
      "| Processes:                                                                              |\n",
      "|  GPU   GI   CI              PID   Type   Process name                        GPU Memory |\n",
      "|        ID   ID                                                               Usage      |\n",
      "|=========================================================================================|\n",
      "|    0   N/A  N/A            2104      G   /usr/lib/xorg/Xorg                      537MiB |\n",
      "|    0   N/A  N/A            2285      G   /usr/bin/gnome-shell                     71MiB |\n",
      "|    0   N/A  N/A            4669      G   ...ersion=20250912-050104.815000        135MiB |\n",
      "|    0   N/A  N/A            5826      G   /usr/share/code/code                    407MiB |\n",
      "+-----------------------------------------------------------------------------------------+\n",
      "Available device : cuda\n"
     ]
    }
   ],
   "source": [
    "import torch\n",
    "\n",
    "if torch.backends.mps.is_available():\n",
    "    device = \"mps\"\n",
    "elif torch.cuda.is_available():\n",
    "    device = \"cuda\"\n",
    "    !nvidia-smi\n",
    "else:\n",
    "    device = \"cpu\"\n",
    "\n",
    "print(f\"Available device : {device}\")"
   ]
  },
  {
   "cell_type": "code",
   "execution_count": 1,
   "id": "f6f23502",
   "metadata": {},
   "outputs": [
    {
     "data": {
      "text/html": [
       "<video src=\"https://huggingface.co/datasets/nateraw/kinetics-mini/resolve/main/val/bowling/-WH-lxmGJVY_000005_000015.mp4\" controls  width=\"640\"  height=\"360\">\n",
       "      Your browser does not support the <code>video</code> element.\n",
       "    </video>"
      ],
      "text/plain": [
       "<IPython.core.display.Video object>"
      ]
     },
     "execution_count": 1,
     "metadata": {},
     "output_type": "execute_result"
    }
   ],
   "source": [
    "from IPython.display import Video\n",
    "\n",
    "video_url = \"https://huggingface.co/datasets/nateraw/kinetics-mini/resolve/main/val/bowling/-WH-lxmGJVY_000005_000015.mp4\"\n",
    "# Assuming 'my_video.mp4' is in the same directory as the notebook\n",
    "Video(video_url, width=640, height=360) "
   ]
  },
  {
   "cell_type": "code",
   "execution_count": 1,
   "id": "ff26bf06",
   "metadata": {},
   "outputs": [
    {
     "data": {
      "application/vnd.jupyter.widget-view+json": {
       "model_id": "a24a6b8e601f4d6ea3f4bbadf296d8f0",
       "version_major": 2,
       "version_minor": 0
      },
      "text/plain": [
       "config.json: 0.00B [00:00, ?B/s]"
      ]
     },
     "metadata": {},
     "output_type": "display_data"
    },
    {
     "data": {
      "application/vnd.jupyter.widget-view+json": {
       "model_id": "4997bf5ce8034edc8853efea7caebb22",
       "version_major": 2,
       "version_minor": 0
      },
      "text/plain": [
       "model.safetensors:   0%|          | 0.00/1.50G [00:00<?, ?B/s]"
      ]
     },
     "metadata": {},
     "output_type": "display_data"
    },
    {
     "data": {
      "application/vnd.jupyter.widget-view+json": {
       "model_id": "ba7b737f7ba542eda950cd3ac6bdd8f5",
       "version_major": 2,
       "version_minor": 0
      },
      "text/plain": [
       "Fetching 1 files:   0%|          | 0/1 [00:00<?, ?it/s]"
      ]
     },
     "metadata": {},
     "output_type": "display_data"
    },
    {
     "data": {
      "application/vnd.jupyter.widget-view+json": {
       "model_id": "c2374bcdac5947b8bd07937c8f74aa88",
       "version_major": 2,
       "version_minor": 0
      },
      "text/plain": [
       "video_preprocessor_config.json: 0.00B [00:00, ?B/s]"
      ]
     },
     "metadata": {},
     "output_type": "display_data"
    },
    {
     "name": "stdout",
     "output_type": "stream",
     "text": [
      "Top 5 predicted class names:\n",
      " - Stuffing [something] into [something]: 0.34\n",
      " - Putting [something] into [something]: 0.25\n",
      " - Putting [something] onto [something]: 0.04\n",
      " - Spreading [something] onto [something]: 0.04\n",
      " - Closing [something]: 0.03\n"
     ]
    }
   ],
   "source": [
    "import torch\n",
    "import numpy as np\n",
    "\n",
    "from torchcodec.decoders import VideoDecoder\n",
    "from transformers import AutoVideoProcessor, AutoModelForVideoClassification\n",
    "\n",
    "device = \"cuda\" if torch.cuda.is_available() else \"cpu\"\n",
    "\n",
    "# Load model and video preprocessor\n",
    "hf_repo = \"facebook/vjepa2-vitl-fpc16-256-ssv2\"\n",
    "\n",
    "model = AutoModelForVideoClassification.from_pretrained(hf_repo).to(device)\n",
    "processor = AutoVideoProcessor.from_pretrained(hf_repo)\n",
    "\n",
    "# To load a video, sample the number of frames according to the model.\n",
    "video_url = \"https://huggingface.co/datasets/nateraw/kinetics-mini/resolve/main/val/bowling/-WH-lxmGJVY_000005_000015.mp4\"\n",
    "vr = VideoDecoder(video_url)\n",
    "frame_idx = np.arange(0, model.config.frames_per_clip, 8) # you can define more complex sampling strategy\n",
    "video = vr.get_frames_at(indices=frame_idx).data  # frames x channels x height x width\n",
    "\n",
    "# Preprocess and run inference\n",
    "inputs = processor(video, return_tensors=\"pt\").to(model.device)\n",
    "with torch.no_grad():\n",
    "    outputs = model(**inputs)\n",
    "logits = outputs.logits\n",
    "\n",
    "print(\"Top 5 predicted class names:\")\n",
    "top5_indices = logits.topk(5).indices[0]\n",
    "top5_probs = torch.softmax(logits, dim=-1).topk(5).values[0]\n",
    "for idx, prob in zip(top5_indices, top5_probs):\n",
    "    text_label = model.config.id2label[idx.item()]\n",
    "    print(f\" - {text_label}: {prob:.2f}\")"
   ]
  }
 ],
 "metadata": {
  "kernelspec": {
   "display_name": "hf_transformers",
   "language": "python",
   "name": "python3"
  },
  "language_info": {
   "codemirror_mode": {
    "name": "ipython",
    "version": 3
   },
   "file_extension": ".py",
   "mimetype": "text/x-python",
   "name": "python",
   "nbconvert_exporter": "python",
   "pygments_lexer": "ipython3",
   "version": "3.10.18"
  }
 },
 "nbformat": 4,
 "nbformat_minor": 5
}
