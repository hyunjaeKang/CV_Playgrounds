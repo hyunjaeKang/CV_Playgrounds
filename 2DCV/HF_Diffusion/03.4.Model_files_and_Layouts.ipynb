{
 "cells": [
  {
   "cell_type": "markdown",
   "id": "fc73e84a",
   "metadata": {},
   "source": [
    "# Model files and layouts\n",
    "- Ref: https://huggingface.co/docs/diffusers/v0.34.0/en/using-diffusers/other-formats"
   ]
  },
  {
   "cell_type": "code",
   "execution_count": null,
   "id": "c5919cc2",
   "metadata": {},
   "outputs": [],
   "source": [
    "#@title\n",
    "import torch\n",
    "cpu_use = False\n",
    "if torch.backends.mps.is_available():\n",
    "    t_device = torch.device(\"mps\")\n",
    "    s_device = \"mps\"\n",
    "    print(f\"Current memory allocated on MPS: {torch.mps.current_allocated_memory()} bytes\")\n",
    "    print(f\"Driver memory allocated on MPS: {torch.mps.driver_allocated_memory()} bytes\")\n",
    "elif torch.cuda.is_available():\n",
    "    t_device = torch.device(\"cuda\")\n",
    "    s_device = \"cuda\"\n",
    "else:\n",
    "    t_device = torch.device(\"cpu\")\n",
    "    s_device = \"cpu\"\n",
    "    cpu_use = True\n",
    "print(t_device)"
   ]
  },
  {
   "cell_type": "markdown",
   "id": "1343705a",
   "metadata": {},
   "source": [
    "## 1. Files\n"
   ]
  },
  {
   "cell_type": "markdown",
   "id": "67a0518e",
   "metadata": {},
   "source": [
    "### 1.1. safetensors"
   ]
  },
  {
   "cell_type": "code",
   "execution_count": null,
   "id": "67e43f81",
   "metadata": {},
   "outputs": [],
   "source": [
    "from diffusers import DiffusionPipeline\n",
    "\n",
    "pipeline = DiffusionPipeline.from_pretrained(\n",
    "    \"stable-diffusion-v1-5/stable-diffusion-v1-5\",\n",
    "    use_safetensors=True\n",
    ")"
   ]
  },
  {
   "cell_type": "code",
   "execution_count": null,
   "id": "f1beabe0",
   "metadata": {},
   "outputs": [],
   "source": [
    "from diffusers import StableDiffusionPipeline\n",
    "\n",
    "pipeline = StableDiffusionPipeline.from_single_file(\n",
    "    \"https://huggingface.co/WarriorMama777/OrangeMixs/blob/main/Models/AbyssOrangeMix/AbyssOrangeMix.safetensors\"\n",
    ")"
   ]
  },
  {
   "cell_type": "markdown",
   "id": "c326f820",
   "metadata": {},
   "source": [
    "#### 1.1.1 LoRA files"
   ]
  },
  {
   "cell_type": "code",
   "execution_count": null,
   "id": "b16a283a",
   "metadata": {},
   "outputs": [],
   "source": [
    "from diffusers import StableDiffusionXLPipeline\n",
    "import torch\n",
    "\n",
    "# base model\n",
    "pipeline = StableDiffusionXLPipeline.from_pretrained(\n",
    "    \"Lykon/dreamshaper-xl-1-0\", torch_dtype=torch.float16, variant=\"fp16\"\n",
    ").to(t_device)\n",
    "\n",
    "# download LoRA weights\n",
    "! wget https://civitai.com/api/download/models/168776 -O ./temp/blueprintify.safetensors\n",
    "\n",
    "# load LoRA weights\n",
    "pipeline.load_lora_weights(\"./temp\", weight_name=\"blueprintify.safetensors\")\n",
    "prompt = \"bl3uprint, a highly detailed blueprint of the empire state building, explaining how to build all parts, many txt, blueprint grid backdrop\"\n",
    "negative_prompt = \"lowres, cropped, worst quality, low quality, normal quality, artifacts, signature, watermark, username, blurry, more than one bridge, bad architecture\"\n",
    "\n",
    "image = pipeline(\n",
    "    prompt=prompt,\n",
    "    negative_prompt=negative_prompt,\n",
    "    generator=torch.manual_seed(0),\n",
    ").images[0]\n",
    "image"
   ]
  },
  {
   "cell_type": "markdown",
   "id": "41a9f646",
   "metadata": {},
   "source": [
    "### 1.2 ckpt"
   ]
  },
  {
   "cell_type": "code",
   "execution_count": null,
   "id": "ec62d3b7",
   "metadata": {},
   "outputs": [],
   "source": [
    "# from diffusers import StableDiffusionPipeline\n",
    "\n",
    "# pipeline = StableDiffusionPipeline.from_single_file(\n",
    "#     \"https://huggingface.co/stable-diffusion-v1-5/stable-diffusion-v1-5/blob/main/v1-5-pruned.ckpt\"\n",
    "# )\n",
    "\n",
    "## Does not work"
   ]
  },
  {
   "cell_type": "markdown",
   "id": "252b916e",
   "metadata": {},
   "source": [
    "## 2. Layouts"
   ]
  },
  {
   "cell_type": "markdown",
   "id": "ffb07f96",
   "metadata": {},
   "source": [
    "### 2.1 Diffusers-multifolders\n"
   ]
  },
  {
   "cell_type": "code",
   "execution_count": null,
   "id": "0cb09902",
   "metadata": {},
   "outputs": [],
   "source": [
    "from diffusers import DiffusionPipeline\n",
    "\n",
    "pipeline = DiffusionPipeline.from_pretrained(\n",
    "    \"stabilityai/stable-diffusion-xl-base-1.0\",\n",
    "    torch_dtype=torch.float16,\n",
    "    variant=\"fp16\",\n",
    "    use_safetensors=True,\n",
    ").to(t_device)"
   ]
  },
  {
   "cell_type": "code",
   "execution_count": null,
   "id": "57730e1c",
   "metadata": {},
   "outputs": [],
   "source": [
    "import torch\n",
    "from diffusers import StableDiffusionXLPipeline, UNet2DConditionModel, EulerDiscreteScheduler\n",
    "\n",
    "# download one model\n",
    "sdxl_pipeline = StableDiffusionXLPipeline.from_pretrained(\n",
    "    \"stabilityai/stable-diffusion-xl-base-1.0\",\n",
    "    torch_dtype=torch.float16,\n",
    "    variant=\"fp16\",\n",
    "    use_safetensors=True,\n",
    ").to(t_device)\n",
    "\n",
    "# switch UNet for another model\n",
    "unet = UNet2DConditionModel.from_pretrained(\n",
    "    \"stabilityai/sdxl-turbo\",\n",
    "    subfolder=\"unet\",\n",
    "    torch_dtype=torch.float16,\n",
    "    variant=\"fp16\",\n",
    "    use_safetensors=True\n",
    ")\n",
    "# reuse all the same components in new model except for the UNet\n",
    "turbo_pipeline = StableDiffusionXLPipeline.from_pipe(\n",
    "    sdxl_pipeline, unet=unet,\n",
    ").to(t_device)\n",
    "turbo_pipeline.scheduler = EulerDiscreteScheduler.from_config(\n",
    "    turbo_pipeline.scheduler.config,\n",
    "    timestep_spacing=\"trailing\"\n",
    ")\n",
    "image = turbo_pipeline(\n",
    "    \"an astronaut riding a unicorn on mars\",\n",
    "    num_inference_steps=1,\n",
    "    guidance_scale=0.0,\n",
    ").images[0]\n",
    "image"
   ]
  },
  {
   "cell_type": "code",
   "execution_count": null,
   "id": "1cfc97b0",
   "metadata": {},
   "outputs": [],
   "source": [
    "from diffusers import DiffusionPipeline, AutoencoderKL\n",
    "\n",
    "vae = AutoencoderKL.from_pretrained(\"madebyollin/sdxl-vae-fp16-fix\", torch_dtype=torch.float16, use_safetensors=True)\n",
    "pipeline = DiffusionPipeline.from_pretrained(\n",
    "    \"stabilityai/stable-diffusion-xl-base-1.0\",\n",
    "    vae=vae,\n",
    "    torch_dtype=torch.float16,\n",
    "    variant=\"fp16\",\n",
    "    use_safetensors=True,\n",
    ").to(t_device)\n",
    "\n",
    "prompt = \"bl3uprint, a highly detailed blueprint of the empire state building, explaining how to build all parts, many txt, blueprint grid backdrop\"\n",
    "negative_prompt = \"lowres, cropped, worst quality, low quality, normal quality, artifacts, signature, watermark, username, blurry, more than one bridge, bad architecture\"\n",
    "\n",
    "image = pipeline(\n",
    "    prompt=prompt,\n",
    "    negative_prompt=negative_prompt,\n",
    "    generator=torch.manual_seed(0),\n",
    ").images[0]\n",
    "image"
   ]
  },
  {
   "cell_type": "markdown",
   "id": "19cd4291",
   "metadata": {},
   "source": [
    "### 2.2 Single file"
   ]
  },
  {
   "cell_type": "code",
   "execution_count": null,
   "id": "f8b2971c",
   "metadata": {},
   "outputs": [],
   "source": [
    "import torch\n",
    "from diffusers import StableDiffusionXLPipeline\n",
    "\n",
    "pipeline = StableDiffusionXLPipeline.from_single_file(\n",
    "    \"https://huggingface.co/stabilityai/stable-diffusion-xl-base-1.0/blob/main/sd_xl_base_1.0.safetensors\",\n",
    "    torch_dtype=torch.float16,\n",
    "    variant=\"fp16\",\n",
    "    use_safetensors=True,\n",
    ").to(t_device)\n",
    "\n",
    "image = pipeline(\n",
    "    prompt=prompt,\n",
    "    negative_prompt=negative_prompt,\n",
    "    generator=torch.manual_seed(0),\n",
    ").images[0]\n",
    "image"
   ]
  },
  {
   "cell_type": "markdown",
   "id": "52cf995f",
   "metadata": {},
   "source": [
    "### 2.3 DDUF"
   ]
  },
  {
   "cell_type": "code",
   "execution_count": null,
   "id": "65cb54c5",
   "metadata": {},
   "outputs": [],
   "source": [
    "from diffusers import DiffusionPipeline\n",
    "import torch\n",
    "\n",
    "pipe = DiffusionPipeline.from_pretrained(\n",
    "    \"DDUF/FLUX.1-dev-DDUF\", dduf_file=\"FLUX.1-dev.dduf\", torch_dtype=torch.bfloat16\n",
    ").to(t_device)\n"
   ]
  },
  {
   "cell_type": "code",
   "execution_count": null,
   "id": "8495a6f4",
   "metadata": {},
   "outputs": [],
   "source": [
    "image = pipe(\n",
    "    \"photo a cat holding a sign that says Diffusers\", num_inference_steps=50, guidance_scale=3.5\n",
    ").images[0]\n",
    "image"
   ]
  },
  {
   "cell_type": "code",
   "execution_count": null,
   "id": "41cd4e36",
   "metadata": {},
   "outputs": [],
   "source": [
    "# from huggingface_hub import export_folder_as_dduf\n",
    "# from diffusers import DiffusionPipeline\n",
    "# import torch\n",
    "\n",
    "# pipe = DiffusionPipeline.from_pretrained(\"black-forest-labs/FLUX.1-dev\", torch_dtype=torch.bfloat16)\n",
    "\n",
    "# save_folder = \"./temp/flux-dev\"\n",
    "# pipe.save_pretrained(\"./temp/flux-dev\")\n",
    "# export_folder_as_dduf(\"./temp/flux-dev.dduf\", folder_path=save_folder)\n",
    "\n"
   ]
  },
  {
   "cell_type": "code",
   "execution_count": null,
   "id": "cab029a7",
   "metadata": {},
   "outputs": [],
   "source": [
    "# from diffusers import StableDiffusionXLPipeline\n",
    "\n",
    "# pipeline = StableDiffusionXLPipeline.from_single_file(\n",
    "#     \"https://huggingface.co/stabilityai/stable-diffusion-xl-base-1.0/blob/main/sd_xl_base_1.0.safetensors\",\n",
    "# )\n",
    "# pipeline.save_pretrained()\n",
    "\n",
    "# Does not work"
   ]
  },
  {
   "cell_type": "markdown",
   "id": "327a7848",
   "metadata": {},
   "source": [
    "## 3. Single-file layout usage"
   ]
  },
  {
   "cell_type": "markdown",
   "id": "bd5572a8",
   "metadata": {},
   "source": [
    "#### 3.1 Load a pipeline or model"
   ]
  },
  {
   "cell_type": "code",
   "execution_count": null,
   "id": "cc40735c",
   "metadata": {},
   "outputs": [],
   "source": [
    "from diffusers import StableDiffusionXLPipeline\n",
    "\n",
    "ckpt_path = \"https://huggingface.co/stabilityai/stable-diffusion-xl-base-1.0/blob/main/sd_xl_base_1.0_0.9vae.safetensors\"\n",
    "pipeline = StableDiffusionXLPipeline.from_single_file(ckpt_path)"
   ]
  },
  {
   "cell_type": "code",
   "execution_count": null,
   "id": "98023589",
   "metadata": {},
   "outputs": [],
   "source": [
    "from diffusers import StableCascadeUNet\n",
    "\n",
    "ckpt_path = \"https://huggingface.co/stabilityai/stable-cascade/blob/main/stage_b_lite.safetensors\"\n",
    "model = StableCascadeUNet.from_single_file(ckpt_path)"
   ]
  },
  {
   "cell_type": "code",
   "execution_count": null,
   "id": "91456ada",
   "metadata": {},
   "outputs": [],
   "source": [
    "from diffusers import StableDiffusionXLPipeline, DDIMScheduler\n",
    "\n",
    "ckpt_path = \"https://huggingface.co/stabilityai/stable-diffusion-xl-base-1.0/blob/main/sd_xl_base_1.0_0.9vae.safetensors\"\n",
    "scheduler = DDIMScheduler()\n",
    "pipeline = StableDiffusionXLPipeline.from_single_file(ckpt_path, scheduler=scheduler)"
   ]
  },
  {
   "cell_type": "code",
   "execution_count": null,
   "id": "1589c097",
   "metadata": {},
   "outputs": [],
   "source": [
    "from diffusers import StableDiffusionControlNetPipeline, ControlNetModel\n",
    "\n",
    "ckpt_path = \"https://huggingface.co/stable-diffusion-v1-5/stable-diffusion-v1-5/blob/main/v1-5-pruned-emaonly.safetensors\"\n",
    "controlnet = ControlNetModel.from_pretrained(\"lllyasviel/control_v11p_sd15_canny\")\n",
    "pipeline = StableDiffusionControlNetPipeline.from_single_file(ckpt_path, controlnet=controlnet)"
   ]
  },
  {
   "cell_type": "markdown",
   "id": "40ac8db2",
   "metadata": {},
   "source": [
    "#### 3.2 Customize configuration options"
   ]
  },
  {
   "cell_type": "code",
   "execution_count": null,
   "id": "75f31509",
   "metadata": {},
   "outputs": [],
   "source": [
    "from diffusers import StableDiffusionXLPipeline\n",
    "\n",
    "ckpt_path = \"https://huggingface.co/segmind/SSD-1B/blob/main/SSD-1B.safetensors\"\n",
    "repo_id = \"segmind/SSD-1B\"\n",
    "\n",
    "pipeline = StableDiffusionXLPipeline.from_single_file(ckpt_path, config=repo_id)"
   ]
  },
  {
   "cell_type": "code",
   "execution_count": null,
   "id": "bfd3368b",
   "metadata": {},
   "outputs": [],
   "source": [
    "from diffusers import StableDiffusionXLPipeline\n",
    "\n",
    "ckpt_path = \"https://huggingface.co/stabilityai/stable-diffusion-xl-base-1.0/blob/main/sd_xl_base_1.0_0.9vae.safetensors\"\n",
    "original_config = \"https://raw.githubusercontent.com/Stability-AI/generative-models/main/configs/inference/sd_xl_base.yaml\"\n",
    "\n",
    "pipeline = StableDiffusionXLPipeline.from_single_file(ckpt_path, original_config=original_config)"
   ]
  },
  {
   "cell_type": "code",
   "execution_count": null,
   "id": "2c30f328",
   "metadata": {},
   "outputs": [],
   "source": [
    "# from diffusers import StableDiffusionXLInstructPix2PixPipeline\n",
    "\n",
    "# ckpt_path = \"https://huggingface.co/stabilityai/cosxl/blob/main/cosxl_edit.safetensors\"\n",
    "# pipeline = StableDiffusionXLInstructPix2PixPipeline.from_single_file(ckpt_path, config=\"diffusers/sdxl-instructpix2pix-768\", is_cosxl_edit=True)\n",
    "\n",
    "# Web address is not available"
   ]
  },
  {
   "cell_type": "code",
   "execution_count": null,
   "id": "440a3e3f",
   "metadata": {},
   "outputs": [],
   "source": [
    "from diffusers import UNet2DConditionModel\n",
    "\n",
    "ckpt_path = \"https://huggingface.co/stabilityai/stable-diffusion-xl-base-1.0/blob/main/sd_xl_base_1.0_0.9vae.safetensors\"\n",
    "model = UNet2DConditionModel.from_single_file(ckpt_path, upcast_attention=True)"
   ]
  },
  {
   "cell_type": "markdown",
   "id": "72b271b0",
   "metadata": {},
   "source": [
    "#### 3.3 Local files"
   ]
  },
  {
   "cell_type": "code",
   "execution_count": null,
   "id": "7f176b33",
   "metadata": {},
   "outputs": [],
   "source": [
    "from huggingface_hub import hf_hub_download, snapshot_download\n",
    "\n",
    "my_local_checkpoint_path = hf_hub_download(\n",
    "    repo_id=\"segmind/SSD-1B\",\n",
    "    filename=\"SSD-1B.safetensors\"\n",
    ")\n",
    "\n",
    "my_local_config_path = snapshot_download(\n",
    "    repo_id=\"segmind/SSD-1B\",\n",
    "    allow_patterns=[\"*.json\", \"**/*.json\", \"*.txt\", \"**/*.txt\"]\n",
    ")\n",
    "\n",
    "pipeline = StableDiffusionXLPipeline.from_single_file(my_local_checkpoint_path, config=my_local_config_path, local_files_only=True)"
   ]
  },
  {
   "cell_type": "code",
   "execution_count": null,
   "id": "0afd56cf",
   "metadata": {},
   "outputs": [],
   "source": [
    "from huggingface_hub import hf_hub_download, snapshot_download\n",
    "\n",
    "my_local_checkpoints = \"./temp/my_local_checkpoints\"\n",
    "my_local_checkpoint_path = hf_hub_download(\n",
    "    repo_id=\"segmind/SSD-1B\",\n",
    "    filename=\"SSD-1B.safetensors\",\n",
    "    local_dir=my_local_checkpoints,\n",
    "    local_dir_use_symlinks=False\n",
    ")\n",
    "print(\"My local checkpoint: \", my_local_checkpoint_path)\n",
    "\n",
    "my_local_config_path = snapshot_download(\n",
    "    repo_id=\"segmind/SSD-1B\",\n",
    "    allow_patterns=[\"*.json\", \"**/*.json\", \"*.txt\", \"**/*.txt\"],\n",
    "    local_dir_use_symlinks=False,\n",
    ")\n",
    "print(\"My local config: \", my_local_config_path)"
   ]
  },
  {
   "cell_type": "code",
   "execution_count": null,
   "id": "1f0311a4",
   "metadata": {},
   "outputs": [],
   "source": [
    "pipeline = StableDiffusionXLPipeline.from_single_file(my_local_checkpoint_path, config=my_local_config_path, local_files_only=True)"
   ]
  },
  {
   "cell_type": "code",
   "execution_count": null,
   "id": "5fa301fc",
   "metadata": {},
   "outputs": [],
   "source": []
  }
 ],
 "metadata": {
  "kernelspec": {
   "display_name": "2025_drills",
   "language": "python",
   "name": "python3"
  },
  "language_info": {
   "codemirror_mode": {
    "name": "ipython",
    "version": 3
   },
   "file_extension": ".py",
   "mimetype": "text/x-python",
   "name": "python",
   "nbconvert_exporter": "python",
   "pygments_lexer": "ipython3",
   "version": "3.10.16"
  }
 },
 "nbformat": 4,
 "nbformat_minor": 5
}
