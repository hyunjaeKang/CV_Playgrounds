{
 "cells": [
  {
   "cell_type": "markdown",
   "id": "fc73e84a",
   "metadata": {},
   "source": [
    "# Push files to the Hub\n",
    "- Ref: https://huggingface.co/docs/diffusers/v0.34.0/en/using-diffusers/push_to_hub"
   ]
  },
  {
   "cell_type": "code",
   "execution_count": 1,
   "id": "c5919cc2",
   "metadata": {},
   "outputs": [
    {
     "name": "stdout",
     "output_type": "stream",
     "text": [
      "Current memory allocated on MPS: 0 bytes\n",
      "Driver memory allocated on MPS: 393216 bytes\n",
      "mps\n"
     ]
    }
   ],
   "source": [
    "#@title\n",
    "import torch\n",
    "cpu_use = False\n",
    "if torch.backends.mps.is_available():\n",
    "    t_device = torch.device(\"mps\")\n",
    "    s_device = \"mps\"\n",
    "    print(f\"Current memory allocated on MPS: {torch.mps.current_allocated_memory()} bytes\")\n",
    "    print(f\"Driver memory allocated on MPS: {torch.mps.driver_allocated_memory()} bytes\")\n",
    "elif torch.cuda.is_available():\n",
    "    t_device = torch.device(\"cuda\")\n",
    "    s_device = \"cuda\"\n",
    "else:\n",
    "    t_device = torch.device(\"cpu\")\n",
    "    s_device = \"cpu\"\n",
    "    cpu_use = True\n",
    "print(t_device)"
   ]
  },
  {
   "cell_type": "code",
   "execution_count": 3,
   "id": "5fa301fc",
   "metadata": {},
   "outputs": [
    {
     "data": {
      "application/vnd.jupyter.widget-view+json": {
       "model_id": "27799e6086bc4e0ea311ac53f42b10a0",
       "version_major": 2,
       "version_minor": 0
      },
      "text/plain": [
       "VBox(children=(HTML(value='<center> <img\\nsrc=https://huggingface.co/front/assets/huggingface_logo-noborder.sv…"
      ]
     },
     "metadata": {},
     "output_type": "display_data"
    }
   ],
   "source": [
    "from huggingface_hub import notebook_login\n",
    "\n",
    "notebook_login()"
   ]
  },
  {
   "cell_type": "markdown",
   "id": "76be69fe",
   "metadata": {},
   "source": [
    "## 1. Models\n"
   ]
  },
  {
   "cell_type": "code",
   "execution_count": 4,
   "id": "3e25f864",
   "metadata": {},
   "outputs": [
    {
     "name": "stderr",
     "output_type": "stream",
     "text": [
      "/Users/hyunjae.k/anaconda3/envs/2025_drills/lib/python3.10/site-packages/bitsandbytes/cextension.py:34: UserWarning: The installed version of bitsandbytes was compiled without GPU support. 8-bit optimizers, 8-bit multiplication, and GPU quantization are unavailable.\n",
      "  warn(\"The installed version of bitsandbytes was compiled without GPU support. \"\n"
     ]
    },
    {
     "name": "stdout",
     "output_type": "stream",
     "text": [
      "'NoneType' object has no attribute 'cadam32bit_grad_fp32'\n"
     ]
    },
    {
     "data": {
      "application/vnd.jupyter.widget-view+json": {
       "model_id": "a2ebb6b3a82d4a60bca1f1089b6ad3dd",
       "version_major": 2,
       "version_minor": 0
      },
      "text/plain": [
       "diffusion_pytorch_model.safetensors:   0%|          | 0.00/2.76M [00:00<?, ?B/s]"
      ]
     },
     "metadata": {},
     "output_type": "display_data"
    },
    {
     "data": {
      "text/plain": [
       "CommitInfo(commit_url='https://huggingface.co/hyunjae-kang318/my-controlnet-model/commit/0a75b0400c06c2682292023f463da604cac0de02', commit_message='Upload model', commit_description='', oid='0a75b0400c06c2682292023f463da604cac0de02', pr_url=None, repo_url=RepoUrl('https://huggingface.co/hyunjae-kang318/my-controlnet-model', endpoint='https://huggingface.co', repo_type='model', repo_id='hyunjae-kang318/my-controlnet-model'), pr_revision=None, pr_num=None)"
      ]
     },
     "execution_count": 4,
     "metadata": {},
     "output_type": "execute_result"
    }
   ],
   "source": [
    "from diffusers import ControlNetModel\n",
    "\n",
    "controlnet = ControlNetModel(\n",
    "    block_out_channels=(32, 64),\n",
    "    layers_per_block=2,\n",
    "    in_channels=4,\n",
    "    down_block_types=(\"DownBlock2D\", \"CrossAttnDownBlock2D\"),\n",
    "    cross_attention_dim=32,\n",
    "    conditioning_embedding_out_channels=(16, 32),\n",
    ")\n",
    "controlnet.push_to_hub(\"my-controlnet-model\")"
   ]
  },
  {
   "cell_type": "code",
   "execution_count": 5,
   "id": "76bfeb72",
   "metadata": {},
   "outputs": [
    {
     "data": {
      "application/vnd.jupyter.widget-view+json": {
       "model_id": "8ab99b1d53a743d7a7e4c574618f6e6b",
       "version_major": 2,
       "version_minor": 0
      },
      "text/plain": [
       "README.md: 0.00B [00:00, ?B/s]"
      ]
     },
     "metadata": {},
     "output_type": "display_data"
    },
    {
     "data": {
      "text/plain": [
       "CommitInfo(commit_url='https://huggingface.co/hyunjae-kang318/my-controlnet-model/commit/200d9fc328f0f1b5096a92e89b8541808b1481a0', commit_message='Upload model', commit_description='', oid='200d9fc328f0f1b5096a92e89b8541808b1481a0', pr_url=None, repo_url=RepoUrl('https://huggingface.co/hyunjae-kang318/my-controlnet-model', endpoint='https://huggingface.co', repo_type='model', repo_id='hyunjae-kang318/my-controlnet-model'), pr_revision=None, pr_num=None)"
      ]
     },
     "execution_count": 5,
     "metadata": {},
     "output_type": "execute_result"
    }
   ],
   "source": [
    "controlnet.push_to_hub(\"my-controlnet-model\", variant=\"fp16\")"
   ]
  },
  {
   "cell_type": "code",
   "execution_count": 13,
   "id": "fdf53d60",
   "metadata": {},
   "outputs": [],
   "source": [
    "model = ControlNetModel.from_pretrained(\"hyunjae-kang318/my-controlnet-model\")\n"
   ]
  },
  {
   "cell_type": "markdown",
   "id": "cfbe1fbe",
   "metadata": {},
   "source": [
    "## 2. Scheduler"
   ]
  },
  {
   "cell_type": "code",
   "execution_count": 17,
   "id": "a1ab1463",
   "metadata": {},
   "outputs": [
    {
     "data": {
      "application/vnd.jupyter.widget-view+json": {
       "model_id": "84c1da613132405ea3841cf805437aa5",
       "version_major": 2,
       "version_minor": 0
      },
      "text/plain": [
       "README.md: 0.00B [00:00, ?B/s]"
      ]
     },
     "metadata": {},
     "output_type": "display_data"
    },
    {
     "name": "stderr",
     "output_type": "stream",
     "text": [
      "No files have been modified since last commit. Skipping to prevent empty commit.\n"
     ]
    },
    {
     "data": {
      "text/plain": [
       "CommitInfo(commit_url='https://huggingface.co/hyunjae-kang318/my-controlnet-scheduler/commit/3801d50498f6fa831acc2555bc0be7b4d15648b3', commit_message='Upload scheduler', commit_description='', oid='3801d50498f6fa831acc2555bc0be7b4d15648b3', pr_url=None, repo_url=RepoUrl('https://huggingface.co/hyunjae-kang318/my-controlnet-scheduler', endpoint='https://huggingface.co', repo_type='model', repo_id='hyunjae-kang318/my-controlnet-scheduler'), pr_revision=None, pr_num=None)"
      ]
     },
     "execution_count": 17,
     "metadata": {},
     "output_type": "execute_result"
    }
   ],
   "source": [
    "from diffusers import DDIMScheduler\n",
    "\n",
    "scheduler = DDIMScheduler(\n",
    "    beta_start=0.00085,\n",
    "    beta_end=0.012,\n",
    "    beta_schedule=\"scaled_linear\",\n",
    "    clip_sample=False,\n",
    "    set_alpha_to_one=False,\n",
    ")\n",
    "scheduler.push_to_hub(\"my-controlnet-scheduler\")"
   ]
  },
  {
   "cell_type": "code",
   "execution_count": 18,
   "id": "3c84179e",
   "metadata": {},
   "outputs": [
    {
     "data": {
      "application/vnd.jupyter.widget-view+json": {
       "model_id": "eb920e802f4547c2b6e378be057ce33f",
       "version_major": 2,
       "version_minor": 0
      },
      "text/plain": [
       "scheduler_config.json:   0%|          | 0.00/502 [00:00<?, ?B/s]"
      ]
     },
     "metadata": {},
     "output_type": "display_data"
    }
   ],
   "source": [
    "scheduler = DDIMScheduler.from_pretrained(\"hyunjae-kang318/my-controlnet-scheduler\")"
   ]
  },
  {
   "cell_type": "markdown",
   "id": "54812fdb",
   "metadata": {},
   "source": [
    "## 3. Pipeline"
   ]
  },
  {
   "cell_type": "code",
   "execution_count": 19,
   "id": "25ab7a65",
   "metadata": {},
   "outputs": [
    {
     "data": {
      "application/vnd.jupyter.widget-view+json": {
       "model_id": "a53de7c5dc0647b4a983c242bdac2fb2",
       "version_major": 2,
       "version_minor": 0
      },
      "text/plain": [
       "tokenizer_config.json:   0%|          | 0.00/847 [00:00<?, ?B/s]"
      ]
     },
     "metadata": {},
     "output_type": "display_data"
    },
    {
     "data": {
      "application/vnd.jupyter.widget-view+json": {
       "model_id": "316812a4403d44e4985889ded3d1ac7e",
       "version_major": 2,
       "version_minor": 0
      },
      "text/plain": [
       "vocab.json: 0.00B [00:00, ?B/s]"
      ]
     },
     "metadata": {},
     "output_type": "display_data"
    },
    {
     "data": {
      "application/vnd.jupyter.widget-view+json": {
       "model_id": "6c21072029df4c938fdd5b0a3a332f9a",
       "version_major": 2,
       "version_minor": 0
      },
      "text/plain": [
       "merges.txt: 0.00B [00:00, ?B/s]"
      ]
     },
     "metadata": {},
     "output_type": "display_data"
    },
    {
     "data": {
      "application/vnd.jupyter.widget-view+json": {
       "model_id": "b98dbd4052e945258c3772e27aa60acc",
       "version_major": 2,
       "version_minor": 0
      },
      "text/plain": [
       "special_tokens_map.json:   0%|          | 0.00/389 [00:00<?, ?B/s]"
      ]
     },
     "metadata": {},
     "output_type": "display_data"
    },
    {
     "data": {
      "application/vnd.jupyter.widget-view+json": {
       "model_id": "6d04c53940334cf1b317c38b0425cf87",
       "version_major": 2,
       "version_minor": 0
      },
      "text/plain": [
       "tokenizer.json: 0.00B [00:00, ?B/s]"
      ]
     },
     "metadata": {},
     "output_type": "display_data"
    }
   ],
   "source": [
    "from diffusers import (\n",
    "    UNet2DConditionModel,\n",
    "    AutoencoderKL,\n",
    "    DDIMScheduler,\n",
    "    StableDiffusionPipeline,\n",
    ")\n",
    "from transformers import CLIPTextModel, CLIPTextConfig, CLIPTokenizer\n",
    "\n",
    "unet = UNet2DConditionModel(\n",
    "    block_out_channels=(32, 64),\n",
    "    layers_per_block=2,\n",
    "    sample_size=32,\n",
    "    in_channels=4,\n",
    "    out_channels=4,\n",
    "    down_block_types=(\"DownBlock2D\", \"CrossAttnDownBlock2D\"),\n",
    "    up_block_types=(\"CrossAttnUpBlock2D\", \"UpBlock2D\"),\n",
    "    cross_attention_dim=32,\n",
    ")\n",
    "\n",
    "scheduler = DDIMScheduler(\n",
    "    beta_start=0.00085,\n",
    "    beta_end=0.012,\n",
    "    beta_schedule=\"scaled_linear\",\n",
    "    clip_sample=False,\n",
    "    set_alpha_to_one=False,\n",
    ")\n",
    "\n",
    "vae = AutoencoderKL(\n",
    "    block_out_channels=[32, 64],\n",
    "    in_channels=3,\n",
    "    out_channels=3,\n",
    "    down_block_types=[\"DownEncoderBlock2D\", \"DownEncoderBlock2D\"],\n",
    "    up_block_types=[\"UpDecoderBlock2D\", \"UpDecoderBlock2D\"],\n",
    "    latent_channels=4,\n",
    ")\n",
    "\n",
    "text_encoder_config = CLIPTextConfig(\n",
    "    bos_token_id=0,\n",
    "    eos_token_id=2,\n",
    "    hidden_size=32,\n",
    "    intermediate_size=37,\n",
    "    layer_norm_eps=1e-05,\n",
    "    num_attention_heads=4,\n",
    "    num_hidden_layers=5,\n",
    "    pad_token_id=1,\n",
    "    vocab_size=1000,\n",
    ")\n",
    "text_encoder = CLIPTextModel(text_encoder_config)\n",
    "tokenizer = CLIPTokenizer.from_pretrained(\"hf-internal-testing/tiny-random-clip\")"
   ]
  },
  {
   "cell_type": "code",
   "execution_count": 20,
   "id": "6629001c",
   "metadata": {},
   "outputs": [
    {
     "name": "stderr",
     "output_type": "stream",
     "text": [
      "/Users/hyunjae.k/anaconda3/envs/2025_drills/lib/python3.10/site-packages/diffusers/pipelines/stable_diffusion/pipeline_stable_diffusion.py:223: FutureWarning: The configuration file of this scheduler: DDIMScheduler {\n",
      "  \"_class_name\": \"DDIMScheduler\",\n",
      "  \"_diffusers_version\": \"0.34.0\",\n",
      "  \"beta_end\": 0.012,\n",
      "  \"beta_schedule\": \"scaled_linear\",\n",
      "  \"beta_start\": 0.00085,\n",
      "  \"clip_sample\": false,\n",
      "  \"clip_sample_range\": 1.0,\n",
      "  \"dynamic_thresholding_ratio\": 0.995,\n",
      "  \"num_train_timesteps\": 1000,\n",
      "  \"prediction_type\": \"epsilon\",\n",
      "  \"rescale_betas_zero_snr\": false,\n",
      "  \"sample_max_value\": 1.0,\n",
      "  \"set_alpha_to_one\": false,\n",
      "  \"steps_offset\": 0,\n",
      "  \"thresholding\": false,\n",
      "  \"timestep_spacing\": \"leading\",\n",
      "  \"trained_betas\": null\n",
      "}\n",
      " is outdated. `steps_offset` should be set to 1 instead of 0. Please make sure to update the config accordingly as leaving `steps_offset` might led to incorrect results in future versions. If you have downloaded this checkpoint from the Hugging Face Hub, it would be very nice if you could open a Pull request for the `scheduler/scheduler_config.json` file\n",
      "  deprecate(\"steps_offset!=1\", \"1.0.0\", deprecation_message, standard_warn=False)\n",
      "You have disabled the safety checker for <class 'diffusers.pipelines.stable_diffusion.pipeline_stable_diffusion.StableDiffusionPipeline'> by passing `safety_checker=None`. Ensure that you abide to the conditions of the Stable Diffusion license and do not expose unfiltered results in services or applications open to the public. Both the diffusers team and Hugging Face strongly recommend to keep the safety filter enabled in all public facing circumstances, disabling it only for use-cases that involve analyzing network behavior or auditing its results. For more information, please have a look at https://github.com/huggingface/diffusers/pull/254 .\n"
     ]
    },
    {
     "data": {
      "application/vnd.jupyter.widget-view+json": {
       "model_id": "958d215a254a4696be03976b5a9acc5d",
       "version_major": 2,
       "version_minor": 0
      },
      "text/plain": [
       "model.safetensors:   0%|          | 0.00/283k [00:00<?, ?B/s]"
      ]
     },
     "metadata": {},
     "output_type": "display_data"
    },
    {
     "data": {
      "application/vnd.jupyter.widget-view+json": {
       "model_id": "a1f68b5302f3478db8d470b0a1b6446a",
       "version_major": 2,
       "version_minor": 0
      },
      "text/plain": [
       "Upload 3 LFS files:   0%|          | 0/3 [00:00<?, ?it/s]"
      ]
     },
     "metadata": {},
     "output_type": "display_data"
    },
    {
     "data": {
      "application/vnd.jupyter.widget-view+json": {
       "model_id": "4f4f5e1be0da4adfbf11de7e445dfcb2",
       "version_major": 2,
       "version_minor": 0
      },
      "text/plain": [
       "diffusion_pytorch_model.safetensors:   0%|          | 0.00/5.74M [00:00<?, ?B/s]"
      ]
     },
     "metadata": {},
     "output_type": "display_data"
    },
    {
     "data": {
      "application/vnd.jupyter.widget-view+json": {
       "model_id": "6073125c2acf4583b1319eb4704b7b50",
       "version_major": 2,
       "version_minor": 0
      },
      "text/plain": [
       "diffusion_pytorch_model.safetensors:   0%|          | 0.00/2.65M [00:00<?, ?B/s]"
      ]
     },
     "metadata": {},
     "output_type": "display_data"
    },
    {
     "data": {
      "text/plain": [
       "CommitInfo(commit_url='https://huggingface.co/hyunjae-kang318/my-pipeline/commit/a6910bf22212d2ec90391509361b9e40923204a6', commit_message='Upload StableDiffusionPipeline', commit_description='', oid='a6910bf22212d2ec90391509361b9e40923204a6', pr_url=None, repo_url=RepoUrl('https://huggingface.co/hyunjae-kang318/my-pipeline', endpoint='https://huggingface.co', repo_type='model', repo_id='hyunjae-kang318/my-pipeline'), pr_revision=None, pr_num=None)"
      ]
     },
     "execution_count": 20,
     "metadata": {},
     "output_type": "execute_result"
    }
   ],
   "source": [
    "components = {\n",
    "    \"unet\": unet,\n",
    "    \"scheduler\": scheduler,\n",
    "    \"vae\": vae,\n",
    "    \"text_encoder\": text_encoder,\n",
    "    \"tokenizer\": tokenizer,\n",
    "    \"safety_checker\": None,\n",
    "    \"feature_extractor\": None,\n",
    "}\n",
    "\n",
    "pipeline = StableDiffusionPipeline(**components)\n",
    "pipeline.push_to_hub(\"my-pipeline\")"
   ]
  },
  {
   "cell_type": "code",
   "execution_count": 24,
   "id": "3f515e6a",
   "metadata": {},
   "outputs": [
    {
     "data": {
      "application/vnd.jupyter.widget-view+json": {
       "model_id": "d7a234b6ee3a4766ab1403a6e426c77c",
       "version_major": 2,
       "version_minor": 0
      },
      "text/plain": [
       "  0%|          | 0/50 [00:00<?, ?it/s]"
      ]
     },
     "metadata": {},
     "output_type": "display_data"
    },
    {
     "data": {
      "image/jpeg": "[encoded data removed]",
      "image/png": "[encoded data removed]",
      "text/plain": [
       "<PIL.Image.Image image mode=RGB size=64x64>"
      ]
     },
     "execution_count": 24,
     "metadata": {},
     "output_type": "execute_result"
    }
   ],
   "source": [
    "prompt = \"Astronaut in a jungle, cold color palette, muted colors, detailed, 8k\"\n",
    "image = pipeline(prompt).images[0]\n",
    "image"
   ]
  },
  {
   "cell_type": "code",
   "execution_count": 23,
   "id": "22beaad3",
   "metadata": {},
   "outputs": [
    {
     "data": {
      "application/vnd.jupyter.widget-view+json": {
       "model_id": "d9adf05383c1497fac29f2870a2c03c7",
       "version_major": 2,
       "version_minor": 0
      },
      "text/plain": [
       "Loading pipeline components...:   0%|          | 0/5 [00:00<?, ?it/s]"
      ]
     },
     "metadata": {},
     "output_type": "display_data"
    },
    {
     "name": "stderr",
     "output_type": "stream",
     "text": [
      "You have disabled the safety checker for <class 'diffusers.pipelines.stable_diffusion.pipeline_stable_diffusion.StableDiffusionPipeline'> by passing `safety_checker=None`. Ensure that you abide to the conditions of the Stable Diffusion license and do not expose unfiltered results in services or applications open to the public. Both the diffusers team and Hugging Face strongly recommend to keep the safety filter enabled in all public facing circumstances, disabling it only for use-cases that involve analyzing network behavior or auditing its results. For more information, please have a look at https://github.com/huggingface/diffusers/pull/254 .\n"
     ]
    },
    {
     "data": {
      "application/vnd.jupyter.widget-view+json": {
       "model_id": "b668ab50121e48358a88cbe44bd90d88",
       "version_major": 2,
       "version_minor": 0
      },
      "text/plain": [
       "  0%|          | 0/50 [00:00<?, ?it/s]"
      ]
     },
     "metadata": {},
     "output_type": "display_data"
    },
    {
     "data": {
      "image/jpeg": "[encoded data removed]",
      "image/png": "[encoded data removed]",
      "text/plain": [
       "<PIL.Image.Image image mode=RGB size=64x64>"
      ]
     },
     "execution_count": 23,
     "metadata": {},
     "output_type": "execute_result"
    }
   ],
   "source": [
    "from diffusers import DiffusionPipeline\n",
    "\n",
    "pipe = DiffusionPipeline.from_pretrained(\"hyunjae-kang318/my-pipeline\")\n",
    "\n",
    "prompt = \"Astronaut in a jungle, cold color palette, muted colors, detailed, 8k\"\n",
    "image = pipe(prompt).images[0]\n",
    "image"
   ]
  },
  {
   "cell_type": "code",
   "execution_count": null,
   "id": "fe7253a9",
   "metadata": {},
   "outputs": [],
   "source": []
  }
 ],
 "metadata": {
  "kernelspec": {
   "display_name": "2025_drills",
   "language": "python",
   "name": "python3"
  },
  "language_info": {
   "codemirror_mode": {
    "name": "ipython",
    "version": 3
   },
   "file_extension": ".py",
   "mimetype": "text/x-python",
   "name": "python",
   "nbconvert_exporter": "python",
   "pygments_lexer": "ipython3",
   "version": "3.10.16"
  }
 },
 "nbformat": 4,
 "nbformat_minor": 5
}
