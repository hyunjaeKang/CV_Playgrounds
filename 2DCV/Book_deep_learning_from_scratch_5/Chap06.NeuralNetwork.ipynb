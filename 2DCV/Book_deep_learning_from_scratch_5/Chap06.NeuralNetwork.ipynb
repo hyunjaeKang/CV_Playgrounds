{
  "cells": [
    {
      "cell_type": "markdown",
      "metadata": {
        "id": "lkoBQxt21har"
      },
      "source": [
        "## Chap 6. Neural Network\n",
        "\n",
        "----\n",
        "\n",
        "Conda env : [cv_playgrounds](../../../README.md#setup-a-conda-environment)\n",
        "\n",
        "----"
      ]
    },
    {
      "cell_type": "code",
      "execution_count": null,
      "metadata": {
        "cellView": "form",
        "colab": {
          "base_uri": "https://localhost:8080/"
        },
        "id": "djrZJmUrSOKy",
        "outputId": "0d617dd2-8f0c-42e1-fa9d-47f30dae3413"
      },
      "outputs": [
        {
          "name": "stdout",
          "output_type": "stream",
          "text": [
            "torch version : 2.6.0+cu124\n",
            "\n",
            "--torch tensor\n",
            "tensor(75., grad_fn=<MulBackward0>)\n",
            "tensor(30.)\n",
            "\n",
            "--rosebrck function\n"
          ]
        }
      ],
      "source": [
        "# @title 6.1 Pytorch - tensor\n",
        "import torch\n",
        "\n",
        "\n",
        "print(f\"torch version : {torch.__version__}\")\n",
        "\n",
        "#\n",
        "print(\"\\n--torch tensor\")\n",
        "x = torch.tensor(5.0, requires_grad=True) # default value or requires_grad = FALSE\n",
        "y = 3 * x ** 2\n",
        "print(y)\n",
        "\n",
        "y.backward()\n",
        "print(x.grad)\n",
        "\n"
      ]
    },
    {
      "cell_type": "code",
      "execution_count": null,
      "metadata": {
        "cellView": "form",
        "colab": {
          "base_uri": "https://localhost:8080/"
        },
        "id": "rA_3GE3_SV8U",
        "outputId": "217320aa-8674-44e2-9c55-cefd5c5ce068"
      },
      "outputs": [
        {
          "name": "stdout",
          "output_type": "stream",
          "text": [
            "\n",
            "Test Rosenbrock function\n",
            "x0      : 0.0, x1: 2.0\n",
            "y       : 401.0\n",
            "x0.grad : -2.0\n",
            "x1.grad : 400.0\n",
            "\n",
            " Without grad.zero_()\n",
            "x0      : 1.0, x1: 4.0\n",
            "y       : 900.0\n",
            "x0.grad : -1202.0\n",
            "x1.grad : 1000.0\n",
            "\n",
            " Reinitialize x0 and x1\n",
            "x0      : 1.0, x1: 4.0\n",
            "y       : 900.0\n",
            "x0.grad : -1200.0\n",
            "x1.grad : 600.0\n",
            "\n",
            "Soliving Rosenbrock function\n",
            "x0 : 0.9944981336593628\n",
            "x1 : 0.9890044331550598\n"
          ]
        }
      ],
      "source": [
        "# @title 6.1 Pytorch-Gradient\n",
        "\n",
        "import torch\n",
        "\n",
        "def rosenbrock(x0, x1):\n",
        "    y = 100*(x1 - x0 **2)**2 + (x0 - 1)**2\n",
        "    return y\n",
        "\n",
        "print(\"\\nTest Rosenbrock function\")\n",
        "x0 = torch.tensor(0.0, requires_grad=True)\n",
        "x1 = torch.tensor(2.0, requires_grad=True)\n",
        "y = rosenbrock(x0, x1)\n",
        "y.backward()\n",
        "print(f\"x0      : {x0}, x1: {x1}\")\n",
        "print(f\"y       : {y}\")\n",
        "print(f\"x0.grad : {x0.grad}\")\n",
        "print(f\"x1.grad : {x1.grad}\")\n",
        "\n",
        "# Without x0.grad.zero_(), x1.grad.zero_()\n",
        "x0.data += 1\n",
        "x1.data += 2\n",
        "y = rosenbrock(x0, x1)\n",
        "y.backward()\n",
        "print(\"\\n Without grad.zero_()\")\n",
        "print(f\"x0      : {x0}, x1: {x1}\")\n",
        "print(f\"y       : {y}\")\n",
        "print(f\"x0.grad : {x0.grad}\")\n",
        "print(f\"x1.grad : {x1.grad}\")\n",
        "\n",
        "\n",
        "x0 = torch.tensor(1.0, requires_grad=True)\n",
        "x1 = torch.tensor(4.0, requires_grad=True)\n",
        "y = rosenbrock(x0, x1)\n",
        "y.backward()\n",
        "print(\"\\n Reinitialize x0 and x1\")\n",
        "print(f\"x0      : {x0}, x1: {x1}\")\n",
        "print(f\"y       : {y}\")\n",
        "print(f\"x0.grad : {x0.grad}\")\n",
        "print(f\"x1.grad : {x1.grad}\")\n",
        "\n",
        "# ----\n",
        "print(\"\\nSoliving Rosenbrock function\")\n",
        "x0 = torch.tensor(0.0, requires_grad=True)\n",
        "x1 = torch.tensor(2.0, requires_grad=True)\n",
        "iters = 10000\n",
        "lr = 0.001\n",
        "\n",
        "for i in range(iters):\n",
        "    # if i % 100 == 0:\n",
        "    #     print(x0.item(), x1.item())\n",
        "    y = rosenbrock(x0, x1)\n",
        "    y.backward()\n",
        "    x0.data -= lr * x0.grad.data\n",
        "    x1.data -= lr * x1.grad.data\n",
        "    x0.grad.zero_()\n",
        "    x1.grad.zero_()\n",
        "\n",
        "print(f\"x0 : {x0.item()}\")\n",
        "print(f\"x1 : {x1.item()}\")\n",
        "\n"
      ]
    },
    {
      "cell_type": "code",
      "execution_count": null,
      "metadata": {
        "cellView": "form",
        "colab": {
          "base_uri": "https://localhost:8080/",
          "height": 605
        },
        "id": "RBoCWXwYYFsE",
        "outputId": "f0553f96-9e3c-453c-f55f-35b419526c8d"
      },
      "outputs": [
        {
          "name": "stdout",
          "output_type": "stream",
          "text": [
            "0-iter loss:42.828514099121094\n",
            "20-iter loss:0.1099444180727005\n",
            "40-iter loss:0.10142753273248672\n",
            "60-iter loss:0.09642922133207321\n",
            "80-iter loss:0.09333314746618271\n",
            "final loss : 0.09149101376533508\n",
            "====\n",
            "W = 2.194772481918335\n",
            "b = 5.452989101409912\n"
          ]
        },
        {
          "data": {
            "image/png": "[encoded data removed]",
            "text/plain": [
              "<Figure size 640x480 with 1 Axes>"
            ]
          },
          "metadata": {},
          "output_type": "display_data"
        }
      ],
      "source": [
        "# @title 6.2 Linear Regression\n",
        "import torch\n",
        "import torch.nn.functional as F\n",
        "\n",
        "torch.manual_seed(0)\n",
        "\n",
        "x = torch.rand(100, 1)\n",
        "y = 2 * x + 5 + torch.rand(100, 1)\n",
        "\n",
        "x = torch.rand(100, 1)\n",
        "y = 5 + 2 * x + torch.rand(100, 1)\n",
        "\n",
        "W = torch.zeros((1, 1), requires_grad=True)\n",
        "b = torch.zeros(1, requires_grad=True)\n",
        "\n",
        "def predict(x):\n",
        "    y = x @ W + b\n",
        "    return y\n",
        "\n",
        "def mean_squared_error(x0, x1):\n",
        "    diff = x0 - x1\n",
        "    N = len(diff)\n",
        "    return torch.sum(diff ** 2) / N\n",
        "\n",
        "lr = 0.1\n",
        "iters = 100\n",
        "\n",
        "for i in range(iters):\n",
        "    y_hat = predict(x)\n",
        "    # loss = mean_squared_error(y, y_hat)\n",
        "    loss = F.mse_loss(y, y_hat)\n",
        "\n",
        "    loss.backward()\n",
        "\n",
        "    W.data -= lr * W.grad.data\n",
        "    b.data -= lr * b.grad.data\n",
        "\n",
        "    W.grad.zero_()\n",
        "    b.grad.zero_()\n",
        "\n",
        "    if i % 20 == 0: # print every 20 iterations\n",
        "        print(f\"{i}-iter loss:{loss.item()}\")\n",
        "\n",
        "print(f\"final loss : {loss.item()}\")\n",
        "print('====')\n",
        "print('W =', W.item())\n",
        "print('b =', b.item())\n",
        "\n",
        "import matplotlib.pyplot as plt\n",
        "plt.scatter(x.detach().numpy(), y.detach().numpy(), s=10)\n",
        "x = torch.tensor([[0.0], [1.0]])\n",
        "y = W.detach().numpy() * x.detach().numpy() + b.detach().numpy()\n",
        "plt.plot(x, y, color='red')\n",
        "plt.xlabel('x')\n",
        "plt.ylabel('y')\n",
        "plt.show()"
      ]
    },
    {
      "cell_type": "code",
      "execution_count": null,
      "metadata": {
        "colab": {
          "base_uri": "https://localhost:8080/",
          "height": 800
        },
        "id": "5FXVhoZzcZOa",
        "outputId": "9a61796e-9743-439e-b37d-5d2ca7a63c50"
      },
      "outputs": [
        {
          "name": "stdout",
          "output_type": "stream",
          "text": [
            "\n",
            "==Model with Parameter\n",
            "Parameter containing:\n",
            "tensor([[0.]], requires_grad=True) torch.Size([1, 1])\n",
            "Parameter containing:\n",
            "tensor([0.], requires_grad=True) torch.Size([1])\n",
            "\n",
            "==Model with Linear layer\n",
            "Parameter containing:\n",
            "tensor([[-0.4751]], requires_grad=True) torch.Size([1, 1])\n",
            "Parameter containing:\n",
            "tensor([-0.9183], requires_grad=True) torch.Size([1])\n",
            "\n",
            "==Training Model with Linear layer\n",
            "\n",
            "0-iter loss:45.458229064941406\n",
            "20-iter loss:0.08967967331409454\n",
            "40-iter loss:0.08166984468698502\n",
            "60-iter loss:0.07739628106355667\n",
            "80-iter loss:0.07497884333133698\n"
          ]
        },
        {
          "data": {
            "image/png": "[encoded data removed]",
            "text/plain": [
              "<Figure size 640x480 with 1 Axes>"
            ]
          },
          "metadata": {},
          "output_type": "display_data"
        }
      ],
      "source": [
        "# @title 6.3 Neural Network - Linear Equation\n",
        "\n",
        "import torch\n",
        "import torch.nn as nn\n",
        "\n",
        "class ModelP(nn.Module):\n",
        "    def __init__(self) -> None:\n",
        "        super().__init__()\n",
        "        self.W = nn.Parameter(torch.zeros((1, 1)))\n",
        "        self.b = nn.Parameter(torch.zeros(1))\n",
        "\n",
        "    def forward(self, x):\n",
        "        y = x @ self.W + self.b\n",
        "        return y\n",
        "\n",
        "print(\"\\n==Model with Parameter\")\n",
        "modelp = ModelP()\n",
        "for param in modelp.parameters():\n",
        "    print(param, param.shape)\n",
        "\n",
        "\n",
        "class ModelN(nn.Module):\n",
        "    def __init__(self, input_size = 1, output_size = 1) -> None:\n",
        "        super().__init__()\n",
        "        self.linear = nn.Linear(input_size, output_size)\n",
        "\n",
        "    def forward(self, x):\n",
        "        y = self.linear(x)\n",
        "        return y\n",
        "\n",
        "print(\"\\n==Model with Linear layer\")\n",
        "modeln = ModelN()\n",
        "for param in modeln.parameters():\n",
        "    print(param, param.shape)\n",
        "\n",
        "\n",
        "# ----\n",
        "print(\"\\n==Training Model with Linear layer\\n\")\n",
        "x = torch.rand(100, 1)\n",
        "y = 5 + 2 * x + torch.rand(100, 1)\n",
        "\n",
        "lr = 0.1\n",
        "iters = 100\n",
        "\n",
        "modeln = ModelN()\n",
        "optimizer = torch.optim.SGD(modeln.parameters(), lr = lr)\n",
        "\n",
        "for i in range(iters):\n",
        "    y_hat = modeln(x)\n",
        "    loss = nn.functional.mse_loss(y, y_hat)\n",
        "\n",
        "    loss.backward()\n",
        "    optimizer.step()\n",
        "    optimizer.zero_grad()\n",
        "    if i % 20 == 0: # print every 20 iterations\n",
        "        print(f\"{i}-iter loss:{loss.item()}\")\n",
        "\n",
        "\n",
        "import matplotlib.pyplot as plt\n",
        "plt.scatter(x.detach().numpy(), y.detach().numpy(), s=10)\n",
        "y_hat = modeln(x)\n",
        "plt.plot(x.detach().numpy(), y_hat.detach().numpy(), color='red')\n",
        "plt.xlabel('x')\n",
        "plt.ylabel('y')\n",
        "plt.show()"
      ]
    },
    {
      "cell_type": "code",
      "execution_count": null,
      "metadata": {
        "colab": {
          "base_uri": "https://localhost:8080/",
          "height": 623
        },
        "id": "_e0r-RaZlE_H",
        "outputId": "30427a40-0c80-4efa-9877-87803c12f229"
      },
      "outputs": [
        {
          "name": "stdout",
          "output_type": "stream",
          "text": [
            "0-iter lossL:0.5820791125297546, lossNL:0.6861962080001831\n",
            "1000-iter lossL:0.2419198602437973, lossNL:0.23718556761741638\n",
            "2000-iter lossL:0.2419198602437973, lossNL:0.23304222524166107\n",
            "3000-iter lossL:0.2419198602437973, lossNL:0.22301353514194489\n",
            "4000-iter lossL:0.2419198602437973, lossNL:0.19508163630962372\n",
            "5000-iter lossL:0.2419198602437973, lossNL:0.13198284804821014\n",
            "6000-iter lossL:0.2419198602437973, lossNL:0.0872020497918129\n",
            "7000-iter lossL:0.2419198602437973, lossNL:0.08259838074445724\n",
            "8000-iter lossL:0.2419198602437973, lossNL:0.0820966437458992\n",
            "9000-iter lossL:0.2419198602437973, lossNL:0.08179449290037155\n"
          ]
        },
        {
          "data": {
            "image/png": "[encoded data removed]",
            "text/plain": [
              "<Figure size 640x480 with 1 Axes>"
            ]
          },
          "metadata": {},
          "output_type": "display_data"
        }
      ],
      "source": [
        "# @title 6.4 Neural Network Non-Linear Equation\n",
        "\n",
        "import torch\n",
        "import torch.nn as nn\n",
        "import torch.nn.functional as F\n",
        "\n",
        "torch.manual_seed(0)\n",
        "x = torch.rand(100, 1)\n",
        "y = torch.sin(2* torch.pi * x) + torch.rand(100, 1)\n",
        "\n",
        "\n",
        "class ModelL(nn.Module):\n",
        "    def __init__(self, input_size = 1, output_size = 1) -> None:\n",
        "        super().__init__()\n",
        "        self.linear = nn.Linear(input_size, output_size)\n",
        "\n",
        "    def forward(self, x):\n",
        "        y = self.linear(x)\n",
        "        return y\n",
        "\n",
        "class ModelNL(nn.Module):\n",
        "    def __init__(self, input_size = 1, hidden_size = 10, output_size = 1) -> None:\n",
        "        super().__init__()\n",
        "        self.linear1 = nn.Linear(input_size, hidden_size)\n",
        "        self.linear2 = nn.Linear(hidden_size, output_size)\n",
        "\n",
        "    def forward(self, x):\n",
        "        y = self.linear1(x)\n",
        "        y = F.sigmoid(y)\n",
        "        y = self.linear2(y)\n",
        "        return y\n",
        "\n",
        "lr = 0.2\n",
        "iters = 10000\n",
        "\n",
        "modelL = ModelL()\n",
        "optimizerL = torch.optim.SGD(modelL.parameters(), lr = lr)\n",
        "\n",
        "modelNL = ModelNL()\n",
        "optimizerNL = torch.optim.SGD(modelNL.parameters(), lr = lr)\n",
        "\n",
        "for i in range(iters):\n",
        "    # Training Linear Model\n",
        "    yl_hat = modelL(x)\n",
        "    lossL = F.mse_loss(y, yl_hat)\n",
        "\n",
        "    lossL.backward()\n",
        "    optimizerL.step()\n",
        "    optimizerL.zero_grad()\n",
        "\n",
        "    # Training Non-Linear Model\n",
        "    ynl_hat = modelNL(x)\n",
        "    lossNL = F.mse_loss(y, ynl_hat)\n",
        "\n",
        "    lossNL.backward()\n",
        "    optimizerNL.step()\n",
        "    optimizerNL.zero_grad()\n",
        "\n",
        "    if i % 1000 == 0: # print every 20 iterations\n",
        "        print(f\"{i}-iter lossL:{lossL.item()}, lossNL:{lossNL.item()}\")\n",
        "\n",
        "\n",
        "\n",
        "\n",
        "import matplotlib.pyplot as plt\n",
        "plt.scatter(x.detach().numpy(), y.detach().numpy(), s=10, label='Data')\n",
        "\n",
        "x = torch.linspace(0, 1, 100).reshape(-1, 1)\n",
        "\n",
        "y_l = modelL(x).detach().numpy()\n",
        "plt.plot(x, y_l, color='red',label='Linear Fitting')\n",
        "\n",
        "y_nl = modelNL(x).detach().numpy()\n",
        "plt.plot(x, y_nl, color='blue',label='Non-Linear Fitting')\n",
        "\n",
        "plt.xlabel('x')\n",
        "plt.ylabel('y')\n",
        "plt.legend()\n",
        "plt.show()\n",
        "\n"
      ]
    },
    {
      "cell_type": "code",
      "execution_count": null,
      "metadata": {
        "colab": {
          "base_uri": "https://localhost:8080/",
          "height": 1000
        },
        "id": "uoOAXqnstfCb",
        "outputId": "a227ee20-4e7c-4ba2-e1a9-74fe22e0b345"
      },
      "outputs": [
        {
          "name": "stdout",
          "output_type": "stream",
          "text": [
            "0.21.0+cu124\n",
            "== Loading with PIL Image\n",
            "size  : 60000\n",
            "type  : <class 'PIL.Image.Image'>\n",
            "lable : 5\n"
          ]
        },
        {
          "data": {
            "image/png": "[encoded data removed]",
            "text/plain": [
              "<Figure size 640x480 with 1 Axes>"
            ]
          },
          "metadata": {},
          "output_type": "display_data"
        },
        {
          "name": "stdout",
          "output_type": "stream",
          "text": [
            "\n",
            "== Loading with torch.Tensor()\n",
            "size  : 60000\n",
            "type  : <class 'torch.Tensor'>\n",
            "lable : 5\n"
          ]
        },
        {
          "data": {
            "image/png": "[encoded data removed]",
            "text/plain": [
              "<Figure size 640x480 with 1 Axes>"
            ]
          },
          "metadata": {},
          "output_type": "display_data"
        },
        {
          "name": "stdout",
          "output_type": "stream",
          "text": [
            "\n",
            "== Data Loader\n",
            "x shape: torch.Size([32, 1, 28, 28])\n",
            "label shape: torch.Size([32])\n"
          ]
        }
      ],
      "source": [
        "# @title 6.5 TorchVision\n",
        "import torchvision\n",
        "print(torchvision.__version__)\n",
        "\n",
        "import matplotlib.pyplot as plt\n",
        "\n",
        "#-------\n",
        "print(\"== Loading with PIL Image\")\n",
        "dataset = torchvision.datasets.MNIST(root='./data', train=True, download=True)\n",
        "x, label = dataset[0]\n",
        "print(f\"size  : {len(dataset)}\")\n",
        "print(f\"type  : {type(x)}\")\n",
        "print(f\"lable : {label}\")\n",
        "\n",
        "plt.imshow(x, cmap='gray')\n",
        "plt.show()\n",
        "\n",
        "#-------\n",
        "import torchvision.transforms as T\n",
        "\n",
        "print(\"\\n== Loading with torch.Tensor()\")\n",
        "dataset = torchvision.datasets.MNIST(root = './data',\n",
        "                                     train = True,\n",
        "                                     transform = T.ToTensor(),\n",
        "                                     download=True)\n",
        "x, label = dataset[0]\n",
        "print(f\"size  : {len(dataset)}\")\n",
        "print(f\"type  : {type(x)}\")\n",
        "print(f\"lable : {label}\")\n",
        "\n",
        "img = T.ToPILImage()(x)\n",
        "plt.imshow(img, cmap='gray')\n",
        "plt.show()\n",
        "\n",
        "# ------\n",
        "\n",
        "print(\"\\n== Data Loader\")\n",
        "\n",
        "dataloader = torch.utils.data.DataLoader(dataset, batch_size=32, shuffle=True)\n",
        "\n",
        "# for x, lable in dataloader:\n",
        "#     print(f\"x shape: {x.shape}\")\n",
        "#     print(f\"label shape: {lable.shape}\")\n",
        "#     break\n",
        "x, label = next(iter(dataloader))\n",
        "print(f\"x shape: {x.shape}\")\n",
        "print(f\"label shape: {label.shape}\")"
      ]
    }
  ],
  "metadata": {
    "colab": {
      "collapsed_sections": [
        "_JaUG4ehilo8",
        "MabiOLif8p18",
        "oDRsSlBEcgqr",
        "zSrjeRBq0LxX",
        "3g1Yfrrd1fKx",
        "lkoBQxt21har"
      ],
      "provenance": [],
      "toc_visible": true
    },
    "kernelspec": {
      "display_name": "Python 3",
      "name": "python3"
    },
    "language_info": {
      "name": "python"
    }
  },
  "nbformat": 4,
  "nbformat_minor": 0
}
