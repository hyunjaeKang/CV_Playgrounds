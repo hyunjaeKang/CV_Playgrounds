{
 "cells": [
  {
   "cell_type": "markdown",
   "id": "2a0e698b",
   "metadata": {},
   "source": [
    "# PlenOctrees for Real-time Rendering of Neural Radiance Fields\n",
    "\n",
    "- Ref: \n",
    "    - https://arxiv.org/abs/2103.14024\n",
    "    - https://github.com/MaximeVandegar/Papers-in-100-Lines-of-Code/tree/main/PlenOctrees_for_Real_time_Rendering_of_Neural_Radiance_Fields\n",
    "\n",
    "- Conda env : [gsplat](../gsplat/README.md#setup-a-conda-environment)\n"
   ]
  },
  {
   "cell_type": "code",
   "execution_count": 1,
   "id": "e9c4eab6",
   "metadata": {},
   "outputs": [],
   "source": [
    "import torch\n",
    "import numpy as np\n",
    "from tqdm import tqdm\n",
    "import torch.nn as nn\n",
    "import matplotlib.pyplot as plt\n",
    "from torch.utils.data import DataLoader\n",
    "import torchvision\n",
    "import torchshow as ts\n",
    "\n",
    "import os\n",
    "from pathlib import Path\n",
    "import gdown"
   ]
  },
  {
   "cell_type": "code",
   "execution_count": 2,
   "id": "7160424d",
   "metadata": {},
   "outputs": [
    {
     "name": "stderr",
     "output_type": "stream",
     "text": [
      "Skipping already downloaded file ./temp/data/training_data.pkl\n",
      "Skipping already downloaded file ./temp/data/testing_data.pkl\n"
     ]
    },
    {
     "data": {
      "text/plain": [
       "'./temp/data/testing_data.pkl'"
      ]
     },
     "execution_count": 2,
     "metadata": {},
     "output_type": "execute_result"
    }
   ],
   "source": [
    "# Download Data\n",
    "Path('./temp/data').mkdir(exist_ok=True, parents=True)\n",
    "\n",
    "url = 'https://drive.google.com/uc?id=1hH7NhaXxIthO9-FeT16fvpf_MVIhf41J'\n",
    "train_data_path = './temp/data/training_data.pkl'\n",
    "gdown.download(url, train_data_path, quiet=False, resume=True)\n",
    "\n",
    "\n",
    "url = 'https://drive.google.com/uc?id=16M64h0KKgFKhM8hJDpqd15YWYhafUs2Q'\n",
    "test_data_path = './temp/data/testing_data.pkl'\n",
    "gdown.download(url, test_data_path, quiet=False, resume=True)"
   ]
  },
  {
   "cell_type": "code",
   "execution_count": null,
   "id": "12c95d7f",
   "metadata": {},
   "outputs": [],
   "source": [
    "g_model_path = './temp/04_PlenoxelsNeRF_models/'\n",
    "g_video_path = './temp/04_PlenoxelsNeRF_novel_views/'\n",
    "fps = 10\n",
    "Path(g_model_path).mkdir(exist_ok=True, parents=True)\n",
    "Path(g_video_path).mkdir(exist_ok=True, parents=True)\n",
    "training_dataset = torch.from_numpy(np.load('./temp/data/training_data.pkl', allow_pickle=True))\n",
    "testing_dataset = torch.from_numpy(np.load('./temp/data/testing_data.pkl', allow_pickle=True))\n"
   ]
  },
  {
   "cell_type": "code",
   "execution_count": 4,
   "id": "0552a80c",
   "metadata": {},
   "outputs": [
    {
     "name": "stdout",
     "output_type": "stream",
     "text": [
      "Current memory allocated on MPS: 0 bytes\n",
      "Driver memory allocated on MPS: 393216 bytes\n",
      "mps\n"
     ]
    }
   ],
   "source": [
    "if torch.backends.mps.is_available():\n",
    "    g_device = torch.device(\"mps\")\n",
    "    print(f\"Current memory allocated on MPS: {torch.mps.current_allocated_memory()} bytes\")\n",
    "    print(f\"Driver memory allocated on MPS: {torch.mps.driver_allocated_memory()} bytes\")\n",
    "elif torch.cuda.is_available():\n",
    "    g_device = torch.device(\"cuda\")\n",
    "else:\n",
    "    g_device = torch.device(\"cpu\")\n",
    "print(g_device)"
   ]
  },
  {
   "cell_type": "code",
   "execution_count": 5,
   "id": "d8b6eefd",
   "metadata": {},
   "outputs": [],
   "source": [
    "# Model\n",
    "\n",
    "def eval_spherical_function(k, d):\n",
    "    x, y, z = d[..., 0:1], d[..., 1:2], d[..., 2:3]\n",
    "\n",
    "    # Modified from https://github.com/google/spherical-harmonics/blob/master/sh/spherical_harmonics.cc\n",
    "    return 0.282095 * k[..., 0] + \\\n",
    "        - 0.488603 * y * k[..., 1] + 0.488603 * z * k[..., 2] - 0.488603 * x * k[..., 3] + \\\n",
    "        (1.092548 * x * y * k[..., 4] - 1.092548 * y * z * k[..., 5] + 0.315392 * (2.0 * z * z - x * x - y * y) * k[\n",
    "               ..., 6] + -1.092548 * x * z * k[..., 7] + 0.546274 * (x * x - y * y) * k[..., 8])\n",
    "\n",
    "\n",
    "class NerfModel(nn.Module):\n",
    "    def __init__(self, N=256, scale=1.5):\n",
    "        \"\"\"\n",
    "        :param N\n",
    "        :param scale: The maximum absolute value among all coordinates for objects in the scene\n",
    "        \"\"\"\n",
    "        super(NerfModel, self).__init__()\n",
    "\n",
    "        self.voxel_grid = nn.Parameter(torch.ones((N, N, N, 27 + 1)) / 100)\n",
    "        self.scale = scale\n",
    "        self.N = N\n",
    "\n",
    "    def forward(self, x, d):\n",
    "        color = torch.zeros_like(x)\n",
    "        sigma = torch.zeros((x.shape[0]), device=x.device)\n",
    "        mask = (x[:, 0].abs() < self.scale) & (x[:, 1].abs() < self.scale) & (x[:, 2].abs() < self.scale)\n",
    "\n",
    "        idx = (x[mask] / (2 * self.scale / self.N) + self.N / 2).long().clip(0, self.N - 1)\n",
    "        tmp = self.voxel_grid[idx[:, 0], idx[:, 1], idx[:, 2]]\n",
    "        sigma[mask], k = torch.nn.functional.relu(tmp[:, 0]), tmp[:, 1:]\n",
    "        color[mask] = eval_spherical_function(k.reshape(-1, 3, 9), d[mask])\n",
    "        return color, sigma"
   ]
  },
  {
   "cell_type": "code",
   "execution_count": 6,
   "id": "2fe5712b",
   "metadata": {},
   "outputs": [],
   "source": [
    "# Rendering\n",
    "\n",
    "def compute_accumulated_transmittance(alphas):\n",
    "    accumulated_transmittance = torch.cumprod(alphas, 1)\n",
    "    return torch.cat((torch.ones((accumulated_transmittance.shape[0], 1), device=alphas.device),\n",
    "                      accumulated_transmittance[:, :-1]), dim=-1)\n",
    "\n",
    "\n",
    "def render_rays(nerf_model, ray_origins, ray_directions, hn=0, hf=0.5, nb_bins=192):\n",
    "    _device = ray_origins.device\n",
    "    t = torch.linspace(hn, hf, nb_bins, device=_device).expand(ray_origins.shape[0], nb_bins)\n",
    "    # Perturb sampling along each ray.\n",
    "    mid = (t[:, :-1] + t[:, 1:]) / 2.\n",
    "    lower = torch.cat((t[:, :1], mid), -1)\n",
    "    upper = torch.cat((mid, t[:, -1:]), -1)\n",
    "    u = torch.rand(t.shape, device=_device)\n",
    "    t = lower + (upper - lower) * u  # [batch_size, nb_bins]\n",
    "    delta = torch.cat((t[:, 1:] - t[:, :-1], torch.tensor([1e10], device=_device).expand(ray_origins.shape[0], 1)), -1)\n",
    "\n",
    "    x = ray_origins.unsqueeze(1) + t.unsqueeze(2) * ray_directions.unsqueeze(1)  # [batch_size, nb_bins, 3]\n",
    "    ray_directions = ray_directions.expand(nb_bins, ray_directions.shape[0], 3).transpose(0, 1)\n",
    "\n",
    "    colors, sigma = nerf_model(x.reshape(-1, 3), ray_directions.reshape(-1, 3))\n",
    "    colors = colors.reshape(x.shape)\n",
    "    sigma = sigma.reshape(x.shape[:-1])\n",
    "\n",
    "    alpha = 1 - torch.exp(-sigma * delta)  # [batch_size, nb_bins]\n",
    "    weights = compute_accumulated_transmittance(1 - alpha).unsqueeze(2) * alpha.unsqueeze(2)\n",
    "    c = (weights * colors).sum(dim=1)  # Pixel values\n",
    "    # Regularization for white background\n",
    "    weight_sum = weights.sum(-1).sum(-1)\n",
    "    return c + 1 - weight_sum.unsqueeze(-1)"
   ]
  },
  {
   "cell_type": "code",
   "execution_count": 7,
   "id": "ba60b400",
   "metadata": {},
   "outputs": [],
   "source": [
    "@torch.no_grad()\n",
    "def test(nerf_model, hn, hf, dataset, chunk_size=5, img_index=0, nb_bins=192, H=400, W=400):\n",
    "    \"\"\"\n",
    "    Args:\n",
    "        hn: near plane distance\n",
    "        hf: far plane distance\n",
    "        dataset: dataset to render\n",
    "        chunk_size (int, optional): chunk size for memory efficiency. Defaults to 10.\n",
    "        img_index (int, optional): image index to render. Defaults to 0.\n",
    "        nb_bins (int, optional): number of bins for density estimation. Defaults to 192.\n",
    "        H (int, optional): image height. Defaults to 400.\n",
    "        W (int, optional): image width. Defaults to 400.\n",
    "\n",
    "    Returns:\n",
    "        None: None\n",
    "    \"\"\"\n",
    "    ray_origins = dataset[img_index * H * W: (img_index + 1) * H * W, :3]\n",
    "    ray_directions = dataset[img_index * H * W: (img_index + 1) * H * W, 3:6]\n",
    "\n",
    "    data = []\n",
    "    for i in range(int(np.ceil(H / chunk_size))):\n",
    "        ray_origins_ = ray_origins[i * W * chunk_size: (i + 1) * W * chunk_size].to(g_device)\n",
    "        ray_directions_ = ray_directions[i * W * chunk_size: (i + 1) * W * chunk_size].to(g_device)\n",
    "        regenerated_px_values = render_rays(nerf_model, ray_origins_, ray_directions_, hn=hn, hf=hf, nb_bins=nb_bins)\n",
    "        data.append(regenerated_px_values.cpu())\n",
    "    img_t = torch.cat(data).reshape(H, W, 3)\n",
    "    return img_t\n",
    "\n",
    "def train(nerf_model, optimizer, scheduler, data_loader, device='cpu', hn=0, hf=1, start_epoch = 0, nb_epochs=int(1e5), nb_bins=192, H=400, W=400, eval_steps = 5):\n",
    "    training_loss = []\n",
    "    for e in (range(start_epoch, nb_epochs)):\n",
    "        print(f\"{e:03d}-epoch\")\n",
    "        for ep, batch in enumerate(tqdm(data_loader, total = len(data_loader), desc=\"Training\")):\n",
    "            ray_origins = batch[:, :3].to(device)\n",
    "            ray_directions = batch[:, 3:6].to(device)\n",
    "            ground_truth_px_values = batch[:, 6:].to(device)\n",
    "\n",
    "            regenerated_px_values = render_rays(nerf_model, ray_origins, ray_directions, hn=hn, hf=hf, nb_bins=nb_bins)\n",
    "            # loss = ((ground_truth_px_values - regenerated_px_values) ** 2).sum()\n",
    "            loss = torch.nn.functional.mse_loss(ground_truth_px_values, regenerated_px_values)\n",
    "\n",
    "            optimizer.zero_grad()\n",
    "            loss.backward()\n",
    "            optimizer.step()\n",
    "            training_loss.append(loss.item())\n",
    "        scheduler.step()\n",
    "        _model_path = os.path.join(g_model_path, f'nerf_model_{e:03d}.pth')\n",
    "        torch.save(nerf_model.state_dict(), _model_path)\n",
    "        # Export in TorchScript Format\n",
    "        # _model_script_path = os.path.join(g_model_path, f'nerf_model_{e:03d}.pt')\n",
    "        # _model_scripted = torch.jit.script(nerf_model)\n",
    "        # _model_scripted.save(_model_script_path)\n",
    "\n",
    "        # if e % eval_steps == 0 or e == nb_epochs - 1:\n",
    "        #     nerf_model.eval()\n",
    "        #     imgT_lst = []\n",
    "        #     for idx in tqdm(range(200), desc=\"Validation\"):\n",
    "        #         imgT_lst.append(test(nerf_model, 2, 6, testing_dataset, chunk_size = 10, img_index=idx, nb_bins=192).unsqueeze(0))\n",
    "        #     img_t = (torch.cat(imgT_lst) * 255).to(torch.uint8)\n",
    "        #     _video_path = os.path.join(g_video_path,  f'nerf_model_{e:03d}.mp4')\n",
    "        #     torchvision.io.write_video(_video_path, img_t, fps)\n",
    "        #     nerf_model.train()\n",
    "\n",
    "    return training_loss"
   ]
  },
  {
   "cell_type": "code",
   "execution_count": null,
   "id": "46d2b215",
   "metadata": {},
   "outputs": [],
   "source": [
    "\n",
    "\n",
    "# model = NerfModel(N=256).to(g_device)\n",
    "\n",
    "model = NerfModel(N=256)\n",
    "# prev_mode_path = \"/Users/hyunjae.k/110_HyunJae_Git/2025_Drills/DL_Drills/NERF/temp/05_PlenoxelsNeRF_models/nerf_model_006.pth\"\n",
    "# model.load_state_dict(torch.load(prev_mode_path))\n",
    "model.to(g_device)\n",
    "\n",
    "\n",
    "model_optimizer = torch.optim.Adam(model.parameters(), lr=5e-4)\n",
    "scheduler = torch.optim.lr_scheduler.MultiStepLR(model_optimizer, milestones=[2, 4, 8], gamma=0.5)\n",
    "\n",
    "data_loader = DataLoader(training_dataset, batch_size=1024, shuffle=True)\n",
    "# data_loader = DataLoader(training_dataset, batch_size=2048, shuffle=True)\n",
    "train(model, model_optimizer, scheduler, data_loader, start_epoch= 6, nb_epochs=16, device=g_device, hn=2, hf=6, nb_bins=192)\n"
   ]
  },
  {
   "cell_type": "code",
   "execution_count": 9,
   "id": "2a6935af",
   "metadata": {},
   "outputs": [],
   "source": [
    "# from IPython.display import Video\n",
    "\n",
    "# Video(\"./temp/02_kiloNeRF_novel_views/nerf_model_003.mp4\")"
   ]
  },
  {
   "cell_type": "code",
   "execution_count": 10,
   "id": "6fb1b62d",
   "metadata": {},
   "outputs": [],
   "source": [
    "# test(model, 2, 6, testing_dataset, chunk_size = 10000, img_index=1, nb_bins=192)"
   ]
  },
  {
   "cell_type": "code",
   "execution_count": null,
   "id": "15999b94",
   "metadata": {},
   "outputs": [
    {
     "name": "stderr",
     "output_type": "stream",
     "text": [
      "Validation: 100%|██████████| 200/200 [1:25:01<00:00, 25.51s/it]\n"
     ]
    }
   ],
   "source": [
    "# model = NerfModel(N=256)\n",
    "# prev_mode_path = \"/Users/hyunjae.k/110_HyunJae_Git/2025_Drills/DL_Drills/NERF/temp/05_PlenoxelsNeRF_models/nerf_model_015.pth\"\n",
    "# model.load_state_dict(torch.load(prev_mode_path))\n",
    "# model.to(g_device)\n",
    "\n",
    "# model.eval()\n",
    "# imgT_lst = []\n",
    "# for idx in tqdm(range(200), desc=\"Validation\"):\n",
    "#     imgT_lst.append(test(model, 2, 6, testing_dataset, chunk_size = 10, img_index=idx, nb_bins=192).unsqueeze(0))\n",
    "# img_t = (torch.cat(imgT_lst) * 255).to(torch.uint8)\n",
    "# _video_path = os.path.join(g_video_path,  f'nerf_model_test.mp4')\n",
    "# torchvision.io.write_video(_video_path, img_t, fps)\n"
   ]
  }
 ],
 "metadata": {
  "kernelspec": {
   "display_name": ".venv",
   "language": "python",
   "name": "python3"
  },
  "language_info": {
   "codemirror_mode": {
    "name": "ipython",
    "version": 3
   },
   "file_extension": ".py",
   "mimetype": "text/x-python",
   "name": "python",
   "nbconvert_exporter": "python",
   "pygments_lexer": "ipython3",
   "version": "3.10.17"
  }
 },
 "nbformat": 4,
 "nbformat_minor": 5
}
